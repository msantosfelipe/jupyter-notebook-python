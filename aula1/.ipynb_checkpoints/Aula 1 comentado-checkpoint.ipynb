{
 "cells": [
  {
   "cell_type": "markdown",
   "metadata": {},
   "source": [
    "# Aula 1"
   ]
  },
  {
   "cell_type": "markdown",
   "metadata": {},
   "source": [
    "**Objetivos:**"
   ]
  },
  {
   "cell_type": "markdown",
   "metadata": {},
   "source": [
    "- Introdução ao curso\n",
    "- Conceitos fundamentais de data science e machine learning & inteligência artificial\n",
    "- Primeiros contatos com Anaconda e Jupyter Notebook"
   ]
  },
  {
   "cell_type": "markdown",
   "metadata": {},
   "source": [
    "## Introdução"
   ]
  },
  {
   "cell_type": "markdown",
   "metadata": {},
   "source": [
    "Dilúvio de dados:"
   ]
  },
  {
   "cell_type": "markdown",
   "metadata": {},
   "source": [
    "![title](data-never-sleeps-7-896kb.jpg)"
   ]
  },
  {
   "cell_type": "markdown",
   "metadata": {},
   "source": [
    "*REFERÊNCIA:* https://www.forbes.com/sites/bernardmarr/2018/05/21/how-much-data-do-we-create-every-day-the-mind-blowing-stats-everyone-should-read/#1ee0b81f60ba"
   ]
  },
  {
   "cell_type": "markdown",
   "metadata": {},
   "source": [
    "## Ciência de dados"
   ]
  },
  {
   "cell_type": "markdown",
   "metadata": {},
   "source": [
    "O que chamamos atualmente como *Ciência de Dados* é algo utilizado há milhares de anos, desde que o ser humano começou a observar sistematicamente o mundo a sua volta (por exemplo, a variação do clima para ajudar nas platações). Porém, agora ela vem ganhando *status* devido ao grande número de dados que produzimos, impossibilitando utilizar técnicas antigas para as análises, fazendo nescessário o uso de computação e algoritmos de apredizando de máquina."
   ]
  },
  {
   "cell_type": "markdown",
   "metadata": {},
   "source": [
    "Algumas definições (obtidas em comunidades de Data Science na *web*):\n",
    "\n",
    "- *Deifinição 1:* \"Data science is the discipline of making data useful\".\n",
    "\n",
    "- *Deifinição 2:* \"A data scientist is someone who is better at statistics than any software engineer and better at software engineering than any statistician\".\n",
    "\n",
    "- *Deifinição 3:* Ciência de dados (em inglês: data science ) é uma área interdisciplinar voltada para o estudo e a análise de dados, estruturados ou não, que visa a extração de conhecimento ou insights para possíveis tomadas de decisão."
   ]
  },
  {
   "cell_type": "markdown",
   "metadata": {},
   "source": [
    "![title](data-science-domain.png)"
   ]
  },
  {
   "cell_type": "markdown",
   "metadata": {},
   "source": [
    "## Dados"
   ]
  },
  {
   "cell_type": "markdown",
   "metadata": {},
   "source": [
    "Se vamos aprender ciências de dados temos que saber o que são dados. Há várias definicões. Por exemplo, uma é que dados são tudo que podemos colocar como conteúdo digital (uma imagem ou valores em tableas do *Excel*, por exemplo)."
   ]
  },
  {
   "cell_type": "markdown",
   "metadata": {},
   "source": [
    "Um pouco mais formalmente, dados podem ser definidos com *símbolos*. (Referência: [link](http://www.businessdictionary.com/definition/data.html))"
   ]
  },
  {
   "cell_type": "markdown",
   "metadata": {},
   "source": [
    "![title](dadaXinfoXknow.jpg)"
   ]
  },
  {
   "cell_type": "markdown",
   "metadata": {},
   "source": [
    "FONTE: http://www.systems-thinking.org/dikw/dikw.htm"
   ]
  },
  {
   "cell_type": "markdown",
   "metadata": {},
   "source": [
    "## Como funciona a ciência de dados"
   ]
  },
  {
   "cell_type": "markdown",
   "metadata": {},
   "source": [
    "![title](processo-data-science.png)"
   ]
  },
  {
   "cell_type": "markdown",
   "metadata": {},
   "source": [
    "FONTE: https://blog.hotmart.com/pt-br/o-que-e-data-science/#"
   ]
  },
  {
   "cell_type": "markdown",
   "metadata": {},
   "source": [
    "## Exemplos de uso de ciências de dados"
   ]
  },
  {
   "cell_type": "markdown",
   "metadata": {},
   "source": [
    "Por ser uma área multidisciplinar, o Data Science pode ser aplicado na maioria dos desafios enfrentados em qualquer tipo de negócio.\n",
    "\n",
    "Alguns exemplos comuns do uso da ciência de dados para gerar resultados são:"
   ]
  },
  {
   "cell_type": "markdown",
   "metadata": {},
   "source": [
    "- Análise de conversões em funis de vendas;\n",
    "- Análise de dados do comportamento dos visitantes de suas páginas;\n",
    "- Precificação de produtos;\n",
    "- Detecção de comportamentos incomuns e fraudes;\n",
    "- Análise de sentimentos dos seguidores nas redes sociais;\n",
    "- Sistemas de recomendação de produtos para clientes;\n",
    "- Predição de quando o cliente vai parar de pagar uma assinatura;\n",
    "- Enriquecimento e classificação de leads com o objetivo de priorização;\n",
    "- Previsão de faturamento;\n",
    "- Classificação dos clientes em relação ao comportamento de compra;\n",
    "- Otimização da cesta de compras por meio da combinação de produtos."
   ]
  },
  {
   "cell_type": "markdown",
   "metadata": {},
   "source": [
    "## Inteligência artificial e aprendizagem de máquina (*machine learning*)"
   ]
  },
  {
   "cell_type": "markdown",
   "metadata": {},
   "source": [
    "Uma definição:\n",
    "\n",
    "*Campo de estudo que dá aos computadores a habilidade de aprender sem serem explicitamente programados.* ([Arthur Samuel](https://pt.wikipedia.org/wiki/Arthur_Samuel), 1959)"
   ]
  },
  {
   "cell_type": "markdown",
   "metadata": {},
   "source": [
    "![IA-ML-DL](IA-ML-DL.png)"
   ]
  },
  {
   "cell_type": "markdown",
   "metadata": {},
   "source": [
    "REFERÊNCIA: A Diferença Entre Inteligência Artificial, Machine Learning e Deep Learning. ([link](https://medium.com/data-science-brigade/a-diferença-entre-inteligência-artificial-machine-learning-e-deep-learning-930b5cc2aa42))"
   ]
  },
  {
   "cell_type": "markdown",
   "metadata": {},
   "source": [
    "**Algoritmos**"
   ]
  },
  {
   "cell_type": "markdown",
   "metadata": {},
   "source": [
    "Todos os desenvolvimentos teóricos e metodológicos acerca dos conceitos de Inteligência Artificial e Aprendizado de Máquina tomam como central o conceito de *algoritmos*.\n",
    "\n",
    "O que é um algoritmo?"
   ]
  },
  {
   "cell_type": "markdown",
   "metadata": {},
   "source": [
    "*Conjunto das regras e procedimentos lógicos não ambíguos, bem definidos, e que levam à solução de um problema em um número finito de etapas.* (Modificado do dicionário *online* [Michaelis](http://michaelis.uol.com.br/busca?id=4lD9))"
   ]
  },
  {
   "cell_type": "markdown",
   "metadata": {},
   "source": [
    "*Exemplo:* problema da lâmpada."
   ]
  },
  {
   "cell_type": "markdown",
   "metadata": {},
   "source": [
    "![algoritmo](fluxograma-exemplo.jpg)"
   ]
  },
  {
   "cell_type": "markdown",
   "metadata": {},
   "source": [
    "Algoritmos podem ser *implementados* de diferentes modos, como eletronicamente e biologicamente ([link](https://en.wikipedia.org/wiki/Algorithm#Implementation)). Entretanto, cientificamente, o principal modo de implementação é computcional. Isto é, usando programação. Por exemplo, o algorimto mostrado acima poderia ser implementado da seguinte maneira:"
   ]
  },
  {
   "cell_type": "code",
   "execution_count": 2,
   "metadata": {},
   "outputs": [],
   "source": [
    "def checa_lampada(plugada, queimada):\n",
    "    if not plugada:\n",
    "        return \"Plugar a lâmpada\"\n",
    "    elif queimada:\n",
    "        return \"Trocar o bulbo\"\n",
    "    else:\n",
    "        return \"Comprar nova lâmpada\""
   ]
  },
  {
   "cell_type": "code",
   "execution_count": 3,
   "metadata": {},
   "outputs": [
    {
     "data": {
      "text/plain": [
       "'Comprar nova lâmpada'"
      ]
     },
     "execution_count": 3,
     "metadata": {},
     "output_type": "execute_result"
    }
   ],
   "source": [
    "checa_lampada(plugada=True, queimada=False)"
   ]
  },
  {
   "cell_type": "markdown",
   "metadata": {},
   "source": [
    "**Inteligência artificial, robôs e nosso futuro**"
   ]
  },
  {
   "cell_type": "code",
   "execution_count": 4,
   "metadata": {},
   "outputs": [],
   "source": [
    "from IPython.display import HTML"
   ]
  },
  {
   "cell_type": "code",
   "execution_count": 5,
   "metadata": {},
   "outputs": [
    {
     "name": "stderr",
     "output_type": "stream",
     "text": [
      "/home/anderson/.local/lib/python3.5/site-packages/IPython/core/display.py:689: UserWarning: Consider using IPython.display.IFrame instead\n",
      "  warnings.warn(\"Consider using IPython.display.IFrame instead\")\n"
     ]
    },
    {
     "data": {
      "text/html": [
       "<iframe width=\"560\" height=\"315\" src=\"https://www.youtube.com/embed/wXxrmussq4E\" frameborder=\"0\" allow=\"accelerometer; autoplay; encrypted-media; gyroscope; picture-in-picture\" allowfullscreen></iframe>"
      ],
      "text/plain": [
       "<IPython.core.display.HTML object>"
      ]
     },
     "execution_count": 5,
     "metadata": {},
     "output_type": "execute_result"
    }
   ],
   "source": [
    "HTML('<iframe width=\"560\" height=\"315\" src=\"https://www.youtube.com/embed/wXxrmussq4E\" frameborder=\"0\" allow=\"accelerometer; autoplay; encrypted-media; gyroscope; picture-in-picture\" allowfullscreen></iframe>')"
   ]
  },
  {
   "cell_type": "code",
   "execution_count": 6,
   "metadata": {},
   "outputs": [
    {
     "data": {
      "text/html": [
       "<iframe width=\"560\" height=\"315\" src=\"https://www.youtube.com/embed/dKjCWfuvYxQ\" frameborder=\"0\" allow=\"accelerometer; autoplay; encrypted-media; gyroscope; picture-in-picture\" allowfullscreen></iframe>"
      ],
      "text/plain": [
       "<IPython.core.display.HTML object>"
      ]
     },
     "execution_count": 6,
     "metadata": {},
     "output_type": "execute_result"
    }
   ],
   "source": [
    "HTML('<iframe width=\"560\" height=\"315\" src=\"https://www.youtube.com/embed/dKjCWfuvYxQ\" frameborder=\"0\" allow=\"accelerometer; autoplay; encrypted-media; gyroscope; picture-in-picture\" allowfullscreen></iframe>')"
   ]
  },
  {
   "cell_type": "markdown",
   "metadata": {},
   "source": [
    "*Para incetivar a discursão:* qual sua opinião sobre as possibilidades futuras da inteligência artificial? Existem dilemas éticos reais? Existe resitência à mudanças anunciadas sob o \"rótulo\" de inteligência artificial?"
   ]
  },
  {
   "cell_type": "markdown",
   "metadata": {},
   "source": [
    "## Python"
   ]
  },
  {
   "cell_type": "markdown",
   "metadata": {},
   "source": [
    "Ao longo do nosso curso, iremos usar [Python](https://www.python.org/) como ferramenta de manipulação de dados e implementação de algoritmos."
   ]
  },
  {
   "cell_type": "markdown",
   "metadata": {},
   "source": [
    "Por que Python?"
   ]
  },
  {
   "cell_type": "markdown",
   "metadata": {},
   "source": [
    "- Linguagem de *alto nível*\n",
    "- Múltiplo propósito\n",
    "- Grande e ativa comunidade de usuários (incluindo gigantes da tecnologia)"
   ]
  },
  {
   "cell_type": "markdown",
   "metadata": {},
   "source": [
    "Dados de \"popularidade\" do Python: http://pypl.github.io/PYPL.html"
   ]
  }
 ],
 "metadata": {
  "kernelspec": {
   "display_name": "Python 3",
   "language": "python",
   "name": "python3"
  },
  "language_info": {
   "codemirror_mode": {
    "name": "ipython",
    "version": 3
   },
   "file_extension": ".py",
   "mimetype": "text/x-python",
   "name": "python",
   "nbconvert_exporter": "python",
   "pygments_lexer": "ipython3",
   "version": "3.7.3"
  }
 },
 "nbformat": 4,
 "nbformat_minor": 2
}
