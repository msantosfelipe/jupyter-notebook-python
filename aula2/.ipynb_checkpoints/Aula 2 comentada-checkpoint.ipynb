{
 "cells": [
  {
   "cell_type": "markdown",
   "metadata": {},
   "source": [
    "# <center> Aula 2 </center>"
   ]
  },
  {
   "cell_type": "markdown",
   "metadata": {},
   "source": [
    "**Objetivos:**\n",
    "    - Estudo do numpy;\n",
    "    - Estudo do Pandas."
   ]
  },
  {
   "cell_type": "markdown",
   "metadata": {},
   "source": [
    "Durante o curso, nosso principal objetivo será fazer análises de dados. Estes dados geralmente se encontram na forma de planilhas e tabelas. Deste modo, a primeira habilidade que devemos adquirir é a estruturação e manipulação de dados em forma nesse formato de \"tabelas\" em Python.\n",
    "\n",
    "Para isso, podemos utilizar algumas bibliotecas que tornaram nosso trabalho mais simples e eficiente. Entre as bibliotecas utilizadas para manipulação de tabelas destaca-se o [**Pandas**](https://pandas.pydata.org/) e o [**Numpy**](http://www.numpy.org/)."
   ]
  },
  {
   "cell_type": "markdown",
   "metadata": {},
   "source": [
    "***"
   ]
  },
  {
   "cell_type": "markdown",
   "metadata": {},
   "source": [
    "## Matrizes de dados em Python"
   ]
  },
  {
   "cell_type": "code",
   "execution_count": 3,
   "metadata": {},
   "outputs": [],
   "source": [
    "lista_simples = [1,2,3,4,5,6,7,8,9]"
   ]
  },
  {
   "cell_type": "code",
   "execution_count": 5,
   "metadata": {},
   "outputs": [
    {
     "data": {
      "text/plain": [
       "[1, 2, 3, 4, 5, 6, 7, 8, 9]"
      ]
     },
     "execution_count": 5,
     "metadata": {},
     "output_type": "execute_result"
    }
   ],
   "source": [
    "lista_simples"
   ]
  },
  {
   "cell_type": "code",
   "execution_count": 4,
   "metadata": {},
   "outputs": [
    {
     "data": {
      "text/plain": [
       "list"
      ]
     },
     "execution_count": 4,
     "metadata": {},
     "output_type": "execute_result"
    }
   ],
   "source": [
    "type(lista_simples)"
   ]
  },
  {
   "cell_type": "code",
   "execution_count": 6,
   "metadata": {},
   "outputs": [],
   "source": [
    "mat_lista = [[1,2,3],[4,5,6],[7,8,9]]"
   ]
  },
  {
   "cell_type": "code",
   "execution_count": 7,
   "metadata": {},
   "outputs": [
    {
     "data": {
      "text/plain": [
       "[[1, 2, 3], [4, 5, 6], [7, 8, 9]]"
      ]
     },
     "execution_count": 7,
     "metadata": {},
     "output_type": "execute_result"
    }
   ],
   "source": [
    "mat_lista"
   ]
  },
  {
   "cell_type": "code",
   "execution_count": 10,
   "metadata": {},
   "outputs": [
    {
     "data": {
      "text/plain": [
       "5"
      ]
     },
     "execution_count": 10,
     "metadata": {},
     "output_type": "execute_result"
    }
   ],
   "source": [
    "mat_lista[1][1]"
   ]
  },
  {
   "cell_type": "markdown",
   "metadata": {},
   "source": [
    "*Soma e subtração:*"
   ]
  },
  {
   "cell_type": "code",
   "execution_count": 11,
   "metadata": {},
   "outputs": [
    {
     "ename": "TypeError",
     "evalue": "can only concatenate list (not \"int\") to list",
     "output_type": "error",
     "traceback": [
      "\u001b[0;31m---------------------------------------------------------------------------\u001b[0m",
      "\u001b[0;31mTypeError\u001b[0m                                 Traceback (most recent call last)",
      "\u001b[0;32m<ipython-input-11-77a1e5afa2a1>\u001b[0m in \u001b[0;36m<module>\u001b[0;34m\u001b[0m\n\u001b[0;32m----> 1\u001b[0;31m \u001b[0mmat_lista\u001b[0m \u001b[0;34m+\u001b[0m \u001b[0;36m10\u001b[0m\u001b[0;34m\u001b[0m\u001b[0m\n\u001b[0m",
      "\u001b[0;31mTypeError\u001b[0m: can only concatenate list (not \"int\") to list"
     ]
    }
   ],
   "source": [
    "mat_lista + 10 #retorna erro"
   ]
  },
  {
   "cell_type": "code",
   "execution_count": 12,
   "metadata": {},
   "outputs": [
    {
     "ename": "TypeError",
     "evalue": "unsupported operand type(s) for -: 'list' and 'int'",
     "output_type": "error",
     "traceback": [
      "\u001b[0;31m---------------------------------------------------------------------------\u001b[0m",
      "\u001b[0;31mTypeError\u001b[0m                                 Traceback (most recent call last)",
      "\u001b[0;32m<ipython-input-12-b7ea4217ac37>\u001b[0m in \u001b[0;36m<module>\u001b[0;34m\u001b[0m\n\u001b[0;32m----> 1\u001b[0;31m \u001b[0mmat_lista\u001b[0m \u001b[0;34m-\u001b[0m \u001b[0;36m10\u001b[0m\u001b[0;34m\u001b[0m\u001b[0m\n\u001b[0m",
      "\u001b[0;31mTypeError\u001b[0m: unsupported operand type(s) for -: 'list' and 'int'"
     ]
    }
   ],
   "source": [
    "mat_lista - 10 #retorna erro"
   ]
  },
  {
   "cell_type": "markdown",
   "metadata": {},
   "source": [
    "*Multiplicação de divisão*"
   ]
  },
  {
   "cell_type": "code",
   "execution_count": 13,
   "metadata": {},
   "outputs": [
    {
     "data": {
      "text/plain": [
       "[[1, 2, 3], [4, 5, 6], [7, 8, 9], [1, 2, 3], [4, 5, 6], [7, 8, 9]]"
      ]
     },
     "execution_count": 13,
     "metadata": {},
     "output_type": "execute_result"
    }
   ],
   "source": [
    "mat_lista * 2 #replica a lista"
   ]
  },
  {
   "cell_type": "code",
   "execution_count": 14,
   "metadata": {},
   "outputs": [
    {
     "ename": "TypeError",
     "evalue": "unsupported operand type(s) for /: 'list' and 'int'",
     "output_type": "error",
     "traceback": [
      "\u001b[0;31m---------------------------------------------------------------------------\u001b[0m",
      "\u001b[0;31mTypeError\u001b[0m                                 Traceback (most recent call last)",
      "\u001b[0;32m<ipython-input-14-ae8662b3d041>\u001b[0m in \u001b[0;36m<module>\u001b[0;34m\u001b[0m\n\u001b[0;32m----> 1\u001b[0;31m \u001b[0mmat_lista\u001b[0m \u001b[0;34m/\u001b[0m \u001b[0;36m2\u001b[0m\u001b[0;34m\u001b[0m\u001b[0m\n\u001b[0m",
      "\u001b[0;31mTypeError\u001b[0m: unsupported operand type(s) for /: 'list' and 'int'"
     ]
    }
   ],
   "source": [
    "mat_lista / 2 #retorna erro"
   ]
  },
  {
   "cell_type": "code",
   "execution_count": 16,
   "metadata": {},
   "outputs": [
    {
     "name": "stdout",
     "output_type": "stream",
     "text": [
      "1\n",
      "4\n",
      "9\n",
      "16\n",
      "25\n",
      "36\n",
      "49\n",
      "64\n",
      "81\n"
     ]
    }
   ],
   "source": [
    "altura = len(mat_lista)\n",
    "largura = len(mat_lista[0])\n",
    "\n",
    "for linha in range(altura):\n",
    "    for coluna in range(largura):\n",
    "        print(mat_lista[linha][coluna]**2)"
   ]
  },
  {
   "cell_type": "markdown",
   "metadata": {},
   "source": [
    "***"
   ]
  },
  {
   "cell_type": "markdown",
   "metadata": {},
   "source": [
    "## Numpy"
   ]
  },
  {
   "cell_type": "code",
   "execution_count": 17,
   "metadata": {},
   "outputs": [],
   "source": [
    "#!pip install numpy #para instalar, caso não esteja trabahando com o anaconda (o ponto de exclamação só precisa se for executar dentro do Jupyter)"
   ]
  },
  {
   "cell_type": "code",
   "execution_count": 1,
   "metadata": {},
   "outputs": [],
   "source": [
    "import numpy as np"
   ]
  },
  {
   "cell_type": "code",
   "execution_count": 20,
   "metadata": {},
   "outputs": [],
   "source": [
    "lista1 = [1,2,3,4,5,6] #criando os dados através de uma lista"
   ]
  },
  {
   "cell_type": "code",
   "execution_count": 21,
   "metadata": {},
   "outputs": [],
   "source": [
    "listaNumpy = np.array(lista1) #transformando a lista em array do numpy"
   ]
  },
  {
   "cell_type": "code",
   "execution_count": 22,
   "metadata": {},
   "outputs": [
    {
     "data": {
      "text/plain": [
       "array([1, 2, 3, 4, 5, 6])"
      ]
     },
     "execution_count": 22,
     "metadata": {},
     "output_type": "execute_result"
    }
   ],
   "source": [
    "listaNumpy #visualizando"
   ]
  },
  {
   "cell_type": "code",
   "execution_count": 23,
   "metadata": {},
   "outputs": [
    {
     "data": {
      "text/plain": [
       "numpy.ndarray"
      ]
     },
     "execution_count": 23,
     "metadata": {},
     "output_type": "execute_result"
    }
   ],
   "source": [
    "type(listaNumpy) #verificando o tipo da estrutura de dados (só pra visualizar e confirmar!)"
   ]
  },
  {
   "cell_type": "markdown",
   "metadata": {},
   "source": [
    "**Operações:**"
   ]
  },
  {
   "cell_type": "code",
   "execution_count": 24,
   "metadata": {},
   "outputs": [
    {
     "data": {
      "text/plain": [
       "array([11, 12, 13, 14, 15, 16])"
      ]
     },
     "execution_count": 24,
     "metadata": {},
     "output_type": "execute_result"
    }
   ],
   "source": [
    "listaNumpy + 10 #agora sim! funciona certinho!"
   ]
  },
  {
   "cell_type": "code",
   "execution_count": 25,
   "metadata": {},
   "outputs": [
    {
     "data": {
      "text/plain": [
       "array([-9, -8, -7, -6, -5, -4])"
      ]
     },
     "execution_count": 25,
     "metadata": {},
     "output_type": "execute_result"
    }
   ],
   "source": [
    "listaNumpy - 10 #agora sim! funciona certinho!"
   ]
  },
  {
   "cell_type": "code",
   "execution_count": 26,
   "metadata": {},
   "outputs": [
    {
     "data": {
      "text/plain": [
       "array([10, 20, 30, 40, 50, 60])"
      ]
     },
     "execution_count": 26,
     "metadata": {},
     "output_type": "execute_result"
    }
   ],
   "source": [
    "listaNumpy * 10 #agora sim! funciona certinho!"
   ]
  },
  {
   "cell_type": "code",
   "execution_count": 27,
   "metadata": {},
   "outputs": [
    {
     "data": {
      "text/plain": [
       "array([0.1, 0.2, 0.3, 0.4, 0.5, 0.6])"
      ]
     },
     "execution_count": 27,
     "metadata": {},
     "output_type": "execute_result"
    }
   ],
   "source": [
    "listaNumpy / 10 #agora sim! funciona certinho!"
   ]
  },
  {
   "cell_type": "markdown",
   "metadata": {},
   "source": [
    "**Oprações com duas listas:**"
   ]
  },
  {
   "cell_type": "code",
   "execution_count": 41,
   "metadata": {},
   "outputs": [],
   "source": [
    "lista2 = np.array([91, 92, 93, 94, 95, 96]) #criando um segundo array numpy"
   ]
  },
  {
   "cell_type": "code",
   "execution_count": 42,
   "metadata": {},
   "outputs": [
    {
     "data": {
      "text/plain": [
       "array([ 92,  94,  96,  98, 100, 102])"
      ]
     },
     "execution_count": 42,
     "metadata": {},
     "output_type": "execute_result"
    }
   ],
   "source": [
    "listaNumpy + lista2 #somando arrays numpy"
   ]
  },
  {
   "cell_type": "code",
   "execution_count": 32,
   "metadata": {},
   "outputs": [
    {
     "data": {
      "text/plain": [
       "array([-90, -90, -90, -90, -90, -90])"
      ]
     },
     "execution_count": 32,
     "metadata": {},
     "output_type": "execute_result"
    }
   ],
   "source": [
    "listaNumpy - lista2 #substraindo arrays numpy"
   ]
  },
  {
   "cell_type": "markdown",
   "metadata": {},
   "source": [
    "**Matrizes**"
   ]
  },
  {
   "cell_type": "code",
   "execution_count": 34,
   "metadata": {},
   "outputs": [],
   "source": [
    "matriz = np.array([1,2,3,4,5,6,7,8,9]) #criamos um array numpy"
   ]
  },
  {
   "cell_type": "code",
   "execution_count": 36,
   "metadata": {},
   "outputs": [],
   "source": [
    "matriz = matriz.reshape(3,3) #\"remodelamos\" ele, em linhas e colunas"
   ]
  },
  {
   "cell_type": "code",
   "execution_count": 37,
   "metadata": {},
   "outputs": [
    {
     "data": {
      "text/plain": [
       "array([[1, 2, 3],\n",
       "       [4, 5, 6],\n",
       "       [7, 8, 9]])"
      ]
     },
     "execution_count": 37,
     "metadata": {},
     "output_type": "execute_result"
    }
   ],
   "source": [
    "matriz #inspecionando"
   ]
  },
  {
   "cell_type": "code",
   "execution_count": 38,
   "metadata": {},
   "outputs": [
    {
     "data": {
      "text/plain": [
       "(3, 3)"
      ]
     },
     "execution_count": 38,
     "metadata": {},
     "output_type": "execute_result"
    }
   ],
   "source": [
    "matriz.shape #dimensões da matriz"
   ]
  },
  {
   "cell_type": "code",
   "execution_count": 43,
   "metadata": {},
   "outputs": [
    {
     "data": {
      "text/plain": [
       "array([[ 3,  4,  5],\n",
       "       [ 6,  7,  8],\n",
       "       [ 9, 10, 11]])"
      ]
     },
     "execution_count": 43,
     "metadata": {},
     "output_type": "execute_result"
    }
   ],
   "source": [
    "matriz + 2 #somando 2 em cada célula da matriz"
   ]
  },
  {
   "cell_type": "code",
   "execution_count": 44,
   "metadata": {},
   "outputs": [
    {
     "data": {
      "text/plain": [
       "array([[-1,  0,  1],\n",
       "       [ 2,  3,  4],\n",
       "       [ 5,  6,  7]])"
      ]
     },
     "execution_count": 44,
     "metadata": {},
     "output_type": "execute_result"
    }
   ],
   "source": [
    "matriz - 2 #subtraindo 2 em cada célula da matriz"
   ]
  },
  {
   "cell_type": "code",
   "execution_count": 45,
   "metadata": {},
   "outputs": [
    {
     "data": {
      "text/plain": [
       "array([[ 1,  4,  9],\n",
       "       [16, 25, 36],\n",
       "       [49, 64, 81]])"
      ]
     },
     "execution_count": 45,
     "metadata": {},
     "output_type": "execute_result"
    }
   ],
   "source": [
    "matriz * matriz #multiplicando matrizes célula a célula (i.e., célula 1 X célula 1, célula 2 X célula 2, ...)"
   ]
  },
  {
   "cell_type": "code",
   "execution_count": 46,
   "metadata": {},
   "outputs": [
    {
     "data": {
      "text/plain": [
       "array([[ 30,  36,  42],\n",
       "       [ 66,  81,  96],\n",
       "       [102, 126, 150]])"
      ]
     },
     "execution_count": 46,
     "metadata": {},
     "output_type": "execute_result"
    }
   ],
   "source": [
    "np.dot(matriz, matriz) #multiplicação matricial - Veja: https://pt.wikipedia.org/wiki/Produto_de_matrizes"
   ]
  },
  {
   "cell_type": "markdown",
   "metadata": {},
   "source": [
    "*Matriz identidade:*"
   ]
  },
  {
   "cell_type": "code",
   "execution_count": 47,
   "metadata": {},
   "outputs": [],
   "source": [
    "mIdentidade = np.eye(5) #criando uma matriz identidade de dimensões 5x5"
   ]
  },
  {
   "cell_type": "code",
   "execution_count": 48,
   "metadata": {},
   "outputs": [
    {
     "data": {
      "text/plain": [
       "array([[1., 0., 0., 0., 0.],\n",
       "       [0., 1., 0., 0., 0.],\n",
       "       [0., 0., 1., 0., 0.],\n",
       "       [0., 0., 0., 1., 0.],\n",
       "       [0., 0., 0., 0., 1.]])"
      ]
     },
     "execution_count": 48,
     "metadata": {},
     "output_type": "execute_result"
    }
   ],
   "source": [
    "mIdentidade #inspecionando"
   ]
  },
  {
   "cell_type": "code",
   "execution_count": 49,
   "metadata": {},
   "outputs": [
    {
     "data": {
      "text/plain": [
       "array([[0., 1., 0., 0.],\n",
       "       [0., 0., 1., 0.],\n",
       "       [0., 0., 0., 1.]])"
      ]
     },
     "execution_count": 49,
     "metadata": {},
     "output_type": "execute_result"
    }
   ],
   "source": [
    "#sling\n",
    "mIdentidade[2:, 1:] #\"fatiando\" nossa matriz, a partir da linha 2 e coluna 1"
   ]
  },
  {
   "cell_type": "markdown",
   "metadata": {},
   "source": [
    "**Funções especiais**"
   ]
  },
  {
   "cell_type": "code",
   "execution_count": 55,
   "metadata": {},
   "outputs": [],
   "source": [
    "zeros = np.zeros(10) #matriz de zeros"
   ]
  },
  {
   "cell_type": "code",
   "execution_count": 56,
   "metadata": {},
   "outputs": [
    {
     "data": {
      "text/plain": [
       "array([0., 0., 0., 0., 0., 0., 0., 0., 0., 0.])"
      ]
     },
     "execution_count": 56,
     "metadata": {},
     "output_type": "execute_result"
    }
   ],
   "source": [
    "zeros #inspecionando"
   ]
  },
  {
   "cell_type": "code",
   "execution_count": 57,
   "metadata": {},
   "outputs": [],
   "source": [
    "uns = np.ones(10) #matriz preenchida de números 1"
   ]
  },
  {
   "cell_type": "code",
   "execution_count": 58,
   "metadata": {},
   "outputs": [
    {
     "data": {
      "text/plain": [
       "array([1., 1., 1., 1., 1., 1., 1., 1., 1., 1.])"
      ]
     },
     "execution_count": 58,
     "metadata": {},
     "output_type": "execute_result"
    }
   ],
   "source": [
    "uns #inspecionando"
   ]
  },
  {
   "cell_type": "code",
   "execution_count": 65,
   "metadata": {},
   "outputs": [],
   "source": [
    "listaD = np.arange(0, 20, 3) #cria uma sequência de números - REFERÊNCIA: (início, fim, intervalo)"
   ]
  },
  {
   "cell_type": "code",
   "execution_count": 64,
   "metadata": {},
   "outputs": [
    {
     "data": {
      "text/plain": [
       "array([ 0,  3,  6,  9, 12, 15, 18])"
      ]
     },
     "execution_count": 64,
     "metadata": {},
     "output_type": "execute_result"
    }
   ],
   "source": [
    "listaD #inspecionando"
   ]
  },
  {
   "cell_type": "code",
   "execution_count": 72,
   "metadata": {},
   "outputs": [],
   "source": [
    "listaL = np.linspace(0, 1, 37) #cria uma sequência definida de números dentro de um intervalo especificado\n",
    "#REFERÊNCIA: (início, fim, quantidade desejada de números)"
   ]
  },
  {
   "cell_type": "code",
   "execution_count": 73,
   "metadata": {},
   "outputs": [
    {
     "data": {
      "text/plain": [
       "array([0.        , 0.02777778, 0.05555556, 0.08333333, 0.11111111,\n",
       "       0.13888889, 0.16666667, 0.19444444, 0.22222222, 0.25      ,\n",
       "       0.27777778, 0.30555556, 0.33333333, 0.36111111, 0.38888889,\n",
       "       0.41666667, 0.44444444, 0.47222222, 0.5       , 0.52777778,\n",
       "       0.55555556, 0.58333333, 0.61111111, 0.63888889, 0.66666667,\n",
       "       0.69444444, 0.72222222, 0.75      , 0.77777778, 0.80555556,\n",
       "       0.83333333, 0.86111111, 0.88888889, 0.91666667, 0.94444444,\n",
       "       0.97222222, 1.        ])"
      ]
     },
     "execution_count": 73,
     "metadata": {},
     "output_type": "execute_result"
    }
   ],
   "source": [
    "listaL #inspecionando"
   ]
  },
  {
   "cell_type": "code",
   "execution_count": 74,
   "metadata": {},
   "outputs": [],
   "source": [
    "aleatorio = np.random.rand(100) #cria um array de números aleatórios, entre 0 e 1 (passamos apenas q quantidade desejada)"
   ]
  },
  {
   "cell_type": "code",
   "execution_count": 75,
   "metadata": {},
   "outputs": [
    {
     "data": {
      "text/plain": [
       "array([0.66149411, 0.40540749, 0.86465993, 0.07524521, 0.71477728,\n",
       "       0.45290743, 0.71063941, 0.43079898, 0.31897663, 0.47097456,\n",
       "       0.31111085, 0.09848414, 0.19103204, 0.83015015, 0.21779655,\n",
       "       0.51601675, 0.01999412, 0.4574405 , 0.81197699, 0.26767246,\n",
       "       0.77581331, 0.14479538, 0.4368132 , 0.43542556, 0.59915691,\n",
       "       0.36143787, 0.27362295, 0.17052995, 0.3121959 , 0.78535958,\n",
       "       0.99848811, 0.79980061, 0.73538904, 0.48335825, 0.76040211,\n",
       "       0.37513794, 0.44605995, 0.40257738, 0.1427667 , 0.19733324,\n",
       "       0.06283558, 0.64732014, 0.19359599, 0.78713879, 0.27332333,\n",
       "       0.05166624, 0.96466884, 0.48998091, 0.99308293, 0.56745663,\n",
       "       0.54247007, 0.49267804, 0.69311306, 0.77620475, 0.70789288,\n",
       "       0.76759761, 0.91023542, 0.50165596, 0.82670546, 0.79035645,\n",
       "       0.98169153, 0.64872618, 0.55141466, 0.25754007, 0.61642379,\n",
       "       0.43250183, 0.10740791, 0.1670576 , 0.10003793, 0.15840217,\n",
       "       0.18368983, 0.27795874, 0.20474781, 0.69920272, 0.83272594,\n",
       "       0.06882567, 0.03499974, 0.9815733 , 0.72352383, 0.08240064,\n",
       "       0.081184  , 0.48328009, 0.6466883 , 0.88489974, 0.37546559,\n",
       "       0.40046389, 0.99895107, 0.5161082 , 0.02291855, 0.93663479,\n",
       "       0.92443879, 0.4131212 , 0.40281724, 0.8851888 , 0.10143256,\n",
       "       0.54633356, 0.12653047, 0.71745894, 0.12965879, 0.41942294])"
      ]
     },
     "execution_count": 75,
     "metadata": {},
     "output_type": "execute_result"
    }
   ],
   "source": [
    "aleatorio #inspecionando"
   ]
  },
  {
   "cell_type": "code",
   "execution_count": 9,
   "metadata": {},
   "outputs": [],
   "source": [
    "aleatorioInt = np.random.randint(0,100,100) \n",
    "#cria uma sequência de números aleatórios inteiros dentro de um intervalo especificado\n",
    "#REFERÊNCIA: (início, fim, quantidade desejada de números)"
   ]
  },
  {
   "cell_type": "code",
   "execution_count": 81,
   "metadata": {},
   "outputs": [
    {
     "data": {
      "text/plain": [
       "array([15, 93, 97, 48, 82, 80, 26, 75, 24, 15, 63, 91, 28, 39, 65, 44, 51,\n",
       "       58, 63, 61, 82, 31,  1,  9, 73, 51, 30, 99, 65,  0, 99, 79, 24, 30,\n",
       "       61, 60, 39,  3, 11, 12, 17, 83, 91, 51, 66,  7, 18,  9,  7, 43,  9,\n",
       "       12, 62, 83, 63, 10,  2, 13,  0, 41, 41, 31, 49, 97, 72, 67,  2, 89,\n",
       "       40, 59, 71, 15, 27, 38, 79, 73, 61, 77, 74, 83,  5,  8, 42, 62, 79,\n",
       "       19, 84, 55, 48, 12, 44, 40, 33, 87, 29, 79,  4, 55, 13,  9])"
      ]
     },
     "execution_count": 81,
     "metadata": {},
     "output_type": "execute_result"
    }
   ],
   "source": [
    "aleatorioInt #inspecionando"
   ]
  },
  {
   "cell_type": "markdown",
   "metadata": {},
   "source": [
    "**Indexação**"
   ]
  },
  {
   "cell_type": "code",
   "execution_count": 83,
   "metadata": {},
   "outputs": [
    {
     "data": {
      "text/plain": [
       "48"
      ]
     },
     "execution_count": 83,
     "metadata": {},
     "output_type": "execute_result"
    }
   ],
   "source": [
    "aleatorioInt[3] #acessando um item do array pelo seu índice"
   ]
  },
  {
   "cell_type": "code",
   "execution_count": 84,
   "metadata": {},
   "outputs": [
    {
     "data": {
      "text/plain": [
       "array([15, 93, 97, 48, 82, 80, 26, 75, 24, 15])"
      ]
     },
     "execution_count": 84,
     "metadata": {},
     "output_type": "execute_result"
    }
   ],
   "source": [
    "aleatorioInt[0:10] #pegando uma sequência de itens usando slicing"
   ]
  },
  {
   "cell_type": "markdown",
   "metadata": {},
   "source": [
    "**Tipos de dados:**"
   ]
  },
  {
   "cell_type": "code",
   "execution_count": 86,
   "metadata": {},
   "outputs": [
    {
     "data": {
      "text/plain": [
       "dtype('int64')"
      ]
     },
     "execution_count": 86,
     "metadata": {},
     "output_type": "execute_result"
    }
   ],
   "source": [
    "aleatorioInt.dtype #verificando o tipos dos nossos dados"
   ]
  },
  {
   "cell_type": "code",
   "execution_count": 87,
   "metadata": {},
   "outputs": [],
   "source": [
    "listaString = np.array(['olá', 'tudo', 'bem']) #criando um array numpy contendo strings"
   ]
  },
  {
   "cell_type": "code",
   "execution_count": 88,
   "metadata": {},
   "outputs": [
    {
     "data": {
      "text/plain": [
       "dtype('<U4')"
      ]
     },
     "execution_count": 88,
     "metadata": {},
     "output_type": "execute_result"
    }
   ],
   "source": [
    "listaString.dtype #inspecionando o tipo de dados desse array"
   ]
  },
  {
   "cell_type": "code",
   "execution_count": 90,
   "metadata": {},
   "outputs": [
    {
     "data": {
      "text/plain": [
       "array([15, 93, 97, 48, 82, 80, 26, 75, 24, 15, 63, 91, 28, 39, 65, 44, 51,\n",
       "       58, 63, 61, 82, 31,  1,  9, 73, 51, 30, 99, 65,  0, 99, 79, 24, 30,\n",
       "       61, 60, 39,  3, 11, 12, 17, 83, 91, 51, 66,  7, 18,  9,  7, 43,  9,\n",
       "       12, 62, 83, 63, 10,  2, 13,  0, 41, 41, 31, 49, 97, 72, 67,  2, 89,\n",
       "       40, 59, 71, 15, 27, 38, 79, 73, 61, 77, 74, 83,  5,  8, 42, 62, 79,\n",
       "       19, 84, 55, 48, 12, 44, 40, 33, 87, 29, 79,  4, 55, 13,  9],\n",
       "      dtype=int32)"
      ]
     },
     "execution_count": 90,
     "metadata": {},
     "output_type": "execute_result"
    }
   ],
   "source": [
    "aleatorioInt.astype(np.int32) # o método '.astype()' transforma o tipo de dado do array para um outro tipo, especificado"
   ]
  },
  {
   "cell_type": "code",
   "execution_count": 91,
   "metadata": {},
   "outputs": [
    {
     "data": {
      "text/plain": [
       "100"
      ]
     },
     "execution_count": 91,
     "metadata": {},
     "output_type": "execute_result"
    }
   ],
   "source": [
    "aleatorioInt.size #verifica o tamanho (número de itens!) do array numpy"
   ]
  },
  {
   "cell_type": "code",
   "execution_count": 93,
   "metadata": {},
   "outputs": [
    {
     "data": {
      "text/plain": [
       "100"
      ]
     },
     "execution_count": 93,
     "metadata": {},
     "output_type": "execute_result"
    }
   ],
   "source": [
    "len(aleatorioInt) #tbm funciona!"
   ]
  },
  {
   "cell_type": "code",
   "execution_count": 94,
   "metadata": {},
   "outputs": [
    {
     "data": {
      "text/plain": [
       "8"
      ]
     },
     "execution_count": 94,
     "metadata": {},
     "output_type": "execute_result"
    }
   ],
   "source": [
    "aleatorioInt.itemsize #verifica o tamanho dos itens do array (em bytes)"
   ]
  },
  {
   "cell_type": "markdown",
   "metadata": {},
   "source": [
    "**Estatística**"
   ]
  },
  {
   "cell_type": "code",
   "execution_count": 95,
   "metadata": {},
   "outputs": [
    {
     "data": {
      "text/plain": [
       "99"
      ]
     },
     "execution_count": 95,
     "metadata": {},
     "output_type": "execute_result"
    }
   ],
   "source": [
    "aleatorioInt.max() #item de maior valor"
   ]
  },
  {
   "cell_type": "code",
   "execution_count": 96,
   "metadata": {},
   "outputs": [
    {
     "data": {
      "text/plain": [
       "0"
      ]
     },
     "execution_count": 96,
     "metadata": {},
     "output_type": "execute_result"
    }
   ],
   "source": [
    "aleatorioInt.min() #item de menor valor"
   ]
  },
  {
   "cell_type": "code",
   "execution_count": 97,
   "metadata": {},
   "outputs": [
    {
     "data": {
      "text/plain": [
       "27"
      ]
     },
     "execution_count": 97,
     "metadata": {},
     "output_type": "execute_result"
    }
   ],
   "source": [
    "aleatorioInt.argmax() #índice do item de maior valor"
   ]
  },
  {
   "cell_type": "code",
   "execution_count": 98,
   "metadata": {},
   "outputs": [
    {
     "data": {
      "text/plain": [
       "29"
      ]
     },
     "execution_count": 98,
     "metadata": {},
     "output_type": "execute_result"
    }
   ],
   "source": [
    "aleatorioInt.argmin() #índice do item de menor valor"
   ]
  },
  {
   "cell_type": "code",
   "execution_count": 100,
   "metadata": {},
   "outputs": [
    {
     "data": {
      "text/plain": [
       "4616"
      ]
     },
     "execution_count": 100,
     "metadata": {},
     "output_type": "execute_result"
    }
   ],
   "source": [
    "aleatorioInt.sum() #soma dos itens"
   ]
  },
  {
   "cell_type": "code",
   "execution_count": 101,
   "metadata": {},
   "outputs": [
    {
     "data": {
      "text/plain": [
       "46.16"
      ]
     },
     "execution_count": 101,
     "metadata": {},
     "output_type": "execute_result"
    }
   ],
   "source": [
    "aleatorioInt.mean() #média dos itens"
   ]
  },
  {
   "cell_type": "code",
   "execution_count": 102,
   "metadata": {},
   "outputs": [
    {
     "data": {
      "text/plain": [
       "29.422005370130705"
      ]
     },
     "execution_count": 102,
     "metadata": {},
     "output_type": "execute_result"
    }
   ],
   "source": [
    "aleatorioInt.std() #desvio padrão dos itens"
   ]
  },
  {
   "cell_type": "code",
   "execution_count": 38,
   "metadata": {},
   "outputs": [],
   "source": [
    "aleatorioInt.sort() #ordenação dos itens"
   ]
  },
  {
   "cell_type": "code",
   "execution_count": 39,
   "metadata": {},
   "outputs": [
    {
     "data": {
      "text/plain": [
       "array([ 0,  2,  3,  5,  6,  6,  7,  7,  8, 10, 11, 12, 12, 13, 14, 14, 16,\n",
       "       17, 17, 17, 17, 17, 18, 18, 18, 18, 19, 19, 19, 19, 22, 22, 22, 22,\n",
       "       24, 24, 25, 26, 27, 28, 28, 29, 30, 30, 31, 31, 32, 38, 38, 38, 39,\n",
       "       39, 41, 41, 42, 44, 44, 45, 46, 47, 47, 48, 52, 53, 53, 55, 55, 57,\n",
       "       57, 58, 60, 62, 63, 65, 66, 69, 71, 71, 74, 79, 79, 79, 80, 80, 81,\n",
       "       81, 83, 83, 86, 92, 94, 94, 95, 95, 96, 97, 97, 98, 99, 99])"
      ]
     },
     "execution_count": 39,
     "metadata": {},
     "output_type": "execute_result"
    }
   ],
   "source": [
    "aleatorioInt #inspecionando"
   ]
  },
  {
   "cell_type": "markdown",
   "metadata": {},
   "source": [
    "**Filtros**"
   ]
  },
  {
   "cell_type": "code",
   "execution_count": 41,
   "metadata": {},
   "outputs": [],
   "source": [
    "filtro = aleatorioInt > 50 #criando um filtro (números maior que 50)"
   ]
  },
  {
   "cell_type": "code",
   "execution_count": 42,
   "metadata": {},
   "outputs": [
    {
     "data": {
      "text/plain": [
       "array([False, False, False, False, False, False, False, False, False,\n",
       "       False, False, False, False, False, False, False, False, False,\n",
       "       False, False, False, False, False, False, False, False, False,\n",
       "       False, False, False, False, False, False, False, False, False,\n",
       "       False, False, False, False, False, False, False, False, False,\n",
       "       False, False, False, False, False, False, False, False, False,\n",
       "       False, False, False, False, False, False, False, False,  True,\n",
       "        True,  True,  True,  True,  True,  True,  True,  True,  True,\n",
       "        True,  True,  True,  True,  True,  True,  True,  True,  True,\n",
       "        True,  True,  True,  True,  True,  True,  True,  True,  True,\n",
       "        True,  True,  True,  True,  True,  True,  True,  True,  True,\n",
       "        True])"
      ]
     },
     "execution_count": 42,
     "metadata": {},
     "output_type": "execute_result"
    }
   ],
   "source": [
    "filtro #inspecionando"
   ]
  },
  {
   "cell_type": "code",
   "execution_count": 108,
   "metadata": {},
   "outputs": [
    {
     "data": {
      "text/plain": [
       "array([51, 51, 51, 55, 55, 58, 59, 60, 61, 61, 61, 62, 62, 63, 63, 63, 65,\n",
       "       65, 66, 67, 71, 72, 73, 73, 74, 75, 77, 79, 79, 79, 79, 80, 82, 82,\n",
       "       83, 83, 83, 84, 87, 89, 91, 91, 93, 97, 97, 99, 99])"
      ]
     },
     "execution_count": 108,
     "metadata": {},
     "output_type": "execute_result"
    }
   ],
   "source": [
    "aleatorioInt[filtro] #aplicando o filtro"
   ]
  },
  {
   "cell_type": "code",
   "execution_count": 109,
   "metadata": {},
   "outputs": [],
   "source": [
    "pares = aleatorioInt % 2 == 0 #criando filtro (números pares)"
   ]
  },
  {
   "cell_type": "code",
   "execution_count": 110,
   "metadata": {},
   "outputs": [
    {
     "data": {
      "text/plain": [
       "array([ True,  True, False,  True,  True, False,  True, False, False,\n",
       "       False,  True, False, False, False, False,  True, False,  True,\n",
       "        True,  True, False, False, False, False, False, False,  True,\n",
       "       False,  True,  True,  True, False,  True, False,  True,  True,\n",
       "       False, False, False,  True, False, False,  True,  True, False,\n",
       "       False,  True, False,  True,  True,  True,  True, False, False,\n",
       "       False, False, False, False,  True, False,  True, False, False,\n",
       "       False,  True,  True, False, False, False, False, False,  True,\n",
       "       False, False,  True, False, False,  True, False, False, False,\n",
       "       False, False, False,  True,  True,  True, False, False, False,\n",
       "        True, False, False, False, False, False, False, False, False,\n",
       "       False])"
      ]
     },
     "execution_count": 110,
     "metadata": {},
     "output_type": "execute_result"
    }
   ],
   "source": [
    "pares #inspecionando"
   ]
  },
  {
   "cell_type": "code",
   "execution_count": 114,
   "metadata": {},
   "outputs": [
    {
     "data": {
      "text/plain": [
       "array([ 0,  0,  2,  2,  4,  8, 10, 12, 12, 12, 18, 24, 24, 26, 28, 30, 30,\n",
       "       38, 40, 40, 42, 44, 44, 48, 48, 58, 60, 62, 62, 66, 72, 74, 80, 82,\n",
       "       82, 84])"
      ]
     },
     "execution_count": 114,
     "metadata": {},
     "output_type": "execute_result"
    }
   ],
   "source": [
    "aleatorioInt[pares] #aplicando filtro"
   ]
  },
  {
   "cell_type": "code",
   "execution_count": 117,
   "metadata": {},
   "outputs": [
    {
     "data": {
      "text/plain": [
       "array([0, 0, 1, 2, 2])"
      ]
     },
     "execution_count": 117,
     "metadata": {},
     "output_type": "execute_result"
    }
   ],
   "source": [
    "aleatorioInt[aleatorioInt < 3] #aplicando um filtro diretamente no array numpy"
   ]
  },
  {
   "cell_type": "markdown",
   "metadata": {},
   "source": [
    "## <center> ATIVIDADE <center>"
   ]
  },
  {
   "cell_type": "markdown",
   "metadata": {},
   "source": [
    "*Arrays*"
   ]
  },
  {
   "cell_type": "markdown",
   "metadata": {},
   "source": [
    "**Crie um numpy array de 10 itens, onde cada tenha um intervalo de 3 valores.**"
   ]
  },
  {
   "cell_type": "code",
   "execution_count": 119,
   "metadata": {},
   "outputs": [],
   "source": [
    "lista = np.arange(0,30,3) #criando os dados usando o `arange`"
   ]
  },
  {
   "cell_type": "code",
   "execution_count": 120,
   "metadata": {},
   "outputs": [
    {
     "data": {
      "text/plain": [
       "array([ 0,  3,  6,  9, 12, 15, 18, 21, 24, 27])"
      ]
     },
     "execution_count": 120,
     "metadata": {},
     "output_type": "execute_result"
    }
   ],
   "source": [
    "lista #inspecionando"
   ]
  },
  {
   "cell_type": "code",
   "execution_count": 122,
   "metadata": {},
   "outputs": [
    {
     "data": {
      "text/plain": [
       "10"
      ]
     },
     "execution_count": 122,
     "metadata": {},
     "output_type": "execute_result"
    }
   ],
   "source": [
    "lista.size #ou len(lista) #checando o tamanho"
   ]
  },
  {
   "cell_type": "markdown",
   "metadata": {},
   "source": [
    "**Pegue apenas os números entre a posição 3 e 8, e salve em lista2.**"
   ]
  },
  {
   "cell_type": "code",
   "execution_count": 123,
   "metadata": {},
   "outputs": [],
   "source": [
    "lista2 =  lista[3:9] #slicing"
   ]
  },
  {
   "cell_type": "code",
   "execution_count": 124,
   "metadata": {},
   "outputs": [
    {
     "data": {
      "text/plain": [
       "array([ 9, 12, 15, 18, 21, 24])"
      ]
     },
     "execution_count": 124,
     "metadata": {},
     "output_type": "execute_result"
    }
   ],
   "source": [
    "lista2 #checando resultado"
   ]
  },
  {
   "cell_type": "markdown",
   "metadata": {},
   "source": [
    "**Divida todos os números de lista2 por 3, salve em uma nova variável.**"
   ]
  },
  {
   "cell_type": "code",
   "execution_count": 125,
   "metadata": {},
   "outputs": [],
   "source": [
    "lista3 = lista2/3 #aplicando a divisão"
   ]
  },
  {
   "cell_type": "code",
   "execution_count": 126,
   "metadata": {},
   "outputs": [
    {
     "data": {
      "text/plain": [
       "array([3., 4., 5., 6., 7., 8.])"
      ]
     },
     "execution_count": 126,
     "metadata": {},
     "output_type": "execute_result"
    }
   ],
   "source": [
    "lista3 #checando resultado"
   ]
  },
  {
   "cell_type": "markdown",
   "metadata": {},
   "source": [
    "**Transforme estes números no tipo inteiro, salve na mesma variável.**"
   ]
  },
  {
   "cell_type": "code",
   "execution_count": 127,
   "metadata": {},
   "outputs": [
    {
     "data": {
      "text/plain": [
       "dtype('float64')"
      ]
     },
     "execution_count": 127,
     "metadata": {},
     "output_type": "execute_result"
    }
   ],
   "source": [
    "lista3.dtype #chegando o tipo dos dados originais"
   ]
  },
  {
   "cell_type": "code",
   "execution_count": 130,
   "metadata": {},
   "outputs": [],
   "source": [
    "lista3 = lista3.astype(np.int32) #aplicando tranformação de tipo de dados"
   ]
  },
  {
   "cell_type": "code",
   "execution_count": 131,
   "metadata": {},
   "outputs": [
    {
     "data": {
      "text/plain": [
       "dtype('int32')"
      ]
     },
     "execution_count": 131,
     "metadata": {},
     "output_type": "execute_result"
    }
   ],
   "source": [
    "lista3.dtype #checando tipo de dados após a transformação"
   ]
  },
  {
   "cell_type": "markdown",
   "metadata": {},
   "source": [
    "**Crie um array aleatório de 15 itens entre 0 e 100.**"
   ]
  },
  {
   "cell_type": "code",
   "execution_count": 133,
   "metadata": {},
   "outputs": [],
   "source": [
    "lista4 = np.random.randint(0, 100, 15) #criando array usando o numpy.random.randint"
   ]
  },
  {
   "cell_type": "code",
   "execution_count": 134,
   "metadata": {},
   "outputs": [
    {
     "data": {
      "text/plain": [
       "array([72, 95, 63, 74,  2, 49, 75, 58, 27, 87, 15, 91, 67, 28,  0])"
      ]
     },
     "execution_count": 134,
     "metadata": {},
     "output_type": "execute_result"
    }
   ],
   "source": [
    "lista4 #checando resultado"
   ]
  },
  {
   "cell_type": "markdown",
   "metadata": {},
   "source": [
    "**Qual o maior número?**"
   ]
  },
  {
   "cell_type": "code",
   "execution_count": 135,
   "metadata": {},
   "outputs": [
    {
     "data": {
      "text/plain": [
       "95"
      ]
     },
     "execution_count": 135,
     "metadata": {},
     "output_type": "execute_result"
    }
   ],
   "source": [
    "lista4.max() #acessando o item de maior valor"
   ]
  },
  {
   "cell_type": "markdown",
   "metadata": {},
   "source": [
    "**Onde ele está?**"
   ]
  },
  {
   "cell_type": "code",
   "execution_count": 136,
   "metadata": {},
   "outputs": [
    {
     "data": {
      "text/plain": [
       "1"
      ]
     },
     "execution_count": 136,
     "metadata": {},
     "output_type": "execute_result"
    }
   ],
   "source": [
    "lista4.argmax() #acessando o índice do item de maior valor"
   ]
  },
  {
   "cell_type": "markdown",
   "metadata": {},
   "source": [
    "**Verifique quais números são maior que 10.**"
   ]
  },
  {
   "cell_type": "code",
   "execution_count": 137,
   "metadata": {},
   "outputs": [
    {
     "data": {
      "text/plain": [
       "array([72, 95, 63, 74, 49, 75, 58, 27, 87, 15, 91, 67, 28])"
      ]
     },
     "execution_count": 137,
     "metadata": {},
     "output_type": "execute_result"
    }
   ],
   "source": [
    "filtro = lista4 > 10 #criando um filtro para o problema definido\n",
    "lista4[filtro] #aplicando o filtro"
   ]
  },
  {
   "cell_type": "markdown",
   "metadata": {},
   "source": [
    "**Salve em um novo array apenas os maiores que 10.**"
   ]
  },
  {
   "cell_type": "code",
   "execution_count": 138,
   "metadata": {},
   "outputs": [],
   "source": [
    "lista5 = lista4[filtro] #aplicando filtro e salvando resultado em outro objeto"
   ]
  },
  {
   "cell_type": "code",
   "execution_count": 144,
   "metadata": {},
   "outputs": [
    {
     "data": {
      "text/plain": [
       "array([72, 95, 63, 74, 49, 75, 58, 27, 87, 15, 91, 67, 28])"
      ]
     },
     "execution_count": 144,
     "metadata": {},
     "output_type": "execute_result"
    }
   ],
   "source": [
    "lista5 #checando resultado"
   ]
  },
  {
   "cell_type": "markdown",
   "metadata": {},
   "source": [
    "*Matrizes*"
   ]
  },
  {
   "cell_type": "markdown",
   "metadata": {},
   "source": [
    "**Gere uma matriz 3x3. Será nescessário criar uma lista e transformá-la em matriz.**"
   ]
  },
  {
   "cell_type": "code",
   "execution_count": 140,
   "metadata": {},
   "outputs": [
    {
     "data": {
      "text/plain": [
       "array([[1, 2, 3],\n",
       "       [3, 2, 1],\n",
       "       [1, 2, 3]])"
      ]
     },
     "execution_count": 140,
     "metadata": {},
     "output_type": "execute_result"
    }
   ],
   "source": [
    "matriz = np.array([1,2,3,3,2,1,1,2,3]) #criando array de dados\n",
    "matriz.reshape(3,3) #criando matriz a partir dos dados"
   ]
  },
  {
   "cell_type": "markdown",
   "metadata": {},
   "source": [
    "**Gere uma matriz 3x3 aleatória com números entre 0 e 100.**"
   ]
  },
  {
   "cell_type": "code",
   "execution_count": 141,
   "metadata": {},
   "outputs": [],
   "source": [
    "matrizAle = np.random.randint(0,100,9) #criando array de dados usando o numpy.random.randint"
   ]
  },
  {
   "cell_type": "code",
   "execution_count": 142,
   "metadata": {},
   "outputs": [
    {
     "data": {
      "text/plain": [
       "array([[63, 88, 40],\n",
       "       [ 5, 16, 79],\n",
       "       [67, 55, 22]])"
      ]
     },
     "execution_count": 142,
     "metadata": {},
     "output_type": "execute_result"
    }
   ],
   "source": [
    "matrizAle.reshape(3,3) #criando matriz a partir dos dados"
   ]
  },
  {
   "cell_type": "markdown",
   "metadata": {},
   "source": [
    "***"
   ]
  },
  {
   "cell_type": "markdown",
   "metadata": {},
   "source": [
    "## Pandas"
   ]
  },
  {
   "cell_type": "markdown",
   "metadata": {},
   "source": [
    "![panda](panda_meme.jpg)"
   ]
  },
  {
   "cell_type": "markdown",
   "metadata": {},
   "source": [
    "**REFERÊNCIAS:**\n",
    "    \n",
    "**site oficial: https://pandas.pydata.org/**\n",
    "\n",
    "**exemplos: https://pandas.pydata.org/pandas-docs/stable/10min.html**\n",
    "\n",
    "**Livro: http://shop.oreilly.com/product/0636920023784.do**"
   ]
  },
  {
   "cell_type": "code",
   "execution_count": 2,
   "metadata": {},
   "outputs": [],
   "source": [
    "import pandas as pd"
   ]
  },
  {
   "cell_type": "markdown",
   "metadata": {},
   "source": [
    "### Series"
   ]
  },
  {
   "cell_type": "code",
   "execution_count": 146,
   "metadata": {},
   "outputs": [],
   "source": [
    "minha_serie = [10, 20, 30, 40, 50, 60, 70] #criando dados utilizando uma lista"
   ]
  },
  {
   "cell_type": "code",
   "execution_count": 147,
   "metadata": {},
   "outputs": [],
   "source": [
    "serie = pd.Series(minha_serie) #transformando dados em um objeto Series do pandas"
   ]
  },
  {
   "cell_type": "code",
   "execution_count": 148,
   "metadata": {},
   "outputs": [
    {
     "data": {
      "text/plain": [
       "0    10\n",
       "1    20\n",
       "2    30\n",
       "3    40\n",
       "4    50\n",
       "5    60\n",
       "6    70\n",
       "dtype: int64"
      ]
     },
     "execution_count": 148,
     "metadata": {},
     "output_type": "execute_result"
    }
   ],
   "source": [
    "serie #inspecionando"
   ]
  },
  {
   "cell_type": "code",
   "execution_count": 149,
   "metadata": {},
   "outputs": [
    {
     "data": {
      "text/plain": [
       "pandas.core.series.Series"
      ]
     },
     "execution_count": 149,
     "metadata": {},
     "output_type": "execute_result"
    }
   ],
   "source": [
    "type(serie) #verificando tipo de dado"
   ]
  },
  {
   "cell_type": "markdown",
   "metadata": {},
   "source": [
    "**Acessando pelos índices**"
   ]
  },
  {
   "cell_type": "code",
   "execution_count": 151,
   "metadata": {},
   "outputs": [
    {
     "data": {
      "text/plain": [
       "40"
      ]
     },
     "execution_count": 151,
     "metadata": {},
     "output_type": "execute_result"
    }
   ],
   "source": [
    "serie[3] #acessando pelo índice"
   ]
  },
  {
   "cell_type": "code",
   "execution_count": 152,
   "metadata": {},
   "outputs": [
    {
     "data": {
      "text/plain": [
       "0    10\n",
       "1    20\n",
       "2    30\n",
       "3    40\n",
       "dtype: int64"
      ]
     },
     "execution_count": 152,
     "metadata": {},
     "output_type": "execute_result"
    }
   ],
   "source": [
    "serie[0:4] #slicing"
   ]
  },
  {
   "cell_type": "markdown",
   "metadata": {},
   "source": [
    "**Series com índices personalizados**"
   ]
  },
  {
   "cell_type": "code",
   "execution_count": 154,
   "metadata": {},
   "outputs": [],
   "source": [
    "labels = ['João', 'Maria', 'Pedro', 'Júlia'] #criando os índices\n",
    "idades = [27, 22, 33, 41] #criando os dados\n",
    "serie2 = pd.Series(data=idades, index=labels) #criando o pandas Series"
   ]
  },
  {
   "cell_type": "code",
   "execution_count": 155,
   "metadata": {},
   "outputs": [
    {
     "data": {
      "text/plain": [
       "João     27\n",
       "Maria    22\n",
       "Pedro    33\n",
       "Júlia    41\n",
       "dtype: int64"
      ]
     },
     "execution_count": 155,
     "metadata": {},
     "output_type": "execute_result"
    }
   ],
   "source": [
    "serie2 #inspecionando"
   ]
  },
  {
   "cell_type": "code",
   "execution_count": 156,
   "metadata": {},
   "outputs": [
    {
     "data": {
      "text/plain": [
       "27"
      ]
     },
     "execution_count": 156,
     "metadata": {},
     "output_type": "execute_result"
    }
   ],
   "source": [
    "serie2['João'] #acessando "
   ]
  },
  {
   "cell_type": "code",
   "execution_count": 157,
   "metadata": {},
   "outputs": [
    {
     "data": {
      "text/plain": [
       "João     27\n",
       "Maria    22\n",
       "Pedro    33\n",
       "dtype: int64"
      ]
     },
     "execution_count": 157,
     "metadata": {},
     "output_type": "execute_result"
    }
   ],
   "source": [
    "serie2['João':'Pedro'] #slicing"
   ]
  },
  {
   "cell_type": "markdown",
   "metadata": {},
   "source": [
    "**Series com dicionários**"
   ]
  },
  {
   "cell_type": "code",
   "execution_count": 158,
   "metadata": {},
   "outputs": [
    {
     "data": {
      "text/plain": [
       "João     27\n",
       "Júlia    41\n",
       "Maria    22\n",
       "Pedro    33\n",
       "dtype: int64"
      ]
     },
     "execution_count": 158,
     "metadata": {},
     "output_type": "execute_result"
    }
   ],
   "source": [
    "dic = {'João':27, 'Maria':22, 'Pedro':33, 'Júlia':41} #criando dados usando dicionário\n",
    "pd.Series(dic) #criando pandas Series a partir do dicionário"
   ]
  },
  {
   "cell_type": "markdown",
   "metadata": {},
   "source": [
    "**Operações com Series**"
   ]
  },
  {
   "cell_type": "code",
   "execution_count": 161,
   "metadata": {},
   "outputs": [],
   "source": [
    "#criando dicionários\n",
    "dic1 = {'Brasil':10, 'EUA':10, 'Japão':10}\n",
    "dic2 = {'Brasil':42, 'Bolívia':84, 'Japão':77}\n",
    "\n",
    "#transformando dicionários em 'pandas Series'\n",
    "serie1 = pd.Series(dic1)\n",
    "serie2 = pd.Series(dic2)"
   ]
  },
  {
   "cell_type": "code",
   "execution_count": 163,
   "metadata": {},
   "outputs": [
    {
     "data": {
      "text/plain": [
       "Brasil    10\n",
       "EUA       10\n",
       "Japão     10\n",
       "dtype: int64"
      ]
     },
     "execution_count": 163,
     "metadata": {},
     "output_type": "execute_result"
    }
   ],
   "source": [
    "serie1 #inspecionando"
   ]
  },
  {
   "cell_type": "code",
   "execution_count": 164,
   "metadata": {},
   "outputs": [
    {
     "data": {
      "text/plain": [
       "Bolívia    84\n",
       "Brasil     42\n",
       "Japão      77\n",
       "dtype: int64"
      ]
     },
     "execution_count": 164,
     "metadata": {},
     "output_type": "execute_result"
    }
   ],
   "source": [
    "serie2 #inspecionando"
   ]
  },
  {
   "cell_type": "code",
   "execution_count": 162,
   "metadata": {},
   "outputs": [
    {
     "data": {
      "text/plain": [
       "Bolívia     NaN\n",
       "Brasil     52.0\n",
       "EUA         NaN\n",
       "Japão      87.0\n",
       "dtype: float64"
      ]
     },
     "execution_count": 162,
     "metadata": {},
     "output_type": "execute_result"
    }
   ],
   "source": [
    "serie1 + serie2 #realizando operação"
   ]
  },
  {
   "cell_type": "markdown",
   "metadata": {},
   "source": [
    "**Analisando categorias nos dados**"
   ]
  },
  {
   "cell_type": "code",
   "execution_count": 165,
   "metadata": {},
   "outputs": [],
   "source": [
    "serie3 = pd.Series(['João', 'Maria', 'Pedro', 'Júlia', 'Maria', 'Pedro']) #criando serie de dados"
   ]
  },
  {
   "cell_type": "code",
   "execution_count": 166,
   "metadata": {},
   "outputs": [
    {
     "data": {
      "text/plain": [
       "array(['João', 'Maria', 'Pedro', 'Júlia'], dtype=object)"
      ]
     },
     "execution_count": 166,
     "metadata": {},
     "output_type": "execute_result"
    }
   ],
   "source": [
    "#retorna quais são os itens existentes\n",
    "serie3.unique()"
   ]
  },
  {
   "cell_type": "code",
   "execution_count": 167,
   "metadata": {},
   "outputs": [
    {
     "data": {
      "text/plain": [
       "Pedro    2\n",
       "Maria    2\n",
       "Júlia    1\n",
       "João     1\n",
       "dtype: int64"
      ]
     },
     "execution_count": 167,
     "metadata": {},
     "output_type": "execute_result"
    }
   ],
   "source": [
    "#contando esses valores\n",
    "serie3.value_counts()"
   ]
  },
  {
   "cell_type": "code",
   "execution_count": 174,
   "metadata": {},
   "outputs": [
    {
     "data": {
      "image/png": "[encoded data removed]",
      "text/plain": [
       "<Figure size 432x288 with 1 Axes>"
      ]
     },
     "metadata": {
      "needs_background": "light"
     },
     "output_type": "display_data"
    }
   ],
   "source": [
    "#fazendo um gráfico\n",
    "serie3.value_counts().plot.bar();"
   ]
  },
  {
   "cell_type": "markdown",
   "metadata": {},
   "source": [
    "**Verificando valores na `Serie`**"
   ]
  },
  {
   "cell_type": "code",
   "execution_count": 177,
   "metadata": {},
   "outputs": [
    {
     "data": {
      "text/plain": [
       "0     João\n",
       "1    Maria\n",
       "2    Pedro\n",
       "3    Júlia\n",
       "4    Maria\n",
       "5    Pedro\n",
       "dtype: object"
      ]
     },
     "execution_count": 177,
     "metadata": {},
     "output_type": "execute_result"
    }
   ],
   "source": [
    "serie3 #inspecionando Serie"
   ]
  },
  {
   "cell_type": "code",
   "execution_count": 175,
   "metadata": {},
   "outputs": [],
   "source": [
    "bool_list = serie3.isin(['Maria']) #checando se `Maria` está entre os dados"
   ]
  },
  {
   "cell_type": "code",
   "execution_count": 176,
   "metadata": {},
   "outputs": [
    {
     "data": {
      "text/plain": [
       "0    False\n",
       "1     True\n",
       "2    False\n",
       "3    False\n",
       "4     True\n",
       "5    False\n",
       "dtype: bool"
      ]
     },
     "execution_count": 176,
     "metadata": {},
     "output_type": "execute_result"
    }
   ],
   "source": [
    "bool_list #inspecionando resultados"
   ]
  },
  {
   "cell_type": "code",
   "execution_count": 178,
   "metadata": {},
   "outputs": [],
   "source": [
    "bool_list = serie3.isin(['Maria', 'Pedro']) #checando multiplos valores"
   ]
  },
  {
   "cell_type": "code",
   "execution_count": 179,
   "metadata": {},
   "outputs": [
    {
     "data": {
      "text/plain": [
       "0    False\n",
       "1     True\n",
       "2     True\n",
       "3    False\n",
       "4     True\n",
       "5     True\n",
       "dtype: bool"
      ]
     },
     "execution_count": 179,
     "metadata": {},
     "output_type": "execute_result"
    }
   ],
   "source": [
    "bool_list #inspecionando"
   ]
  },
  {
   "cell_type": "code",
   "execution_count": 180,
   "metadata": {},
   "outputs": [
    {
     "data": {
      "text/plain": [
       "1    Maria\n",
       "2    Pedro\n",
       "4    Maria\n",
       "5    Pedro\n",
       "dtype: object"
      ]
     },
     "execution_count": 180,
     "metadata": {},
     "output_type": "execute_result"
    }
   ],
   "source": [
    "serie3[bool_list] #usando como filtro"
   ]
  },
  {
   "cell_type": "markdown",
   "metadata": {},
   "source": [
    "### DataFrame"
   ]
  },
  {
   "cell_type": "code",
   "execution_count": 43,
   "metadata": {},
   "outputs": [],
   "source": [
    "lista6 = np.random.rand(5,3) #criando matriz de dados aleatórios (entre 0 e 1)"
   ]
  },
  {
   "cell_type": "code",
   "execution_count": 44,
   "metadata": {},
   "outputs": [
    {
     "data": {
      "text/plain": [
       "array([[0.47570436, 0.25026132, 0.39682147],\n",
       "       [0.89984901, 0.7672462 , 0.50628882],\n",
       "       [0.21211832, 0.92615548, 0.10085193],\n",
       "       [0.05061042, 0.76742943, 0.6844791 ],\n",
       "       [0.8753118 , 0.4802096 , 0.38378824]])"
      ]
     },
     "execution_count": 44,
     "metadata": {},
     "output_type": "execute_result"
    }
   ],
   "source": [
    "lista6 #inspecionando"
   ]
  },
  {
   "cell_type": "code",
   "execution_count": 47,
   "metadata": {},
   "outputs": [],
   "source": [
    "index = ['a', 'b', 'c', 'd', 'e'] #criando índices\n",
    "colunas = ['x', 'y', 'z'] #criando colunas\n",
    "dataFrame = pd.DataFrame(data=lista6, index=index, columns=colunas) #criando dataframe"
   ]
  },
  {
   "cell_type": "code",
   "execution_count": 48,
   "metadata": {},
   "outputs": [
    {
     "data": {
      "text/html": [
       "<div>\n",
       "<style scoped>\n",
       "    .dataframe tbody tr th:only-of-type {\n",
       "        vertical-align: middle;\n",
       "    }\n",
       "\n",
       "    .dataframe tbody tr th {\n",
       "        vertical-align: top;\n",
       "    }\n",
       "\n",
       "    .dataframe thead th {\n",
       "        text-align: right;\n",
       "    }\n",
       "</style>\n",
       "<table border=\"1\" class=\"dataframe\">\n",
       "  <thead>\n",
       "    <tr style=\"text-align: right;\">\n",
       "      <th></th>\n",
       "      <th>x</th>\n",
       "      <th>y</th>\n",
       "      <th>z</th>\n",
       "    </tr>\n",
       "  </thead>\n",
       "  <tbody>\n",
       "    <tr>\n",
       "      <th>a</th>\n",
       "      <td>0.475704</td>\n",
       "      <td>0.250261</td>\n",
       "      <td>0.396821</td>\n",
       "    </tr>\n",
       "    <tr>\n",
       "      <th>b</th>\n",
       "      <td>0.899849</td>\n",
       "      <td>0.767246</td>\n",
       "      <td>0.506289</td>\n",
       "    </tr>\n",
       "    <tr>\n",
       "      <th>c</th>\n",
       "      <td>0.212118</td>\n",
       "      <td>0.926155</td>\n",
       "      <td>0.100852</td>\n",
       "    </tr>\n",
       "    <tr>\n",
       "      <th>d</th>\n",
       "      <td>0.050610</td>\n",
       "      <td>0.767429</td>\n",
       "      <td>0.684479</td>\n",
       "    </tr>\n",
       "    <tr>\n",
       "      <th>e</th>\n",
       "      <td>0.875312</td>\n",
       "      <td>0.480210</td>\n",
       "      <td>0.383788</td>\n",
       "    </tr>\n",
       "  </tbody>\n",
       "</table>\n",
       "</div>"
      ],
      "text/plain": [
       "          x         y         z\n",
       "a  0.475704  0.250261  0.396821\n",
       "b  0.899849  0.767246  0.506289\n",
       "c  0.212118  0.926155  0.100852\n",
       "d  0.050610  0.767429  0.684479\n",
       "e  0.875312  0.480210  0.383788"
      ]
     },
     "execution_count": 48,
     "metadata": {},
     "output_type": "execute_result"
    }
   ],
   "source": [
    "dataFrame #inspecionando"
   ]
  },
  {
   "cell_type": "code",
   "execution_count": 49,
   "metadata": {},
   "outputs": [
    {
     "data": {
      "text/plain": [
       "a    0.475704\n",
       "b    0.899849\n",
       "c    0.212118\n",
       "d    0.050610\n",
       "e    0.875312\n",
       "Name: x, dtype: float64"
      ]
     },
     "execution_count": 49,
     "metadata": {},
     "output_type": "execute_result"
    }
   ],
   "source": [
    "dataFrame['x'] #apenas a coluna `x`"
   ]
  },
  {
   "cell_type": "code",
   "execution_count": 50,
   "metadata": {},
   "outputs": [
    {
     "data": {
      "text/html": [
       "<div>\n",
       "<style scoped>\n",
       "    .dataframe tbody tr th:only-of-type {\n",
       "        vertical-align: middle;\n",
       "    }\n",
       "\n",
       "    .dataframe tbody tr th {\n",
       "        vertical-align: top;\n",
       "    }\n",
       "\n",
       "    .dataframe thead th {\n",
       "        text-align: right;\n",
       "    }\n",
       "</style>\n",
       "<table border=\"1\" class=\"dataframe\">\n",
       "  <thead>\n",
       "    <tr style=\"text-align: right;\">\n",
       "      <th></th>\n",
       "      <th>x</th>\n",
       "      <th>y</th>\n",
       "    </tr>\n",
       "  </thead>\n",
       "  <tbody>\n",
       "    <tr>\n",
       "      <th>a</th>\n",
       "      <td>0.475704</td>\n",
       "      <td>0.250261</td>\n",
       "    </tr>\n",
       "    <tr>\n",
       "      <th>b</th>\n",
       "      <td>0.899849</td>\n",
       "      <td>0.767246</td>\n",
       "    </tr>\n",
       "    <tr>\n",
       "      <th>c</th>\n",
       "      <td>0.212118</td>\n",
       "      <td>0.926155</td>\n",
       "    </tr>\n",
       "    <tr>\n",
       "      <th>d</th>\n",
       "      <td>0.050610</td>\n",
       "      <td>0.767429</td>\n",
       "    </tr>\n",
       "    <tr>\n",
       "      <th>e</th>\n",
       "      <td>0.875312</td>\n",
       "      <td>0.480210</td>\n",
       "    </tr>\n",
       "  </tbody>\n",
       "</table>\n",
       "</div>"
      ],
      "text/plain": [
       "          x         y\n",
       "a  0.475704  0.250261\n",
       "b  0.899849  0.767246\n",
       "c  0.212118  0.926155\n",
       "d  0.050610  0.767429\n",
       "e  0.875312  0.480210"
      ]
     },
     "execution_count": 50,
     "metadata": {},
     "output_type": "execute_result"
    }
   ],
   "source": [
    "dataFrame[['x','y']] #colunas `x` e `y` (aqui, observe o uso da lista!)"
   ]
  },
  {
   "cell_type": "code",
   "execution_count": 51,
   "metadata": {},
   "outputs": [
    {
     "data": {
      "text/plain": [
       "0.5062888211906306"
      ]
     },
     "execution_count": 51,
     "metadata": {},
     "output_type": "execute_result"
    }
   ],
   "source": [
    "dataFrame['z']['b'] #pegando um valor especifico #REFERENCIA: [coluna][linha]"
   ]
  },
  {
   "cell_type": "code",
   "execution_count": 52,
   "metadata": {},
   "outputs": [
    {
     "data": {
      "text/plain": [
       "x    0.475704\n",
       "y    0.250261\n",
       "z    0.396821\n",
       "Name: a, dtype: float64"
      ]
     },
     "execution_count": 52,
     "metadata": {},
     "output_type": "execute_result"
    }
   ],
   "source": [
    "#loc = acessar pelo index da linha\n",
    "dataFrame.loc['a'] "
   ]
  },
  {
   "cell_type": "code",
   "execution_count": 53,
   "metadata": {},
   "outputs": [
    {
     "data": {
      "text/plain": [
       "x    0.475704\n",
       "y    0.250261\n",
       "z    0.396821\n",
       "Name: a, dtype: float64"
      ]
     },
     "execution_count": 53,
     "metadata": {},
     "output_type": "execute_result"
    }
   ],
   "source": [
    "#loc = acessar pela posição da linha\n",
    "dataFrame.iloc[0]"
   ]
  },
  {
   "cell_type": "code",
   "execution_count": 56,
   "metadata": {},
   "outputs": [
    {
     "data": {
      "text/plain": [
       "0.5062888211906306"
      ]
     },
     "execution_count": 56,
     "metadata": {},
     "output_type": "execute_result"
    }
   ],
   "source": [
    "#loc = acessar combinando linha e coluna\n",
    "dataFrame.loc['b','z'] "
   ]
  },
  {
   "cell_type": "code",
   "execution_count": 199,
   "metadata": {},
   "outputs": [
    {
     "data": {
      "text/html": [
       "<div>\n",
       "<style scoped>\n",
       "    .dataframe tbody tr th:only-of-type {\n",
       "        vertical-align: middle;\n",
       "    }\n",
       "\n",
       "    .dataframe tbody tr th {\n",
       "        vertical-align: top;\n",
       "    }\n",
       "\n",
       "    .dataframe thead th {\n",
       "        text-align: right;\n",
       "    }\n",
       "</style>\n",
       "<table border=\"1\" class=\"dataframe\">\n",
       "  <thead>\n",
       "    <tr style=\"text-align: right;\">\n",
       "      <th></th>\n",
       "      <th>x</th>\n",
       "      <th>z</th>\n",
       "    </tr>\n",
       "  </thead>\n",
       "  <tbody>\n",
       "    <tr>\n",
       "      <th>a</th>\n",
       "      <td>0.031934</td>\n",
       "      <td>0.540504</td>\n",
       "    </tr>\n",
       "    <tr>\n",
       "      <th>b</th>\n",
       "      <td>0.297131</td>\n",
       "      <td>0.305010</td>\n",
       "    </tr>\n",
       "  </tbody>\n",
       "</table>\n",
       "</div>"
      ],
      "text/plain": [
       "          x         z\n",
       "a  0.031934  0.540504\n",
       "b  0.297131  0.305010"
      ]
     },
     "execution_count": 199,
     "metadata": {},
     "output_type": "execute_result"
    }
   ],
   "source": [
    "#acessando múltiplas linhas e múltiplas colunas\n",
    "dataFrame.loc[['a','b'] ,['x','z']]"
   ]
  },
  {
   "cell_type": "code",
   "execution_count": 201,
   "metadata": {},
   "outputs": [],
   "source": [
    "#criando nova coluna e preenchendo com a soma das colunas `x` e `y`\n",
    "dataFrame['nova_col'] = dataFrame['x'] + dataFrame['y']"
   ]
  },
  {
   "cell_type": "code",
   "execution_count": 202,
   "metadata": {},
   "outputs": [
    {
     "data": {
      "text/html": [
       "<div>\n",
       "<style scoped>\n",
       "    .dataframe tbody tr th:only-of-type {\n",
       "        vertical-align: middle;\n",
       "    }\n",
       "\n",
       "    .dataframe tbody tr th {\n",
       "        vertical-align: top;\n",
       "    }\n",
       "\n",
       "    .dataframe thead th {\n",
       "        text-align: right;\n",
       "    }\n",
       "</style>\n",
       "<table border=\"1\" class=\"dataframe\">\n",
       "  <thead>\n",
       "    <tr style=\"text-align: right;\">\n",
       "      <th></th>\n",
       "      <th>x</th>\n",
       "      <th>y</th>\n",
       "      <th>z</th>\n",
       "      <th>nova_col</th>\n",
       "    </tr>\n",
       "  </thead>\n",
       "  <tbody>\n",
       "    <tr>\n",
       "      <th>a</th>\n",
       "      <td>0.031934</td>\n",
       "      <td>0.734420</td>\n",
       "      <td>0.540504</td>\n",
       "      <td>0.766354</td>\n",
       "    </tr>\n",
       "    <tr>\n",
       "      <th>b</th>\n",
       "      <td>0.297131</td>\n",
       "      <td>0.768773</td>\n",
       "      <td>0.305010</td>\n",
       "      <td>1.065904</td>\n",
       "    </tr>\n",
       "    <tr>\n",
       "      <th>c</th>\n",
       "      <td>0.715241</td>\n",
       "      <td>0.880444</td>\n",
       "      <td>0.846568</td>\n",
       "      <td>1.595685</td>\n",
       "    </tr>\n",
       "    <tr>\n",
       "      <th>d</th>\n",
       "      <td>0.417245</td>\n",
       "      <td>0.520247</td>\n",
       "      <td>0.728551</td>\n",
       "      <td>0.937492</td>\n",
       "    </tr>\n",
       "    <tr>\n",
       "      <th>e</th>\n",
       "      <td>0.955396</td>\n",
       "      <td>0.518075</td>\n",
       "      <td>0.567923</td>\n",
       "      <td>1.473471</td>\n",
       "    </tr>\n",
       "  </tbody>\n",
       "</table>\n",
       "</div>"
      ],
      "text/plain": [
       "          x         y         z  nova_col\n",
       "a  0.031934  0.734420  0.540504  0.766354\n",
       "b  0.297131  0.768773  0.305010  1.065904\n",
       "c  0.715241  0.880444  0.846568  1.595685\n",
       "d  0.417245  0.520247  0.728551  0.937492\n",
       "e  0.955396  0.518075  0.567923  1.473471"
      ]
     },
     "execution_count": 202,
     "metadata": {},
     "output_type": "execute_result"
    }
   ],
   "source": [
    "dataFrame #inspecionando"
   ]
  },
  {
   "cell_type": "code",
   "execution_count": 206,
   "metadata": {},
   "outputs": [
    {
     "data": {
      "text/html": [
       "<div>\n",
       "<style scoped>\n",
       "    .dataframe tbody tr th:only-of-type {\n",
       "        vertical-align: middle;\n",
       "    }\n",
       "\n",
       "    .dataframe tbody tr th {\n",
       "        vertical-align: top;\n",
       "    }\n",
       "\n",
       "    .dataframe thead th {\n",
       "        text-align: right;\n",
       "    }\n",
       "</style>\n",
       "<table border=\"1\" class=\"dataframe\">\n",
       "  <thead>\n",
       "    <tr style=\"text-align: right;\">\n",
       "      <th></th>\n",
       "      <th>x</th>\n",
       "      <th>y</th>\n",
       "      <th>z</th>\n",
       "    </tr>\n",
       "  </thead>\n",
       "  <tbody>\n",
       "    <tr>\n",
       "      <th>a</th>\n",
       "      <td>0.031934</td>\n",
       "      <td>0.734420</td>\n",
       "      <td>0.540504</td>\n",
       "    </tr>\n",
       "    <tr>\n",
       "      <th>b</th>\n",
       "      <td>0.297131</td>\n",
       "      <td>0.768773</td>\n",
       "      <td>0.305010</td>\n",
       "    </tr>\n",
       "    <tr>\n",
       "      <th>c</th>\n",
       "      <td>0.715241</td>\n",
       "      <td>0.880444</td>\n",
       "      <td>0.846568</td>\n",
       "    </tr>\n",
       "    <tr>\n",
       "      <th>d</th>\n",
       "      <td>0.417245</td>\n",
       "      <td>0.520247</td>\n",
       "      <td>0.728551</td>\n",
       "    </tr>\n",
       "    <tr>\n",
       "      <th>e</th>\n",
       "      <td>0.955396</td>\n",
       "      <td>0.518075</td>\n",
       "      <td>0.567923</td>\n",
       "    </tr>\n",
       "  </tbody>\n",
       "</table>\n",
       "</div>"
      ],
      "text/plain": [
       "          x         y         z\n",
       "a  0.031934  0.734420  0.540504\n",
       "b  0.297131  0.768773  0.305010\n",
       "c  0.715241  0.880444  0.846568\n",
       "d  0.417245  0.520247  0.728551\n",
       "e  0.955396  0.518075  0.567923"
      ]
     },
     "execution_count": 206,
     "metadata": {},
     "output_type": "execute_result"
    }
   ],
   "source": [
    "#eliminando uma coluna (obs.: axis=1 é para trabalharmos com colunas; axis=0 é para trabalharmos com linhas)\n",
    "dataFrame.drop('nova_col', axis=1)"
   ]
  },
  {
   "cell_type": "code",
   "execution_count": 207,
   "metadata": {},
   "outputs": [
    {
     "data": {
      "text/html": [
       "<div>\n",
       "<style scoped>\n",
       "    .dataframe tbody tr th:only-of-type {\n",
       "        vertical-align: middle;\n",
       "    }\n",
       "\n",
       "    .dataframe tbody tr th {\n",
       "        vertical-align: top;\n",
       "    }\n",
       "\n",
       "    .dataframe thead th {\n",
       "        text-align: right;\n",
       "    }\n",
       "</style>\n",
       "<table border=\"1\" class=\"dataframe\">\n",
       "  <thead>\n",
       "    <tr style=\"text-align: right;\">\n",
       "      <th></th>\n",
       "      <th>x</th>\n",
       "      <th>y</th>\n",
       "      <th>z</th>\n",
       "      <th>nova_col</th>\n",
       "    </tr>\n",
       "  </thead>\n",
       "  <tbody>\n",
       "    <tr>\n",
       "      <th>a</th>\n",
       "      <td>0.031934</td>\n",
       "      <td>0.734420</td>\n",
       "      <td>0.540504</td>\n",
       "      <td>0.766354</td>\n",
       "    </tr>\n",
       "    <tr>\n",
       "      <th>b</th>\n",
       "      <td>0.297131</td>\n",
       "      <td>0.768773</td>\n",
       "      <td>0.305010</td>\n",
       "      <td>1.065904</td>\n",
       "    </tr>\n",
       "    <tr>\n",
       "      <th>c</th>\n",
       "      <td>0.715241</td>\n",
       "      <td>0.880444</td>\n",
       "      <td>0.846568</td>\n",
       "      <td>1.595685</td>\n",
       "    </tr>\n",
       "    <tr>\n",
       "      <th>d</th>\n",
       "      <td>0.417245</td>\n",
       "      <td>0.520247</td>\n",
       "      <td>0.728551</td>\n",
       "      <td>0.937492</td>\n",
       "    </tr>\n",
       "    <tr>\n",
       "      <th>e</th>\n",
       "      <td>0.955396</td>\n",
       "      <td>0.518075</td>\n",
       "      <td>0.567923</td>\n",
       "      <td>1.473471</td>\n",
       "    </tr>\n",
       "  </tbody>\n",
       "</table>\n",
       "</div>"
      ],
      "text/plain": [
       "          x         y         z  nova_col\n",
       "a  0.031934  0.734420  0.540504  0.766354\n",
       "b  0.297131  0.768773  0.305010  1.065904\n",
       "c  0.715241  0.880444  0.846568  1.595685\n",
       "d  0.417245  0.520247  0.728551  0.937492\n",
       "e  0.955396  0.518075  0.567923  1.473471"
      ]
     },
     "execution_count": 207,
     "metadata": {},
     "output_type": "execute_result"
    }
   ],
   "source": [
    "dataFrame #inspecionando"
   ]
  },
  {
   "cell_type": "code",
   "execution_count": 208,
   "metadata": {},
   "outputs": [],
   "source": [
    "#eliminando uma coluna alterando o dataframe original\n",
    "dataFrame.drop('nova_col', axis=1, inplace=True)"
   ]
  },
  {
   "cell_type": "code",
   "execution_count": 209,
   "metadata": {},
   "outputs": [
    {
     "data": {
      "text/html": [
       "<div>\n",
       "<style scoped>\n",
       "    .dataframe tbody tr th:only-of-type {\n",
       "        vertical-align: middle;\n",
       "    }\n",
       "\n",
       "    .dataframe tbody tr th {\n",
       "        vertical-align: top;\n",
       "    }\n",
       "\n",
       "    .dataframe thead th {\n",
       "        text-align: right;\n",
       "    }\n",
       "</style>\n",
       "<table border=\"1\" class=\"dataframe\">\n",
       "  <thead>\n",
       "    <tr style=\"text-align: right;\">\n",
       "      <th></th>\n",
       "      <th>x</th>\n",
       "      <th>y</th>\n",
       "      <th>z</th>\n",
       "    </tr>\n",
       "  </thead>\n",
       "  <tbody>\n",
       "    <tr>\n",
       "      <th>a</th>\n",
       "      <td>0.031934</td>\n",
       "      <td>0.734420</td>\n",
       "      <td>0.540504</td>\n",
       "    </tr>\n",
       "    <tr>\n",
       "      <th>b</th>\n",
       "      <td>0.297131</td>\n",
       "      <td>0.768773</td>\n",
       "      <td>0.305010</td>\n",
       "    </tr>\n",
       "    <tr>\n",
       "      <th>c</th>\n",
       "      <td>0.715241</td>\n",
       "      <td>0.880444</td>\n",
       "      <td>0.846568</td>\n",
       "    </tr>\n",
       "    <tr>\n",
       "      <th>d</th>\n",
       "      <td>0.417245</td>\n",
       "      <td>0.520247</td>\n",
       "      <td>0.728551</td>\n",
       "    </tr>\n",
       "    <tr>\n",
       "      <th>e</th>\n",
       "      <td>0.955396</td>\n",
       "      <td>0.518075</td>\n",
       "      <td>0.567923</td>\n",
       "    </tr>\n",
       "  </tbody>\n",
       "</table>\n",
       "</div>"
      ],
      "text/plain": [
       "          x         y         z\n",
       "a  0.031934  0.734420  0.540504\n",
       "b  0.297131  0.768773  0.305010\n",
       "c  0.715241  0.880444  0.846568\n",
       "d  0.417245  0.520247  0.728551\n",
       "e  0.955396  0.518075  0.567923"
      ]
     },
     "execution_count": 209,
     "metadata": {},
     "output_type": "execute_result"
    }
   ],
   "source": [
    "dataFrame #inspecionando"
   ]
  },
  {
   "cell_type": "code",
   "execution_count": 210,
   "metadata": {},
   "outputs": [
    {
     "data": {
      "text/html": [
       "<div>\n",
       "<style scoped>\n",
       "    .dataframe tbody tr th:only-of-type {\n",
       "        vertical-align: middle;\n",
       "    }\n",
       "\n",
       "    .dataframe tbody tr th {\n",
       "        vertical-align: top;\n",
       "    }\n",
       "\n",
       "    .dataframe thead th {\n",
       "        text-align: right;\n",
       "    }\n",
       "</style>\n",
       "<table border=\"1\" class=\"dataframe\">\n",
       "  <thead>\n",
       "    <tr style=\"text-align: right;\">\n",
       "      <th></th>\n",
       "      <th>x</th>\n",
       "      <th>y</th>\n",
       "      <th>z</th>\n",
       "    </tr>\n",
       "  </thead>\n",
       "  <tbody>\n",
       "    <tr>\n",
       "      <th>a</th>\n",
       "      <td>0.031934</td>\n",
       "      <td>0.734420</td>\n",
       "      <td>0.540504</td>\n",
       "    </tr>\n",
       "    <tr>\n",
       "      <th>b</th>\n",
       "      <td>0.297131</td>\n",
       "      <td>0.768773</td>\n",
       "      <td>0.305010</td>\n",
       "    </tr>\n",
       "    <tr>\n",
       "      <th>c</th>\n",
       "      <td>0.715241</td>\n",
       "      <td>0.880444</td>\n",
       "      <td>0.846568</td>\n",
       "    </tr>\n",
       "    <tr>\n",
       "      <th>d</th>\n",
       "      <td>0.417245</td>\n",
       "      <td>0.520247</td>\n",
       "      <td>0.728551</td>\n",
       "    </tr>\n",
       "  </tbody>\n",
       "</table>\n",
       "</div>"
      ],
      "text/plain": [
       "          x         y         z\n",
       "a  0.031934  0.734420  0.540504\n",
       "b  0.297131  0.768773  0.305010\n",
       "c  0.715241  0.880444  0.846568\n",
       "d  0.417245  0.520247  0.728551"
      ]
     },
     "execution_count": 210,
     "metadata": {},
     "output_type": "execute_result"
    }
   ],
   "source": [
    "dataFrame.drop('e', axis=0) #eliminando uma linha"
   ]
  },
  {
   "cell_type": "code",
   "execution_count": 217,
   "metadata": {},
   "outputs": [
    {
     "data": {
      "text/html": [
       "<div>\n",
       "<style scoped>\n",
       "    .dataframe tbody tr th:only-of-type {\n",
       "        vertical-align: middle;\n",
       "    }\n",
       "\n",
       "    .dataframe tbody tr th {\n",
       "        vertical-align: top;\n",
       "    }\n",
       "\n",
       "    .dataframe thead th {\n",
       "        text-align: right;\n",
       "    }\n",
       "</style>\n",
       "<table border=\"1\" class=\"dataframe\">\n",
       "  <thead>\n",
       "    <tr style=\"text-align: right;\">\n",
       "      <th></th>\n",
       "      <th>x</th>\n",
       "      <th>y</th>\n",
       "      <th>z</th>\n",
       "    </tr>\n",
       "  </thead>\n",
       "  <tbody>\n",
       "    <tr>\n",
       "      <th>a</th>\n",
       "      <td>False</td>\n",
       "      <td>True</td>\n",
       "      <td>True</td>\n",
       "    </tr>\n",
       "    <tr>\n",
       "      <th>b</th>\n",
       "      <td>False</td>\n",
       "      <td>True</td>\n",
       "      <td>False</td>\n",
       "    </tr>\n",
       "    <tr>\n",
       "      <th>c</th>\n",
       "      <td>True</td>\n",
       "      <td>True</td>\n",
       "      <td>True</td>\n",
       "    </tr>\n",
       "    <tr>\n",
       "      <th>d</th>\n",
       "      <td>False</td>\n",
       "      <td>True</td>\n",
       "      <td>True</td>\n",
       "    </tr>\n",
       "    <tr>\n",
       "      <th>e</th>\n",
       "      <td>True</td>\n",
       "      <td>True</td>\n",
       "      <td>True</td>\n",
       "    </tr>\n",
       "  </tbody>\n",
       "</table>\n",
       "</div>"
      ],
      "text/plain": [
       "       x     y      z\n",
       "a  False  True   True\n",
       "b  False  True  False\n",
       "c   True  True   True\n",
       "d  False  True   True\n",
       "e   True  True   True"
      ]
     },
     "execution_count": 217,
     "metadata": {},
     "output_type": "execute_result"
    }
   ],
   "source": [
    "dataFrame > 0.5 #verificando valores do dataframe a partir de uma condição"
   ]
  },
  {
   "cell_type": "code",
   "execution_count": 219,
   "metadata": {},
   "outputs": [
    {
     "data": {
      "text/html": [
       "<div>\n",
       "<style scoped>\n",
       "    .dataframe tbody tr th:only-of-type {\n",
       "        vertical-align: middle;\n",
       "    }\n",
       "\n",
       "    .dataframe tbody tr th {\n",
       "        vertical-align: top;\n",
       "    }\n",
       "\n",
       "    .dataframe thead th {\n",
       "        text-align: right;\n",
       "    }\n",
       "</style>\n",
       "<table border=\"1\" class=\"dataframe\">\n",
       "  <thead>\n",
       "    <tr style=\"text-align: right;\">\n",
       "      <th></th>\n",
       "      <th>x</th>\n",
       "      <th>y</th>\n",
       "      <th>z</th>\n",
       "    </tr>\n",
       "  </thead>\n",
       "  <tbody>\n",
       "    <tr>\n",
       "      <th>a</th>\n",
       "      <td>NaN</td>\n",
       "      <td>0.734420</td>\n",
       "      <td>0.540504</td>\n",
       "    </tr>\n",
       "    <tr>\n",
       "      <th>b</th>\n",
       "      <td>NaN</td>\n",
       "      <td>0.768773</td>\n",
       "      <td>NaN</td>\n",
       "    </tr>\n",
       "    <tr>\n",
       "      <th>c</th>\n",
       "      <td>0.715241</td>\n",
       "      <td>0.880444</td>\n",
       "      <td>0.846568</td>\n",
       "    </tr>\n",
       "    <tr>\n",
       "      <th>d</th>\n",
       "      <td>NaN</td>\n",
       "      <td>0.520247</td>\n",
       "      <td>0.728551</td>\n",
       "    </tr>\n",
       "    <tr>\n",
       "      <th>e</th>\n",
       "      <td>0.955396</td>\n",
       "      <td>0.518075</td>\n",
       "      <td>0.567923</td>\n",
       "    </tr>\n",
       "  </tbody>\n",
       "</table>\n",
       "</div>"
      ],
      "text/plain": [
       "          x         y         z\n",
       "a       NaN  0.734420  0.540504\n",
       "b       NaN  0.768773       NaN\n",
       "c  0.715241  0.880444  0.846568\n",
       "d       NaN  0.520247  0.728551\n",
       "e  0.955396  0.518075  0.567923"
      ]
     },
     "execution_count": 219,
     "metadata": {},
     "output_type": "execute_result"
    }
   ],
   "source": [
    "filtro = dataFrame > 0.5 #criando umfiltro\n",
    "dataFrame[filtro] #aplicando filtro ao dataframe"
   ]
  },
  {
   "cell_type": "code",
   "execution_count": 221,
   "metadata": {},
   "outputs": [
    {
     "data": {
      "text/html": [
       "<div>\n",
       "<style scoped>\n",
       "    .dataframe tbody tr th:only-of-type {\n",
       "        vertical-align: middle;\n",
       "    }\n",
       "\n",
       "    .dataframe tbody tr th {\n",
       "        vertical-align: top;\n",
       "    }\n",
       "\n",
       "    .dataframe thead th {\n",
       "        text-align: right;\n",
       "    }\n",
       "</style>\n",
       "<table border=\"1\" class=\"dataframe\">\n",
       "  <thead>\n",
       "    <tr style=\"text-align: right;\">\n",
       "      <th></th>\n",
       "      <th>x</th>\n",
       "      <th>y</th>\n",
       "      <th>z</th>\n",
       "    </tr>\n",
       "  </thead>\n",
       "  <tbody>\n",
       "    <tr>\n",
       "      <th>a</th>\n",
       "      <td>0.031934</td>\n",
       "      <td>0.734420</td>\n",
       "      <td>0.540504</td>\n",
       "    </tr>\n",
       "    <tr>\n",
       "      <th>b</th>\n",
       "      <td>0.297131</td>\n",
       "      <td>0.768773</td>\n",
       "      <td>0.305010</td>\n",
       "    </tr>\n",
       "    <tr>\n",
       "      <th>c</th>\n",
       "      <td>0.715241</td>\n",
       "      <td>0.880444</td>\n",
       "      <td>0.846568</td>\n",
       "    </tr>\n",
       "  </tbody>\n",
       "</table>\n",
       "</div>"
      ],
      "text/plain": [
       "          x         y         z\n",
       "a  0.031934  0.734420  0.540504\n",
       "b  0.297131  0.768773  0.305010\n",
       "c  0.715241  0.880444  0.846568"
      ]
     },
     "execution_count": 221,
     "metadata": {},
     "output_type": "execute_result"
    }
   ],
   "source": [
    "#aplicando um filtro a partir de uma coluna de referência\n",
    "dataFrame[dataFrame['y']>0.6]"
   ]
  },
  {
   "cell_type": "code",
   "execution_count": 222,
   "metadata": {},
   "outputs": [
    {
     "data": {
      "text/plain": [
       "a    0.540504\n",
       "b    0.305010\n",
       "c    0.846568\n",
       "Name: z, dtype: float64"
      ]
     },
     "execution_count": 222,
     "metadata": {},
     "output_type": "execute_result"
    }
   ],
   "source": [
    "#aplicando um filtro a partir de uma coluna (`y`) de referência e retornando dados de um outra coluna (`z`)\n",
    "dataFrame[dataFrame['y']>0.6]['z']"
   ]
  },
  {
   "cell_type": "code",
   "execution_count": 223,
   "metadata": {},
   "outputs": [
    {
     "data": {
      "text/html": [
       "<div>\n",
       "<style scoped>\n",
       "    .dataframe tbody tr th:only-of-type {\n",
       "        vertical-align: middle;\n",
       "    }\n",
       "\n",
       "    .dataframe tbody tr th {\n",
       "        vertical-align: top;\n",
       "    }\n",
       "\n",
       "    .dataframe thead th {\n",
       "        text-align: right;\n",
       "    }\n",
       "</style>\n",
       "<table border=\"1\" class=\"dataframe\">\n",
       "  <thead>\n",
       "    <tr style=\"text-align: right;\">\n",
       "      <th></th>\n",
       "      <th>index</th>\n",
       "      <th>x</th>\n",
       "      <th>y</th>\n",
       "      <th>z</th>\n",
       "    </tr>\n",
       "  </thead>\n",
       "  <tbody>\n",
       "    <tr>\n",
       "      <th>0</th>\n",
       "      <td>a</td>\n",
       "      <td>0.031934</td>\n",
       "      <td>0.734420</td>\n",
       "      <td>0.540504</td>\n",
       "    </tr>\n",
       "    <tr>\n",
       "      <th>1</th>\n",
       "      <td>b</td>\n",
       "      <td>0.297131</td>\n",
       "      <td>0.768773</td>\n",
       "      <td>0.305010</td>\n",
       "    </tr>\n",
       "    <tr>\n",
       "      <th>2</th>\n",
       "      <td>c</td>\n",
       "      <td>0.715241</td>\n",
       "      <td>0.880444</td>\n",
       "      <td>0.846568</td>\n",
       "    </tr>\n",
       "    <tr>\n",
       "      <th>3</th>\n",
       "      <td>d</td>\n",
       "      <td>0.417245</td>\n",
       "      <td>0.520247</td>\n",
       "      <td>0.728551</td>\n",
       "    </tr>\n",
       "    <tr>\n",
       "      <th>4</th>\n",
       "      <td>e</td>\n",
       "      <td>0.955396</td>\n",
       "      <td>0.518075</td>\n",
       "      <td>0.567923</td>\n",
       "    </tr>\n",
       "  </tbody>\n",
       "</table>\n",
       "</div>"
      ],
      "text/plain": [
       "  index         x         y         z\n",
       "0     a  0.031934  0.734420  0.540504\n",
       "1     b  0.297131  0.768773  0.305010\n",
       "2     c  0.715241  0.880444  0.846568\n",
       "3     d  0.417245  0.520247  0.728551\n",
       "4     e  0.955396  0.518075  0.567923"
      ]
     },
     "execution_count": 223,
     "metadata": {},
     "output_type": "execute_result"
    }
   ],
   "source": [
    "#reiniciar o índice do dataframe\n",
    "dataFrame.reset_index()"
   ]
  },
  {
   "cell_type": "code",
   "execution_count": 224,
   "metadata": {},
   "outputs": [],
   "source": [
    "dataFrame['nomes'] = ['SP', 'RJ', 'BH', 'SSA', 'NV'] #criando uma colunas de dados\n",
    "dataFrame.set_index('nomes', inplace=True) #passando uma coluna para o índice do dataframe"
   ]
  },
  {
   "cell_type": "code",
   "execution_count": 225,
   "metadata": {},
   "outputs": [
    {
     "data": {
      "text/html": [
       "<div>\n",
       "<style scoped>\n",
       "    .dataframe tbody tr th:only-of-type {\n",
       "        vertical-align: middle;\n",
       "    }\n",
       "\n",
       "    .dataframe tbody tr th {\n",
       "        vertical-align: top;\n",
       "    }\n",
       "\n",
       "    .dataframe thead th {\n",
       "        text-align: right;\n",
       "    }\n",
       "</style>\n",
       "<table border=\"1\" class=\"dataframe\">\n",
       "  <thead>\n",
       "    <tr style=\"text-align: right;\">\n",
       "      <th></th>\n",
       "      <th>x</th>\n",
       "      <th>y</th>\n",
       "      <th>z</th>\n",
       "    </tr>\n",
       "    <tr>\n",
       "      <th>nomes</th>\n",
       "      <th></th>\n",
       "      <th></th>\n",
       "      <th></th>\n",
       "    </tr>\n",
       "  </thead>\n",
       "  <tbody>\n",
       "    <tr>\n",
       "      <th>SP</th>\n",
       "      <td>0.031934</td>\n",
       "      <td>0.734420</td>\n",
       "      <td>0.540504</td>\n",
       "    </tr>\n",
       "    <tr>\n",
       "      <th>RJ</th>\n",
       "      <td>0.297131</td>\n",
       "      <td>0.768773</td>\n",
       "      <td>0.305010</td>\n",
       "    </tr>\n",
       "    <tr>\n",
       "      <th>BH</th>\n",
       "      <td>0.715241</td>\n",
       "      <td>0.880444</td>\n",
       "      <td>0.846568</td>\n",
       "    </tr>\n",
       "    <tr>\n",
       "      <th>SSA</th>\n",
       "      <td>0.417245</td>\n",
       "      <td>0.520247</td>\n",
       "      <td>0.728551</td>\n",
       "    </tr>\n",
       "    <tr>\n",
       "      <th>NV</th>\n",
       "      <td>0.955396</td>\n",
       "      <td>0.518075</td>\n",
       "      <td>0.567923</td>\n",
       "    </tr>\n",
       "  </tbody>\n",
       "</table>\n",
       "</div>"
      ],
      "text/plain": [
       "              x         y         z\n",
       "nomes                              \n",
       "SP     0.031934  0.734420  0.540504\n",
       "RJ     0.297131  0.768773  0.305010\n",
       "BH     0.715241  0.880444  0.846568\n",
       "SSA    0.417245  0.520247  0.728551\n",
       "NV     0.955396  0.518075  0.567923"
      ]
     },
     "execution_count": 225,
     "metadata": {},
     "output_type": "execute_result"
    }
   ],
   "source": [
    "dataFrame #inspecionando"
   ]
  },
  {
   "cell_type": "markdown",
   "metadata": {},
   "source": [
    "**Índices múltiplos**"
   ]
  },
  {
   "cell_type": "code",
   "execution_count": 3,
   "metadata": {},
   "outputs": [],
   "source": [
    "outside = ['G1', 'G1', 'G1', 'G2', 'G2', 'G2'] #índice \"de fora\"\n",
    "inside = [1,2,3,4,5,6] #índice \"de dentro\"\n",
    "\n",
    "hier_index = list(zip(outside, inside)) #pareando das duas listas\n",
    "hier_index = pd.MultiIndex.from_tuples(hier_index) #definindo objeto índice múltiplo"
   ]
  },
  {
   "cell_type": "code",
   "execution_count": 4,
   "metadata": {},
   "outputs": [
    {
     "data": {
      "text/plain": [
       "MultiIndex(levels=[['G1', 'G2'], [1, 2, 3, 4, 5, 6]],\n",
       "           codes=[[0, 0, 0, 1, 1, 1], [0, 1, 2, 3, 4, 5]])"
      ]
     },
     "execution_count": 4,
     "metadata": {},
     "output_type": "execute_result"
    }
   ],
   "source": [
    "hier_index #inspecionando"
   ]
  },
  {
   "cell_type": "code",
   "execution_count": 5,
   "metadata": {},
   "outputs": [],
   "source": [
    "matriz = np.random.rand(6,2) #criando alguns dados de teste"
   ]
  },
  {
   "cell_type": "code",
   "execution_count": 6,
   "metadata": {},
   "outputs": [
    {
     "data": {
      "text/plain": [
       "array([[0.20982773, 0.29099422],\n",
       "       [0.16209485, 0.43229565],\n",
       "       [0.68363307, 0.33521588],\n",
       "       [0.9602325 , 0.73697883],\n",
       "       [0.29607681, 0.52834488],\n",
       "       [0.65877661, 0.03756556]])"
      ]
     },
     "execution_count": 6,
     "metadata": {},
     "output_type": "execute_result"
    }
   ],
   "source": [
    "matriz #inspecionando dados de teste"
   ]
  },
  {
   "cell_type": "code",
   "execution_count": 7,
   "metadata": {},
   "outputs": [],
   "source": [
    "df = pd.DataFrame(matriz, index=hier_index, columns=['Coluna A', 'Coluna B']) #fazendo o DataFrame"
   ]
  },
  {
   "cell_type": "code",
   "execution_count": 8,
   "metadata": {},
   "outputs": [
    {
     "data": {
      "text/html": [
       "<div>\n",
       "<style scoped>\n",
       "    .dataframe tbody tr th:only-of-type {\n",
       "        vertical-align: middle;\n",
       "    }\n",
       "\n",
       "    .dataframe tbody tr th {\n",
       "        vertical-align: top;\n",
       "    }\n",
       "\n",
       "    .dataframe thead th {\n",
       "        text-align: right;\n",
       "    }\n",
       "</style>\n",
       "<table border=\"1\" class=\"dataframe\">\n",
       "  <thead>\n",
       "    <tr style=\"text-align: right;\">\n",
       "      <th></th>\n",
       "      <th></th>\n",
       "      <th>Coluna A</th>\n",
       "      <th>Coluna B</th>\n",
       "    </tr>\n",
       "  </thead>\n",
       "  <tbody>\n",
       "    <tr>\n",
       "      <th rowspan=\"3\" valign=\"top\">G1</th>\n",
       "      <th>1</th>\n",
       "      <td>0.209828</td>\n",
       "      <td>0.290994</td>\n",
       "    </tr>\n",
       "    <tr>\n",
       "      <th>2</th>\n",
       "      <td>0.162095</td>\n",
       "      <td>0.432296</td>\n",
       "    </tr>\n",
       "    <tr>\n",
       "      <th>3</th>\n",
       "      <td>0.683633</td>\n",
       "      <td>0.335216</td>\n",
       "    </tr>\n",
       "    <tr>\n",
       "      <th rowspan=\"3\" valign=\"top\">G2</th>\n",
       "      <th>4</th>\n",
       "      <td>0.960232</td>\n",
       "      <td>0.736979</td>\n",
       "    </tr>\n",
       "    <tr>\n",
       "      <th>5</th>\n",
       "      <td>0.296077</td>\n",
       "      <td>0.528345</td>\n",
       "    </tr>\n",
       "    <tr>\n",
       "      <th>6</th>\n",
       "      <td>0.658777</td>\n",
       "      <td>0.037566</td>\n",
       "    </tr>\n",
       "  </tbody>\n",
       "</table>\n",
       "</div>"
      ],
      "text/plain": [
       "      Coluna A  Coluna B\n",
       "G1 1  0.209828  0.290994\n",
       "   2  0.162095  0.432296\n",
       "   3  0.683633  0.335216\n",
       "G2 4  0.960232  0.736979\n",
       "   5  0.296077  0.528345\n",
       "   6  0.658777  0.037566"
      ]
     },
     "execution_count": 8,
     "metadata": {},
     "output_type": "execute_result"
    }
   ],
   "source": [
    "df #inspecionado"
   ]
  },
  {
   "cell_type": "code",
   "execution_count": 9,
   "metadata": {},
   "outputs": [
    {
     "data": {
      "text/html": [
       "<div>\n",
       "<style scoped>\n",
       "    .dataframe tbody tr th:only-of-type {\n",
       "        vertical-align: middle;\n",
       "    }\n",
       "\n",
       "    .dataframe tbody tr th {\n",
       "        vertical-align: top;\n",
       "    }\n",
       "\n",
       "    .dataframe thead th {\n",
       "        text-align: right;\n",
       "    }\n",
       "</style>\n",
       "<table border=\"1\" class=\"dataframe\">\n",
       "  <thead>\n",
       "    <tr style=\"text-align: right;\">\n",
       "      <th></th>\n",
       "      <th>Coluna A</th>\n",
       "      <th>Coluna B</th>\n",
       "    </tr>\n",
       "  </thead>\n",
       "  <tbody>\n",
       "    <tr>\n",
       "      <th>1</th>\n",
       "      <td>0.209828</td>\n",
       "      <td>0.290994</td>\n",
       "    </tr>\n",
       "    <tr>\n",
       "      <th>2</th>\n",
       "      <td>0.162095</td>\n",
       "      <td>0.432296</td>\n",
       "    </tr>\n",
       "    <tr>\n",
       "      <th>3</th>\n",
       "      <td>0.683633</td>\n",
       "      <td>0.335216</td>\n",
       "    </tr>\n",
       "  </tbody>\n",
       "</table>\n",
       "</div>"
      ],
      "text/plain": [
       "   Coluna A  Coluna B\n",
       "1  0.209828  0.290994\n",
       "2  0.162095  0.432296\n",
       "3  0.683633  0.335216"
      ]
     },
     "execution_count": 9,
     "metadata": {},
     "output_type": "execute_result"
    }
   ],
   "source": [
    "df.loc['G1'] #selecionando pelo índice (índice \"de fora\")"
   ]
  },
  {
   "cell_type": "code",
   "execution_count": 14,
   "metadata": {},
   "outputs": [
    {
     "data": {
      "text/plain": [
       "Coluna A    0.209828\n",
       "Coluna B    0.290994\n",
       "Name: (G1, 1), dtype: float64"
      ]
     },
     "execution_count": 14,
     "metadata": {},
     "output_type": "execute_result"
    }
   ],
   "source": [
    "df.loc['G1', 1] #selecionando com dois índices"
   ]
  },
  {
   "cell_type": "markdown",
   "metadata": {},
   "source": [
    "**Concats e Merges**"
   ]
  },
  {
   "cell_type": "markdown",
   "metadata": {},
   "source": [
    "*Concat*"
   ]
  },
  {
   "cell_type": "code",
   "execution_count": 33,
   "metadata": {},
   "outputs": [],
   "source": [
    "#definindo dados\n",
    "df1 = pd.DataFrame({'A':[1,2,3], 'B':[4,5,6], 'C':[7,8,9]}, index=['w','x','y'])\n",
    "df2 = pd.DataFrame({'B':[1,2,3], 'C':[4,5,6], 'D':[7,8,9]}, index=['x','y','z'])"
   ]
  },
  {
   "cell_type": "code",
   "execution_count": 34,
   "metadata": {},
   "outputs": [
    {
     "data": {
      "text/html": [
       "<div>\n",
       "<style scoped>\n",
       "    .dataframe tbody tr th:only-of-type {\n",
       "        vertical-align: middle;\n",
       "    }\n",
       "\n",
       "    .dataframe tbody tr th {\n",
       "        vertical-align: top;\n",
       "    }\n",
       "\n",
       "    .dataframe thead th {\n",
       "        text-align: right;\n",
       "    }\n",
       "</style>\n",
       "<table border=\"1\" class=\"dataframe\">\n",
       "  <thead>\n",
       "    <tr style=\"text-align: right;\">\n",
       "      <th></th>\n",
       "      <th>A</th>\n",
       "      <th>B</th>\n",
       "      <th>C</th>\n",
       "    </tr>\n",
       "  </thead>\n",
       "  <tbody>\n",
       "    <tr>\n",
       "      <th>w</th>\n",
       "      <td>1</td>\n",
       "      <td>4</td>\n",
       "      <td>7</td>\n",
       "    </tr>\n",
       "    <tr>\n",
       "      <th>x</th>\n",
       "      <td>2</td>\n",
       "      <td>5</td>\n",
       "      <td>8</td>\n",
       "    </tr>\n",
       "    <tr>\n",
       "      <th>y</th>\n",
       "      <td>3</td>\n",
       "      <td>6</td>\n",
       "      <td>9</td>\n",
       "    </tr>\n",
       "  </tbody>\n",
       "</table>\n",
       "</div>"
      ],
      "text/plain": [
       "   A  B  C\n",
       "w  1  4  7\n",
       "x  2  5  8\n",
       "y  3  6  9"
      ]
     },
     "execution_count": 34,
     "metadata": {},
     "output_type": "execute_result"
    }
   ],
   "source": [
    "df1 #inspecionando"
   ]
  },
  {
   "cell_type": "code",
   "execution_count": 35,
   "metadata": {},
   "outputs": [
    {
     "data": {
      "text/html": [
       "<div>\n",
       "<style scoped>\n",
       "    .dataframe tbody tr th:only-of-type {\n",
       "        vertical-align: middle;\n",
       "    }\n",
       "\n",
       "    .dataframe tbody tr th {\n",
       "        vertical-align: top;\n",
       "    }\n",
       "\n",
       "    .dataframe thead th {\n",
       "        text-align: right;\n",
       "    }\n",
       "</style>\n",
       "<table border=\"1\" class=\"dataframe\">\n",
       "  <thead>\n",
       "    <tr style=\"text-align: right;\">\n",
       "      <th></th>\n",
       "      <th>B</th>\n",
       "      <th>C</th>\n",
       "      <th>D</th>\n",
       "    </tr>\n",
       "  </thead>\n",
       "  <tbody>\n",
       "    <tr>\n",
       "      <th>x</th>\n",
       "      <td>1</td>\n",
       "      <td>4</td>\n",
       "      <td>7</td>\n",
       "    </tr>\n",
       "    <tr>\n",
       "      <th>y</th>\n",
       "      <td>2</td>\n",
       "      <td>5</td>\n",
       "      <td>8</td>\n",
       "    </tr>\n",
       "    <tr>\n",
       "      <th>z</th>\n",
       "      <td>3</td>\n",
       "      <td>6</td>\n",
       "      <td>9</td>\n",
       "    </tr>\n",
       "  </tbody>\n",
       "</table>\n",
       "</div>"
      ],
      "text/plain": [
       "   B  C  D\n",
       "x  1  4  7\n",
       "y  2  5  8\n",
       "z  3  6  9"
      ]
     },
     "execution_count": 35,
     "metadata": {},
     "output_type": "execute_result"
    }
   ],
   "source": [
    "df2 #inspecionando"
   ]
  },
  {
   "cell_type": "code",
   "execution_count": 36,
   "metadata": {},
   "outputs": [
    {
     "name": "stderr",
     "output_type": "stream",
     "text": [
      "/home/anderson/.local/lib/python3.5/site-packages/ipykernel_launcher.py:1: FutureWarning: Sorting because non-concatenation axis is not aligned. A future version\n",
      "of pandas will change to not sort by default.\n",
      "\n",
      "To accept the future behavior, pass 'sort=False'.\n",
      "\n",
      "To retain the current behavior and silence the warning, pass 'sort=True'.\n",
      "\n",
      "  \"\"\"Entry point for launching an IPython kernel.\n"
     ]
    },
    {
     "data": {
      "text/html": [
       "<div>\n",
       "<style scoped>\n",
       "    .dataframe tbody tr th:only-of-type {\n",
       "        vertical-align: middle;\n",
       "    }\n",
       "\n",
       "    .dataframe tbody tr th {\n",
       "        vertical-align: top;\n",
       "    }\n",
       "\n",
       "    .dataframe thead th {\n",
       "        text-align: right;\n",
       "    }\n",
       "</style>\n",
       "<table border=\"1\" class=\"dataframe\">\n",
       "  <thead>\n",
       "    <tr style=\"text-align: right;\">\n",
       "      <th></th>\n",
       "      <th>A</th>\n",
       "      <th>B</th>\n",
       "      <th>C</th>\n",
       "      <th>D</th>\n",
       "    </tr>\n",
       "  </thead>\n",
       "  <tbody>\n",
       "    <tr>\n",
       "      <th>w</th>\n",
       "      <td>1.0</td>\n",
       "      <td>4</td>\n",
       "      <td>7</td>\n",
       "      <td>NaN</td>\n",
       "    </tr>\n",
       "    <tr>\n",
       "      <th>x</th>\n",
       "      <td>2.0</td>\n",
       "      <td>5</td>\n",
       "      <td>8</td>\n",
       "      <td>NaN</td>\n",
       "    </tr>\n",
       "    <tr>\n",
       "      <th>y</th>\n",
       "      <td>3.0</td>\n",
       "      <td>6</td>\n",
       "      <td>9</td>\n",
       "      <td>NaN</td>\n",
       "    </tr>\n",
       "    <tr>\n",
       "      <th>x</th>\n",
       "      <td>NaN</td>\n",
       "      <td>1</td>\n",
       "      <td>4</td>\n",
       "      <td>7.0</td>\n",
       "    </tr>\n",
       "    <tr>\n",
       "      <th>y</th>\n",
       "      <td>NaN</td>\n",
       "      <td>2</td>\n",
       "      <td>5</td>\n",
       "      <td>8.0</td>\n",
       "    </tr>\n",
       "    <tr>\n",
       "      <th>z</th>\n",
       "      <td>NaN</td>\n",
       "      <td>3</td>\n",
       "      <td>6</td>\n",
       "      <td>9.0</td>\n",
       "    </tr>\n",
       "  </tbody>\n",
       "</table>\n",
       "</div>"
      ],
      "text/plain": [
       "     A  B  C    D\n",
       "w  1.0  4  7  NaN\n",
       "x  2.0  5  8  NaN\n",
       "y  3.0  6  9  NaN\n",
       "x  NaN  1  4  7.0\n",
       "y  NaN  2  5  8.0\n",
       "z  NaN  3  6  9.0"
      ]
     },
     "execution_count": 36,
     "metadata": {},
     "output_type": "execute_result"
    }
   ],
   "source": [
    "pd.concat([df1, df2]) #concatendndo com o `concat` "
   ]
  },
  {
   "cell_type": "code",
   "execution_count": 37,
   "metadata": {},
   "outputs": [
    {
     "data": {
      "text/html": [
       "<div>\n",
       "<style scoped>\n",
       "    .dataframe tbody tr th:only-of-type {\n",
       "        vertical-align: middle;\n",
       "    }\n",
       "\n",
       "    .dataframe tbody tr th {\n",
       "        vertical-align: top;\n",
       "    }\n",
       "\n",
       "    .dataframe thead th {\n",
       "        text-align: right;\n",
       "    }\n",
       "</style>\n",
       "<table border=\"1\" class=\"dataframe\">\n",
       "  <thead>\n",
       "    <tr style=\"text-align: right;\">\n",
       "      <th></th>\n",
       "      <th>B</th>\n",
       "      <th>C</th>\n",
       "    </tr>\n",
       "  </thead>\n",
       "  <tbody>\n",
       "    <tr>\n",
       "      <th>w</th>\n",
       "      <td>4</td>\n",
       "      <td>7</td>\n",
       "    </tr>\n",
       "    <tr>\n",
       "      <th>x</th>\n",
       "      <td>5</td>\n",
       "      <td>8</td>\n",
       "    </tr>\n",
       "    <tr>\n",
       "      <th>y</th>\n",
       "      <td>6</td>\n",
       "      <td>9</td>\n",
       "    </tr>\n",
       "    <tr>\n",
       "      <th>x</th>\n",
       "      <td>1</td>\n",
       "      <td>4</td>\n",
       "    </tr>\n",
       "    <tr>\n",
       "      <th>y</th>\n",
       "      <td>2</td>\n",
       "      <td>5</td>\n",
       "    </tr>\n",
       "    <tr>\n",
       "      <th>z</th>\n",
       "      <td>3</td>\n",
       "      <td>6</td>\n",
       "    </tr>\n",
       "  </tbody>\n",
       "</table>\n",
       "</div>"
      ],
      "text/plain": [
       "   B  C\n",
       "w  4  7\n",
       "x  5  8\n",
       "y  6  9\n",
       "x  1  4\n",
       "y  2  5\n",
       "z  3  6"
      ]
     },
     "execution_count": 37,
     "metadata": {},
     "output_type": "execute_result"
    }
   ],
   "source": [
    "pd.concat([df1, df2], join='inner') #permance apenas o que existe no dois DataFrames"
   ]
  },
  {
   "cell_type": "code",
   "execution_count": 38,
   "metadata": {},
   "outputs": [
    {
     "name": "stderr",
     "output_type": "stream",
     "text": [
      "/home/anderson/.local/lib/python3.5/site-packages/ipykernel_launcher.py:1: FutureWarning: Sorting because non-concatenation axis is not aligned. A future version\n",
      "of pandas will change to not sort by default.\n",
      "\n",
      "To accept the future behavior, pass 'sort=False'.\n",
      "\n",
      "To retain the current behavior and silence the warning, pass 'sort=True'.\n",
      "\n",
      "  \"\"\"Entry point for launching an IPython kernel.\n"
     ]
    },
    {
     "data": {
      "text/html": [
       "<div>\n",
       "<style scoped>\n",
       "    .dataframe tbody tr th:only-of-type {\n",
       "        vertical-align: middle;\n",
       "    }\n",
       "\n",
       "    .dataframe tbody tr th {\n",
       "        vertical-align: top;\n",
       "    }\n",
       "\n",
       "    .dataframe thead th {\n",
       "        text-align: right;\n",
       "    }\n",
       "</style>\n",
       "<table border=\"1\" class=\"dataframe\">\n",
       "  <thead>\n",
       "    <tr style=\"text-align: right;\">\n",
       "      <th></th>\n",
       "      <th>A</th>\n",
       "      <th>B</th>\n",
       "      <th>C</th>\n",
       "      <th>B</th>\n",
       "      <th>C</th>\n",
       "      <th>D</th>\n",
       "    </tr>\n",
       "  </thead>\n",
       "  <tbody>\n",
       "    <tr>\n",
       "      <th>w</th>\n",
       "      <td>1.0</td>\n",
       "      <td>4.0</td>\n",
       "      <td>7.0</td>\n",
       "      <td>NaN</td>\n",
       "      <td>NaN</td>\n",
       "      <td>NaN</td>\n",
       "    </tr>\n",
       "    <tr>\n",
       "      <th>x</th>\n",
       "      <td>2.0</td>\n",
       "      <td>5.0</td>\n",
       "      <td>8.0</td>\n",
       "      <td>1.0</td>\n",
       "      <td>4.0</td>\n",
       "      <td>7.0</td>\n",
       "    </tr>\n",
       "    <tr>\n",
       "      <th>y</th>\n",
       "      <td>3.0</td>\n",
       "      <td>6.0</td>\n",
       "      <td>9.0</td>\n",
       "      <td>2.0</td>\n",
       "      <td>5.0</td>\n",
       "      <td>8.0</td>\n",
       "    </tr>\n",
       "    <tr>\n",
       "      <th>z</th>\n",
       "      <td>NaN</td>\n",
       "      <td>NaN</td>\n",
       "      <td>NaN</td>\n",
       "      <td>3.0</td>\n",
       "      <td>6.0</td>\n",
       "      <td>9.0</td>\n",
       "    </tr>\n",
       "  </tbody>\n",
       "</table>\n",
       "</div>"
      ],
      "text/plain": [
       "     A    B    C    B    C    D\n",
       "w  1.0  4.0  7.0  NaN  NaN  NaN\n",
       "x  2.0  5.0  8.0  1.0  4.0  7.0\n",
       "y  3.0  6.0  9.0  2.0  5.0  8.0\n",
       "z  NaN  NaN  NaN  3.0  6.0  9.0"
      ]
     },
     "execution_count": 38,
     "metadata": {},
     "output_type": "execute_result"
    }
   ],
   "source": [
    "pd.concat([df1, df2], axis=1) #concatenar por linhas"
   ]
  },
  {
   "cell_type": "markdown",
   "metadata": {},
   "source": [
    "*Merge*"
   ]
  },
  {
   "cell_type": "code",
   "execution_count": 39,
   "metadata": {},
   "outputs": [],
   "source": [
    "#definindo dados\n",
    "df3 = pd.DataFrame({'Paises':['Br', 'Pt', 'Bo'], 'valor1':[1,2,3],'Valor2':[3,4,5]})\n",
    "df4 = pd.DataFrame({'Paises':['Br', 'Pt', 'Bo'], 'valor3':[1,2,3],'Valor4':[3,4,5]})"
   ]
  },
  {
   "cell_type": "code",
   "execution_count": 40,
   "metadata": {},
   "outputs": [
    {
     "data": {
      "text/html": [
       "<div>\n",
       "<style scoped>\n",
       "    .dataframe tbody tr th:only-of-type {\n",
       "        vertical-align: middle;\n",
       "    }\n",
       "\n",
       "    .dataframe tbody tr th {\n",
       "        vertical-align: top;\n",
       "    }\n",
       "\n",
       "    .dataframe thead th {\n",
       "        text-align: right;\n",
       "    }\n",
       "</style>\n",
       "<table border=\"1\" class=\"dataframe\">\n",
       "  <thead>\n",
       "    <tr style=\"text-align: right;\">\n",
       "      <th></th>\n",
       "      <th>Paises</th>\n",
       "      <th>Valor2</th>\n",
       "      <th>valor1</th>\n",
       "    </tr>\n",
       "  </thead>\n",
       "  <tbody>\n",
       "    <tr>\n",
       "      <th>0</th>\n",
       "      <td>Br</td>\n",
       "      <td>3</td>\n",
       "      <td>1</td>\n",
       "    </tr>\n",
       "    <tr>\n",
       "      <th>1</th>\n",
       "      <td>Pt</td>\n",
       "      <td>4</td>\n",
       "      <td>2</td>\n",
       "    </tr>\n",
       "    <tr>\n",
       "      <th>2</th>\n",
       "      <td>Bo</td>\n",
       "      <td>5</td>\n",
       "      <td>3</td>\n",
       "    </tr>\n",
       "  </tbody>\n",
       "</table>\n",
       "</div>"
      ],
      "text/plain": [
       "  Paises  Valor2  valor1\n",
       "0     Br       3       1\n",
       "1     Pt       4       2\n",
       "2     Bo       5       3"
      ]
     },
     "execution_count": 40,
     "metadata": {},
     "output_type": "execute_result"
    }
   ],
   "source": [
    "df3 #inspecionando"
   ]
  },
  {
   "cell_type": "code",
   "execution_count": 41,
   "metadata": {},
   "outputs": [
    {
     "data": {
      "text/html": [
       "<div>\n",
       "<style scoped>\n",
       "    .dataframe tbody tr th:only-of-type {\n",
       "        vertical-align: middle;\n",
       "    }\n",
       "\n",
       "    .dataframe tbody tr th {\n",
       "        vertical-align: top;\n",
       "    }\n",
       "\n",
       "    .dataframe thead th {\n",
       "        text-align: right;\n",
       "    }\n",
       "</style>\n",
       "<table border=\"1\" class=\"dataframe\">\n",
       "  <thead>\n",
       "    <tr style=\"text-align: right;\">\n",
       "      <th></th>\n",
       "      <th>Paises</th>\n",
       "      <th>Valor4</th>\n",
       "      <th>valor3</th>\n",
       "    </tr>\n",
       "  </thead>\n",
       "  <tbody>\n",
       "    <tr>\n",
       "      <th>0</th>\n",
       "      <td>Br</td>\n",
       "      <td>3</td>\n",
       "      <td>1</td>\n",
       "    </tr>\n",
       "    <tr>\n",
       "      <th>1</th>\n",
       "      <td>Pt</td>\n",
       "      <td>4</td>\n",
       "      <td>2</td>\n",
       "    </tr>\n",
       "    <tr>\n",
       "      <th>2</th>\n",
       "      <td>Bo</td>\n",
       "      <td>5</td>\n",
       "      <td>3</td>\n",
       "    </tr>\n",
       "  </tbody>\n",
       "</table>\n",
       "</div>"
      ],
      "text/plain": [
       "  Paises  Valor4  valor3\n",
       "0     Br       3       1\n",
       "1     Pt       4       2\n",
       "2     Bo       5       3"
      ]
     },
     "execution_count": 41,
     "metadata": {},
     "output_type": "execute_result"
    }
   ],
   "source": [
    "df4 #inspecionando"
   ]
  },
  {
   "cell_type": "code",
   "execution_count": 42,
   "metadata": {},
   "outputs": [
    {
     "data": {
      "text/html": [
       "<div>\n",
       "<style scoped>\n",
       "    .dataframe tbody tr th:only-of-type {\n",
       "        vertical-align: middle;\n",
       "    }\n",
       "\n",
       "    .dataframe tbody tr th {\n",
       "        vertical-align: top;\n",
       "    }\n",
       "\n",
       "    .dataframe thead th {\n",
       "        text-align: right;\n",
       "    }\n",
       "</style>\n",
       "<table border=\"1\" class=\"dataframe\">\n",
       "  <thead>\n",
       "    <tr style=\"text-align: right;\">\n",
       "      <th></th>\n",
       "      <th>Paises</th>\n",
       "      <th>Valor2</th>\n",
       "      <th>valor1</th>\n",
       "      <th>Valor4</th>\n",
       "      <th>valor3</th>\n",
       "    </tr>\n",
       "  </thead>\n",
       "  <tbody>\n",
       "    <tr>\n",
       "      <th>0</th>\n",
       "      <td>Br</td>\n",
       "      <td>3</td>\n",
       "      <td>1</td>\n",
       "      <td>3</td>\n",
       "      <td>1</td>\n",
       "    </tr>\n",
       "    <tr>\n",
       "      <th>1</th>\n",
       "      <td>Pt</td>\n",
       "      <td>4</td>\n",
       "      <td>2</td>\n",
       "      <td>4</td>\n",
       "      <td>2</td>\n",
       "    </tr>\n",
       "    <tr>\n",
       "      <th>2</th>\n",
       "      <td>Bo</td>\n",
       "      <td>5</td>\n",
       "      <td>3</td>\n",
       "      <td>5</td>\n",
       "      <td>3</td>\n",
       "    </tr>\n",
       "  </tbody>\n",
       "</table>\n",
       "</div>"
      ],
      "text/plain": [
       "  Paises  Valor2  valor1  Valor4  valor3\n",
       "0     Br       3       1       3       1\n",
       "1     Pt       4       2       4       2\n",
       "2     Bo       5       3       5       3"
      ]
     },
     "execution_count": 42,
     "metadata": {},
     "output_type": "execute_result"
    }
   ],
   "source": [
    "pd.merge(df3, df4, on='Paises') #aplicando o `merge`"
   ]
  },
  {
   "cell_type": "markdown",
   "metadata": {},
   "source": [
    "**NAN Values**"
   ]
  },
  {
   "cell_type": "code",
   "execution_count": 16,
   "metadata": {},
   "outputs": [],
   "source": [
    "#definindo dados para teste\n",
    "df = pd.DataFrame({'col1': [1,2,3,np.nan],\n",
    "                  'col2':[np.nan,555,666,444],\n",
    "                  'col3':['abc','def','ghi','xyz']})"
   ]
  },
  {
   "cell_type": "code",
   "execution_count": 17,
   "metadata": {},
   "outputs": [
    {
     "data": {
      "text/html": [
       "<div>\n",
       "<style scoped>\n",
       "    .dataframe tbody tr th:only-of-type {\n",
       "        vertical-align: middle;\n",
       "    }\n",
       "\n",
       "    .dataframe tbody tr th {\n",
       "        vertical-align: top;\n",
       "    }\n",
       "\n",
       "    .dataframe thead th {\n",
       "        text-align: right;\n",
       "    }\n",
       "</style>\n",
       "<table border=\"1\" class=\"dataframe\">\n",
       "  <thead>\n",
       "    <tr style=\"text-align: right;\">\n",
       "      <th></th>\n",
       "      <th>col1</th>\n",
       "      <th>col2</th>\n",
       "      <th>col3</th>\n",
       "    </tr>\n",
       "  </thead>\n",
       "  <tbody>\n",
       "    <tr>\n",
       "      <th>0</th>\n",
       "      <td>1.0</td>\n",
       "      <td>NaN</td>\n",
       "      <td>abc</td>\n",
       "    </tr>\n",
       "    <tr>\n",
       "      <th>1</th>\n",
       "      <td>2.0</td>\n",
       "      <td>555.0</td>\n",
       "      <td>def</td>\n",
       "    </tr>\n",
       "    <tr>\n",
       "      <th>2</th>\n",
       "      <td>3.0</td>\n",
       "      <td>666.0</td>\n",
       "      <td>ghi</td>\n",
       "    </tr>\n",
       "    <tr>\n",
       "      <th>3</th>\n",
       "      <td>NaN</td>\n",
       "      <td>444.0</td>\n",
       "      <td>xyz</td>\n",
       "    </tr>\n",
       "  </tbody>\n",
       "</table>\n",
       "</div>"
      ],
      "text/plain": [
       "   col1   col2 col3\n",
       "0   1.0    NaN  abc\n",
       "1   2.0  555.0  def\n",
       "2   3.0  666.0  ghi\n",
       "3   NaN  444.0  xyz"
      ]
     },
     "execution_count": 17,
     "metadata": {},
     "output_type": "execute_result"
    }
   ],
   "source": [
    "df #inspecionando"
   ]
  },
  {
   "cell_type": "code",
   "execution_count": 46,
   "metadata": {},
   "outputs": [
    {
     "data": {
      "text/html": [
       "<div>\n",
       "<style scoped>\n",
       "    .dataframe tbody tr th:only-of-type {\n",
       "        vertical-align: middle;\n",
       "    }\n",
       "\n",
       "    .dataframe tbody tr th {\n",
       "        vertical-align: top;\n",
       "    }\n",
       "\n",
       "    .dataframe thead th {\n",
       "        text-align: right;\n",
       "    }\n",
       "</style>\n",
       "<table border=\"1\" class=\"dataframe\">\n",
       "  <thead>\n",
       "    <tr style=\"text-align: right;\">\n",
       "      <th></th>\n",
       "      <th>col1</th>\n",
       "      <th>col2</th>\n",
       "      <th>col3</th>\n",
       "    </tr>\n",
       "  </thead>\n",
       "  <tbody>\n",
       "    <tr>\n",
       "      <th>1</th>\n",
       "      <td>2.0</td>\n",
       "      <td>555.0</td>\n",
       "      <td>def</td>\n",
       "    </tr>\n",
       "    <tr>\n",
       "      <th>2</th>\n",
       "      <td>3.0</td>\n",
       "      <td>666.0</td>\n",
       "      <td>ghi</td>\n",
       "    </tr>\n",
       "  </tbody>\n",
       "</table>\n",
       "</div>"
      ],
      "text/plain": [
       "   col1   col2 col3\n",
       "1   2.0  555.0  def\n",
       "2   3.0  666.0  ghi"
      ]
     },
     "execution_count": 46,
     "metadata": {},
     "output_type": "execute_result"
    }
   ],
   "source": [
    "df.dropna() #elimina as linhas de dados que contém NaN (\"Not a Number\")"
   ]
  },
  {
   "cell_type": "code",
   "execution_count": 47,
   "metadata": {},
   "outputs": [
    {
     "data": {
      "text/html": [
       "<div>\n",
       "<style scoped>\n",
       "    .dataframe tbody tr th:only-of-type {\n",
       "        vertical-align: middle;\n",
       "    }\n",
       "\n",
       "    .dataframe tbody tr th {\n",
       "        vertical-align: top;\n",
       "    }\n",
       "\n",
       "    .dataframe thead th {\n",
       "        text-align: right;\n",
       "    }\n",
       "</style>\n",
       "<table border=\"1\" class=\"dataframe\">\n",
       "  <thead>\n",
       "    <tr style=\"text-align: right;\">\n",
       "      <th></th>\n",
       "      <th>col1</th>\n",
       "      <th>col2</th>\n",
       "      <th>col3</th>\n",
       "    </tr>\n",
       "  </thead>\n",
       "  <tbody>\n",
       "    <tr>\n",
       "      <th>0</th>\n",
       "      <td>1</td>\n",
       "      <td>Preechido!</td>\n",
       "      <td>abc</td>\n",
       "    </tr>\n",
       "    <tr>\n",
       "      <th>1</th>\n",
       "      <td>2</td>\n",
       "      <td>555</td>\n",
       "      <td>def</td>\n",
       "    </tr>\n",
       "    <tr>\n",
       "      <th>2</th>\n",
       "      <td>3</td>\n",
       "      <td>666</td>\n",
       "      <td>ghi</td>\n",
       "    </tr>\n",
       "    <tr>\n",
       "      <th>3</th>\n",
       "      <td>Preechido!</td>\n",
       "      <td>444</td>\n",
       "      <td>xyz</td>\n",
       "    </tr>\n",
       "  </tbody>\n",
       "</table>\n",
       "</div>"
      ],
      "text/plain": [
       "         col1        col2 col3\n",
       "0           1  Preechido!  abc\n",
       "1           2         555  def\n",
       "2           3         666  ghi\n",
       "3  Preechido!         444  xyz"
      ]
     },
     "execution_count": 47,
     "metadata": {},
     "output_type": "execute_result"
    }
   ],
   "source": [
    "df.fillna('Preechido!') #preenche células que contém NaN"
   ]
  },
  {
   "cell_type": "markdown",
   "metadata": {},
   "source": [
    "**Importando dados**"
   ]
  },
  {
   "cell_type": "code",
   "execution_count": 49,
   "metadata": {},
   "outputs": [],
   "source": [
    "dadosEstudantes = pd.read_csv('student-mat.csv') #lendo dados a partir de um arquivo .csv"
   ]
  },
  {
   "cell_type": "code",
   "execution_count": 50,
   "metadata": {},
   "outputs": [
    {
     "data": {
      "text/html": [
       "<div>\n",
       "<style scoped>\n",
       "    .dataframe tbody tr th:only-of-type {\n",
       "        vertical-align: middle;\n",
       "    }\n",
       "\n",
       "    .dataframe tbody tr th {\n",
       "        vertical-align: top;\n",
       "    }\n",
       "\n",
       "    .dataframe thead th {\n",
       "        text-align: right;\n",
       "    }\n",
       "</style>\n",
       "<table border=\"1\" class=\"dataframe\">\n",
       "  <thead>\n",
       "    <tr style=\"text-align: right;\">\n",
       "      <th></th>\n",
       "      <th>school</th>\n",
       "      <th>sex</th>\n",
       "      <th>age</th>\n",
       "      <th>address</th>\n",
       "      <th>famsize</th>\n",
       "      <th>Pstatus</th>\n",
       "      <th>Medu</th>\n",
       "      <th>Fedu</th>\n",
       "      <th>Mjob</th>\n",
       "      <th>Fjob</th>\n",
       "      <th>...</th>\n",
       "      <th>famrel</th>\n",
       "      <th>freetime</th>\n",
       "      <th>goout</th>\n",
       "      <th>Dalc</th>\n",
       "      <th>Walc</th>\n",
       "      <th>health</th>\n",
       "      <th>absences</th>\n",
       "      <th>G1</th>\n",
       "      <th>G2</th>\n",
       "      <th>G3</th>\n",
       "    </tr>\n",
       "  </thead>\n",
       "  <tbody>\n",
       "    <tr>\n",
       "      <th>0</th>\n",
       "      <td>GP</td>\n",
       "      <td>F</td>\n",
       "      <td>18</td>\n",
       "      <td>U</td>\n",
       "      <td>GT3</td>\n",
       "      <td>A</td>\n",
       "      <td>4</td>\n",
       "      <td>4</td>\n",
       "      <td>at_home</td>\n",
       "      <td>teacher</td>\n",
       "      <td>...</td>\n",
       "      <td>4</td>\n",
       "      <td>3</td>\n",
       "      <td>4</td>\n",
       "      <td>1</td>\n",
       "      <td>1</td>\n",
       "      <td>3</td>\n",
       "      <td>6</td>\n",
       "      <td>5</td>\n",
       "      <td>6</td>\n",
       "      <td>6</td>\n",
       "    </tr>\n",
       "    <tr>\n",
       "      <th>1</th>\n",
       "      <td>GP</td>\n",
       "      <td>F</td>\n",
       "      <td>17</td>\n",
       "      <td>U</td>\n",
       "      <td>GT3</td>\n",
       "      <td>T</td>\n",
       "      <td>1</td>\n",
       "      <td>1</td>\n",
       "      <td>at_home</td>\n",
       "      <td>other</td>\n",
       "      <td>...</td>\n",
       "      <td>5</td>\n",
       "      <td>3</td>\n",
       "      <td>3</td>\n",
       "      <td>1</td>\n",
       "      <td>1</td>\n",
       "      <td>3</td>\n",
       "      <td>4</td>\n",
       "      <td>5</td>\n",
       "      <td>5</td>\n",
       "      <td>6</td>\n",
       "    </tr>\n",
       "    <tr>\n",
       "      <th>2</th>\n",
       "      <td>GP</td>\n",
       "      <td>F</td>\n",
       "      <td>15</td>\n",
       "      <td>U</td>\n",
       "      <td>LE3</td>\n",
       "      <td>T</td>\n",
       "      <td>1</td>\n",
       "      <td>1</td>\n",
       "      <td>at_home</td>\n",
       "      <td>other</td>\n",
       "      <td>...</td>\n",
       "      <td>4</td>\n",
       "      <td>3</td>\n",
       "      <td>2</td>\n",
       "      <td>2</td>\n",
       "      <td>3</td>\n",
       "      <td>3</td>\n",
       "      <td>10</td>\n",
       "      <td>7</td>\n",
       "      <td>8</td>\n",
       "      <td>10</td>\n",
       "    </tr>\n",
       "    <tr>\n",
       "      <th>3</th>\n",
       "      <td>GP</td>\n",
       "      <td>F</td>\n",
       "      <td>15</td>\n",
       "      <td>U</td>\n",
       "      <td>GT3</td>\n",
       "      <td>T</td>\n",
       "      <td>4</td>\n",
       "      <td>2</td>\n",
       "      <td>health</td>\n",
       "      <td>services</td>\n",
       "      <td>...</td>\n",
       "      <td>3</td>\n",
       "      <td>2</td>\n",
       "      <td>2</td>\n",
       "      <td>1</td>\n",
       "      <td>1</td>\n",
       "      <td>5</td>\n",
       "      <td>2</td>\n",
       "      <td>15</td>\n",
       "      <td>14</td>\n",
       "      <td>15</td>\n",
       "    </tr>\n",
       "    <tr>\n",
       "      <th>4</th>\n",
       "      <td>GP</td>\n",
       "      <td>F</td>\n",
       "      <td>16</td>\n",
       "      <td>U</td>\n",
       "      <td>GT3</td>\n",
       "      <td>T</td>\n",
       "      <td>3</td>\n",
       "      <td>3</td>\n",
       "      <td>other</td>\n",
       "      <td>other</td>\n",
       "      <td>...</td>\n",
       "      <td>4</td>\n",
       "      <td>3</td>\n",
       "      <td>2</td>\n",
       "      <td>1</td>\n",
       "      <td>2</td>\n",
       "      <td>5</td>\n",
       "      <td>4</td>\n",
       "      <td>6</td>\n",
       "      <td>10</td>\n",
       "      <td>10</td>\n",
       "    </tr>\n",
       "  </tbody>\n",
       "</table>\n",
       "<p>5 rows × 33 columns</p>\n",
       "</div>"
      ],
      "text/plain": [
       "  school sex  age address famsize Pstatus  Medu  Fedu     Mjob      Fjob  ...  \\\n",
       "0     GP   F   18       U     GT3       A     4     4  at_home   teacher  ...   \n",
       "1     GP   F   17       U     GT3       T     1     1  at_home     other  ...   \n",
       "2     GP   F   15       U     LE3       T     1     1  at_home     other  ...   \n",
       "3     GP   F   15       U     GT3       T     4     2   health  services  ...   \n",
       "4     GP   F   16       U     GT3       T     3     3    other     other  ...   \n",
       "\n",
       "  famrel freetime  goout  Dalc  Walc health absences  G1  G2  G3  \n",
       "0      4        3      4     1     1      3        6   5   6   6  \n",
       "1      5        3      3     1     1      3        4   5   5   6  \n",
       "2      4        3      2     2     3      3       10   7   8  10  \n",
       "3      3        2      2     1     1      5        2  15  14  15  \n",
       "4      4        3      2     1     2      5        4   6  10  10  \n",
       "\n",
       "[5 rows x 33 columns]"
      ]
     },
     "execution_count": 50,
     "metadata": {},
     "output_type": "execute_result"
    }
   ],
   "source": [
    "dadosEstudantes.head() #inspeciona as linhas iniciais"
   ]
  },
  {
   "cell_type": "code",
   "execution_count": 51,
   "metadata": {},
   "outputs": [
    {
     "data": {
      "text/html": [
       "<div>\n",
       "<style scoped>\n",
       "    .dataframe tbody tr th:only-of-type {\n",
       "        vertical-align: middle;\n",
       "    }\n",
       "\n",
       "    .dataframe tbody tr th {\n",
       "        vertical-align: top;\n",
       "    }\n",
       "\n",
       "    .dataframe thead th {\n",
       "        text-align: right;\n",
       "    }\n",
       "</style>\n",
       "<table border=\"1\" class=\"dataframe\">\n",
       "  <thead>\n",
       "    <tr style=\"text-align: right;\">\n",
       "      <th></th>\n",
       "      <th>school</th>\n",
       "      <th>sex</th>\n",
       "      <th>age</th>\n",
       "      <th>address</th>\n",
       "      <th>famsize</th>\n",
       "      <th>Pstatus</th>\n",
       "      <th>Medu</th>\n",
       "      <th>Fedu</th>\n",
       "      <th>Mjob</th>\n",
       "      <th>Fjob</th>\n",
       "      <th>...</th>\n",
       "      <th>famrel</th>\n",
       "      <th>freetime</th>\n",
       "      <th>goout</th>\n",
       "      <th>Dalc</th>\n",
       "      <th>Walc</th>\n",
       "      <th>health</th>\n",
       "      <th>absences</th>\n",
       "      <th>G1</th>\n",
       "      <th>G2</th>\n",
       "      <th>G3</th>\n",
       "    </tr>\n",
       "  </thead>\n",
       "  <tbody>\n",
       "    <tr>\n",
       "      <th>390</th>\n",
       "      <td>MS</td>\n",
       "      <td>M</td>\n",
       "      <td>20</td>\n",
       "      <td>U</td>\n",
       "      <td>LE3</td>\n",
       "      <td>A</td>\n",
       "      <td>2</td>\n",
       "      <td>2</td>\n",
       "      <td>services</td>\n",
       "      <td>services</td>\n",
       "      <td>...</td>\n",
       "      <td>5</td>\n",
       "      <td>5</td>\n",
       "      <td>4</td>\n",
       "      <td>4</td>\n",
       "      <td>5</td>\n",
       "      <td>4</td>\n",
       "      <td>11</td>\n",
       "      <td>9</td>\n",
       "      <td>9</td>\n",
       "      <td>9</td>\n",
       "    </tr>\n",
       "    <tr>\n",
       "      <th>391</th>\n",
       "      <td>MS</td>\n",
       "      <td>M</td>\n",
       "      <td>17</td>\n",
       "      <td>U</td>\n",
       "      <td>LE3</td>\n",
       "      <td>T</td>\n",
       "      <td>3</td>\n",
       "      <td>1</td>\n",
       "      <td>services</td>\n",
       "      <td>services</td>\n",
       "      <td>...</td>\n",
       "      <td>2</td>\n",
       "      <td>4</td>\n",
       "      <td>5</td>\n",
       "      <td>3</td>\n",
       "      <td>4</td>\n",
       "      <td>2</td>\n",
       "      <td>3</td>\n",
       "      <td>14</td>\n",
       "      <td>16</td>\n",
       "      <td>16</td>\n",
       "    </tr>\n",
       "    <tr>\n",
       "      <th>392</th>\n",
       "      <td>MS</td>\n",
       "      <td>M</td>\n",
       "      <td>21</td>\n",
       "      <td>R</td>\n",
       "      <td>GT3</td>\n",
       "      <td>T</td>\n",
       "      <td>1</td>\n",
       "      <td>1</td>\n",
       "      <td>other</td>\n",
       "      <td>other</td>\n",
       "      <td>...</td>\n",
       "      <td>5</td>\n",
       "      <td>5</td>\n",
       "      <td>3</td>\n",
       "      <td>3</td>\n",
       "      <td>3</td>\n",
       "      <td>3</td>\n",
       "      <td>3</td>\n",
       "      <td>10</td>\n",
       "      <td>8</td>\n",
       "      <td>7</td>\n",
       "    </tr>\n",
       "    <tr>\n",
       "      <th>393</th>\n",
       "      <td>MS</td>\n",
       "      <td>M</td>\n",
       "      <td>18</td>\n",
       "      <td>R</td>\n",
       "      <td>LE3</td>\n",
       "      <td>T</td>\n",
       "      <td>3</td>\n",
       "      <td>2</td>\n",
       "      <td>services</td>\n",
       "      <td>other</td>\n",
       "      <td>...</td>\n",
       "      <td>4</td>\n",
       "      <td>4</td>\n",
       "      <td>1</td>\n",
       "      <td>3</td>\n",
       "      <td>4</td>\n",
       "      <td>5</td>\n",
       "      <td>0</td>\n",
       "      <td>11</td>\n",
       "      <td>12</td>\n",
       "      <td>10</td>\n",
       "    </tr>\n",
       "    <tr>\n",
       "      <th>394</th>\n",
       "      <td>MS</td>\n",
       "      <td>M</td>\n",
       "      <td>19</td>\n",
       "      <td>U</td>\n",
       "      <td>LE3</td>\n",
       "      <td>T</td>\n",
       "      <td>1</td>\n",
       "      <td>1</td>\n",
       "      <td>other</td>\n",
       "      <td>at_home</td>\n",
       "      <td>...</td>\n",
       "      <td>3</td>\n",
       "      <td>2</td>\n",
       "      <td>3</td>\n",
       "      <td>3</td>\n",
       "      <td>3</td>\n",
       "      <td>5</td>\n",
       "      <td>5</td>\n",
       "      <td>8</td>\n",
       "      <td>9</td>\n",
       "      <td>9</td>\n",
       "    </tr>\n",
       "  </tbody>\n",
       "</table>\n",
       "<p>5 rows × 33 columns</p>\n",
       "</div>"
      ],
      "text/plain": [
       "    school sex  age address famsize Pstatus  Medu  Fedu      Mjob      Fjob  \\\n",
       "390     MS   M   20       U     LE3       A     2     2  services  services   \n",
       "391     MS   M   17       U     LE3       T     3     1  services  services   \n",
       "392     MS   M   21       R     GT3       T     1     1     other     other   \n",
       "393     MS   M   18       R     LE3       T     3     2  services     other   \n",
       "394     MS   M   19       U     LE3       T     1     1     other   at_home   \n",
       "\n",
       "     ... famrel freetime  goout  Dalc  Walc health absences  G1  G2  G3  \n",
       "390  ...      5        5      4     4     5      4       11   9   9   9  \n",
       "391  ...      2        4      5     3     4      2        3  14  16  16  \n",
       "392  ...      5        5      3     3     3      3        3  10   8   7  \n",
       "393  ...      4        4      1     3     4      5        0  11  12  10  \n",
       "394  ...      3        2      3     3     3      5        5   8   9   9  \n",
       "\n",
       "[5 rows x 33 columns]"
      ]
     },
     "execution_count": 51,
     "metadata": {},
     "output_type": "execute_result"
    }
   ],
   "source": [
    "dadosEstudantes.tail() #inspeciona as linhas finais"
   ]
  },
  {
   "cell_type": "code",
   "execution_count": 52,
   "metadata": {},
   "outputs": [
    {
     "name": "stdout",
     "output_type": "stream",
     "text": [
      "<class 'pandas.core.frame.DataFrame'>\n",
      "RangeIndex: 395 entries, 0 to 394\n",
      "Data columns (total 33 columns):\n",
      "school        395 non-null object\n",
      "sex           395 non-null object\n",
      "age           395 non-null int64\n",
      "address       395 non-null object\n",
      "famsize       395 non-null object\n",
      "Pstatus       395 non-null object\n",
      "Medu          395 non-null int64\n",
      "Fedu          395 non-null int64\n",
      "Mjob          395 non-null object\n",
      "Fjob          395 non-null object\n",
      "reason        395 non-null object\n",
      "guardian      395 non-null object\n",
      "traveltime    395 non-null int64\n",
      "studytime     395 non-null int64\n",
      "failures      395 non-null int64\n",
      "schoolsup     395 non-null object\n",
      "famsup        395 non-null object\n",
      "paid          395 non-null object\n",
      "activities    395 non-null object\n",
      "nursery       395 non-null object\n",
      "higher        395 non-null object\n",
      "internet      395 non-null object\n",
      "romantic      395 non-null object\n",
      "famrel        395 non-null int64\n",
      "freetime      395 non-null int64\n",
      "goout         395 non-null int64\n",
      "Dalc          395 non-null int64\n",
      "Walc          395 non-null int64\n",
      "health        395 non-null int64\n",
      "absences      395 non-null int64\n",
      "G1            395 non-null int64\n",
      "G2            395 non-null int64\n",
      "G3            395 non-null int64\n",
      "dtypes: int64(16), object(17)\n",
      "memory usage: 101.9+ KB\n"
     ]
    }
   ],
   "source": [
    "dadosEstudantes.info() #informações dos dados (nomes das colunas, quantidade de entradas, tipos de dados, etc)"
   ]
  },
  {
   "cell_type": "code",
   "execution_count": 53,
   "metadata": {},
   "outputs": [],
   "source": [
    "imoveis = pd.read_csv('imoveis_Rio_de_Janeiro.csv') #abrindo um arquivo dividido por ponto e vírgula"
   ]
  },
  {
   "cell_type": "code",
   "execution_count": 54,
   "metadata": {},
   "outputs": [
    {
     "data": {
      "text/html": [
       "<div>\n",
       "<style scoped>\n",
       "    .dataframe tbody tr th:only-of-type {\n",
       "        vertical-align: middle;\n",
       "    }\n",
       "\n",
       "    .dataframe tbody tr th {\n",
       "        vertical-align: top;\n",
       "    }\n",
       "\n",
       "    .dataframe thead th {\n",
       "        text-align: right;\n",
       "    }\n",
       "</style>\n",
       "<table border=\"1\" class=\"dataframe\">\n",
       "  <thead>\n",
       "    <tr style=\"text-align: right;\">\n",
       "      <th></th>\n",
       "      <th>condominio;quartos;suites;vagas;area;bairro;atualizacao;preco;distancia;pm2</th>\n",
       "    </tr>\n",
       "  </thead>\n",
       "  <tbody>\n",
       "    <tr>\n",
       "      <th>0</th>\n",
       "      <td>350;1;0.0;1.0;21;1;1;340000;99.0;16190.48</td>\n",
       "    </tr>\n",
       "    <tr>\n",
       "      <th>1</th>\n",
       "      <td>800;1;0.0;1.0;64;1;0;770000;99.0;12031.25</td>\n",
       "    </tr>\n",
       "    <tr>\n",
       "      <th>2</th>\n",
       "      <td>674;1;0.0;1.0;61;1;1;600000;99.0;9836.07</td>\n",
       "    </tr>\n",
       "    <tr>\n",
       "      <th>3</th>\n",
       "      <td>700;1;1.0;1.0;70;1;0;700000;99.0;10000.0</td>\n",
       "    </tr>\n",
       "    <tr>\n",
       "      <th>4</th>\n",
       "      <td>440;1;0.0;1.0;44;1;2;515000;99.0;11704.55</td>\n",
       "    </tr>\n",
       "  </tbody>\n",
       "</table>\n",
       "</div>"
      ],
      "text/plain": [
       "  condominio;quartos;suites;vagas;area;bairro;atualizacao;preco;distancia;pm2\n",
       "0          350;1;0.0;1.0;21;1;1;340000;99.0;16190.48                         \n",
       "1          800;1;0.0;1.0;64;1;0;770000;99.0;12031.25                         \n",
       "2           674;1;0.0;1.0;61;1;1;600000;99.0;9836.07                         \n",
       "3           700;1;1.0;1.0;70;1;0;700000;99.0;10000.0                         \n",
       "4          440;1;0.0;1.0;44;1;2;515000;99.0;11704.55                         "
      ]
     },
     "execution_count": 54,
     "metadata": {},
     "output_type": "execute_result"
    }
   ],
   "source": [
    "imoveis.head() #inspecionando linhas iniciais - ficou errado..."
   ]
  },
  {
   "cell_type": "code",
   "execution_count": 55,
   "metadata": {},
   "outputs": [],
   "source": [
    "imoveis = pd.read_csv('imoveis_Rio_de_Janeiro.csv', delimiter=';') #abrindo corretamente  agora"
   ]
  },
  {
   "cell_type": "code",
   "execution_count": 56,
   "metadata": {},
   "outputs": [
    {
     "data": {
      "text/html": [
       "<div>\n",
       "<style scoped>\n",
       "    .dataframe tbody tr th:only-of-type {\n",
       "        vertical-align: middle;\n",
       "    }\n",
       "\n",
       "    .dataframe tbody tr th {\n",
       "        vertical-align: top;\n",
       "    }\n",
       "\n",
       "    .dataframe thead th {\n",
       "        text-align: right;\n",
       "    }\n",
       "</style>\n",
       "<table border=\"1\" class=\"dataframe\">\n",
       "  <thead>\n",
       "    <tr style=\"text-align: right;\">\n",
       "      <th></th>\n",
       "      <th>condominio</th>\n",
       "      <th>quartos</th>\n",
       "      <th>suites</th>\n",
       "      <th>vagas</th>\n",
       "      <th>area</th>\n",
       "      <th>bairro</th>\n",
       "      <th>atualizacao</th>\n",
       "      <th>preco</th>\n",
       "      <th>distancia</th>\n",
       "      <th>pm2</th>\n",
       "    </tr>\n",
       "  </thead>\n",
       "  <tbody>\n",
       "    <tr>\n",
       "      <th>0</th>\n",
       "      <td>350</td>\n",
       "      <td>1</td>\n",
       "      <td>0.0</td>\n",
       "      <td>1.0</td>\n",
       "      <td>21</td>\n",
       "      <td>1</td>\n",
       "      <td>1</td>\n",
       "      <td>340000</td>\n",
       "      <td>99.0</td>\n",
       "      <td>16190.48</td>\n",
       "    </tr>\n",
       "    <tr>\n",
       "      <th>1</th>\n",
       "      <td>800</td>\n",
       "      <td>1</td>\n",
       "      <td>0.0</td>\n",
       "      <td>1.0</td>\n",
       "      <td>64</td>\n",
       "      <td>1</td>\n",
       "      <td>0</td>\n",
       "      <td>770000</td>\n",
       "      <td>99.0</td>\n",
       "      <td>12031.25</td>\n",
       "    </tr>\n",
       "    <tr>\n",
       "      <th>2</th>\n",
       "      <td>674</td>\n",
       "      <td>1</td>\n",
       "      <td>0.0</td>\n",
       "      <td>1.0</td>\n",
       "      <td>61</td>\n",
       "      <td>1</td>\n",
       "      <td>1</td>\n",
       "      <td>600000</td>\n",
       "      <td>99.0</td>\n",
       "      <td>9836.07</td>\n",
       "    </tr>\n",
       "    <tr>\n",
       "      <th>3</th>\n",
       "      <td>700</td>\n",
       "      <td>1</td>\n",
       "      <td>1.0</td>\n",
       "      <td>1.0</td>\n",
       "      <td>70</td>\n",
       "      <td>1</td>\n",
       "      <td>0</td>\n",
       "      <td>700000</td>\n",
       "      <td>99.0</td>\n",
       "      <td>10000.00</td>\n",
       "    </tr>\n",
       "    <tr>\n",
       "      <th>4</th>\n",
       "      <td>440</td>\n",
       "      <td>1</td>\n",
       "      <td>0.0</td>\n",
       "      <td>1.0</td>\n",
       "      <td>44</td>\n",
       "      <td>1</td>\n",
       "      <td>2</td>\n",
       "      <td>515000</td>\n",
       "      <td>99.0</td>\n",
       "      <td>11704.55</td>\n",
       "    </tr>\n",
       "  </tbody>\n",
       "</table>\n",
       "</div>"
      ],
      "text/plain": [
       "   condominio  quartos  suites  vagas  area  bairro  atualizacao   preco  \\\n",
       "0         350        1     0.0    1.0    21       1            1  340000   \n",
       "1         800        1     0.0    1.0    64       1            0  770000   \n",
       "2         674        1     0.0    1.0    61       1            1  600000   \n",
       "3         700        1     1.0    1.0    70       1            0  700000   \n",
       "4         440        1     0.0    1.0    44       1            2  515000   \n",
       "\n",
       "   distancia       pm2  \n",
       "0       99.0  16190.48  \n",
       "1       99.0  12031.25  \n",
       "2       99.0   9836.07  \n",
       "3       99.0  10000.00  \n",
       "4       99.0  11704.55  "
      ]
     },
     "execution_count": 56,
     "metadata": {},
     "output_type": "execute_result"
    }
   ],
   "source": [
    "imoveis.head() #inspecionando - ficou correto"
   ]
  },
  {
   "cell_type": "code",
   "execution_count": 18,
   "metadata": {},
   "outputs": [],
   "source": [
    "#abrindo dados a partir de um endereço HTML\n",
    "bancos = pd.read_html('https://www.codigobanco.com/')"
   ]
  },
  {
   "cell_type": "code",
   "execution_count": 19,
   "metadata": {},
   "outputs": [
    {
     "data": {
      "text/plain": [
       "[    Código                                              Banco  \\\n",
       " 0      654                              Banco A.J.Renner S.A.   \n",
       " 1      246                              Banco ABC Brasil S.A.   \n",
       " 2      025                                    Banco Alfa S.A.   \n",
       " 3      641                                Banco Alvorada S.A.   \n",
       " 4      213                                    Banco Arbi S.A.   \n",
       " 5      019                        Banco Azteca do Brasil S.A.   \n",
       " 6      029                                  Banco Banerj S.A.   \n",
       " 7      000                                 Banco Bankpar S.A.   \n",
       " 8      740                                Banco Barclays S.A.   \n",
       " 9      107                                     Banco BBM S.A.   \n",
       " 10     031                                     Banco Beg S.A.   \n",
       " 11     739                                     Banco BGN S.A.   \n",
       " 12     096  Banco BM&F de Serviços de Liquidação e Custódi...   \n",
       " 13     318                                     Banco BMG S.A.   \n",
       " 14     752                      Banco BNP Paribas Brasil S.A.   \n",
       " 15     248                 Banco Boavista Interatlântico S.A.   \n",
       " 16     218                              Banco Bonsucesso S.A.   \n",
       " 17     065                                  Banco Bracce S.A.   \n",
       " 18     036                            Banco Bradesco BBI S.A.   \n",
       " 19     204                        Banco Bradesco Cartões S.A.   \n",
       " 20     394                 Banco Bradesco Financiamentos S.A.   \n",
       " 21     237                                Banco Bradesco S.A.   \n",
       " 22     225                                 Banco Brascan S.A.   \n",
       " 23     M15                                     Banco BRJ S.A.   \n",
       " 24     208                             Banco BTG Pactual S.A.   \n",
       " 25     044                                     Banco BVA S.A.   \n",
       " 26     263                                 Banco Cacique S.A.   \n",
       " 27     473                    Banco Caixa Geral - Brasil S.A.   \n",
       " 28     412                                 Banco Capital S.A.   \n",
       " 29     040                                 Banco Cargill S.A.   \n",
       " ..     ...                                                ...   \n",
       " 140  092-2  Brickell S.A. Crédito, financiamento e Investi...   \n",
       " 141    104                            Caixa Econômica Federal   \n",
       " 142    477                                      Citibank N.A.   \n",
       " 143  081-7                               Concórdia Banco S.A.   \n",
       " 144  097-3  Cooperativa Central de Crédito Noroeste Brasil...   \n",
       " 145  085-x       Cooperativa Central de Crédito Urbano-CECRED   \n",
       " 146  099-x  Cooperativa Central de Economia e Credito Mutu...   \n",
       " 147  090-2  Cooperativa Central de Economia e Crédito Mutu...   \n",
       " 148  089-2  Cooperativa de Crédito Rural da Região de Mogiana   \n",
       " 149  087-6         Cooperativa Unicred Central Santa Catarina   \n",
       " 150  098-1            Credicorol Cooperativa de Crédito Rural   \n",
       " 151    487                  Deutsche Bank S.A. - Banco Alemão   \n",
       " 152    751         Dresdner Bank Brasil S.A. - Banco Múltiplo   \n",
       " 153    064        Goldman Sachs do Brasil Banco Múltiplo S.A.   \n",
       " 154    062                      Hipercard Banco Múltiplo S.A.   \n",
       " 155    399             HSBC Bank Brasil S.A. - Banco Múltiplo   \n",
       " 156    168        HSBC Finance (Brasil) S.A. - Banco Múltiplo   \n",
       " 157    492                                      ING Bank N.V.   \n",
       " 158    652                         Itaú Unibanco Holding S.A.   \n",
       " 159    341                                 Itaú Unibanco S.A.   \n",
       " 160    079                                     JBS Banco S.A.   \n",
       " 161    488                                JPMorgan Chase Bank   \n",
       " 162    014                 Natixis Brasil S.A. Banco Múltiplo   \n",
       " 163    753              NBC Bank Brasil S.A. - Banco Múltiplo   \n",
       " 164  086-8     OBOE Crédito Financiamento e Investimento S.A.   \n",
       " 165    254                                  Paraná Banco S.A.   \n",
       " 166    409        UNIBANCO - União de Bancos Brasileiros S.A.   \n",
       " 167    230                        Unicard Banco Múltiplo S.A.   \n",
       " 168  091-4               Unicred Central do Rio Grande do Sul   \n",
       " 169    084                            Unicred Norte do Paraná   \n",
       " \n",
       "                            Site  \n",
       " 0                             -  \n",
       " 1          www.abcbrasil.com.br  \n",
       " 2          www.bancoalfa.com.br  \n",
       " 3                             -  \n",
       " 4               www.arbi.com.br  \n",
       " 5                             -  \n",
       " 6             www.banerj.com.br  \n",
       " 7                  www.aexp.com  \n",
       " 8              www.barclays.com  \n",
       " 9            www.bbmbank.com.br  \n",
       " 10              www.itau.com.br  \n",
       " 11               www.bgn.com.br  \n",
       " 12               www.bmf.com.br  \n",
       " 13          www.bancobmg.com.br  \n",
       " 14        www.bnpparibas.com.br  \n",
       " 15                            -  \n",
       " 16   www.bancobonsucesso.com.br  \n",
       " 17                www.lemon.com  \n",
       " 18                            -  \n",
       " 19             www.iamex.com.br  \n",
       " 20               www.bmc.com.br  \n",
       " 21          www.bradesco.com.br  \n",
       " 22      www.bancobrascan.com.br  \n",
       " 23           www.brjbank.com.br  \n",
       " 24           www.pactual.com.br  \n",
       " 25          www.bancobva.com.br  \n",
       " 26      www.bancocacique.com.br  \n",
       " 27                            -  \n",
       " 28      www.bancocapital.com.br  \n",
       " 29      www.bancocargill.com.br  \n",
       " ..                          ...  \n",
       " 140                           -  \n",
       " 141            www.caixa.gov.br  \n",
       " 142     www.citibank.com/brasil  \n",
       " 143      www.concordiabanco.com  \n",
       " 144                           -  \n",
       " 145                           -  \n",
       " 146                           -  \n",
       " 147                           -  \n",
       " 148                           -  \n",
       " 149                           -  \n",
       " 150                           -  \n",
       " 151    www.deutsche-bank.com.br  \n",
       " 152             www.dkib.com.br  \n",
       " 153        www.goldmansachs.com  \n",
       " 154        www.hipercard.com.br  \n",
       " 155             www.hsbc.com.br  \n",
       " 156                           -  \n",
       " 157                 www.ing.com  \n",
       " 158             www.itau.com.br  \n",
       " 159             www.itau.com.br  \n",
       " 160         www.bancojbs.com.br  \n",
       " 161       www.jpmorganchase.com  \n",
       " 162                           -  \n",
       " 163          www.nbcbank.com.br  \n",
       " 164                           -  \n",
       " 165      www.paranabanco.com.br  \n",
       " 166         www.unibanco.com.br  \n",
       " 167          www.unicard.com.br  \n",
       " 168       www.unicred-rs.com.br  \n",
       " 169                           -  \n",
       " \n",
       " [170 rows x 3 columns]]"
      ]
     },
     "execution_count": 19,
     "metadata": {},
     "output_type": "execute_result"
    }
   ],
   "source": [
    "bancos #inspecionando"
   ]
  },
  {
   "cell_type": "code",
   "execution_count": 20,
   "metadata": {},
   "outputs": [
    {
     "data": {
      "text/plain": [
       "list"
      ]
     },
     "execution_count": 20,
     "metadata": {},
     "output_type": "execute_result"
    }
   ],
   "source": [
    "type(bancos) #o output é uma lista"
   ]
  },
  {
   "cell_type": "code",
   "execution_count": 21,
   "metadata": {},
   "outputs": [
    {
     "data": {
      "text/plain": [
       "1"
      ]
     },
     "execution_count": 21,
     "metadata": {},
     "output_type": "execute_result"
    }
   ],
   "source": [
    "len(bancos) #tem comprimento = 1"
   ]
  },
  {
   "cell_type": "code",
   "execution_count": 22,
   "metadata": {
    "scrolled": true
   },
   "outputs": [
    {
     "data": {
      "text/html": [
       "<div>\n",
       "<style scoped>\n",
       "    .dataframe tbody tr th:only-of-type {\n",
       "        vertical-align: middle;\n",
       "    }\n",
       "\n",
       "    .dataframe tbody tr th {\n",
       "        vertical-align: top;\n",
       "    }\n",
       "\n",
       "    .dataframe thead th {\n",
       "        text-align: right;\n",
       "    }\n",
       "</style>\n",
       "<table border=\"1\" class=\"dataframe\">\n",
       "  <thead>\n",
       "    <tr style=\"text-align: right;\">\n",
       "      <th></th>\n",
       "      <th>Código</th>\n",
       "      <th>Banco</th>\n",
       "      <th>Site</th>\n",
       "    </tr>\n",
       "  </thead>\n",
       "  <tbody>\n",
       "    <tr>\n",
       "      <th>0</th>\n",
       "      <td>654</td>\n",
       "      <td>Banco A.J.Renner S.A.</td>\n",
       "      <td>-</td>\n",
       "    </tr>\n",
       "    <tr>\n",
       "      <th>1</th>\n",
       "      <td>246</td>\n",
       "      <td>Banco ABC Brasil S.A.</td>\n",
       "      <td>www.abcbrasil.com.br</td>\n",
       "    </tr>\n",
       "    <tr>\n",
       "      <th>2</th>\n",
       "      <td>025</td>\n",
       "      <td>Banco Alfa S.A.</td>\n",
       "      <td>www.bancoalfa.com.br</td>\n",
       "    </tr>\n",
       "    <tr>\n",
       "      <th>3</th>\n",
       "      <td>641</td>\n",
       "      <td>Banco Alvorada S.A.</td>\n",
       "      <td>-</td>\n",
       "    </tr>\n",
       "    <tr>\n",
       "      <th>4</th>\n",
       "      <td>213</td>\n",
       "      <td>Banco Arbi S.A.</td>\n",
       "      <td>www.arbi.com.br</td>\n",
       "    </tr>\n",
       "    <tr>\n",
       "      <th>5</th>\n",
       "      <td>019</td>\n",
       "      <td>Banco Azteca do Brasil S.A.</td>\n",
       "      <td>-</td>\n",
       "    </tr>\n",
       "    <tr>\n",
       "      <th>6</th>\n",
       "      <td>029</td>\n",
       "      <td>Banco Banerj S.A.</td>\n",
       "      <td>www.banerj.com.br</td>\n",
       "    </tr>\n",
       "    <tr>\n",
       "      <th>7</th>\n",
       "      <td>000</td>\n",
       "      <td>Banco Bankpar S.A.</td>\n",
       "      <td>www.aexp.com</td>\n",
       "    </tr>\n",
       "    <tr>\n",
       "      <th>8</th>\n",
       "      <td>740</td>\n",
       "      <td>Banco Barclays S.A.</td>\n",
       "      <td>www.barclays.com</td>\n",
       "    </tr>\n",
       "    <tr>\n",
       "      <th>9</th>\n",
       "      <td>107</td>\n",
       "      <td>Banco BBM S.A.</td>\n",
       "      <td>www.bbmbank.com.br</td>\n",
       "    </tr>\n",
       "    <tr>\n",
       "      <th>10</th>\n",
       "      <td>031</td>\n",
       "      <td>Banco Beg S.A.</td>\n",
       "      <td>www.itau.com.br</td>\n",
       "    </tr>\n",
       "    <tr>\n",
       "      <th>11</th>\n",
       "      <td>739</td>\n",
       "      <td>Banco BGN S.A.</td>\n",
       "      <td>www.bgn.com.br</td>\n",
       "    </tr>\n",
       "    <tr>\n",
       "      <th>12</th>\n",
       "      <td>096</td>\n",
       "      <td>Banco BM&amp;F de Serviços de Liquidação e Custódi...</td>\n",
       "      <td>www.bmf.com.br</td>\n",
       "    </tr>\n",
       "    <tr>\n",
       "      <th>13</th>\n",
       "      <td>318</td>\n",
       "      <td>Banco BMG S.A.</td>\n",
       "      <td>www.bancobmg.com.br</td>\n",
       "    </tr>\n",
       "    <tr>\n",
       "      <th>14</th>\n",
       "      <td>752</td>\n",
       "      <td>Banco BNP Paribas Brasil S.A.</td>\n",
       "      <td>www.bnpparibas.com.br</td>\n",
       "    </tr>\n",
       "    <tr>\n",
       "      <th>15</th>\n",
       "      <td>248</td>\n",
       "      <td>Banco Boavista Interatlântico S.A.</td>\n",
       "      <td>-</td>\n",
       "    </tr>\n",
       "    <tr>\n",
       "      <th>16</th>\n",
       "      <td>218</td>\n",
       "      <td>Banco Bonsucesso S.A.</td>\n",
       "      <td>www.bancobonsucesso.com.br</td>\n",
       "    </tr>\n",
       "    <tr>\n",
       "      <th>17</th>\n",
       "      <td>065</td>\n",
       "      <td>Banco Bracce S.A.</td>\n",
       "      <td>www.lemon.com</td>\n",
       "    </tr>\n",
       "    <tr>\n",
       "      <th>18</th>\n",
       "      <td>036</td>\n",
       "      <td>Banco Bradesco BBI S.A.</td>\n",
       "      <td>-</td>\n",
       "    </tr>\n",
       "    <tr>\n",
       "      <th>19</th>\n",
       "      <td>204</td>\n",
       "      <td>Banco Bradesco Cartões S.A.</td>\n",
       "      <td>www.iamex.com.br</td>\n",
       "    </tr>\n",
       "    <tr>\n",
       "      <th>20</th>\n",
       "      <td>394</td>\n",
       "      <td>Banco Bradesco Financiamentos S.A.</td>\n",
       "      <td>www.bmc.com.br</td>\n",
       "    </tr>\n",
       "    <tr>\n",
       "      <th>21</th>\n",
       "      <td>237</td>\n",
       "      <td>Banco Bradesco S.A.</td>\n",
       "      <td>www.bradesco.com.br</td>\n",
       "    </tr>\n",
       "    <tr>\n",
       "      <th>22</th>\n",
       "      <td>225</td>\n",
       "      <td>Banco Brascan S.A.</td>\n",
       "      <td>www.bancobrascan.com.br</td>\n",
       "    </tr>\n",
       "    <tr>\n",
       "      <th>23</th>\n",
       "      <td>M15</td>\n",
       "      <td>Banco BRJ S.A.</td>\n",
       "      <td>www.brjbank.com.br</td>\n",
       "    </tr>\n",
       "    <tr>\n",
       "      <th>24</th>\n",
       "      <td>208</td>\n",
       "      <td>Banco BTG Pactual S.A.</td>\n",
       "      <td>www.pactual.com.br</td>\n",
       "    </tr>\n",
       "    <tr>\n",
       "      <th>25</th>\n",
       "      <td>044</td>\n",
       "      <td>Banco BVA S.A.</td>\n",
       "      <td>www.bancobva.com.br</td>\n",
       "    </tr>\n",
       "    <tr>\n",
       "      <th>26</th>\n",
       "      <td>263</td>\n",
       "      <td>Banco Cacique S.A.</td>\n",
       "      <td>www.bancocacique.com.br</td>\n",
       "    </tr>\n",
       "    <tr>\n",
       "      <th>27</th>\n",
       "      <td>473</td>\n",
       "      <td>Banco Caixa Geral - Brasil S.A.</td>\n",
       "      <td>-</td>\n",
       "    </tr>\n",
       "    <tr>\n",
       "      <th>28</th>\n",
       "      <td>412</td>\n",
       "      <td>Banco Capital S.A.</td>\n",
       "      <td>www.bancocapital.com.br</td>\n",
       "    </tr>\n",
       "    <tr>\n",
       "      <th>29</th>\n",
       "      <td>040</td>\n",
       "      <td>Banco Cargill S.A.</td>\n",
       "      <td>www.bancocargill.com.br</td>\n",
       "    </tr>\n",
       "    <tr>\n",
       "      <th>...</th>\n",
       "      <td>...</td>\n",
       "      <td>...</td>\n",
       "      <td>...</td>\n",
       "    </tr>\n",
       "    <tr>\n",
       "      <th>140</th>\n",
       "      <td>092-2</td>\n",
       "      <td>Brickell S.A. Crédito, financiamento e Investi...</td>\n",
       "      <td>-</td>\n",
       "    </tr>\n",
       "    <tr>\n",
       "      <th>141</th>\n",
       "      <td>104</td>\n",
       "      <td>Caixa Econômica Federal</td>\n",
       "      <td>www.caixa.gov.br</td>\n",
       "    </tr>\n",
       "    <tr>\n",
       "      <th>142</th>\n",
       "      <td>477</td>\n",
       "      <td>Citibank N.A.</td>\n",
       "      <td>www.citibank.com/brasil</td>\n",
       "    </tr>\n",
       "    <tr>\n",
       "      <th>143</th>\n",
       "      <td>081-7</td>\n",
       "      <td>Concórdia Banco S.A.</td>\n",
       "      <td>www.concordiabanco.com</td>\n",
       "    </tr>\n",
       "    <tr>\n",
       "      <th>144</th>\n",
       "      <td>097-3</td>\n",
       "      <td>Cooperativa Central de Crédito Noroeste Brasil...</td>\n",
       "      <td>-</td>\n",
       "    </tr>\n",
       "    <tr>\n",
       "      <th>145</th>\n",
       "      <td>085-x</td>\n",
       "      <td>Cooperativa Central de Crédito Urbano-CECRED</td>\n",
       "      <td>-</td>\n",
       "    </tr>\n",
       "    <tr>\n",
       "      <th>146</th>\n",
       "      <td>099-x</td>\n",
       "      <td>Cooperativa Central de Economia e Credito Mutu...</td>\n",
       "      <td>-</td>\n",
       "    </tr>\n",
       "    <tr>\n",
       "      <th>147</th>\n",
       "      <td>090-2</td>\n",
       "      <td>Cooperativa Central de Economia e Crédito Mutu...</td>\n",
       "      <td>-</td>\n",
       "    </tr>\n",
       "    <tr>\n",
       "      <th>148</th>\n",
       "      <td>089-2</td>\n",
       "      <td>Cooperativa de Crédito Rural da Região de Mogiana</td>\n",
       "      <td>-</td>\n",
       "    </tr>\n",
       "    <tr>\n",
       "      <th>149</th>\n",
       "      <td>087-6</td>\n",
       "      <td>Cooperativa Unicred Central Santa Catarina</td>\n",
       "      <td>-</td>\n",
       "    </tr>\n",
       "    <tr>\n",
       "      <th>150</th>\n",
       "      <td>098-1</td>\n",
       "      <td>Credicorol Cooperativa de Crédito Rural</td>\n",
       "      <td>-</td>\n",
       "    </tr>\n",
       "    <tr>\n",
       "      <th>151</th>\n",
       "      <td>487</td>\n",
       "      <td>Deutsche Bank S.A. - Banco Alemão</td>\n",
       "      <td>www.deutsche-bank.com.br</td>\n",
       "    </tr>\n",
       "    <tr>\n",
       "      <th>152</th>\n",
       "      <td>751</td>\n",
       "      <td>Dresdner Bank Brasil S.A. - Banco Múltiplo</td>\n",
       "      <td>www.dkib.com.br</td>\n",
       "    </tr>\n",
       "    <tr>\n",
       "      <th>153</th>\n",
       "      <td>064</td>\n",
       "      <td>Goldman Sachs do Brasil Banco Múltiplo S.A.</td>\n",
       "      <td>www.goldmansachs.com</td>\n",
       "    </tr>\n",
       "    <tr>\n",
       "      <th>154</th>\n",
       "      <td>062</td>\n",
       "      <td>Hipercard Banco Múltiplo S.A.</td>\n",
       "      <td>www.hipercard.com.br</td>\n",
       "    </tr>\n",
       "    <tr>\n",
       "      <th>155</th>\n",
       "      <td>399</td>\n",
       "      <td>HSBC Bank Brasil S.A. - Banco Múltiplo</td>\n",
       "      <td>www.hsbc.com.br</td>\n",
       "    </tr>\n",
       "    <tr>\n",
       "      <th>156</th>\n",
       "      <td>168</td>\n",
       "      <td>HSBC Finance (Brasil) S.A. - Banco Múltiplo</td>\n",
       "      <td>-</td>\n",
       "    </tr>\n",
       "    <tr>\n",
       "      <th>157</th>\n",
       "      <td>492</td>\n",
       "      <td>ING Bank N.V.</td>\n",
       "      <td>www.ing.com</td>\n",
       "    </tr>\n",
       "    <tr>\n",
       "      <th>158</th>\n",
       "      <td>652</td>\n",
       "      <td>Itaú Unibanco Holding S.A.</td>\n",
       "      <td>www.itau.com.br</td>\n",
       "    </tr>\n",
       "    <tr>\n",
       "      <th>159</th>\n",
       "      <td>341</td>\n",
       "      <td>Itaú Unibanco S.A.</td>\n",
       "      <td>www.itau.com.br</td>\n",
       "    </tr>\n",
       "    <tr>\n",
       "      <th>160</th>\n",
       "      <td>079</td>\n",
       "      <td>JBS Banco S.A.</td>\n",
       "      <td>www.bancojbs.com.br</td>\n",
       "    </tr>\n",
       "    <tr>\n",
       "      <th>161</th>\n",
       "      <td>488</td>\n",
       "      <td>JPMorgan Chase Bank</td>\n",
       "      <td>www.jpmorganchase.com</td>\n",
       "    </tr>\n",
       "    <tr>\n",
       "      <th>162</th>\n",
       "      <td>014</td>\n",
       "      <td>Natixis Brasil S.A. Banco Múltiplo</td>\n",
       "      <td>-</td>\n",
       "    </tr>\n",
       "    <tr>\n",
       "      <th>163</th>\n",
       "      <td>753</td>\n",
       "      <td>NBC Bank Brasil S.A. - Banco Múltiplo</td>\n",
       "      <td>www.nbcbank.com.br</td>\n",
       "    </tr>\n",
       "    <tr>\n",
       "      <th>164</th>\n",
       "      <td>086-8</td>\n",
       "      <td>OBOE Crédito Financiamento e Investimento S.A.</td>\n",
       "      <td>-</td>\n",
       "    </tr>\n",
       "    <tr>\n",
       "      <th>165</th>\n",
       "      <td>254</td>\n",
       "      <td>Paraná Banco S.A.</td>\n",
       "      <td>www.paranabanco.com.br</td>\n",
       "    </tr>\n",
       "    <tr>\n",
       "      <th>166</th>\n",
       "      <td>409</td>\n",
       "      <td>UNIBANCO - União de Bancos Brasileiros S.A.</td>\n",
       "      <td>www.unibanco.com.br</td>\n",
       "    </tr>\n",
       "    <tr>\n",
       "      <th>167</th>\n",
       "      <td>230</td>\n",
       "      <td>Unicard Banco Múltiplo S.A.</td>\n",
       "      <td>www.unicard.com.br</td>\n",
       "    </tr>\n",
       "    <tr>\n",
       "      <th>168</th>\n",
       "      <td>091-4</td>\n",
       "      <td>Unicred Central do Rio Grande do Sul</td>\n",
       "      <td>www.unicred-rs.com.br</td>\n",
       "    </tr>\n",
       "    <tr>\n",
       "      <th>169</th>\n",
       "      <td>084</td>\n",
       "      <td>Unicred Norte do Paraná</td>\n",
       "      <td>-</td>\n",
       "    </tr>\n",
       "  </tbody>\n",
       "</table>\n",
       "<p>170 rows × 3 columns</p>\n",
       "</div>"
      ],
      "text/plain": [
       "    Código                                              Banco  \\\n",
       "0      654                              Banco A.J.Renner S.A.   \n",
       "1      246                              Banco ABC Brasil S.A.   \n",
       "2      025                                    Banco Alfa S.A.   \n",
       "3      641                                Banco Alvorada S.A.   \n",
       "4      213                                    Banco Arbi S.A.   \n",
       "5      019                        Banco Azteca do Brasil S.A.   \n",
       "6      029                                  Banco Banerj S.A.   \n",
       "7      000                                 Banco Bankpar S.A.   \n",
       "8      740                                Banco Barclays S.A.   \n",
       "9      107                                     Banco BBM S.A.   \n",
       "10     031                                     Banco Beg S.A.   \n",
       "11     739                                     Banco BGN S.A.   \n",
       "12     096  Banco BM&F de Serviços de Liquidação e Custódi...   \n",
       "13     318                                     Banco BMG S.A.   \n",
       "14     752                      Banco BNP Paribas Brasil S.A.   \n",
       "15     248                 Banco Boavista Interatlântico S.A.   \n",
       "16     218                              Banco Bonsucesso S.A.   \n",
       "17     065                                  Banco Bracce S.A.   \n",
       "18     036                            Banco Bradesco BBI S.A.   \n",
       "19     204                        Banco Bradesco Cartões S.A.   \n",
       "20     394                 Banco Bradesco Financiamentos S.A.   \n",
       "21     237                                Banco Bradesco S.A.   \n",
       "22     225                                 Banco Brascan S.A.   \n",
       "23     M15                                     Banco BRJ S.A.   \n",
       "24     208                             Banco BTG Pactual S.A.   \n",
       "25     044                                     Banco BVA S.A.   \n",
       "26     263                                 Banco Cacique S.A.   \n",
       "27     473                    Banco Caixa Geral - Brasil S.A.   \n",
       "28     412                                 Banco Capital S.A.   \n",
       "29     040                                 Banco Cargill S.A.   \n",
       "..     ...                                                ...   \n",
       "140  092-2  Brickell S.A. Crédito, financiamento e Investi...   \n",
       "141    104                            Caixa Econômica Federal   \n",
       "142    477                                      Citibank N.A.   \n",
       "143  081-7                               Concórdia Banco S.A.   \n",
       "144  097-3  Cooperativa Central de Crédito Noroeste Brasil...   \n",
       "145  085-x       Cooperativa Central de Crédito Urbano-CECRED   \n",
       "146  099-x  Cooperativa Central de Economia e Credito Mutu...   \n",
       "147  090-2  Cooperativa Central de Economia e Crédito Mutu...   \n",
       "148  089-2  Cooperativa de Crédito Rural da Região de Mogiana   \n",
       "149  087-6         Cooperativa Unicred Central Santa Catarina   \n",
       "150  098-1            Credicorol Cooperativa de Crédito Rural   \n",
       "151    487                  Deutsche Bank S.A. - Banco Alemão   \n",
       "152    751         Dresdner Bank Brasil S.A. - Banco Múltiplo   \n",
       "153    064        Goldman Sachs do Brasil Banco Múltiplo S.A.   \n",
       "154    062                      Hipercard Banco Múltiplo S.A.   \n",
       "155    399             HSBC Bank Brasil S.A. - Banco Múltiplo   \n",
       "156    168        HSBC Finance (Brasil) S.A. - Banco Múltiplo   \n",
       "157    492                                      ING Bank N.V.   \n",
       "158    652                         Itaú Unibanco Holding S.A.   \n",
       "159    341                                 Itaú Unibanco S.A.   \n",
       "160    079                                     JBS Banco S.A.   \n",
       "161    488                                JPMorgan Chase Bank   \n",
       "162    014                 Natixis Brasil S.A. Banco Múltiplo   \n",
       "163    753              NBC Bank Brasil S.A. - Banco Múltiplo   \n",
       "164  086-8     OBOE Crédito Financiamento e Investimento S.A.   \n",
       "165    254                                  Paraná Banco S.A.   \n",
       "166    409        UNIBANCO - União de Bancos Brasileiros S.A.   \n",
       "167    230                        Unicard Banco Múltiplo S.A.   \n",
       "168  091-4               Unicred Central do Rio Grande do Sul   \n",
       "169    084                            Unicred Norte do Paraná   \n",
       "\n",
       "                           Site  \n",
       "0                             -  \n",
       "1          www.abcbrasil.com.br  \n",
       "2          www.bancoalfa.com.br  \n",
       "3                             -  \n",
       "4               www.arbi.com.br  \n",
       "5                             -  \n",
       "6             www.banerj.com.br  \n",
       "7                  www.aexp.com  \n",
       "8              www.barclays.com  \n",
       "9            www.bbmbank.com.br  \n",
       "10              www.itau.com.br  \n",
       "11               www.bgn.com.br  \n",
       "12               www.bmf.com.br  \n",
       "13          www.bancobmg.com.br  \n",
       "14        www.bnpparibas.com.br  \n",
       "15                            -  \n",
       "16   www.bancobonsucesso.com.br  \n",
       "17                www.lemon.com  \n",
       "18                            -  \n",
       "19             www.iamex.com.br  \n",
       "20               www.bmc.com.br  \n",
       "21          www.bradesco.com.br  \n",
       "22      www.bancobrascan.com.br  \n",
       "23           www.brjbank.com.br  \n",
       "24           www.pactual.com.br  \n",
       "25          www.bancobva.com.br  \n",
       "26      www.bancocacique.com.br  \n",
       "27                            -  \n",
       "28      www.bancocapital.com.br  \n",
       "29      www.bancocargill.com.br  \n",
       "..                          ...  \n",
       "140                           -  \n",
       "141            www.caixa.gov.br  \n",
       "142     www.citibank.com/brasil  \n",
       "143      www.concordiabanco.com  \n",
       "144                           -  \n",
       "145                           -  \n",
       "146                           -  \n",
       "147                           -  \n",
       "148                           -  \n",
       "149                           -  \n",
       "150                           -  \n",
       "151    www.deutsche-bank.com.br  \n",
       "152             www.dkib.com.br  \n",
       "153        www.goldmansachs.com  \n",
       "154        www.hipercard.com.br  \n",
       "155             www.hsbc.com.br  \n",
       "156                           -  \n",
       "157                 www.ing.com  \n",
       "158             www.itau.com.br  \n",
       "159             www.itau.com.br  \n",
       "160         www.bancojbs.com.br  \n",
       "161       www.jpmorganchase.com  \n",
       "162                           -  \n",
       "163          www.nbcbank.com.br  \n",
       "164                           -  \n",
       "165      www.paranabanco.com.br  \n",
       "166         www.unibanco.com.br  \n",
       "167          www.unicard.com.br  \n",
       "168       www.unicred-rs.com.br  \n",
       "169                           -  \n",
       "\n",
       "[170 rows x 3 columns]"
      ]
     },
     "execution_count": 22,
     "metadata": {},
     "output_type": "execute_result"
    }
   ],
   "source": [
    "bancos[0] #este item é o DataFrame!"
   ]
  },
  {
   "cell_type": "markdown",
   "metadata": {},
   "source": [
    "**Pivot table**"
   ]
  },
  {
   "cell_type": "code",
   "execution_count": 63,
   "metadata": {},
   "outputs": [],
   "source": [
    "turistas = pd.read_csv('touristData.csv')"
   ]
  },
  {
   "cell_type": "code",
   "execution_count": 61,
   "metadata": {},
   "outputs": [
    {
     "data": {
      "text/html": [
       "<div>\n",
       "<style scoped>\n",
       "    .dataframe tbody tr th:only-of-type {\n",
       "        vertical-align: middle;\n",
       "    }\n",
       "\n",
       "    .dataframe tbody tr th {\n",
       "        vertical-align: top;\n",
       "    }\n",
       "\n",
       "    .dataframe thead th {\n",
       "        text-align: right;\n",
       "    }\n",
       "</style>\n",
       "<table border=\"1\" class=\"dataframe\">\n",
       "  <thead>\n",
       "    <tr style=\"text-align: right;\">\n",
       "      <th></th>\n",
       "      <th>Continent</th>\n",
       "      <th>Country</th>\n",
       "      <th>State</th>\n",
       "      <th>WayIn</th>\n",
       "      <th>Year</th>\n",
       "      <th>Month</th>\n",
       "      <th>Count</th>\n",
       "    </tr>\n",
       "  </thead>\n",
       "  <tbody>\n",
       "    <tr>\n",
       "      <th>0</th>\n",
       "      <td>Africa</td>\n",
       "      <td>South Africa</td>\n",
       "      <td>Amazonas</td>\n",
       "      <td>Air</td>\n",
       "      <td>1989</td>\n",
       "      <td>janeiro</td>\n",
       "      <td>9.0</td>\n",
       "    </tr>\n",
       "    <tr>\n",
       "      <th>1</th>\n",
       "      <td>Africa</td>\n",
       "      <td>Angola</td>\n",
       "      <td>Amazonas</td>\n",
       "      <td>Air</td>\n",
       "      <td>1989</td>\n",
       "      <td>janeiro</td>\n",
       "      <td>0.0</td>\n",
       "    </tr>\n",
       "    <tr>\n",
       "      <th>2</th>\n",
       "      <td>Africa</td>\n",
       "      <td>Nigeria</td>\n",
       "      <td>Amazonas</td>\n",
       "      <td>Air</td>\n",
       "      <td>1989</td>\n",
       "      <td>janeiro</td>\n",
       "      <td>0.0</td>\n",
       "    </tr>\n",
       "    <tr>\n",
       "      <th>3</th>\n",
       "      <td>Africa</td>\n",
       "      <td>Other countries</td>\n",
       "      <td>Amazonas</td>\n",
       "      <td>Air</td>\n",
       "      <td>1989</td>\n",
       "      <td>janeiro</td>\n",
       "      <td>0.0</td>\n",
       "    </tr>\n",
       "    <tr>\n",
       "      <th>4</th>\n",
       "      <td>Central America and Caribbean</td>\n",
       "      <td>Costa Rica</td>\n",
       "      <td>Amazonas</td>\n",
       "      <td>Air</td>\n",
       "      <td>1989</td>\n",
       "      <td>janeiro</td>\n",
       "      <td>6.0</td>\n",
       "    </tr>\n",
       "  </tbody>\n",
       "</table>\n",
       "</div>"
      ],
      "text/plain": [
       "                       Continent          Country     State WayIn  Year  \\\n",
       "0                         Africa     South Africa  Amazonas   Air  1989   \n",
       "1                         Africa           Angola  Amazonas   Air  1989   \n",
       "2                         Africa          Nigeria  Amazonas   Air  1989   \n",
       "3                         Africa  Other countries  Amazonas   Air  1989   \n",
       "4  Central America and Caribbean       Costa Rica  Amazonas   Air  1989   \n",
       "\n",
       "     Month  Count  \n",
       "0  janeiro    9.0  \n",
       "1  janeiro    0.0  \n",
       "2  janeiro    0.0  \n",
       "3  janeiro    0.0  \n",
       "4  janeiro    6.0  "
      ]
     },
     "execution_count": 61,
     "metadata": {},
     "output_type": "execute_result"
    }
   ],
   "source": [
    "turistas.head()"
   ]
  },
  {
   "cell_type": "code",
   "execution_count": 67,
   "metadata": {},
   "outputs": [
    {
     "data": {
      "text/html": [
       "<div>\n",
       "<style scoped>\n",
       "    .dataframe tbody tr th:only-of-type {\n",
       "        vertical-align: middle;\n",
       "    }\n",
       "\n",
       "    .dataframe tbody tr th {\n",
       "        vertical-align: top;\n",
       "    }\n",
       "\n",
       "    .dataframe thead tr th {\n",
       "        text-align: left;\n",
       "    }\n",
       "\n",
       "    .dataframe thead tr:last-of-type th {\n",
       "        text-align: right;\n",
       "    }\n",
       "</style>\n",
       "<table border=\"1\" class=\"dataframe\">\n",
       "  <thead>\n",
       "    <tr>\n",
       "      <th></th>\n",
       "      <th>Year</th>\n",
       "      <th colspan=\"10\" halign=\"left\">1989</th>\n",
       "      <th>...</th>\n",
       "      <th colspan=\"10\" halign=\"left\">2015</th>\n",
       "    </tr>\n",
       "    <tr>\n",
       "      <th></th>\n",
       "      <th>Month</th>\n",
       "      <th>abril</th>\n",
       "      <th>agosto</th>\n",
       "      <th>dezembro</th>\n",
       "      <th>fevereiro</th>\n",
       "      <th>janeiro</th>\n",
       "      <th>julho</th>\n",
       "      <th>junho</th>\n",
       "      <th>maio</th>\n",
       "      <th>março</th>\n",
       "      <th>novembro</th>\n",
       "      <th>...</th>\n",
       "      <th>dezembro</th>\n",
       "      <th>fevereiro</th>\n",
       "      <th>janeiro</th>\n",
       "      <th>julho</th>\n",
       "      <th>junho</th>\n",
       "      <th>maio</th>\n",
       "      <th>março</th>\n",
       "      <th>novembro</th>\n",
       "      <th>outubro</th>\n",
       "      <th>setembro</th>\n",
       "    </tr>\n",
       "    <tr>\n",
       "      <th>Country</th>\n",
       "      <th>State</th>\n",
       "      <th></th>\n",
       "      <th></th>\n",
       "      <th></th>\n",
       "      <th></th>\n",
       "      <th></th>\n",
       "      <th></th>\n",
       "      <th></th>\n",
       "      <th></th>\n",
       "      <th></th>\n",
       "      <th></th>\n",
       "      <th></th>\n",
       "      <th></th>\n",
       "      <th></th>\n",
       "      <th></th>\n",
       "      <th></th>\n",
       "      <th></th>\n",
       "      <th></th>\n",
       "      <th></th>\n",
       "      <th></th>\n",
       "      <th></th>\n",
       "      <th></th>\n",
       "    </tr>\n",
       "  </thead>\n",
       "  <tbody>\n",
       "    <tr>\n",
       "      <th rowspan=\"18\" valign=\"top\">Angola</th>\n",
       "      <th>Acre</th>\n",
       "      <td>NaN</td>\n",
       "      <td>NaN</td>\n",
       "      <td>NaN</td>\n",
       "      <td>NaN</td>\n",
       "      <td>NaN</td>\n",
       "      <td>NaN</td>\n",
       "      <td>NaN</td>\n",
       "      <td>NaN</td>\n",
       "      <td>NaN</td>\n",
       "      <td>NaN</td>\n",
       "      <td>...</td>\n",
       "      <td>0.0</td>\n",
       "      <td>0.0</td>\n",
       "      <td>0.0</td>\n",
       "      <td>0.0</td>\n",
       "      <td>0.0</td>\n",
       "      <td>0.0</td>\n",
       "      <td>0.0</td>\n",
       "      <td>0.0</td>\n",
       "      <td>0.0</td>\n",
       "      <td>0.0</td>\n",
       "    </tr>\n",
       "    <tr>\n",
       "      <th>Amapá</th>\n",
       "      <td>NaN</td>\n",
       "      <td>NaN</td>\n",
       "      <td>NaN</td>\n",
       "      <td>NaN</td>\n",
       "      <td>NaN</td>\n",
       "      <td>NaN</td>\n",
       "      <td>NaN</td>\n",
       "      <td>NaN</td>\n",
       "      <td>NaN</td>\n",
       "      <td>NaN</td>\n",
       "      <td>...</td>\n",
       "      <td>0.0</td>\n",
       "      <td>0.0</td>\n",
       "      <td>0.0</td>\n",
       "      <td>0.0</td>\n",
       "      <td>0.0</td>\n",
       "      <td>0.0</td>\n",
       "      <td>0.0</td>\n",
       "      <td>0.0</td>\n",
       "      <td>0.0</td>\n",
       "      <td>0.0</td>\n",
       "    </tr>\n",
       "    <tr>\n",
       "      <th>Amazonas</th>\n",
       "      <td>0.0</td>\n",
       "      <td>0.0</td>\n",
       "      <td>2.0</td>\n",
       "      <td>0.0</td>\n",
       "      <td>0.0</td>\n",
       "      <td>0.0</td>\n",
       "      <td>0.0</td>\n",
       "      <td>0.0</td>\n",
       "      <td>0.0</td>\n",
       "      <td>0.0</td>\n",
       "      <td>...</td>\n",
       "      <td>1.0</td>\n",
       "      <td>0.0</td>\n",
       "      <td>0.0</td>\n",
       "      <td>0.0</td>\n",
       "      <td>1.0</td>\n",
       "      <td>0.0</td>\n",
       "      <td>0.0</td>\n",
       "      <td>2.0</td>\n",
       "      <td>0.0</td>\n",
       "      <td>1.0</td>\n",
       "    </tr>\n",
       "    <tr>\n",
       "      <th>Bahia</th>\n",
       "      <td>0.0</td>\n",
       "      <td>0.0</td>\n",
       "      <td>0.0</td>\n",
       "      <td>0.0</td>\n",
       "      <td>0.0</td>\n",
       "      <td>0.0</td>\n",
       "      <td>0.0</td>\n",
       "      <td>0.0</td>\n",
       "      <td>1.0</td>\n",
       "      <td>0.0</td>\n",
       "      <td>...</td>\n",
       "      <td>1.0</td>\n",
       "      <td>1.0</td>\n",
       "      <td>1.0</td>\n",
       "      <td>7.0</td>\n",
       "      <td>0.0</td>\n",
       "      <td>3.0</td>\n",
       "      <td>12.0</td>\n",
       "      <td>0.0</td>\n",
       "      <td>1.0</td>\n",
       "      <td>0.0</td>\n",
       "    </tr>\n",
       "    <tr>\n",
       "      <th>Ceará</th>\n",
       "      <td>NaN</td>\n",
       "      <td>NaN</td>\n",
       "      <td>NaN</td>\n",
       "      <td>NaN</td>\n",
       "      <td>NaN</td>\n",
       "      <td>NaN</td>\n",
       "      <td>NaN</td>\n",
       "      <td>NaN</td>\n",
       "      <td>NaN</td>\n",
       "      <td>NaN</td>\n",
       "      <td>...</td>\n",
       "      <td>2.0</td>\n",
       "      <td>2.0</td>\n",
       "      <td>3.0</td>\n",
       "      <td>0.0</td>\n",
       "      <td>10.0</td>\n",
       "      <td>0.0</td>\n",
       "      <td>0.0</td>\n",
       "      <td>0.0</td>\n",
       "      <td>0.0</td>\n",
       "      <td>2.0</td>\n",
       "    </tr>\n",
       "    <tr>\n",
       "      <th>Distrito Federal</th>\n",
       "      <td>0.0</td>\n",
       "      <td>0.0</td>\n",
       "      <td>0.0</td>\n",
       "      <td>1.0</td>\n",
       "      <td>0.0</td>\n",
       "      <td>0.0</td>\n",
       "      <td>0.0</td>\n",
       "      <td>0.0</td>\n",
       "      <td>0.0</td>\n",
       "      <td>0.0</td>\n",
       "      <td>...</td>\n",
       "      <td>4.0</td>\n",
       "      <td>2.0</td>\n",
       "      <td>6.0</td>\n",
       "      <td>6.0</td>\n",
       "      <td>4.0</td>\n",
       "      <td>6.0</td>\n",
       "      <td>4.0</td>\n",
       "      <td>10.0</td>\n",
       "      <td>4.0</td>\n",
       "      <td>0.0</td>\n",
       "    </tr>\n",
       "    <tr>\n",
       "      <th>Mato Grosso do Sul</th>\n",
       "      <td>0.0</td>\n",
       "      <td>0.0</td>\n",
       "      <td>1.0</td>\n",
       "      <td>0.0</td>\n",
       "      <td>0.0</td>\n",
       "      <td>0.0</td>\n",
       "      <td>0.0</td>\n",
       "      <td>0.0</td>\n",
       "      <td>0.0</td>\n",
       "      <td>0.0</td>\n",
       "      <td>...</td>\n",
       "      <td>0.0</td>\n",
       "      <td>1.0</td>\n",
       "      <td>1.0</td>\n",
       "      <td>0.0</td>\n",
       "      <td>0.0</td>\n",
       "      <td>0.0</td>\n",
       "      <td>0.0</td>\n",
       "      <td>0.0</td>\n",
       "      <td>0.0</td>\n",
       "      <td>0.0</td>\n",
       "    </tr>\n",
       "    <tr>\n",
       "      <th>Minas Gerais</th>\n",
       "      <td>NaN</td>\n",
       "      <td>NaN</td>\n",
       "      <td>NaN</td>\n",
       "      <td>NaN</td>\n",
       "      <td>NaN</td>\n",
       "      <td>NaN</td>\n",
       "      <td>NaN</td>\n",
       "      <td>NaN</td>\n",
       "      <td>NaN</td>\n",
       "      <td>NaN</td>\n",
       "      <td>...</td>\n",
       "      <td>3.0</td>\n",
       "      <td>3.0</td>\n",
       "      <td>3.0</td>\n",
       "      <td>3.0</td>\n",
       "      <td>0.0</td>\n",
       "      <td>3.0</td>\n",
       "      <td>0.0</td>\n",
       "      <td>0.0</td>\n",
       "      <td>3.0</td>\n",
       "      <td>0.0</td>\n",
       "    </tr>\n",
       "    <tr>\n",
       "      <th>Outras Unidades da Federação</th>\n",
       "      <td>0.0</td>\n",
       "      <td>0.0</td>\n",
       "      <td>0.0</td>\n",
       "      <td>0.0</td>\n",
       "      <td>0.0</td>\n",
       "      <td>0.0</td>\n",
       "      <td>1.0</td>\n",
       "      <td>0.0</td>\n",
       "      <td>0.0</td>\n",
       "      <td>0.0</td>\n",
       "      <td>...</td>\n",
       "      <td>0.0</td>\n",
       "      <td>2.0</td>\n",
       "      <td>0.0</td>\n",
       "      <td>0.0</td>\n",
       "      <td>0.0</td>\n",
       "      <td>1.0</td>\n",
       "      <td>0.0</td>\n",
       "      <td>0.0</td>\n",
       "      <td>0.0</td>\n",
       "      <td>0.0</td>\n",
       "    </tr>\n",
       "    <tr>\n",
       "      <th>Paraná</th>\n",
       "      <td>2.0</td>\n",
       "      <td>7.0</td>\n",
       "      <td>2.0</td>\n",
       "      <td>3.0</td>\n",
       "      <td>1.0</td>\n",
       "      <td>7.0</td>\n",
       "      <td>1.0</td>\n",
       "      <td>6.0</td>\n",
       "      <td>2.0</td>\n",
       "      <td>2.0</td>\n",
       "      <td>...</td>\n",
       "      <td>4.0</td>\n",
       "      <td>18.0</td>\n",
       "      <td>10.0</td>\n",
       "      <td>31.0</td>\n",
       "      <td>8.0</td>\n",
       "      <td>4.0</td>\n",
       "      <td>1.0</td>\n",
       "      <td>8.0</td>\n",
       "      <td>8.0</td>\n",
       "      <td>0.0</td>\n",
       "    </tr>\n",
       "    <tr>\n",
       "      <th>Pará</th>\n",
       "      <td>0.0</td>\n",
       "      <td>0.0</td>\n",
       "      <td>0.0</td>\n",
       "      <td>0.0</td>\n",
       "      <td>0.0</td>\n",
       "      <td>0.0</td>\n",
       "      <td>0.0</td>\n",
       "      <td>0.0</td>\n",
       "      <td>0.0</td>\n",
       "      <td>0.0</td>\n",
       "      <td>...</td>\n",
       "      <td>0.0</td>\n",
       "      <td>0.0</td>\n",
       "      <td>0.0</td>\n",
       "      <td>0.0</td>\n",
       "      <td>0.0</td>\n",
       "      <td>0.0</td>\n",
       "      <td>0.0</td>\n",
       "      <td>0.0</td>\n",
       "      <td>0.0</td>\n",
       "      <td>0.0</td>\n",
       "    </tr>\n",
       "    <tr>\n",
       "      <th>Pernambuco</th>\n",
       "      <td>1.0</td>\n",
       "      <td>0.0</td>\n",
       "      <td>1.0</td>\n",
       "      <td>0.0</td>\n",
       "      <td>0.0</td>\n",
       "      <td>1.0</td>\n",
       "      <td>0.0</td>\n",
       "      <td>0.0</td>\n",
       "      <td>0.0</td>\n",
       "      <td>2.0</td>\n",
       "      <td>...</td>\n",
       "      <td>14.0</td>\n",
       "      <td>0.0</td>\n",
       "      <td>2.0</td>\n",
       "      <td>3.0</td>\n",
       "      <td>0.0</td>\n",
       "      <td>0.0</td>\n",
       "      <td>0.0</td>\n",
       "      <td>0.0</td>\n",
       "      <td>2.0</td>\n",
       "      <td>2.0</td>\n",
       "    </tr>\n",
       "    <tr>\n",
       "      <th>Rio Grande do Norte</th>\n",
       "      <td>NaN</td>\n",
       "      <td>NaN</td>\n",
       "      <td>NaN</td>\n",
       "      <td>NaN</td>\n",
       "      <td>NaN</td>\n",
       "      <td>NaN</td>\n",
       "      <td>NaN</td>\n",
       "      <td>NaN</td>\n",
       "      <td>NaN</td>\n",
       "      <td>NaN</td>\n",
       "      <td>...</td>\n",
       "      <td>0.0</td>\n",
       "      <td>0.0</td>\n",
       "      <td>0.0</td>\n",
       "      <td>1.0</td>\n",
       "      <td>0.0</td>\n",
       "      <td>0.0</td>\n",
       "      <td>0.0</td>\n",
       "      <td>0.0</td>\n",
       "      <td>0.0</td>\n",
       "      <td>0.0</td>\n",
       "    </tr>\n",
       "    <tr>\n",
       "      <th>Rio Grande do Sul</th>\n",
       "      <td>2.0</td>\n",
       "      <td>1.0</td>\n",
       "      <td>1.0</td>\n",
       "      <td>0.0</td>\n",
       "      <td>1.0</td>\n",
       "      <td>0.0</td>\n",
       "      <td>0.0</td>\n",
       "      <td>0.0</td>\n",
       "      <td>0.0</td>\n",
       "      <td>1.0</td>\n",
       "      <td>...</td>\n",
       "      <td>2.0</td>\n",
       "      <td>0.0</td>\n",
       "      <td>9.0</td>\n",
       "      <td>3.0</td>\n",
       "      <td>0.0</td>\n",
       "      <td>1.0</td>\n",
       "      <td>0.0</td>\n",
       "      <td>0.0</td>\n",
       "      <td>0.0</td>\n",
       "      <td>3.0</td>\n",
       "    </tr>\n",
       "    <tr>\n",
       "      <th>Rio de Janeiro</th>\n",
       "      <td>451.0</td>\n",
       "      <td>1220.0</td>\n",
       "      <td>754.0</td>\n",
       "      <td>557.0</td>\n",
       "      <td>424.0</td>\n",
       "      <td>526.0</td>\n",
       "      <td>711.0</td>\n",
       "      <td>698.0</td>\n",
       "      <td>644.0</td>\n",
       "      <td>1283.0</td>\n",
       "      <td>...</td>\n",
       "      <td>977.0</td>\n",
       "      <td>1051.0</td>\n",
       "      <td>1952.0</td>\n",
       "      <td>1016.0</td>\n",
       "      <td>676.0</td>\n",
       "      <td>1161.0</td>\n",
       "      <td>1472.0</td>\n",
       "      <td>1251.0</td>\n",
       "      <td>951.0</td>\n",
       "      <td>497.0</td>\n",
       "    </tr>\n",
       "    <tr>\n",
       "      <th>Roraima</th>\n",
       "      <td>NaN</td>\n",
       "      <td>NaN</td>\n",
       "      <td>NaN</td>\n",
       "      <td>NaN</td>\n",
       "      <td>NaN</td>\n",
       "      <td>NaN</td>\n",
       "      <td>NaN</td>\n",
       "      <td>NaN</td>\n",
       "      <td>NaN</td>\n",
       "      <td>NaN</td>\n",
       "      <td>...</td>\n",
       "      <td>0.0</td>\n",
       "      <td>0.0</td>\n",
       "      <td>0.0</td>\n",
       "      <td>0.0</td>\n",
       "      <td>0.0</td>\n",
       "      <td>0.0</td>\n",
       "      <td>0.0</td>\n",
       "      <td>0.0</td>\n",
       "      <td>0.0</td>\n",
       "      <td>0.0</td>\n",
       "    </tr>\n",
       "    <tr>\n",
       "      <th>Santa Catarina</th>\n",
       "      <td>NaN</td>\n",
       "      <td>NaN</td>\n",
       "      <td>NaN</td>\n",
       "      <td>NaN</td>\n",
       "      <td>NaN</td>\n",
       "      <td>NaN</td>\n",
       "      <td>NaN</td>\n",
       "      <td>NaN</td>\n",
       "      <td>NaN</td>\n",
       "      <td>NaN</td>\n",
       "      <td>...</td>\n",
       "      <td>0.0</td>\n",
       "      <td>0.0</td>\n",
       "      <td>3.0</td>\n",
       "      <td>0.0</td>\n",
       "      <td>0.0</td>\n",
       "      <td>0.0</td>\n",
       "      <td>0.0</td>\n",
       "      <td>0.0</td>\n",
       "      <td>0.0</td>\n",
       "      <td>0.0</td>\n",
       "    </tr>\n",
       "    <tr>\n",
       "      <th>São Paulo</th>\n",
       "      <td>17.0</td>\n",
       "      <td>55.0</td>\n",
       "      <td>21.0</td>\n",
       "      <td>8.0</td>\n",
       "      <td>7.0</td>\n",
       "      <td>17.0</td>\n",
       "      <td>16.0</td>\n",
       "      <td>5.0</td>\n",
       "      <td>15.0</td>\n",
       "      <td>44.0</td>\n",
       "      <td>...</td>\n",
       "      <td>2119.0</td>\n",
       "      <td>3030.0</td>\n",
       "      <td>5573.0</td>\n",
       "      <td>3396.0</td>\n",
       "      <td>2312.0</td>\n",
       "      <td>3044.0</td>\n",
       "      <td>3091.0</td>\n",
       "      <td>3069.0</td>\n",
       "      <td>2491.0</td>\n",
       "      <td>1159.0</td>\n",
       "    </tr>\n",
       "    <tr>\n",
       "      <th rowspan=\"12\" valign=\"top\">Argentina</th>\n",
       "      <th>Acre</th>\n",
       "      <td>NaN</td>\n",
       "      <td>NaN</td>\n",
       "      <td>NaN</td>\n",
       "      <td>NaN</td>\n",
       "      <td>NaN</td>\n",
       "      <td>NaN</td>\n",
       "      <td>NaN</td>\n",
       "      <td>NaN</td>\n",
       "      <td>NaN</td>\n",
       "      <td>NaN</td>\n",
       "      <td>...</td>\n",
       "      <td>9.0</td>\n",
       "      <td>15.0</td>\n",
       "      <td>18.0</td>\n",
       "      <td>14.0</td>\n",
       "      <td>12.0</td>\n",
       "      <td>19.0</td>\n",
       "      <td>13.0</td>\n",
       "      <td>14.0</td>\n",
       "      <td>13.0</td>\n",
       "      <td>9.0</td>\n",
       "    </tr>\n",
       "    <tr>\n",
       "      <th>Amapá</th>\n",
       "      <td>NaN</td>\n",
       "      <td>NaN</td>\n",
       "      <td>NaN</td>\n",
       "      <td>NaN</td>\n",
       "      <td>NaN</td>\n",
       "      <td>NaN</td>\n",
       "      <td>NaN</td>\n",
       "      <td>NaN</td>\n",
       "      <td>NaN</td>\n",
       "      <td>NaN</td>\n",
       "      <td>...</td>\n",
       "      <td>13.0</td>\n",
       "      <td>2.0</td>\n",
       "      <td>8.0</td>\n",
       "      <td>1.0</td>\n",
       "      <td>1.0</td>\n",
       "      <td>4.0</td>\n",
       "      <td>3.0</td>\n",
       "      <td>1.0</td>\n",
       "      <td>10.0</td>\n",
       "      <td>1.0</td>\n",
       "    </tr>\n",
       "    <tr>\n",
       "      <th>Amazonas</th>\n",
       "      <td>0.0</td>\n",
       "      <td>6.0</td>\n",
       "      <td>9.0</td>\n",
       "      <td>9.0</td>\n",
       "      <td>8.0</td>\n",
       "      <td>2.0</td>\n",
       "      <td>5.0</td>\n",
       "      <td>0.0</td>\n",
       "      <td>1.0</td>\n",
       "      <td>10.0</td>\n",
       "      <td>...</td>\n",
       "      <td>66.0</td>\n",
       "      <td>34.0</td>\n",
       "      <td>30.0</td>\n",
       "      <td>35.0</td>\n",
       "      <td>16.0</td>\n",
       "      <td>13.0</td>\n",
       "      <td>24.0</td>\n",
       "      <td>37.0</td>\n",
       "      <td>28.0</td>\n",
       "      <td>21.0</td>\n",
       "    </tr>\n",
       "    <tr>\n",
       "      <th>Bahia</th>\n",
       "      <td>0.0</td>\n",
       "      <td>0.0</td>\n",
       "      <td>50.0</td>\n",
       "      <td>175.0</td>\n",
       "      <td>4.0</td>\n",
       "      <td>0.0</td>\n",
       "      <td>1.0</td>\n",
       "      <td>10.0</td>\n",
       "      <td>4.0</td>\n",
       "      <td>2.0</td>\n",
       "      <td>...</td>\n",
       "      <td>7972.0</td>\n",
       "      <td>5880.0</td>\n",
       "      <td>6620.0</td>\n",
       "      <td>6909.0</td>\n",
       "      <td>2760.0</td>\n",
       "      <td>2629.0</td>\n",
       "      <td>7289.0</td>\n",
       "      <td>7803.0</td>\n",
       "      <td>7735.0</td>\n",
       "      <td>6458.0</td>\n",
       "    </tr>\n",
       "    <tr>\n",
       "      <th>Ceará</th>\n",
       "      <td>NaN</td>\n",
       "      <td>NaN</td>\n",
       "      <td>NaN</td>\n",
       "      <td>NaN</td>\n",
       "      <td>NaN</td>\n",
       "      <td>NaN</td>\n",
       "      <td>NaN</td>\n",
       "      <td>NaN</td>\n",
       "      <td>NaN</td>\n",
       "      <td>NaN</td>\n",
       "      <td>...</td>\n",
       "      <td>763.0</td>\n",
       "      <td>540.0</td>\n",
       "      <td>670.0</td>\n",
       "      <td>598.0</td>\n",
       "      <td>424.0</td>\n",
       "      <td>444.0</td>\n",
       "      <td>640.0</td>\n",
       "      <td>958.0</td>\n",
       "      <td>574.0</td>\n",
       "      <td>323.0</td>\n",
       "    </tr>\n",
       "    <tr>\n",
       "      <th>Distrito Federal</th>\n",
       "      <td>8.0</td>\n",
       "      <td>21.0</td>\n",
       "      <td>0.0</td>\n",
       "      <td>0.0</td>\n",
       "      <td>8.0</td>\n",
       "      <td>3.0</td>\n",
       "      <td>1.0</td>\n",
       "      <td>0.0</td>\n",
       "      <td>2.0</td>\n",
       "      <td>0.0</td>\n",
       "      <td>...</td>\n",
       "      <td>4902.0</td>\n",
       "      <td>311.0</td>\n",
       "      <td>158.0</td>\n",
       "      <td>4076.0</td>\n",
       "      <td>424.0</td>\n",
       "      <td>295.0</td>\n",
       "      <td>366.0</td>\n",
       "      <td>4875.0</td>\n",
       "      <td>4144.0</td>\n",
       "      <td>1954.0</td>\n",
       "    </tr>\n",
       "    <tr>\n",
       "      <th>Mato Grosso do Sul</th>\n",
       "      <td>20.0</td>\n",
       "      <td>13.0</td>\n",
       "      <td>34.0</td>\n",
       "      <td>44.0</td>\n",
       "      <td>71.0</td>\n",
       "      <td>35.0</td>\n",
       "      <td>16.0</td>\n",
       "      <td>10.0</td>\n",
       "      <td>24.0</td>\n",
       "      <td>11.0</td>\n",
       "      <td>...</td>\n",
       "      <td>119.0</td>\n",
       "      <td>103.0</td>\n",
       "      <td>146.0</td>\n",
       "      <td>265.0</td>\n",
       "      <td>81.0</td>\n",
       "      <td>56.0</td>\n",
       "      <td>105.0</td>\n",
       "      <td>69.0</td>\n",
       "      <td>107.0</td>\n",
       "      <td>40.0</td>\n",
       "    </tr>\n",
       "    <tr>\n",
       "      <th>Minas Gerais</th>\n",
       "      <td>NaN</td>\n",
       "      <td>NaN</td>\n",
       "      <td>NaN</td>\n",
       "      <td>NaN</td>\n",
       "      <td>NaN</td>\n",
       "      <td>NaN</td>\n",
       "      <td>NaN</td>\n",
       "      <td>NaN</td>\n",
       "      <td>NaN</td>\n",
       "      <td>NaN</td>\n",
       "      <td>...</td>\n",
       "      <td>509.0</td>\n",
       "      <td>288.0</td>\n",
       "      <td>221.0</td>\n",
       "      <td>459.0</td>\n",
       "      <td>398.0</td>\n",
       "      <td>1038.0</td>\n",
       "      <td>1049.0</td>\n",
       "      <td>488.0</td>\n",
       "      <td>388.0</td>\n",
       "      <td>146.0</td>\n",
       "    </tr>\n",
       "    <tr>\n",
       "      <th>Outras Unidades da Federação</th>\n",
       "      <td>122.0</td>\n",
       "      <td>155.0</td>\n",
       "      <td>952.0</td>\n",
       "      <td>7813.0</td>\n",
       "      <td>13975.0</td>\n",
       "      <td>310.0</td>\n",
       "      <td>168.0</td>\n",
       "      <td>180.0</td>\n",
       "      <td>1062.0</td>\n",
       "      <td>197.0</td>\n",
       "      <td>...</td>\n",
       "      <td>0.0</td>\n",
       "      <td>0.0</td>\n",
       "      <td>13.0</td>\n",
       "      <td>17.0</td>\n",
       "      <td>1.0</td>\n",
       "      <td>15.0</td>\n",
       "      <td>31.0</td>\n",
       "      <td>3.0</td>\n",
       "      <td>10.0</td>\n",
       "      <td>8.0</td>\n",
       "    </tr>\n",
       "    <tr>\n",
       "      <th>Paraná</th>\n",
       "      <td>1274.0</td>\n",
       "      <td>979.0</td>\n",
       "      <td>3544.0</td>\n",
       "      <td>10147.0</td>\n",
       "      <td>20489.0</td>\n",
       "      <td>1932.0</td>\n",
       "      <td>1183.0</td>\n",
       "      <td>824.0</td>\n",
       "      <td>2846.0</td>\n",
       "      <td>1517.0</td>\n",
       "      <td>...</td>\n",
       "      <td>36785.0</td>\n",
       "      <td>32030.0</td>\n",
       "      <td>54753.0</td>\n",
       "      <td>27068.0</td>\n",
       "      <td>6923.0</td>\n",
       "      <td>9226.0</td>\n",
       "      <td>22464.0</td>\n",
       "      <td>19426.0</td>\n",
       "      <td>16860.0</td>\n",
       "      <td>8535.0</td>\n",
       "    </tr>\n",
       "    <tr>\n",
       "      <th>Pará</th>\n",
       "      <td>3.0</td>\n",
       "      <td>3.0</td>\n",
       "      <td>32.0</td>\n",
       "      <td>4.0</td>\n",
       "      <td>3.0</td>\n",
       "      <td>5.0</td>\n",
       "      <td>1.0</td>\n",
       "      <td>2.0</td>\n",
       "      <td>7.0</td>\n",
       "      <td>1.0</td>\n",
       "      <td>...</td>\n",
       "      <td>31.0</td>\n",
       "      <td>4.0</td>\n",
       "      <td>7.0</td>\n",
       "      <td>11.0</td>\n",
       "      <td>55.0</td>\n",
       "      <td>6.0</td>\n",
       "      <td>6.0</td>\n",
       "      <td>9.0</td>\n",
       "      <td>67.0</td>\n",
       "      <td>18.0</td>\n",
       "    </tr>\n",
       "    <tr>\n",
       "      <th>Pernambuco</th>\n",
       "      <td>12.0</td>\n",
       "      <td>21.0</td>\n",
       "      <td>86.0</td>\n",
       "      <td>10.0</td>\n",
       "      <td>28.0</td>\n",
       "      <td>2.0</td>\n",
       "      <td>13.0</td>\n",
       "      <td>19.0</td>\n",
       "      <td>2.0</td>\n",
       "      <td>35.0</td>\n",
       "      <td>...</td>\n",
       "      <td>1686.0</td>\n",
       "      <td>706.0</td>\n",
       "      <td>184.0</td>\n",
       "      <td>450.0</td>\n",
       "      <td>306.0</td>\n",
       "      <td>577.0</td>\n",
       "      <td>1024.0</td>\n",
       "      <td>1069.0</td>\n",
       "      <td>661.0</td>\n",
       "      <td>372.0</td>\n",
       "    </tr>\n",
       "    <tr>\n",
       "      <th>...</th>\n",
       "      <th>...</th>\n",
       "      <td>...</td>\n",
       "      <td>...</td>\n",
       "      <td>...</td>\n",
       "      <td>...</td>\n",
       "      <td>...</td>\n",
       "      <td>...</td>\n",
       "      <td>...</td>\n",
       "      <td>...</td>\n",
       "      <td>...</td>\n",
       "      <td>...</td>\n",
       "      <td>...</td>\n",
       "      <td>...</td>\n",
       "      <td>...</td>\n",
       "      <td>...</td>\n",
       "      <td>...</td>\n",
       "      <td>...</td>\n",
       "      <td>...</td>\n",
       "      <td>...</td>\n",
       "      <td>...</td>\n",
       "      <td>...</td>\n",
       "      <td>...</td>\n",
       "    </tr>\n",
       "    <tr>\n",
       "      <th rowspan=\"12\" valign=\"top\">Uruguay</th>\n",
       "      <th>Mato Grosso do Sul</th>\n",
       "      <td>2.0</td>\n",
       "      <td>4.0</td>\n",
       "      <td>5.0</td>\n",
       "      <td>8.0</td>\n",
       "      <td>2.0</td>\n",
       "      <td>4.0</td>\n",
       "      <td>5.0</td>\n",
       "      <td>2.0</td>\n",
       "      <td>12.0</td>\n",
       "      <td>2.0</td>\n",
       "      <td>...</td>\n",
       "      <td>5.0</td>\n",
       "      <td>9.0</td>\n",
       "      <td>4.0</td>\n",
       "      <td>0.0</td>\n",
       "      <td>1.0</td>\n",
       "      <td>3.0</td>\n",
       "      <td>6.0</td>\n",
       "      <td>4.0</td>\n",
       "      <td>3.0</td>\n",
       "      <td>0.0</td>\n",
       "    </tr>\n",
       "    <tr>\n",
       "      <th>Minas Gerais</th>\n",
       "      <td>NaN</td>\n",
       "      <td>NaN</td>\n",
       "      <td>NaN</td>\n",
       "      <td>NaN</td>\n",
       "      <td>NaN</td>\n",
       "      <td>NaN</td>\n",
       "      <td>NaN</td>\n",
       "      <td>NaN</td>\n",
       "      <td>NaN</td>\n",
       "      <td>NaN</td>\n",
       "      <td>...</td>\n",
       "      <td>18.0</td>\n",
       "      <td>6.0</td>\n",
       "      <td>0.0</td>\n",
       "      <td>8.0</td>\n",
       "      <td>8.0</td>\n",
       "      <td>11.0</td>\n",
       "      <td>11.0</td>\n",
       "      <td>6.0</td>\n",
       "      <td>11.0</td>\n",
       "      <td>6.0</td>\n",
       "    </tr>\n",
       "    <tr>\n",
       "      <th>Outras Unidades da Federação</th>\n",
       "      <td>18.0</td>\n",
       "      <td>7.0</td>\n",
       "      <td>35.0</td>\n",
       "      <td>3.0</td>\n",
       "      <td>10.0</td>\n",
       "      <td>8.0</td>\n",
       "      <td>5.0</td>\n",
       "      <td>11.0</td>\n",
       "      <td>7.0</td>\n",
       "      <td>10.0</td>\n",
       "      <td>...</td>\n",
       "      <td>0.0</td>\n",
       "      <td>0.0</td>\n",
       "      <td>1.0</td>\n",
       "      <td>1.0</td>\n",
       "      <td>0.0</td>\n",
       "      <td>11.0</td>\n",
       "      <td>5.0</td>\n",
       "      <td>2.0</td>\n",
       "      <td>1.0</td>\n",
       "      <td>1.0</td>\n",
       "    </tr>\n",
       "    <tr>\n",
       "      <th>Paraná</th>\n",
       "      <td>103.0</td>\n",
       "      <td>53.0</td>\n",
       "      <td>153.0</td>\n",
       "      <td>194.0</td>\n",
       "      <td>115.0</td>\n",
       "      <td>285.0</td>\n",
       "      <td>70.0</td>\n",
       "      <td>108.0</td>\n",
       "      <td>557.0</td>\n",
       "      <td>74.0</td>\n",
       "      <td>...</td>\n",
       "      <td>341.0</td>\n",
       "      <td>454.0</td>\n",
       "      <td>466.0</td>\n",
       "      <td>1339.0</td>\n",
       "      <td>1025.0</td>\n",
       "      <td>474.0</td>\n",
       "      <td>1478.0</td>\n",
       "      <td>884.0</td>\n",
       "      <td>1494.0</td>\n",
       "      <td>1653.0</td>\n",
       "    </tr>\n",
       "    <tr>\n",
       "      <th>Pará</th>\n",
       "      <td>1.0</td>\n",
       "      <td>0.0</td>\n",
       "      <td>0.0</td>\n",
       "      <td>0.0</td>\n",
       "      <td>1.0</td>\n",
       "      <td>1.0</td>\n",
       "      <td>1.0</td>\n",
       "      <td>0.0</td>\n",
       "      <td>0.0</td>\n",
       "      <td>0.0</td>\n",
       "      <td>...</td>\n",
       "      <td>6.0</td>\n",
       "      <td>0.0</td>\n",
       "      <td>2.0</td>\n",
       "      <td>6.0</td>\n",
       "      <td>0.0</td>\n",
       "      <td>4.0</td>\n",
       "      <td>0.0</td>\n",
       "      <td>4.0</td>\n",
       "      <td>0.0</td>\n",
       "      <td>2.0</td>\n",
       "    </tr>\n",
       "    <tr>\n",
       "      <th>Pernambuco</th>\n",
       "      <td>0.0</td>\n",
       "      <td>0.0</td>\n",
       "      <td>9.0</td>\n",
       "      <td>0.0</td>\n",
       "      <td>4.0</td>\n",
       "      <td>3.0</td>\n",
       "      <td>0.0</td>\n",
       "      <td>0.0</td>\n",
       "      <td>0.0</td>\n",
       "      <td>0.0</td>\n",
       "      <td>...</td>\n",
       "      <td>47.0</td>\n",
       "      <td>5.0</td>\n",
       "      <td>2.0</td>\n",
       "      <td>0.0</td>\n",
       "      <td>3.0</td>\n",
       "      <td>9.0</td>\n",
       "      <td>6.0</td>\n",
       "      <td>24.0</td>\n",
       "      <td>2.0</td>\n",
       "      <td>2.0</td>\n",
       "    </tr>\n",
       "    <tr>\n",
       "      <th>Rio Grande do Norte</th>\n",
       "      <td>NaN</td>\n",
       "      <td>NaN</td>\n",
       "      <td>NaN</td>\n",
       "      <td>NaN</td>\n",
       "      <td>NaN</td>\n",
       "      <td>NaN</td>\n",
       "      <td>NaN</td>\n",
       "      <td>NaN</td>\n",
       "      <td>NaN</td>\n",
       "      <td>NaN</td>\n",
       "      <td>...</td>\n",
       "      <td>2.0</td>\n",
       "      <td>1.0</td>\n",
       "      <td>0.0</td>\n",
       "      <td>0.0</td>\n",
       "      <td>3.0</td>\n",
       "      <td>0.0</td>\n",
       "      <td>0.0</td>\n",
       "      <td>1.0</td>\n",
       "      <td>6.0</td>\n",
       "      <td>0.0</td>\n",
       "    </tr>\n",
       "    <tr>\n",
       "      <th>Rio Grande do Sul</th>\n",
       "      <td>6987.0</td>\n",
       "      <td>7723.0</td>\n",
       "      <td>7899.0</td>\n",
       "      <td>16178.0</td>\n",
       "      <td>20182.0</td>\n",
       "      <td>8325.0</td>\n",
       "      <td>7291.0</td>\n",
       "      <td>6355.0</td>\n",
       "      <td>24762.0</td>\n",
       "      <td>6867.0</td>\n",
       "      <td>...</td>\n",
       "      <td>13273.0</td>\n",
       "      <td>18680.0</td>\n",
       "      <td>28776.0</td>\n",
       "      <td>7945.0</td>\n",
       "      <td>7433.0</td>\n",
       "      <td>6271.0</td>\n",
       "      <td>28925.0</td>\n",
       "      <td>8836.0</td>\n",
       "      <td>9845.0</td>\n",
       "      <td>4152.0</td>\n",
       "    </tr>\n",
       "    <tr>\n",
       "      <th>Rio de Janeiro</th>\n",
       "      <td>379.0</td>\n",
       "      <td>557.0</td>\n",
       "      <td>467.0</td>\n",
       "      <td>492.0</td>\n",
       "      <td>449.0</td>\n",
       "      <td>1227.0</td>\n",
       "      <td>603.0</td>\n",
       "      <td>448.0</td>\n",
       "      <td>1286.0</td>\n",
       "      <td>450.0</td>\n",
       "      <td>...</td>\n",
       "      <td>4080.0</td>\n",
       "      <td>3634.0</td>\n",
       "      <td>4495.0</td>\n",
       "      <td>3348.0</td>\n",
       "      <td>2367.0</td>\n",
       "      <td>1813.0</td>\n",
       "      <td>5401.0</td>\n",
       "      <td>5428.0</td>\n",
       "      <td>4997.0</td>\n",
       "      <td>2131.0</td>\n",
       "    </tr>\n",
       "    <tr>\n",
       "      <th>Roraima</th>\n",
       "      <td>NaN</td>\n",
       "      <td>NaN</td>\n",
       "      <td>NaN</td>\n",
       "      <td>NaN</td>\n",
       "      <td>NaN</td>\n",
       "      <td>NaN</td>\n",
       "      <td>NaN</td>\n",
       "      <td>NaN</td>\n",
       "      <td>NaN</td>\n",
       "      <td>NaN</td>\n",
       "      <td>...</td>\n",
       "      <td>8.0</td>\n",
       "      <td>6.0</td>\n",
       "      <td>5.0</td>\n",
       "      <td>7.0</td>\n",
       "      <td>8.0</td>\n",
       "      <td>5.0</td>\n",
       "      <td>2.0</td>\n",
       "      <td>6.0</td>\n",
       "      <td>1.0</td>\n",
       "      <td>7.0</td>\n",
       "    </tr>\n",
       "    <tr>\n",
       "      <th>Santa Catarina</th>\n",
       "      <td>NaN</td>\n",
       "      <td>NaN</td>\n",
       "      <td>NaN</td>\n",
       "      <td>NaN</td>\n",
       "      <td>NaN</td>\n",
       "      <td>NaN</td>\n",
       "      <td>NaN</td>\n",
       "      <td>NaN</td>\n",
       "      <td>NaN</td>\n",
       "      <td>NaN</td>\n",
       "      <td>...</td>\n",
       "      <td>26.0</td>\n",
       "      <td>51.0</td>\n",
       "      <td>577.0</td>\n",
       "      <td>13.0</td>\n",
       "      <td>10.0</td>\n",
       "      <td>24.0</td>\n",
       "      <td>1161.0</td>\n",
       "      <td>41.0</td>\n",
       "      <td>26.0</td>\n",
       "      <td>10.0</td>\n",
       "    </tr>\n",
       "    <tr>\n",
       "      <th>São Paulo</th>\n",
       "      <td>446.0</td>\n",
       "      <td>481.0</td>\n",
       "      <td>484.0</td>\n",
       "      <td>378.0</td>\n",
       "      <td>360.0</td>\n",
       "      <td>640.0</td>\n",
       "      <td>761.0</td>\n",
       "      <td>686.0</td>\n",
       "      <td>667.0</td>\n",
       "      <td>524.0</td>\n",
       "      <td>...</td>\n",
       "      <td>5000.0</td>\n",
       "      <td>4809.0</td>\n",
       "      <td>4481.0</td>\n",
       "      <td>5265.0</td>\n",
       "      <td>5103.0</td>\n",
       "      <td>3991.0</td>\n",
       "      <td>7043.0</td>\n",
       "      <td>5374.0</td>\n",
       "      <td>5707.0</td>\n",
       "      <td>3087.0</td>\n",
       "    </tr>\n",
       "    <tr>\n",
       "      <th rowspan=\"18\" valign=\"top\">Venezuela</th>\n",
       "      <th>Acre</th>\n",
       "      <td>NaN</td>\n",
       "      <td>NaN</td>\n",
       "      <td>NaN</td>\n",
       "      <td>NaN</td>\n",
       "      <td>NaN</td>\n",
       "      <td>NaN</td>\n",
       "      <td>NaN</td>\n",
       "      <td>NaN</td>\n",
       "      <td>NaN</td>\n",
       "      <td>NaN</td>\n",
       "      <td>...</td>\n",
       "      <td>15.0</td>\n",
       "      <td>1.0</td>\n",
       "      <td>5.0</td>\n",
       "      <td>0.0</td>\n",
       "      <td>4.0</td>\n",
       "      <td>1.0</td>\n",
       "      <td>2.0</td>\n",
       "      <td>3.0</td>\n",
       "      <td>4.0</td>\n",
       "      <td>2.0</td>\n",
       "    </tr>\n",
       "    <tr>\n",
       "      <th>Amapá</th>\n",
       "      <td>NaN</td>\n",
       "      <td>NaN</td>\n",
       "      <td>NaN</td>\n",
       "      <td>NaN</td>\n",
       "      <td>NaN</td>\n",
       "      <td>NaN</td>\n",
       "      <td>NaN</td>\n",
       "      <td>NaN</td>\n",
       "      <td>NaN</td>\n",
       "      <td>NaN</td>\n",
       "      <td>...</td>\n",
       "      <td>0.0</td>\n",
       "      <td>1.0</td>\n",
       "      <td>2.0</td>\n",
       "      <td>2.0</td>\n",
       "      <td>13.0</td>\n",
       "      <td>1.0</td>\n",
       "      <td>0.0</td>\n",
       "      <td>0.0</td>\n",
       "      <td>0.0</td>\n",
       "      <td>1.0</td>\n",
       "    </tr>\n",
       "    <tr>\n",
       "      <th>Amazonas</th>\n",
       "      <td>0.0</td>\n",
       "      <td>24.0</td>\n",
       "      <td>14.0</td>\n",
       "      <td>8.0</td>\n",
       "      <td>15.0</td>\n",
       "      <td>15.0</td>\n",
       "      <td>21.0</td>\n",
       "      <td>0.0</td>\n",
       "      <td>0.0</td>\n",
       "      <td>20.0</td>\n",
       "      <td>...</td>\n",
       "      <td>1744.0</td>\n",
       "      <td>501.0</td>\n",
       "      <td>492.0</td>\n",
       "      <td>1476.0</td>\n",
       "      <td>909.0</td>\n",
       "      <td>613.0</td>\n",
       "      <td>442.0</td>\n",
       "      <td>2450.0</td>\n",
       "      <td>2088.0</td>\n",
       "      <td>1465.0</td>\n",
       "    </tr>\n",
       "    <tr>\n",
       "      <th>Bahia</th>\n",
       "      <td>1.0</td>\n",
       "      <td>0.0</td>\n",
       "      <td>2.0</td>\n",
       "      <td>0.0</td>\n",
       "      <td>0.0</td>\n",
       "      <td>0.0</td>\n",
       "      <td>0.0</td>\n",
       "      <td>0.0</td>\n",
       "      <td>4.0</td>\n",
       "      <td>0.0</td>\n",
       "      <td>...</td>\n",
       "      <td>6.0</td>\n",
       "      <td>8.0</td>\n",
       "      <td>4.0</td>\n",
       "      <td>6.0</td>\n",
       "      <td>1.0</td>\n",
       "      <td>7.0</td>\n",
       "      <td>6.0</td>\n",
       "      <td>11.0</td>\n",
       "      <td>9.0</td>\n",
       "      <td>3.0</td>\n",
       "    </tr>\n",
       "    <tr>\n",
       "      <th>Ceará</th>\n",
       "      <td>NaN</td>\n",
       "      <td>NaN</td>\n",
       "      <td>NaN</td>\n",
       "      <td>NaN</td>\n",
       "      <td>NaN</td>\n",
       "      <td>NaN</td>\n",
       "      <td>NaN</td>\n",
       "      <td>NaN</td>\n",
       "      <td>NaN</td>\n",
       "      <td>NaN</td>\n",
       "      <td>...</td>\n",
       "      <td>16.0</td>\n",
       "      <td>3.0</td>\n",
       "      <td>3.0</td>\n",
       "      <td>5.0</td>\n",
       "      <td>0.0</td>\n",
       "      <td>0.0</td>\n",
       "      <td>5.0</td>\n",
       "      <td>5.0</td>\n",
       "      <td>110.0</td>\n",
       "      <td>2.0</td>\n",
       "    </tr>\n",
       "    <tr>\n",
       "      <th>Distrito Federal</th>\n",
       "      <td>0.0</td>\n",
       "      <td>0.0</td>\n",
       "      <td>0.0</td>\n",
       "      <td>0.0</td>\n",
       "      <td>2.0</td>\n",
       "      <td>1.0</td>\n",
       "      <td>0.0</td>\n",
       "      <td>0.0</td>\n",
       "      <td>0.0</td>\n",
       "      <td>0.0</td>\n",
       "      <td>...</td>\n",
       "      <td>107.0</td>\n",
       "      <td>32.0</td>\n",
       "      <td>103.0</td>\n",
       "      <td>296.0</td>\n",
       "      <td>186.0</td>\n",
       "      <td>109.0</td>\n",
       "      <td>91.0</td>\n",
       "      <td>103.0</td>\n",
       "      <td>111.0</td>\n",
       "      <td>46.0</td>\n",
       "    </tr>\n",
       "    <tr>\n",
       "      <th>Mato Grosso do Sul</th>\n",
       "      <td>1.0</td>\n",
       "      <td>0.0</td>\n",
       "      <td>0.0</td>\n",
       "      <td>6.0</td>\n",
       "      <td>0.0</td>\n",
       "      <td>0.0</td>\n",
       "      <td>0.0</td>\n",
       "      <td>0.0</td>\n",
       "      <td>2.0</td>\n",
       "      <td>1.0</td>\n",
       "      <td>...</td>\n",
       "      <td>5.0</td>\n",
       "      <td>2.0</td>\n",
       "      <td>3.0</td>\n",
       "      <td>1.0</td>\n",
       "      <td>2.0</td>\n",
       "      <td>1.0</td>\n",
       "      <td>1.0</td>\n",
       "      <td>2.0</td>\n",
       "      <td>3.0</td>\n",
       "      <td>0.0</td>\n",
       "    </tr>\n",
       "    <tr>\n",
       "      <th>Minas Gerais</th>\n",
       "      <td>NaN</td>\n",
       "      <td>NaN</td>\n",
       "      <td>NaN</td>\n",
       "      <td>NaN</td>\n",
       "      <td>NaN</td>\n",
       "      <td>NaN</td>\n",
       "      <td>NaN</td>\n",
       "      <td>NaN</td>\n",
       "      <td>NaN</td>\n",
       "      <td>NaN</td>\n",
       "      <td>...</td>\n",
       "      <td>45.0</td>\n",
       "      <td>43.0</td>\n",
       "      <td>37.0</td>\n",
       "      <td>48.0</td>\n",
       "      <td>71.0</td>\n",
       "      <td>45.0</td>\n",
       "      <td>69.0</td>\n",
       "      <td>60.0</td>\n",
       "      <td>32.0</td>\n",
       "      <td>11.0</td>\n",
       "    </tr>\n",
       "    <tr>\n",
       "      <th>Outras Unidades da Federação</th>\n",
       "      <td>124.0</td>\n",
       "      <td>326.0</td>\n",
       "      <td>406.0</td>\n",
       "      <td>180.0</td>\n",
       "      <td>187.0</td>\n",
       "      <td>178.0</td>\n",
       "      <td>150.0</td>\n",
       "      <td>115.0</td>\n",
       "      <td>193.0</td>\n",
       "      <td>181.0</td>\n",
       "      <td>...</td>\n",
       "      <td>1.0</td>\n",
       "      <td>0.0</td>\n",
       "      <td>1.0</td>\n",
       "      <td>1.0</td>\n",
       "      <td>2.0</td>\n",
       "      <td>0.0</td>\n",
       "      <td>3.0</td>\n",
       "      <td>5.0</td>\n",
       "      <td>3.0</td>\n",
       "      <td>4.0</td>\n",
       "    </tr>\n",
       "    <tr>\n",
       "      <th>Paraná</th>\n",
       "      <td>7.0</td>\n",
       "      <td>17.0</td>\n",
       "      <td>15.0</td>\n",
       "      <td>8.0</td>\n",
       "      <td>18.0</td>\n",
       "      <td>9.0</td>\n",
       "      <td>14.0</td>\n",
       "      <td>12.0</td>\n",
       "      <td>9.0</td>\n",
       "      <td>12.0</td>\n",
       "      <td>...</td>\n",
       "      <td>119.0</td>\n",
       "      <td>66.0</td>\n",
       "      <td>70.0</td>\n",
       "      <td>68.0</td>\n",
       "      <td>81.0</td>\n",
       "      <td>80.0</td>\n",
       "      <td>99.0</td>\n",
       "      <td>58.0</td>\n",
       "      <td>60.0</td>\n",
       "      <td>34.0</td>\n",
       "    </tr>\n",
       "    <tr>\n",
       "      <th>Pará</th>\n",
       "      <td>0.0</td>\n",
       "      <td>0.0</td>\n",
       "      <td>2.0</td>\n",
       "      <td>9.0</td>\n",
       "      <td>1.0</td>\n",
       "      <td>0.0</td>\n",
       "      <td>1.0</td>\n",
       "      <td>0.0</td>\n",
       "      <td>0.0</td>\n",
       "      <td>1.0</td>\n",
       "      <td>...</td>\n",
       "      <td>2.0</td>\n",
       "      <td>6.0</td>\n",
       "      <td>7.0</td>\n",
       "      <td>2.0</td>\n",
       "      <td>2.0</td>\n",
       "      <td>4.0</td>\n",
       "      <td>9.0</td>\n",
       "      <td>7.0</td>\n",
       "      <td>4.0</td>\n",
       "      <td>4.0</td>\n",
       "    </tr>\n",
       "    <tr>\n",
       "      <th>Pernambuco</th>\n",
       "      <td>1.0</td>\n",
       "      <td>0.0</td>\n",
       "      <td>0.0</td>\n",
       "      <td>1.0</td>\n",
       "      <td>0.0</td>\n",
       "      <td>0.0</td>\n",
       "      <td>0.0</td>\n",
       "      <td>1.0</td>\n",
       "      <td>0.0</td>\n",
       "      <td>0.0</td>\n",
       "      <td>...</td>\n",
       "      <td>24.0</td>\n",
       "      <td>18.0</td>\n",
       "      <td>9.0</td>\n",
       "      <td>9.0</td>\n",
       "      <td>16.0</td>\n",
       "      <td>29.0</td>\n",
       "      <td>21.0</td>\n",
       "      <td>2.0</td>\n",
       "      <td>11.0</td>\n",
       "      <td>12.0</td>\n",
       "    </tr>\n",
       "    <tr>\n",
       "      <th>Rio Grande do Norte</th>\n",
       "      <td>NaN</td>\n",
       "      <td>NaN</td>\n",
       "      <td>NaN</td>\n",
       "      <td>NaN</td>\n",
       "      <td>NaN</td>\n",
       "      <td>NaN</td>\n",
       "      <td>NaN</td>\n",
       "      <td>NaN</td>\n",
       "      <td>NaN</td>\n",
       "      <td>NaN</td>\n",
       "      <td>...</td>\n",
       "      <td>1.0</td>\n",
       "      <td>1.0</td>\n",
       "      <td>0.0</td>\n",
       "      <td>0.0</td>\n",
       "      <td>0.0</td>\n",
       "      <td>0.0</td>\n",
       "      <td>0.0</td>\n",
       "      <td>0.0</td>\n",
       "      <td>0.0</td>\n",
       "      <td>0.0</td>\n",
       "    </tr>\n",
       "    <tr>\n",
       "      <th>Rio Grande do Sul</th>\n",
       "      <td>2.0</td>\n",
       "      <td>5.0</td>\n",
       "      <td>11.0</td>\n",
       "      <td>11.0</td>\n",
       "      <td>28.0</td>\n",
       "      <td>5.0</td>\n",
       "      <td>9.0</td>\n",
       "      <td>6.0</td>\n",
       "      <td>4.0</td>\n",
       "      <td>7.0</td>\n",
       "      <td>...</td>\n",
       "      <td>89.0</td>\n",
       "      <td>55.0</td>\n",
       "      <td>45.0</td>\n",
       "      <td>88.0</td>\n",
       "      <td>40.0</td>\n",
       "      <td>55.0</td>\n",
       "      <td>97.0</td>\n",
       "      <td>68.0</td>\n",
       "      <td>156.0</td>\n",
       "      <td>32.0</td>\n",
       "    </tr>\n",
       "    <tr>\n",
       "      <th>Rio de Janeiro</th>\n",
       "      <td>356.0</td>\n",
       "      <td>454.0</td>\n",
       "      <td>369.0</td>\n",
       "      <td>391.0</td>\n",
       "      <td>466.0</td>\n",
       "      <td>397.0</td>\n",
       "      <td>457.0</td>\n",
       "      <td>394.0</td>\n",
       "      <td>497.0</td>\n",
       "      <td>324.0</td>\n",
       "      <td>...</td>\n",
       "      <td>1230.0</td>\n",
       "      <td>470.0</td>\n",
       "      <td>293.0</td>\n",
       "      <td>628.0</td>\n",
       "      <td>546.0</td>\n",
       "      <td>781.0</td>\n",
       "      <td>723.0</td>\n",
       "      <td>1275.0</td>\n",
       "      <td>765.0</td>\n",
       "      <td>329.0</td>\n",
       "    </tr>\n",
       "    <tr>\n",
       "      <th>Roraima</th>\n",
       "      <td>NaN</td>\n",
       "      <td>NaN</td>\n",
       "      <td>NaN</td>\n",
       "      <td>NaN</td>\n",
       "      <td>NaN</td>\n",
       "      <td>NaN</td>\n",
       "      <td>NaN</td>\n",
       "      <td>NaN</td>\n",
       "      <td>NaN</td>\n",
       "      <td>NaN</td>\n",
       "      <td>...</td>\n",
       "      <td>5114.0</td>\n",
       "      <td>1785.0</td>\n",
       "      <td>1928.0</td>\n",
       "      <td>2237.0</td>\n",
       "      <td>1837.0</td>\n",
       "      <td>1850.0</td>\n",
       "      <td>2064.0</td>\n",
       "      <td>3904.0</td>\n",
       "      <td>2838.0</td>\n",
       "      <td>1135.0</td>\n",
       "    </tr>\n",
       "    <tr>\n",
       "      <th>Santa Catarina</th>\n",
       "      <td>NaN</td>\n",
       "      <td>NaN</td>\n",
       "      <td>NaN</td>\n",
       "      <td>NaN</td>\n",
       "      <td>NaN</td>\n",
       "      <td>NaN</td>\n",
       "      <td>NaN</td>\n",
       "      <td>NaN</td>\n",
       "      <td>NaN</td>\n",
       "      <td>NaN</td>\n",
       "      <td>...</td>\n",
       "      <td>15.0</td>\n",
       "      <td>13.0</td>\n",
       "      <td>2.0</td>\n",
       "      <td>5.0</td>\n",
       "      <td>3.0</td>\n",
       "      <td>1.0</td>\n",
       "      <td>4.0</td>\n",
       "      <td>3.0</td>\n",
       "      <td>3.0</td>\n",
       "      <td>0.0</td>\n",
       "    </tr>\n",
       "    <tr>\n",
       "      <th>São Paulo</th>\n",
       "      <td>136.0</td>\n",
       "      <td>312.0</td>\n",
       "      <td>354.0</td>\n",
       "      <td>139.0</td>\n",
       "      <td>176.0</td>\n",
       "      <td>251.0</td>\n",
       "      <td>182.0</td>\n",
       "      <td>159.0</td>\n",
       "      <td>171.0</td>\n",
       "      <td>303.0</td>\n",
       "      <td>...</td>\n",
       "      <td>2254.0</td>\n",
       "      <td>1673.0</td>\n",
       "      <td>1570.0</td>\n",
       "      <td>1365.0</td>\n",
       "      <td>1844.0</td>\n",
       "      <td>2291.0</td>\n",
       "      <td>2361.0</td>\n",
       "      <td>2606.0</td>\n",
       "      <td>2035.0</td>\n",
       "      <td>948.0</td>\n",
       "    </tr>\n",
       "  </tbody>\n",
       "</table>\n",
       "<p>978 rows × 324 columns</p>\n",
       "</div>"
      ],
      "text/plain": [
       "Year                                      1989                             \\\n",
       "Month                                    abril  agosto dezembro fevereiro   \n",
       "Country   State                                                             \n",
       "Angola    Acre                             NaN     NaN      NaN       NaN   \n",
       "          Amapá                            NaN     NaN      NaN       NaN   \n",
       "          Amazonas                         0.0     0.0      2.0       0.0   \n",
       "          Bahia                            0.0     0.0      0.0       0.0   \n",
       "          Ceará                            NaN     NaN      NaN       NaN   \n",
       "          Distrito Federal                 0.0     0.0      0.0       1.0   \n",
       "          Mato Grosso do Sul               0.0     0.0      1.0       0.0   \n",
       "          Minas Gerais                     NaN     NaN      NaN       NaN   \n",
       "          Outras Unidades da Federação     0.0     0.0      0.0       0.0   \n",
       "          Paraná                           2.0     7.0      2.0       3.0   \n",
       "          Pará                             0.0     0.0      0.0       0.0   \n",
       "          Pernambuco                       1.0     0.0      1.0       0.0   \n",
       "          Rio Grande do Norte              NaN     NaN      NaN       NaN   \n",
       "          Rio Grande do Sul                2.0     1.0      1.0       0.0   \n",
       "          Rio de Janeiro                 451.0  1220.0    754.0     557.0   \n",
       "          Roraima                          NaN     NaN      NaN       NaN   \n",
       "          Santa Catarina                   NaN     NaN      NaN       NaN   \n",
       "          São Paulo                       17.0    55.0     21.0       8.0   \n",
       "Argentina Acre                             NaN     NaN      NaN       NaN   \n",
       "          Amapá                            NaN     NaN      NaN       NaN   \n",
       "          Amazonas                         0.0     6.0      9.0       9.0   \n",
       "          Bahia                            0.0     0.0     50.0     175.0   \n",
       "          Ceará                            NaN     NaN      NaN       NaN   \n",
       "          Distrito Federal                 8.0    21.0      0.0       0.0   \n",
       "          Mato Grosso do Sul              20.0    13.0     34.0      44.0   \n",
       "          Minas Gerais                     NaN     NaN      NaN       NaN   \n",
       "          Outras Unidades da Federação   122.0   155.0    952.0    7813.0   \n",
       "          Paraná                        1274.0   979.0   3544.0   10147.0   \n",
       "          Pará                             3.0     3.0     32.0       4.0   \n",
       "          Pernambuco                      12.0    21.0     86.0      10.0   \n",
       "...                                        ...     ...      ...       ...   \n",
       "Uruguay   Mato Grosso do Sul               2.0     4.0      5.0       8.0   \n",
       "          Minas Gerais                     NaN     NaN      NaN       NaN   \n",
       "          Outras Unidades da Federação    18.0     7.0     35.0       3.0   \n",
       "          Paraná                         103.0    53.0    153.0     194.0   \n",
       "          Pará                             1.0     0.0      0.0       0.0   \n",
       "          Pernambuco                       0.0     0.0      9.0       0.0   \n",
       "          Rio Grande do Norte              NaN     NaN      NaN       NaN   \n",
       "          Rio Grande do Sul             6987.0  7723.0   7899.0   16178.0   \n",
       "          Rio de Janeiro                 379.0   557.0    467.0     492.0   \n",
       "          Roraima                          NaN     NaN      NaN       NaN   \n",
       "          Santa Catarina                   NaN     NaN      NaN       NaN   \n",
       "          São Paulo                      446.0   481.0    484.0     378.0   \n",
       "Venezuela Acre                             NaN     NaN      NaN       NaN   \n",
       "          Amapá                            NaN     NaN      NaN       NaN   \n",
       "          Amazonas                         0.0    24.0     14.0       8.0   \n",
       "          Bahia                            1.0     0.0      2.0       0.0   \n",
       "          Ceará                            NaN     NaN      NaN       NaN   \n",
       "          Distrito Federal                 0.0     0.0      0.0       0.0   \n",
       "          Mato Grosso do Sul               1.0     0.0      0.0       6.0   \n",
       "          Minas Gerais                     NaN     NaN      NaN       NaN   \n",
       "          Outras Unidades da Federação   124.0   326.0    406.0     180.0   \n",
       "          Paraná                           7.0    17.0     15.0       8.0   \n",
       "          Pará                             0.0     0.0      2.0       9.0   \n",
       "          Pernambuco                       1.0     0.0      0.0       1.0   \n",
       "          Rio Grande do Norte              NaN     NaN      NaN       NaN   \n",
       "          Rio Grande do Sul                2.0     5.0     11.0      11.0   \n",
       "          Rio de Janeiro                 356.0   454.0    369.0     391.0   \n",
       "          Roraima                          NaN     NaN      NaN       NaN   \n",
       "          Santa Catarina                   NaN     NaN      NaN       NaN   \n",
       "          São Paulo                      136.0   312.0    354.0     139.0   \n",
       "\n",
       "Year                                                                     \\\n",
       "Month                                   janeiro   julho   junho    maio   \n",
       "Country   State                                                           \n",
       "Angola    Acre                              NaN     NaN     NaN     NaN   \n",
       "          Amapá                             NaN     NaN     NaN     NaN   \n",
       "          Amazonas                          0.0     0.0     0.0     0.0   \n",
       "          Bahia                             0.0     0.0     0.0     0.0   \n",
       "          Ceará                             NaN     NaN     NaN     NaN   \n",
       "          Distrito Federal                  0.0     0.0     0.0     0.0   \n",
       "          Mato Grosso do Sul                0.0     0.0     0.0     0.0   \n",
       "          Minas Gerais                      NaN     NaN     NaN     NaN   \n",
       "          Outras Unidades da Federação      0.0     0.0     1.0     0.0   \n",
       "          Paraná                            1.0     7.0     1.0     6.0   \n",
       "          Pará                              0.0     0.0     0.0     0.0   \n",
       "          Pernambuco                        0.0     1.0     0.0     0.0   \n",
       "          Rio Grande do Norte               NaN     NaN     NaN     NaN   \n",
       "          Rio Grande do Sul                 1.0     0.0     0.0     0.0   \n",
       "          Rio de Janeiro                  424.0   526.0   711.0   698.0   \n",
       "          Roraima                           NaN     NaN     NaN     NaN   \n",
       "          Santa Catarina                    NaN     NaN     NaN     NaN   \n",
       "          São Paulo                         7.0    17.0    16.0     5.0   \n",
       "Argentina Acre                              NaN     NaN     NaN     NaN   \n",
       "          Amapá                             NaN     NaN     NaN     NaN   \n",
       "          Amazonas                          8.0     2.0     5.0     0.0   \n",
       "          Bahia                             4.0     0.0     1.0    10.0   \n",
       "          Ceará                             NaN     NaN     NaN     NaN   \n",
       "          Distrito Federal                  8.0     3.0     1.0     0.0   \n",
       "          Mato Grosso do Sul               71.0    35.0    16.0    10.0   \n",
       "          Minas Gerais                      NaN     NaN     NaN     NaN   \n",
       "          Outras Unidades da Federação  13975.0   310.0   168.0   180.0   \n",
       "          Paraná                        20489.0  1932.0  1183.0   824.0   \n",
       "          Pará                              3.0     5.0     1.0     2.0   \n",
       "          Pernambuco                       28.0     2.0    13.0    19.0   \n",
       "...                                         ...     ...     ...     ...   \n",
       "Uruguay   Mato Grosso do Sul                2.0     4.0     5.0     2.0   \n",
       "          Minas Gerais                      NaN     NaN     NaN     NaN   \n",
       "          Outras Unidades da Federação     10.0     8.0     5.0    11.0   \n",
       "          Paraná                          115.0   285.0    70.0   108.0   \n",
       "          Pará                              1.0     1.0     1.0     0.0   \n",
       "          Pernambuco                        4.0     3.0     0.0     0.0   \n",
       "          Rio Grande do Norte               NaN     NaN     NaN     NaN   \n",
       "          Rio Grande do Sul             20182.0  8325.0  7291.0  6355.0   \n",
       "          Rio de Janeiro                  449.0  1227.0   603.0   448.0   \n",
       "          Roraima                           NaN     NaN     NaN     NaN   \n",
       "          Santa Catarina                    NaN     NaN     NaN     NaN   \n",
       "          São Paulo                       360.0   640.0   761.0   686.0   \n",
       "Venezuela Acre                              NaN     NaN     NaN     NaN   \n",
       "          Amapá                             NaN     NaN     NaN     NaN   \n",
       "          Amazonas                         15.0    15.0    21.0     0.0   \n",
       "          Bahia                             0.0     0.0     0.0     0.0   \n",
       "          Ceará                             NaN     NaN     NaN     NaN   \n",
       "          Distrito Federal                  2.0     1.0     0.0     0.0   \n",
       "          Mato Grosso do Sul                0.0     0.0     0.0     0.0   \n",
       "          Minas Gerais                      NaN     NaN     NaN     NaN   \n",
       "          Outras Unidades da Federação    187.0   178.0   150.0   115.0   \n",
       "          Paraná                           18.0     9.0    14.0    12.0   \n",
       "          Pará                              1.0     0.0     1.0     0.0   \n",
       "          Pernambuco                        0.0     0.0     0.0     1.0   \n",
       "          Rio Grande do Norte               NaN     NaN     NaN     NaN   \n",
       "          Rio Grande do Sul                28.0     5.0     9.0     6.0   \n",
       "          Rio de Janeiro                  466.0   397.0   457.0   394.0   \n",
       "          Roraima                           NaN     NaN     NaN     NaN   \n",
       "          Santa Catarina                    NaN     NaN     NaN     NaN   \n",
       "          São Paulo                       176.0   251.0   182.0   159.0   \n",
       "\n",
       "Year                                                      ...     2015  \\\n",
       "Month                                     março novembro  ... dezembro   \n",
       "Country   State                                           ...            \n",
       "Angola    Acre                              NaN      NaN  ...      0.0   \n",
       "          Amapá                             NaN      NaN  ...      0.0   \n",
       "          Amazonas                          0.0      0.0  ...      1.0   \n",
       "          Bahia                             1.0      0.0  ...      1.0   \n",
       "          Ceará                             NaN      NaN  ...      2.0   \n",
       "          Distrito Federal                  0.0      0.0  ...      4.0   \n",
       "          Mato Grosso do Sul                0.0      0.0  ...      0.0   \n",
       "          Minas Gerais                      NaN      NaN  ...      3.0   \n",
       "          Outras Unidades da Federação      0.0      0.0  ...      0.0   \n",
       "          Paraná                            2.0      2.0  ...      4.0   \n",
       "          Pará                              0.0      0.0  ...      0.0   \n",
       "          Pernambuco                        0.0      2.0  ...     14.0   \n",
       "          Rio Grande do Norte               NaN      NaN  ...      0.0   \n",
       "          Rio Grande do Sul                 0.0      1.0  ...      2.0   \n",
       "          Rio de Janeiro                  644.0   1283.0  ...    977.0   \n",
       "          Roraima                           NaN      NaN  ...      0.0   \n",
       "          Santa Catarina                    NaN      NaN  ...      0.0   \n",
       "          São Paulo                        15.0     44.0  ...   2119.0   \n",
       "Argentina Acre                              NaN      NaN  ...      9.0   \n",
       "          Amapá                             NaN      NaN  ...     13.0   \n",
       "          Amazonas                          1.0     10.0  ...     66.0   \n",
       "          Bahia                             4.0      2.0  ...   7972.0   \n",
       "          Ceará                             NaN      NaN  ...    763.0   \n",
       "          Distrito Federal                  2.0      0.0  ...   4902.0   \n",
       "          Mato Grosso do Sul               24.0     11.0  ...    119.0   \n",
       "          Minas Gerais                      NaN      NaN  ...    509.0   \n",
       "          Outras Unidades da Federação   1062.0    197.0  ...      0.0   \n",
       "          Paraná                         2846.0   1517.0  ...  36785.0   \n",
       "          Pará                              7.0      1.0  ...     31.0   \n",
       "          Pernambuco                        2.0     35.0  ...   1686.0   \n",
       "...                                         ...      ...  ...      ...   \n",
       "Uruguay   Mato Grosso do Sul               12.0      2.0  ...      5.0   \n",
       "          Minas Gerais                      NaN      NaN  ...     18.0   \n",
       "          Outras Unidades da Federação      7.0     10.0  ...      0.0   \n",
       "          Paraná                          557.0     74.0  ...    341.0   \n",
       "          Pará                              0.0      0.0  ...      6.0   \n",
       "          Pernambuco                        0.0      0.0  ...     47.0   \n",
       "          Rio Grande do Norte               NaN      NaN  ...      2.0   \n",
       "          Rio Grande do Sul             24762.0   6867.0  ...  13273.0   \n",
       "          Rio de Janeiro                 1286.0    450.0  ...   4080.0   \n",
       "          Roraima                           NaN      NaN  ...      8.0   \n",
       "          Santa Catarina                    NaN      NaN  ...     26.0   \n",
       "          São Paulo                       667.0    524.0  ...   5000.0   \n",
       "Venezuela Acre                              NaN      NaN  ...     15.0   \n",
       "          Amapá                             NaN      NaN  ...      0.0   \n",
       "          Amazonas                          0.0     20.0  ...   1744.0   \n",
       "          Bahia                             4.0      0.0  ...      6.0   \n",
       "          Ceará                             NaN      NaN  ...     16.0   \n",
       "          Distrito Federal                  0.0      0.0  ...    107.0   \n",
       "          Mato Grosso do Sul                2.0      1.0  ...      5.0   \n",
       "          Minas Gerais                      NaN      NaN  ...     45.0   \n",
       "          Outras Unidades da Federação    193.0    181.0  ...      1.0   \n",
       "          Paraná                            9.0     12.0  ...    119.0   \n",
       "          Pará                              0.0      1.0  ...      2.0   \n",
       "          Pernambuco                        0.0      0.0  ...     24.0   \n",
       "          Rio Grande do Norte               NaN      NaN  ...      1.0   \n",
       "          Rio Grande do Sul                 4.0      7.0  ...     89.0   \n",
       "          Rio de Janeiro                  497.0    324.0  ...   1230.0   \n",
       "          Roraima                           NaN      NaN  ...   5114.0   \n",
       "          Santa Catarina                    NaN      NaN  ...     15.0   \n",
       "          São Paulo                       171.0    303.0  ...   2254.0   \n",
       "\n",
       "Year                                                                        \\\n",
       "Month                                  fevereiro  janeiro    julho   junho   \n",
       "Country   State                                                              \n",
       "Angola    Acre                               0.0      0.0      0.0     0.0   \n",
       "          Amapá                              0.0      0.0      0.0     0.0   \n",
       "          Amazonas                           0.0      0.0      0.0     1.0   \n",
       "          Bahia                              1.0      1.0      7.0     0.0   \n",
       "          Ceará                              2.0      3.0      0.0    10.0   \n",
       "          Distrito Federal                   2.0      6.0      6.0     4.0   \n",
       "          Mato Grosso do Sul                 1.0      1.0      0.0     0.0   \n",
       "          Minas Gerais                       3.0      3.0      3.0     0.0   \n",
       "          Outras Unidades da Federação       2.0      0.0      0.0     0.0   \n",
       "          Paraná                            18.0     10.0     31.0     8.0   \n",
       "          Pará                               0.0      0.0      0.0     0.0   \n",
       "          Pernambuco                         0.0      2.0      3.0     0.0   \n",
       "          Rio Grande do Norte                0.0      0.0      1.0     0.0   \n",
       "          Rio Grande do Sul                  0.0      9.0      3.0     0.0   \n",
       "          Rio de Janeiro                  1051.0   1952.0   1016.0   676.0   \n",
       "          Roraima                            0.0      0.0      0.0     0.0   \n",
       "          Santa Catarina                     0.0      3.0      0.0     0.0   \n",
       "          São Paulo                       3030.0   5573.0   3396.0  2312.0   \n",
       "Argentina Acre                              15.0     18.0     14.0    12.0   \n",
       "          Amapá                              2.0      8.0      1.0     1.0   \n",
       "          Amazonas                          34.0     30.0     35.0    16.0   \n",
       "          Bahia                           5880.0   6620.0   6909.0  2760.0   \n",
       "          Ceará                            540.0    670.0    598.0   424.0   \n",
       "          Distrito Federal                 311.0    158.0   4076.0   424.0   \n",
       "          Mato Grosso do Sul               103.0    146.0    265.0    81.0   \n",
       "          Minas Gerais                     288.0    221.0    459.0   398.0   \n",
       "          Outras Unidades da Federação       0.0     13.0     17.0     1.0   \n",
       "          Paraná                         32030.0  54753.0  27068.0  6923.0   \n",
       "          Pará                               4.0      7.0     11.0    55.0   \n",
       "          Pernambuco                       706.0    184.0    450.0   306.0   \n",
       "...                                          ...      ...      ...     ...   \n",
       "Uruguay   Mato Grosso do Sul                 9.0      4.0      0.0     1.0   \n",
       "          Minas Gerais                       6.0      0.0      8.0     8.0   \n",
       "          Outras Unidades da Federação       0.0      1.0      1.0     0.0   \n",
       "          Paraná                           454.0    466.0   1339.0  1025.0   \n",
       "          Pará                               0.0      2.0      6.0     0.0   \n",
       "          Pernambuco                         5.0      2.0      0.0     3.0   \n",
       "          Rio Grande do Norte                1.0      0.0      0.0     3.0   \n",
       "          Rio Grande do Sul              18680.0  28776.0   7945.0  7433.0   \n",
       "          Rio de Janeiro                  3634.0   4495.0   3348.0  2367.0   \n",
       "          Roraima                            6.0      5.0      7.0     8.0   \n",
       "          Santa Catarina                    51.0    577.0     13.0    10.0   \n",
       "          São Paulo                       4809.0   4481.0   5265.0  5103.0   \n",
       "Venezuela Acre                               1.0      5.0      0.0     4.0   \n",
       "          Amapá                              1.0      2.0      2.0    13.0   \n",
       "          Amazonas                         501.0    492.0   1476.0   909.0   \n",
       "          Bahia                              8.0      4.0      6.0     1.0   \n",
       "          Ceará                              3.0      3.0      5.0     0.0   \n",
       "          Distrito Federal                  32.0    103.0    296.0   186.0   \n",
       "          Mato Grosso do Sul                 2.0      3.0      1.0     2.0   \n",
       "          Minas Gerais                      43.0     37.0     48.0    71.0   \n",
       "          Outras Unidades da Federação       0.0      1.0      1.0     2.0   \n",
       "          Paraná                            66.0     70.0     68.0    81.0   \n",
       "          Pará                               6.0      7.0      2.0     2.0   \n",
       "          Pernambuco                        18.0      9.0      9.0    16.0   \n",
       "          Rio Grande do Norte                1.0      0.0      0.0     0.0   \n",
       "          Rio Grande do Sul                 55.0     45.0     88.0    40.0   \n",
       "          Rio de Janeiro                   470.0    293.0    628.0   546.0   \n",
       "          Roraima                         1785.0   1928.0   2237.0  1837.0   \n",
       "          Santa Catarina                    13.0      2.0      5.0     3.0   \n",
       "          São Paulo                       1673.0   1570.0   1365.0  1844.0   \n",
       "\n",
       "Year                                                                       \\\n",
       "Month                                     maio    março novembro  outubro   \n",
       "Country   State                                                             \n",
       "Angola    Acre                             0.0      0.0      0.0      0.0   \n",
       "          Amapá                            0.0      0.0      0.0      0.0   \n",
       "          Amazonas                         0.0      0.0      2.0      0.0   \n",
       "          Bahia                            3.0     12.0      0.0      1.0   \n",
       "          Ceará                            0.0      0.0      0.0      0.0   \n",
       "          Distrito Federal                 6.0      4.0     10.0      4.0   \n",
       "          Mato Grosso do Sul               0.0      0.0      0.0      0.0   \n",
       "          Minas Gerais                     3.0      0.0      0.0      3.0   \n",
       "          Outras Unidades da Federação     1.0      0.0      0.0      0.0   \n",
       "          Paraná                           4.0      1.0      8.0      8.0   \n",
       "          Pará                             0.0      0.0      0.0      0.0   \n",
       "          Pernambuco                       0.0      0.0      0.0      2.0   \n",
       "          Rio Grande do Norte              0.0      0.0      0.0      0.0   \n",
       "          Rio Grande do Sul                1.0      0.0      0.0      0.0   \n",
       "          Rio de Janeiro                1161.0   1472.0   1251.0    951.0   \n",
       "          Roraima                          0.0      0.0      0.0      0.0   \n",
       "          Santa Catarina                   0.0      0.0      0.0      0.0   \n",
       "          São Paulo                     3044.0   3091.0   3069.0   2491.0   \n",
       "Argentina Acre                            19.0     13.0     14.0     13.0   \n",
       "          Amapá                            4.0      3.0      1.0     10.0   \n",
       "          Amazonas                        13.0     24.0     37.0     28.0   \n",
       "          Bahia                         2629.0   7289.0   7803.0   7735.0   \n",
       "          Ceará                          444.0    640.0    958.0    574.0   \n",
       "          Distrito Federal               295.0    366.0   4875.0   4144.0   \n",
       "          Mato Grosso do Sul              56.0    105.0     69.0    107.0   \n",
       "          Minas Gerais                  1038.0   1049.0    488.0    388.0   \n",
       "          Outras Unidades da Federação    15.0     31.0      3.0     10.0   \n",
       "          Paraná                        9226.0  22464.0  19426.0  16860.0   \n",
       "          Pará                             6.0      6.0      9.0     67.0   \n",
       "          Pernambuco                     577.0   1024.0   1069.0    661.0   \n",
       "...                                        ...      ...      ...      ...   \n",
       "Uruguay   Mato Grosso do Sul               3.0      6.0      4.0      3.0   \n",
       "          Minas Gerais                    11.0     11.0      6.0     11.0   \n",
       "          Outras Unidades da Federação    11.0      5.0      2.0      1.0   \n",
       "          Paraná                         474.0   1478.0    884.0   1494.0   \n",
       "          Pará                             4.0      0.0      4.0      0.0   \n",
       "          Pernambuco                       9.0      6.0     24.0      2.0   \n",
       "          Rio Grande do Norte              0.0      0.0      1.0      6.0   \n",
       "          Rio Grande do Sul             6271.0  28925.0   8836.0   9845.0   \n",
       "          Rio de Janeiro                1813.0   5401.0   5428.0   4997.0   \n",
       "          Roraima                          5.0      2.0      6.0      1.0   \n",
       "          Santa Catarina                  24.0   1161.0     41.0     26.0   \n",
       "          São Paulo                     3991.0   7043.0   5374.0   5707.0   \n",
       "Venezuela Acre                             1.0      2.0      3.0      4.0   \n",
       "          Amapá                            1.0      0.0      0.0      0.0   \n",
       "          Amazonas                       613.0    442.0   2450.0   2088.0   \n",
       "          Bahia                            7.0      6.0     11.0      9.0   \n",
       "          Ceará                            0.0      5.0      5.0    110.0   \n",
       "          Distrito Federal               109.0     91.0    103.0    111.0   \n",
       "          Mato Grosso do Sul               1.0      1.0      2.0      3.0   \n",
       "          Minas Gerais                    45.0     69.0     60.0     32.0   \n",
       "          Outras Unidades da Federação     0.0      3.0      5.0      3.0   \n",
       "          Paraná                          80.0     99.0     58.0     60.0   \n",
       "          Pará                             4.0      9.0      7.0      4.0   \n",
       "          Pernambuco                      29.0     21.0      2.0     11.0   \n",
       "          Rio Grande do Norte              0.0      0.0      0.0      0.0   \n",
       "          Rio Grande do Sul               55.0     97.0     68.0    156.0   \n",
       "          Rio de Janeiro                 781.0    723.0   1275.0    765.0   \n",
       "          Roraima                       1850.0   2064.0   3904.0   2838.0   \n",
       "          Santa Catarina                   1.0      4.0      3.0      3.0   \n",
       "          São Paulo                     2291.0   2361.0   2606.0   2035.0   \n",
       "\n",
       "Year                                             \n",
       "Month                                  setembro  \n",
       "Country   State                                  \n",
       "Angola    Acre                              0.0  \n",
       "          Amapá                             0.0  \n",
       "          Amazonas                          1.0  \n",
       "          Bahia                             0.0  \n",
       "          Ceará                             2.0  \n",
       "          Distrito Federal                  0.0  \n",
       "          Mato Grosso do Sul                0.0  \n",
       "          Minas Gerais                      0.0  \n",
       "          Outras Unidades da Federação      0.0  \n",
       "          Paraná                            0.0  \n",
       "          Pará                              0.0  \n",
       "          Pernambuco                        2.0  \n",
       "          Rio Grande do Norte               0.0  \n",
       "          Rio Grande do Sul                 3.0  \n",
       "          Rio de Janeiro                  497.0  \n",
       "          Roraima                           0.0  \n",
       "          Santa Catarina                    0.0  \n",
       "          São Paulo                      1159.0  \n",
       "Argentina Acre                              9.0  \n",
       "          Amapá                             1.0  \n",
       "          Amazonas                         21.0  \n",
       "          Bahia                          6458.0  \n",
       "          Ceará                           323.0  \n",
       "          Distrito Federal               1954.0  \n",
       "          Mato Grosso do Sul               40.0  \n",
       "          Minas Gerais                    146.0  \n",
       "          Outras Unidades da Federação      8.0  \n",
       "          Paraná                         8535.0  \n",
       "          Pará                             18.0  \n",
       "          Pernambuco                      372.0  \n",
       "...                                         ...  \n",
       "Uruguay   Mato Grosso do Sul                0.0  \n",
       "          Minas Gerais                      6.0  \n",
       "          Outras Unidades da Federação      1.0  \n",
       "          Paraná                         1653.0  \n",
       "          Pará                              2.0  \n",
       "          Pernambuco                        2.0  \n",
       "          Rio Grande do Norte               0.0  \n",
       "          Rio Grande do Sul              4152.0  \n",
       "          Rio de Janeiro                 2131.0  \n",
       "          Roraima                           7.0  \n",
       "          Santa Catarina                   10.0  \n",
       "          São Paulo                      3087.0  \n",
       "Venezuela Acre                              2.0  \n",
       "          Amapá                             1.0  \n",
       "          Amazonas                       1465.0  \n",
       "          Bahia                             3.0  \n",
       "          Ceará                             2.0  \n",
       "          Distrito Federal                 46.0  \n",
       "          Mato Grosso do Sul                0.0  \n",
       "          Minas Gerais                     11.0  \n",
       "          Outras Unidades da Federação      4.0  \n",
       "          Paraná                           34.0  \n",
       "          Pará                              4.0  \n",
       "          Pernambuco                       12.0  \n",
       "          Rio Grande do Norte               0.0  \n",
       "          Rio Grande do Sul                32.0  \n",
       "          Rio de Janeiro                  329.0  \n",
       "          Roraima                        1135.0  \n",
       "          Santa Catarina                    0.0  \n",
       "          São Paulo                       948.0  \n",
       "\n",
       "[978 rows x 324 columns]"
      ]
     },
     "execution_count": 67,
     "metadata": {},
     "output_type": "execute_result"
    }
   ],
   "source": [
    "pd.pivot_table(turistas, values='Count', index=['Country','State'], columns=['Year','Month'], aggfunc=np.sum)"
   ]
  },
  {
   "cell_type": "markdown",
   "metadata": {},
   "source": [
    "## <center>ATIVIDADE</center>"
   ]
  },
  {
   "cell_type": "markdown",
   "metadata": {},
   "source": [
    "**Crie uma `Serie` com 10 números.**"
   ]
  },
  {
   "cell_type": "code",
   "execution_count": 71,
   "metadata": {},
   "outputs": [
    {
     "data": {
      "text/plain": [
       "0    0\n",
       "1    1\n",
       "2    2\n",
       "3    3\n",
       "4    4\n",
       "5    5\n",
       "6    6\n",
       "7    7\n",
       "8    8\n",
       "9    9\n",
       "dtype: int64"
      ]
     },
     "execution_count": 71,
     "metadata": {},
     "output_type": "execute_result"
    }
   ],
   "source": [
    "minha_lista = np.arange(10)\n",
    "serie = pd.Series(minha_lista)\n",
    "serie"
   ]
  },
  {
   "cell_type": "markdown",
   "metadata": {},
   "source": [
    "**Coloque este vetor como um index na `Serie` da questão anterior:  ['a','b','c','d','e','f','g','h','i','j']**"
   ]
  },
  {
   "cell_type": "code",
   "execution_count": 72,
   "metadata": {},
   "outputs": [
    {
     "data": {
      "text/plain": [
       "a    0\n",
       "b    1\n",
       "c    2\n",
       "d    3\n",
       "e    4\n",
       "f    5\n",
       "g    6\n",
       "h    7\n",
       "i    8\n",
       "j    9\n",
       "dtype: int64"
      ]
     },
     "execution_count": 72,
     "metadata": {},
     "output_type": "execute_result"
    }
   ],
   "source": [
    "labels = ['a','b','c','d','e','f','g','h','i','j']\n",
    "serie.index = labels\n",
    "serie"
   ]
  },
  {
   "cell_type": "markdown",
   "metadata": {},
   "source": [
    "**Crie uma `Serie` com nomes de pessoas (com repetições) e depois counte quantas vezes cada nome aparece.**"
   ]
  },
  {
   "cell_type": "code",
   "execution_count": 74,
   "metadata": {},
   "outputs": [
    {
     "data": {
      "text/plain": [
       "João     2\n",
       "Maria    2\n",
       "Pedro    1\n",
       "dtype: int64"
      ]
     },
     "execution_count": 74,
     "metadata": {},
     "output_type": "execute_result"
    }
   ],
   "source": [
    "lista_nomes = ['João', 'Maria', 'João', 'Maria', 'Pedro'] #criando uma lista\n",
    "serie = pd.Series(lista_nomes) #conertendo a lista em um pandas.Series\n",
    "serie.value_counts() #aplicando o método de contar valores"
   ]
  },
  {
   "cell_type": "markdown",
   "metadata": {},
   "source": [
    "**Leia o arquivo `tips.csv`.**"
   ]
  },
  {
   "cell_type": "code",
   "execution_count": 75,
   "metadata": {},
   "outputs": [
    {
     "data": {
      "text/html": [
       "<div>\n",
       "<style scoped>\n",
       "    .dataframe tbody tr th:only-of-type {\n",
       "        vertical-align: middle;\n",
       "    }\n",
       "\n",
       "    .dataframe tbody tr th {\n",
       "        vertical-align: top;\n",
       "    }\n",
       "\n",
       "    .dataframe thead th {\n",
       "        text-align: right;\n",
       "    }\n",
       "</style>\n",
       "<table border=\"1\" class=\"dataframe\">\n",
       "  <thead>\n",
       "    <tr style=\"text-align: right;\">\n",
       "      <th></th>\n",
       "      <th>Unnamed: 0</th>\n",
       "      <th>total_bill</th>\n",
       "      <th>tip</th>\n",
       "      <th>sex</th>\n",
       "      <th>smoker</th>\n",
       "      <th>day</th>\n",
       "      <th>time</th>\n",
       "      <th>size</th>\n",
       "    </tr>\n",
       "  </thead>\n",
       "  <tbody>\n",
       "    <tr>\n",
       "      <th>0</th>\n",
       "      <td>0</td>\n",
       "      <td>16.99</td>\n",
       "      <td>1.01</td>\n",
       "      <td>Female</td>\n",
       "      <td>No</td>\n",
       "      <td>Sun</td>\n",
       "      <td>Dinner</td>\n",
       "      <td>2</td>\n",
       "    </tr>\n",
       "    <tr>\n",
       "      <th>1</th>\n",
       "      <td>1</td>\n",
       "      <td>10.34</td>\n",
       "      <td>1.66</td>\n",
       "      <td>Male</td>\n",
       "      <td>No</td>\n",
       "      <td>Sun</td>\n",
       "      <td>Dinner</td>\n",
       "      <td>3</td>\n",
       "    </tr>\n",
       "    <tr>\n",
       "      <th>2</th>\n",
       "      <td>2</td>\n",
       "      <td>21.01</td>\n",
       "      <td>3.50</td>\n",
       "      <td>Male</td>\n",
       "      <td>No</td>\n",
       "      <td>Sun</td>\n",
       "      <td>Dinner</td>\n",
       "      <td>3</td>\n",
       "    </tr>\n",
       "    <tr>\n",
       "      <th>3</th>\n",
       "      <td>3</td>\n",
       "      <td>23.68</td>\n",
       "      <td>3.31</td>\n",
       "      <td>Male</td>\n",
       "      <td>No</td>\n",
       "      <td>Sun</td>\n",
       "      <td>Dinner</td>\n",
       "      <td>2</td>\n",
       "    </tr>\n",
       "    <tr>\n",
       "      <th>4</th>\n",
       "      <td>4</td>\n",
       "      <td>24.59</td>\n",
       "      <td>3.61</td>\n",
       "      <td>Female</td>\n",
       "      <td>No</td>\n",
       "      <td>Sun</td>\n",
       "      <td>Dinner</td>\n",
       "      <td>4</td>\n",
       "    </tr>\n",
       "  </tbody>\n",
       "</table>\n",
       "</div>"
      ],
      "text/plain": [
       "   Unnamed: 0  total_bill   tip     sex smoker  day    time  size\n",
       "0           0       16.99  1.01  Female     No  Sun  Dinner     2\n",
       "1           1       10.34  1.66    Male     No  Sun  Dinner     3\n",
       "2           2       21.01  3.50    Male     No  Sun  Dinner     3\n",
       "3           3       23.68  3.31    Male     No  Sun  Dinner     2\n",
       "4           4       24.59  3.61  Female     No  Sun  Dinner     4"
      ]
     },
     "execution_count": 75,
     "metadata": {},
     "output_type": "execute_result"
    }
   ],
   "source": [
    "tips = pd.read_csv('tips.csv')\n",
    "tips.head()"
   ]
  },
  {
   "cell_type": "markdown",
   "metadata": {},
   "source": [
    "**Qual o valor total vendido pelo restaurante?**"
   ]
  },
  {
   "cell_type": "code",
   "execution_count": 76,
   "metadata": {},
   "outputs": [
    {
     "data": {
      "text/plain": [
       "4827.77"
      ]
     },
     "execution_count": 76,
     "metadata": {},
     "output_type": "execute_result"
    }
   ],
   "source": [
    "tips['total_bill'].sum() #usando o método do próprio Pandas"
   ]
  },
  {
   "cell_type": "code",
   "execution_count": 77,
   "metadata": {},
   "outputs": [
    {
     "data": {
      "text/plain": [
       "4827.77"
      ]
     },
     "execution_count": 77,
     "metadata": {},
     "output_type": "execute_result"
    }
   ],
   "source": [
    "np.sum(tips['total_bill']) #usando o método através do Numpy"
   ]
  },
  {
   "cell_type": "markdown",
   "metadata": {},
   "source": [
    "**Qual a gorjeta total arrecadada?**"
   ]
  },
  {
   "cell_type": "code",
   "execution_count": 78,
   "metadata": {},
   "outputs": [
    {
     "data": {
      "text/plain": [
       "731.5799999999999"
      ]
     },
     "execution_count": 78,
     "metadata": {},
     "output_type": "execute_result"
    }
   ],
   "source": [
    "tips['tip'].sum() #usando o método do próprio Pandas"
   ]
  },
  {
   "cell_type": "code",
   "execution_count": 79,
   "metadata": {},
   "outputs": [
    {
     "data": {
      "text/plain": [
       "731.5799999999999"
      ]
     },
     "execution_count": 79,
     "metadata": {},
     "output_type": "execute_result"
    }
   ],
   "source": [
    "np.sum(tips['tip']) #usando o método através do Numpy"
   ]
  },
  {
   "cell_type": "markdown",
   "metadata": {},
   "source": [
    "**Mostre quais são os tipos únicos da coluna `time`.**"
   ]
  },
  {
   "cell_type": "code",
   "execution_count": 84,
   "metadata": {},
   "outputs": [
    {
     "data": {
      "text/plain": [
       "array(['Dinner', 'Lunch'], dtype=object)"
      ]
     },
     "execution_count": 84,
     "metadata": {},
     "output_type": "execute_result"
    }
   ],
   "source": [
    "tips.time.unique()"
   ]
  },
  {
   "cell_type": "markdown",
   "metadata": {},
   "source": [
    "**Verifique o lucro médio das refeições (`Lunch` e `Dinner`).**"
   ]
  },
  {
   "cell_type": "code",
   "execution_count": 94,
   "metadata": {},
   "outputs": [
    {
     "name": "stdout",
     "output_type": "stream",
     "text": [
      "Dinner: 20.79715909090909\n",
      "Lunch: 17.168676470588235\n"
     ]
    }
   ],
   "source": [
    "print('Dinner: ' +  str(tips[tips.time == 'Dinner']['total_bill'].mean()))\n",
    "print('Lunch: ' +  str(tips[tips.time == 'Lunch']['total_bill'].mean()))"
   ]
  },
  {
   "cell_type": "markdown",
   "metadata": {},
   "source": [
    "**Utilizando o `pandas`, extraia os dados do seguinte endereço da internet:**"
   ]
  },
  {
   "cell_type": "markdown",
   "metadata": {},
   "source": [
    "https://www.hfbrasil.org.br/br/estatistica/tomate.aspx"
   ]
  },
  {
   "cell_type": "markdown",
   "metadata": {},
   "source": [
    "**Guarde esses dados em um objeto como um `DataFrame`.**"
   ]
  },
  {
   "cell_type": "code",
   "execution_count": 23,
   "metadata": {},
   "outputs": [],
   "source": [
    "dadosTomate = pd.read_html('https://www.hfbrasil.org.br/br/estatistica/tomate.aspx')"
   ]
  },
  {
   "cell_type": "code",
   "execution_count": 24,
   "metadata": {},
   "outputs": [
    {
     "data": {
      "text/plain": [
       "[                            Produto                    Região       Unidade  \\\n",
       " 0                Italiano - atacado                  Campinas   Caixa 20 kg   \n",
       " 1                Italiano - atacado       São Paulo (capital)   Caixa 20 kg   \n",
       " 2           Italiano 3A AT - Tomate                  Campinas   Caixa 20 kg   \n",
       " 3           Italiano 3A AT - Tomate       São Paulo (capital)   Caixa 20 kg   \n",
       " 4             Salada 3A AT - Tomate  Belo Horizonte (capital)   Caixa 20 kg   \n",
       " 5             Salada 3A AT - Tomate                  Campinas   Caixa 20 kg   \n",
       " 6             Salada 3A AT - Tomate  Rio de Janeiro (capital)   Caixa 20 kg   \n",
       " 7             Salada 3A AT - Tomate       São Paulo (capital)   Caixa 20 kg   \n",
       " 8    Salada longa vida AA - atacado  Belo Horizonte (capital)   Caixa 20 kg   \n",
       " 9    Salada longa vida AA - atacado                  Campinas   Caixa 20 kg   \n",
       " 10   Salada longa vida AA - atacado  Rio de Janeiro (capital)   Caixa 20 kg   \n",
       " 11   Salada longa vida AA - atacado       São Paulo (capital)   Caixa 20 kg   \n",
       " 12  Salada longa vida AA - produtor  São José de Ubá (região)  Caixa Aberta   \n",
       " 13  Salada longa vida AA - produtor                  Araguari  Caixa Aberta   \n",
       " 14  Salada longa vida AA - produtor       Mogi Guaçu (região)  Caixa Aberta   \n",
       " 15  Salada longa vida AA - produtor   Venda Nova do Imigrante  Caixa Aberta   \n",
       " 16        Santa Cruz 3A AT - Tomate                  Campinas   Caixa 20 kg   \n",
       " 17        Santa Cruz 3A AT - Tomate       São Paulo (capital)   Caixa 20 kg   \n",
       " 18          Santa Cruz AA - atacado                  Campinas   Caixa 20 kg   \n",
       " 19          Santa Cruz AA - atacado       São Paulo (capital)   Caixa 20 kg   \n",
       " \n",
       "    06/ago  07/ago 08/ago  09/ago  12/ago  \n",
       " 0   - - -    3500  - - -    2667    2500  \n",
       " 1    3600    3800   3333    2667    2625  \n",
       " 2   - - -    5875  - - -    4833    3750  \n",
       " 3    6625    6063   5071    4714    3643  \n",
       " 4   - - -    4800  - - -    3750    3250  \n",
       " 5   - - -    5000  - - -    4000    3833  \n",
       " 6    6000    5625   5083    4000    3625  \n",
       " 7    6214    5714   4917    4000    3500  \n",
       " 8   - - -    2000  - - -    2167    1750  \n",
       " 9   - - -    3375  - - -    2833    2500  \n",
       " 10   3750    3375   3000    2333    2167  \n",
       " 11   3500    3500   3000    2250    2375  \n",
       " 12   4250    3600   3400    3000    2160  \n",
       " 13   5000    4383   3900    3200    2780  \n",
       " 14   5583    5000   4000    3250    3000  \n",
       " 15   4786    4550   4171    3560    2960  \n",
       " 16  - - -    6000  - - -    4833    3750  \n",
       " 17   6167    5625   4667    4000    3625  \n",
       " 18  - - -    3500  - - -    2500    2500  \n",
       " 19   3500    3500   2750    2500    2250  ]"
      ]
     },
     "execution_count": 24,
     "metadata": {},
     "output_type": "execute_result"
    }
   ],
   "source": [
    "dadosTomate"
   ]
  },
  {
   "cell_type": "code",
   "execution_count": 25,
   "metadata": {},
   "outputs": [],
   "source": [
    "dadosTomate = dadosTomate[0]"
   ]
  },
  {
   "cell_type": "code",
   "execution_count": 26,
   "metadata": {},
   "outputs": [
    {
     "data": {
      "text/html": [
       "<div>\n",
       "<style scoped>\n",
       "    .dataframe tbody tr th:only-of-type {\n",
       "        vertical-align: middle;\n",
       "    }\n",
       "\n",
       "    .dataframe tbody tr th {\n",
       "        vertical-align: top;\n",
       "    }\n",
       "\n",
       "    .dataframe thead th {\n",
       "        text-align: right;\n",
       "    }\n",
       "</style>\n",
       "<table border=\"1\" class=\"dataframe\">\n",
       "  <thead>\n",
       "    <tr style=\"text-align: right;\">\n",
       "      <th></th>\n",
       "      <th>Produto</th>\n",
       "      <th>Região</th>\n",
       "      <th>Unidade</th>\n",
       "      <th>06/ago</th>\n",
       "      <th>07/ago</th>\n",
       "      <th>08/ago</th>\n",
       "      <th>09/ago</th>\n",
       "      <th>12/ago</th>\n",
       "    </tr>\n",
       "  </thead>\n",
       "  <tbody>\n",
       "    <tr>\n",
       "      <th>0</th>\n",
       "      <td>Italiano - atacado</td>\n",
       "      <td>Campinas</td>\n",
       "      <td>Caixa 20 kg</td>\n",
       "      <td>- - -</td>\n",
       "      <td>3500</td>\n",
       "      <td>- - -</td>\n",
       "      <td>2667</td>\n",
       "      <td>2500</td>\n",
       "    </tr>\n",
       "    <tr>\n",
       "      <th>1</th>\n",
       "      <td>Italiano - atacado</td>\n",
       "      <td>São Paulo (capital)</td>\n",
       "      <td>Caixa 20 kg</td>\n",
       "      <td>3600</td>\n",
       "      <td>3800</td>\n",
       "      <td>3333</td>\n",
       "      <td>2667</td>\n",
       "      <td>2625</td>\n",
       "    </tr>\n",
       "    <tr>\n",
       "      <th>2</th>\n",
       "      <td>Italiano 3A AT - Tomate</td>\n",
       "      <td>Campinas</td>\n",
       "      <td>Caixa 20 kg</td>\n",
       "      <td>- - -</td>\n",
       "      <td>5875</td>\n",
       "      <td>- - -</td>\n",
       "      <td>4833</td>\n",
       "      <td>3750</td>\n",
       "    </tr>\n",
       "    <tr>\n",
       "      <th>3</th>\n",
       "      <td>Italiano 3A AT - Tomate</td>\n",
       "      <td>São Paulo (capital)</td>\n",
       "      <td>Caixa 20 kg</td>\n",
       "      <td>6625</td>\n",
       "      <td>6063</td>\n",
       "      <td>5071</td>\n",
       "      <td>4714</td>\n",
       "      <td>3643</td>\n",
       "    </tr>\n",
       "    <tr>\n",
       "      <th>4</th>\n",
       "      <td>Salada 3A AT - Tomate</td>\n",
       "      <td>Belo Horizonte (capital)</td>\n",
       "      <td>Caixa 20 kg</td>\n",
       "      <td>- - -</td>\n",
       "      <td>4800</td>\n",
       "      <td>- - -</td>\n",
       "      <td>3750</td>\n",
       "      <td>3250</td>\n",
       "    </tr>\n",
       "    <tr>\n",
       "      <th>5</th>\n",
       "      <td>Salada 3A AT - Tomate</td>\n",
       "      <td>Campinas</td>\n",
       "      <td>Caixa 20 kg</td>\n",
       "      <td>- - -</td>\n",
       "      <td>5000</td>\n",
       "      <td>- - -</td>\n",
       "      <td>4000</td>\n",
       "      <td>3833</td>\n",
       "    </tr>\n",
       "    <tr>\n",
       "      <th>6</th>\n",
       "      <td>Salada 3A AT - Tomate</td>\n",
       "      <td>Rio de Janeiro (capital)</td>\n",
       "      <td>Caixa 20 kg</td>\n",
       "      <td>6000</td>\n",
       "      <td>5625</td>\n",
       "      <td>5083</td>\n",
       "      <td>4000</td>\n",
       "      <td>3625</td>\n",
       "    </tr>\n",
       "    <tr>\n",
       "      <th>7</th>\n",
       "      <td>Salada 3A AT - Tomate</td>\n",
       "      <td>São Paulo (capital)</td>\n",
       "      <td>Caixa 20 kg</td>\n",
       "      <td>6214</td>\n",
       "      <td>5714</td>\n",
       "      <td>4917</td>\n",
       "      <td>4000</td>\n",
       "      <td>3500</td>\n",
       "    </tr>\n",
       "    <tr>\n",
       "      <th>8</th>\n",
       "      <td>Salada longa vida AA - atacado</td>\n",
       "      <td>Belo Horizonte (capital)</td>\n",
       "      <td>Caixa 20 kg</td>\n",
       "      <td>- - -</td>\n",
       "      <td>2000</td>\n",
       "      <td>- - -</td>\n",
       "      <td>2167</td>\n",
       "      <td>1750</td>\n",
       "    </tr>\n",
       "    <tr>\n",
       "      <th>9</th>\n",
       "      <td>Salada longa vida AA - atacado</td>\n",
       "      <td>Campinas</td>\n",
       "      <td>Caixa 20 kg</td>\n",
       "      <td>- - -</td>\n",
       "      <td>3375</td>\n",
       "      <td>- - -</td>\n",
       "      <td>2833</td>\n",
       "      <td>2500</td>\n",
       "    </tr>\n",
       "    <tr>\n",
       "      <th>10</th>\n",
       "      <td>Salada longa vida AA - atacado</td>\n",
       "      <td>Rio de Janeiro (capital)</td>\n",
       "      <td>Caixa 20 kg</td>\n",
       "      <td>3750</td>\n",
       "      <td>3375</td>\n",
       "      <td>3000</td>\n",
       "      <td>2333</td>\n",
       "      <td>2167</td>\n",
       "    </tr>\n",
       "    <tr>\n",
       "      <th>11</th>\n",
       "      <td>Salada longa vida AA - atacado</td>\n",
       "      <td>São Paulo (capital)</td>\n",
       "      <td>Caixa 20 kg</td>\n",
       "      <td>3500</td>\n",
       "      <td>3500</td>\n",
       "      <td>3000</td>\n",
       "      <td>2250</td>\n",
       "      <td>2375</td>\n",
       "    </tr>\n",
       "    <tr>\n",
       "      <th>12</th>\n",
       "      <td>Salada longa vida AA - produtor</td>\n",
       "      <td>São José de Ubá (região)</td>\n",
       "      <td>Caixa Aberta</td>\n",
       "      <td>4250</td>\n",
       "      <td>3600</td>\n",
       "      <td>3400</td>\n",
       "      <td>3000</td>\n",
       "      <td>2160</td>\n",
       "    </tr>\n",
       "    <tr>\n",
       "      <th>13</th>\n",
       "      <td>Salada longa vida AA - produtor</td>\n",
       "      <td>Araguari</td>\n",
       "      <td>Caixa Aberta</td>\n",
       "      <td>5000</td>\n",
       "      <td>4383</td>\n",
       "      <td>3900</td>\n",
       "      <td>3200</td>\n",
       "      <td>2780</td>\n",
       "    </tr>\n",
       "    <tr>\n",
       "      <th>14</th>\n",
       "      <td>Salada longa vida AA - produtor</td>\n",
       "      <td>Mogi Guaçu (região)</td>\n",
       "      <td>Caixa Aberta</td>\n",
       "      <td>5583</td>\n",
       "      <td>5000</td>\n",
       "      <td>4000</td>\n",
       "      <td>3250</td>\n",
       "      <td>3000</td>\n",
       "    </tr>\n",
       "    <tr>\n",
       "      <th>15</th>\n",
       "      <td>Salada longa vida AA - produtor</td>\n",
       "      <td>Venda Nova do Imigrante</td>\n",
       "      <td>Caixa Aberta</td>\n",
       "      <td>4786</td>\n",
       "      <td>4550</td>\n",
       "      <td>4171</td>\n",
       "      <td>3560</td>\n",
       "      <td>2960</td>\n",
       "    </tr>\n",
       "    <tr>\n",
       "      <th>16</th>\n",
       "      <td>Santa Cruz 3A AT - Tomate</td>\n",
       "      <td>Campinas</td>\n",
       "      <td>Caixa 20 kg</td>\n",
       "      <td>- - -</td>\n",
       "      <td>6000</td>\n",
       "      <td>- - -</td>\n",
       "      <td>4833</td>\n",
       "      <td>3750</td>\n",
       "    </tr>\n",
       "    <tr>\n",
       "      <th>17</th>\n",
       "      <td>Santa Cruz 3A AT - Tomate</td>\n",
       "      <td>São Paulo (capital)</td>\n",
       "      <td>Caixa 20 kg</td>\n",
       "      <td>6167</td>\n",
       "      <td>5625</td>\n",
       "      <td>4667</td>\n",
       "      <td>4000</td>\n",
       "      <td>3625</td>\n",
       "    </tr>\n",
       "    <tr>\n",
       "      <th>18</th>\n",
       "      <td>Santa Cruz AA - atacado</td>\n",
       "      <td>Campinas</td>\n",
       "      <td>Caixa 20 kg</td>\n",
       "      <td>- - -</td>\n",
       "      <td>3500</td>\n",
       "      <td>- - -</td>\n",
       "      <td>2500</td>\n",
       "      <td>2500</td>\n",
       "    </tr>\n",
       "    <tr>\n",
       "      <th>19</th>\n",
       "      <td>Santa Cruz AA - atacado</td>\n",
       "      <td>São Paulo (capital)</td>\n",
       "      <td>Caixa 20 kg</td>\n",
       "      <td>3500</td>\n",
       "      <td>3500</td>\n",
       "      <td>2750</td>\n",
       "      <td>2500</td>\n",
       "      <td>2250</td>\n",
       "    </tr>\n",
       "  </tbody>\n",
       "</table>\n",
       "</div>"
      ],
      "text/plain": [
       "                            Produto                    Região       Unidade  \\\n",
       "0                Italiano - atacado                  Campinas   Caixa 20 kg   \n",
       "1                Italiano - atacado       São Paulo (capital)   Caixa 20 kg   \n",
       "2           Italiano 3A AT - Tomate                  Campinas   Caixa 20 kg   \n",
       "3           Italiano 3A AT - Tomate       São Paulo (capital)   Caixa 20 kg   \n",
       "4             Salada 3A AT - Tomate  Belo Horizonte (capital)   Caixa 20 kg   \n",
       "5             Salada 3A AT - Tomate                  Campinas   Caixa 20 kg   \n",
       "6             Salada 3A AT - Tomate  Rio de Janeiro (capital)   Caixa 20 kg   \n",
       "7             Salada 3A AT - Tomate       São Paulo (capital)   Caixa 20 kg   \n",
       "8    Salada longa vida AA - atacado  Belo Horizonte (capital)   Caixa 20 kg   \n",
       "9    Salada longa vida AA - atacado                  Campinas   Caixa 20 kg   \n",
       "10   Salada longa vida AA - atacado  Rio de Janeiro (capital)   Caixa 20 kg   \n",
       "11   Salada longa vida AA - atacado       São Paulo (capital)   Caixa 20 kg   \n",
       "12  Salada longa vida AA - produtor  São José de Ubá (região)  Caixa Aberta   \n",
       "13  Salada longa vida AA - produtor                  Araguari  Caixa Aberta   \n",
       "14  Salada longa vida AA - produtor       Mogi Guaçu (região)  Caixa Aberta   \n",
       "15  Salada longa vida AA - produtor   Venda Nova do Imigrante  Caixa Aberta   \n",
       "16        Santa Cruz 3A AT - Tomate                  Campinas   Caixa 20 kg   \n",
       "17        Santa Cruz 3A AT - Tomate       São Paulo (capital)   Caixa 20 kg   \n",
       "18          Santa Cruz AA - atacado                  Campinas   Caixa 20 kg   \n",
       "19          Santa Cruz AA - atacado       São Paulo (capital)   Caixa 20 kg   \n",
       "\n",
       "   06/ago  07/ago 08/ago  09/ago  12/ago  \n",
       "0   - - -    3500  - - -    2667    2500  \n",
       "1    3600    3800   3333    2667    2625  \n",
       "2   - - -    5875  - - -    4833    3750  \n",
       "3    6625    6063   5071    4714    3643  \n",
       "4   - - -    4800  - - -    3750    3250  \n",
       "5   - - -    5000  - - -    4000    3833  \n",
       "6    6000    5625   5083    4000    3625  \n",
       "7    6214    5714   4917    4000    3500  \n",
       "8   - - -    2000  - - -    2167    1750  \n",
       "9   - - -    3375  - - -    2833    2500  \n",
       "10   3750    3375   3000    2333    2167  \n",
       "11   3500    3500   3000    2250    2375  \n",
       "12   4250    3600   3400    3000    2160  \n",
       "13   5000    4383   3900    3200    2780  \n",
       "14   5583    5000   4000    3250    3000  \n",
       "15   4786    4550   4171    3560    2960  \n",
       "16  - - -    6000  - - -    4833    3750  \n",
       "17   6167    5625   4667    4000    3625  \n",
       "18  - - -    3500  - - -    2500    2500  \n",
       "19   3500    3500   2750    2500    2250  "
      ]
     },
     "execution_count": 26,
     "metadata": {},
     "output_type": "execute_result"
    }
   ],
   "source": [
    "dadosTomate"
   ]
  }
 ],
 "metadata": {
  "kernelspec": {
   "display_name": "Python 3",
   "language": "python",
   "name": "python3"
  },
  "language_info": {
   "codemirror_mode": {
    "name": "ipython",
    "version": 3
   },
   "file_extension": ".py",
   "mimetype": "text/x-python",
   "name": "python",
   "nbconvert_exporter": "python",
   "pygments_lexer": "ipython3",
   "version": "3.7.3"
  }
 },
 "nbformat": 4,
 "nbformat_minor": 2
}
