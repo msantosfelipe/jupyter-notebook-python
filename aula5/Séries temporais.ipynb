{
 "cells": [
  {
   "cell_type": "markdown",
   "metadata": {},
   "source": [
    "# <center>Séries temporais</center>"
   ]
  },
  {
   "cell_type": "code",
   "execution_count": 1,
   "metadata": {},
   "outputs": [],
   "source": [
    "import pandas as pd\n",
    "import numpy as np\n",
    "import matplotlib.pyplot as plt\n",
    "%matplotlib inline"
   ]
  },
  {
   "cell_type": "markdown",
   "metadata": {},
   "source": [
    "**Datetime**"
   ]
  },
  {
   "cell_type": "code",
   "execution_count": 2,
   "metadata": {},
   "outputs": [],
   "source": [
    "from datetime import datetime"
   ]
  },
  {
   "cell_type": "code",
   "execution_count": 3,
   "metadata": {},
   "outputs": [
    {
     "data": {
      "text/plain": [
       "datetime.datetime(2019, 8, 21, 19, 5, 58, 594478)"
      ]
     },
     "execution_count": 3,
     "metadata": {},
     "output_type": "execute_result"
    }
   ],
   "source": [
    "#horario atual\n",
    "data = datetime.now()\n",
    "data"
   ]
  },
  {
   "cell_type": "code",
   "execution_count": 4,
   "metadata": {},
   "outputs": [
    {
     "data": {
      "text/plain": [
       "2019"
      ]
     },
     "execution_count": 4,
     "metadata": {},
     "output_type": "execute_result"
    }
   ],
   "source": [
    "data.year"
   ]
  },
  {
   "cell_type": "code",
   "execution_count": 5,
   "metadata": {},
   "outputs": [
    {
     "data": {
      "text/plain": [
       "8"
      ]
     },
     "execution_count": 5,
     "metadata": {},
     "output_type": "execute_result"
    }
   ],
   "source": [
    "data.month"
   ]
  },
  {
   "cell_type": "code",
   "execution_count": 6,
   "metadata": {},
   "outputs": [
    {
     "data": {
      "text/plain": [
       "21"
      ]
     },
     "execution_count": 6,
     "metadata": {},
     "output_type": "execute_result"
    }
   ],
   "source": [
    "data.day"
   ]
  },
  {
   "cell_type": "code",
   "execution_count": 7,
   "metadata": {},
   "outputs": [
    {
     "data": {
      "text/plain": [
       "19"
      ]
     },
     "execution_count": 7,
     "metadata": {},
     "output_type": "execute_result"
    }
   ],
   "source": [
    "data.hour"
   ]
  },
  {
   "cell_type": "code",
   "execution_count": 8,
   "metadata": {},
   "outputs": [
    {
     "data": {
      "text/plain": [
       "5"
      ]
     },
     "execution_count": 8,
     "metadata": {},
     "output_type": "execute_result"
    }
   ],
   "source": [
    "data.minute"
   ]
  },
  {
   "cell_type": "code",
   "execution_count": 9,
   "metadata": {},
   "outputs": [
    {
     "data": {
      "text/plain": [
       "58"
      ]
     },
     "execution_count": 9,
     "metadata": {},
     "output_type": "execute_result"
    }
   ],
   "source": [
    "data.second"
   ]
  },
  {
   "cell_type": "code",
   "execution_count": 10,
   "metadata": {},
   "outputs": [
    {
     "data": {
      "text/plain": [
       "2"
      ]
     },
     "execution_count": 10,
     "metadata": {},
     "output_type": "execute_result"
    }
   ],
   "source": [
    "data.weekday()"
   ]
  },
  {
   "cell_type": "code",
   "execution_count": 11,
   "metadata": {},
   "outputs": [
    {
     "data": {
      "text/plain": [
       "594478"
      ]
     },
     "execution_count": 11,
     "metadata": {},
     "output_type": "execute_result"
    }
   ],
   "source": [
    "data.microsecond"
   ]
  },
  {
   "cell_type": "code",
   "execution_count": 12,
   "metadata": {},
   "outputs": [
    {
     "data": {
      "text/plain": [
       "datetime.datetime(2000, 6, 12, 12, 20)"
      ]
     },
     "execution_count": 12,
     "metadata": {},
     "output_type": "execute_result"
    }
   ],
   "source": [
    "dataString = datetime.strptime('2000/06/12 12:20', '%Y/%m/%d %H:%M')\n",
    "dataString"
   ]
  },
  {
   "cell_type": "code",
   "execution_count": 13,
   "metadata": {},
   "outputs": [
    {
     "data": {
      "text/plain": [
       "0"
      ]
     },
     "execution_count": 13,
     "metadata": {},
     "output_type": "execute_result"
    }
   ],
   "source": [
    "dataString.microsecond"
   ]
  },
  {
   "cell_type": "code",
   "execution_count": 14,
   "metadata": {},
   "outputs": [
    {
     "data": {
      "text/plain": [
       "datetime.datetime"
      ]
     },
     "execution_count": 14,
     "metadata": {},
     "output_type": "execute_result"
    }
   ],
   "source": [
    "type(dataString)"
   ]
  },
  {
   "cell_type": "markdown",
   "metadata": {},
   "source": [
    "## Séries temporais em `pandas`"
   ]
  },
  {
   "cell_type": "code",
   "execution_count": 15,
   "metadata": {},
   "outputs": [
    {
     "data": {
      "text/html": [
       "<div>\n",
       "<style scoped>\n",
       "    .dataframe tbody tr th:only-of-type {\n",
       "        vertical-align: middle;\n",
       "    }\n",
       "\n",
       "    .dataframe tbody tr th {\n",
       "        vertical-align: top;\n",
       "    }\n",
       "\n",
       "    .dataframe thead th {\n",
       "        text-align: right;\n",
       "    }\n",
       "</style>\n",
       "<table border=\"1\" class=\"dataframe\">\n",
       "  <thead>\n",
       "    <tr style=\"text-align: right;\">\n",
       "      <th></th>\n",
       "      <th>data</th>\n",
       "      <th>Chegadas</th>\n",
       "    </tr>\n",
       "  </thead>\n",
       "  <tbody>\n",
       "    <tr>\n",
       "      <th>0</th>\n",
       "      <td>1989-01-01</td>\n",
       "      <td>291566.0</td>\n",
       "    </tr>\n",
       "    <tr>\n",
       "      <th>1</th>\n",
       "      <td>1989-02-01</td>\n",
       "      <td>197348.0</td>\n",
       "    </tr>\n",
       "    <tr>\n",
       "      <th>2</th>\n",
       "      <td>1989-03-01</td>\n",
       "      <td>149001.0</td>\n",
       "    </tr>\n",
       "    <tr>\n",
       "      <th>3</th>\n",
       "      <td>1989-04-01</td>\n",
       "      <td>84867.0</td>\n",
       "    </tr>\n",
       "    <tr>\n",
       "      <th>4</th>\n",
       "      <td>1989-05-01</td>\n",
       "      <td>69293.0</td>\n",
       "    </tr>\n",
       "  </tbody>\n",
       "</table>\n",
       "</div>"
      ],
      "text/plain": [
       "         data  Chegadas\n",
       "0  1989-01-01  291566.0\n",
       "1  1989-02-01  197348.0\n",
       "2  1989-03-01  149001.0\n",
       "3  1989-04-01   84867.0\n",
       "4  1989-05-01   69293.0"
      ]
     },
     "execution_count": 15,
     "metadata": {},
     "output_type": "execute_result"
    }
   ],
   "source": [
    "dados = pd.read_csv('chegadasBrasil.csv')\n",
    "dados.head()"
   ]
  },
  {
   "cell_type": "code",
   "execution_count": 16,
   "metadata": {},
   "outputs": [
    {
     "name": "stdout",
     "output_type": "stream",
     "text": [
      "<class 'pandas.core.frame.DataFrame'>\n",
      "RangeIndex: 348 entries, 0 to 347\n",
      "Data columns (total 2 columns):\n",
      "data        348 non-null object\n",
      "Chegadas    348 non-null float64\n",
      "dtypes: float64(1), object(1)\n",
      "memory usage: 5.5+ KB\n"
     ]
    }
   ],
   "source": [
    "dados.info()"
   ]
  },
  {
   "cell_type": "code",
   "execution_count": 17,
   "metadata": {},
   "outputs": [
    {
     "name": "stdout",
     "output_type": "stream",
     "text": [
      "CPU times: user 3.27 ms, sys: 0 ns, total: 3.27 ms\n",
      "Wall time: 3.28 ms\n"
     ]
    },
    {
     "data": {
      "text/html": [
       "<div>\n",
       "<style scoped>\n",
       "    .dataframe tbody tr th:only-of-type {\n",
       "        vertical-align: middle;\n",
       "    }\n",
       "\n",
       "    .dataframe tbody tr th {\n",
       "        vertical-align: top;\n",
       "    }\n",
       "\n",
       "    .dataframe thead th {\n",
       "        text-align: right;\n",
       "    }\n",
       "</style>\n",
       "<table border=\"1\" class=\"dataframe\">\n",
       "  <thead>\n",
       "    <tr style=\"text-align: right;\">\n",
       "      <th></th>\n",
       "      <th>data</th>\n",
       "      <th>Chegadas</th>\n",
       "      <th>data1</th>\n",
       "    </tr>\n",
       "  </thead>\n",
       "  <tbody>\n",
       "    <tr>\n",
       "      <th>0</th>\n",
       "      <td>1989-01-01</td>\n",
       "      <td>291566.0</td>\n",
       "      <td>1989-01-01</td>\n",
       "    </tr>\n",
       "    <tr>\n",
       "      <th>1</th>\n",
       "      <td>1989-02-01</td>\n",
       "      <td>197348.0</td>\n",
       "      <td>1989-02-01</td>\n",
       "    </tr>\n",
       "    <tr>\n",
       "      <th>2</th>\n",
       "      <td>1989-03-01</td>\n",
       "      <td>149001.0</td>\n",
       "      <td>1989-03-01</td>\n",
       "    </tr>\n",
       "    <tr>\n",
       "      <th>3</th>\n",
       "      <td>1989-04-01</td>\n",
       "      <td>84867.0</td>\n",
       "      <td>1989-04-01</td>\n",
       "    </tr>\n",
       "    <tr>\n",
       "      <th>4</th>\n",
       "      <td>1989-05-01</td>\n",
       "      <td>69293.0</td>\n",
       "      <td>1989-05-01</td>\n",
       "    </tr>\n",
       "  </tbody>\n",
       "</table>\n",
       "</div>"
      ],
      "text/plain": [
       "         data  Chegadas      data1\n",
       "0  1989-01-01  291566.0 1989-01-01\n",
       "1  1989-02-01  197348.0 1989-02-01\n",
       "2  1989-03-01  149001.0 1989-03-01\n",
       "3  1989-04-01   84867.0 1989-04-01\n",
       "4  1989-05-01   69293.0 1989-05-01"
      ]
     },
     "execution_count": 17,
     "metadata": {},
     "output_type": "execute_result"
    }
   ],
   "source": [
    "%time dados['data1'] = pd.to_datetime(dados['data'])\n",
    "dados.head()"
   ]
  },
  {
   "cell_type": "code",
   "execution_count": 18,
   "metadata": {},
   "outputs": [
    {
     "name": "stdout",
     "output_type": "stream",
     "text": [
      "<class 'pandas.core.frame.DataFrame'>\n",
      "RangeIndex: 348 entries, 0 to 347\n",
      "Data columns (total 3 columns):\n",
      "data        348 non-null object\n",
      "Chegadas    348 non-null float64\n",
      "data1       348 non-null datetime64[ns]\n",
      "dtypes: datetime64[ns](1), float64(1), object(1)\n",
      "memory usage: 8.2+ KB\n"
     ]
    }
   ],
   "source": [
    "dados.info()"
   ]
  },
  {
   "cell_type": "code",
   "execution_count": 19,
   "metadata": {},
   "outputs": [],
   "source": [
    "#transformando com o apply\n",
    "def transData(data):\n",
    "    return datetime.strptime(data, '%Y-%m-%d')"
   ]
  },
  {
   "cell_type": "code",
   "execution_count": 20,
   "metadata": {},
   "outputs": [
    {
     "name": "stdout",
     "output_type": "stream",
     "text": [
      "CPU times: user 13.2 ms, sys: 0 ns, total: 13.2 ms\n",
      "Wall time: 12.6 ms\n"
     ]
    }
   ],
   "source": [
    "%time dados['data2'] = dados['data'].apply(transData)"
   ]
  },
  {
   "cell_type": "code",
   "execution_count": 21,
   "metadata": {},
   "outputs": [
    {
     "data": {
      "text/html": [
       "<div>\n",
       "<style scoped>\n",
       "    .dataframe tbody tr th:only-of-type {\n",
       "        vertical-align: middle;\n",
       "    }\n",
       "\n",
       "    .dataframe tbody tr th {\n",
       "        vertical-align: top;\n",
       "    }\n",
       "\n",
       "    .dataframe thead th {\n",
       "        text-align: right;\n",
       "    }\n",
       "</style>\n",
       "<table border=\"1\" class=\"dataframe\">\n",
       "  <thead>\n",
       "    <tr style=\"text-align: right;\">\n",
       "      <th></th>\n",
       "      <th>data</th>\n",
       "      <th>Chegadas</th>\n",
       "      <th>data1</th>\n",
       "      <th>data2</th>\n",
       "    </tr>\n",
       "  </thead>\n",
       "  <tbody>\n",
       "    <tr>\n",
       "      <th>0</th>\n",
       "      <td>1989-01-01</td>\n",
       "      <td>291566.0</td>\n",
       "      <td>1989-01-01</td>\n",
       "      <td>1989-01-01</td>\n",
       "    </tr>\n",
       "    <tr>\n",
       "      <th>1</th>\n",
       "      <td>1989-02-01</td>\n",
       "      <td>197348.0</td>\n",
       "      <td>1989-02-01</td>\n",
       "      <td>1989-02-01</td>\n",
       "    </tr>\n",
       "    <tr>\n",
       "      <th>2</th>\n",
       "      <td>1989-03-01</td>\n",
       "      <td>149001.0</td>\n",
       "      <td>1989-03-01</td>\n",
       "      <td>1989-03-01</td>\n",
       "    </tr>\n",
       "    <tr>\n",
       "      <th>3</th>\n",
       "      <td>1989-04-01</td>\n",
       "      <td>84867.0</td>\n",
       "      <td>1989-04-01</td>\n",
       "      <td>1989-04-01</td>\n",
       "    </tr>\n",
       "    <tr>\n",
       "      <th>4</th>\n",
       "      <td>1989-05-01</td>\n",
       "      <td>69293.0</td>\n",
       "      <td>1989-05-01</td>\n",
       "      <td>1989-05-01</td>\n",
       "    </tr>\n",
       "  </tbody>\n",
       "</table>\n",
       "</div>"
      ],
      "text/plain": [
       "         data  Chegadas      data1      data2\n",
       "0  1989-01-01  291566.0 1989-01-01 1989-01-01\n",
       "1  1989-02-01  197348.0 1989-02-01 1989-02-01\n",
       "2  1989-03-01  149001.0 1989-03-01 1989-03-01\n",
       "3  1989-04-01   84867.0 1989-04-01 1989-04-01\n",
       "4  1989-05-01   69293.0 1989-05-01 1989-05-01"
      ]
     },
     "execution_count": 21,
     "metadata": {},
     "output_type": "execute_result"
    }
   ],
   "source": [
    "dados.head()"
   ]
  },
  {
   "cell_type": "code",
   "execution_count": 22,
   "metadata": {},
   "outputs": [
    {
     "name": "stdout",
     "output_type": "stream",
     "text": [
      "<class 'pandas.core.frame.DataFrame'>\n",
      "RangeIndex: 348 entries, 0 to 347\n",
      "Data columns (total 4 columns):\n",
      "data        348 non-null object\n",
      "Chegadas    348 non-null float64\n",
      "data1       348 non-null datetime64[ns]\n",
      "data2       348 non-null datetime64[ns]\n",
      "dtypes: datetime64[ns](2), float64(1), object(1)\n",
      "memory usage: 11.0+ KB\n"
     ]
    }
   ],
   "source": [
    "dados.info()"
   ]
  },
  {
   "cell_type": "markdown",
   "metadata": {},
   "source": [
    "*Passando datas para o indice do dataframe*"
   ]
  },
  {
   "cell_type": "code",
   "execution_count": 23,
   "metadata": {},
   "outputs": [],
   "source": [
    "dados.index = dados['data2']"
   ]
  },
  {
   "cell_type": "code",
   "execution_count": 24,
   "metadata": {},
   "outputs": [
    {
     "data": {
      "text/plain": [
       "DatetimeIndex(['1989-01-01', '1989-02-01', '1989-03-01', '1989-04-01',\n",
       "               '1989-05-01', '1989-06-01', '1989-07-01', '1989-08-01',\n",
       "               '1989-09-01', '1989-10-01',\n",
       "               ...\n",
       "               '2017-03-01', '2017-04-01', '2017-05-01', '2017-06-01',\n",
       "               '2017-07-01', '2017-08-01', '2017-09-01', '2017-10-01',\n",
       "               '2017-11-01', '2017-12-01'],\n",
       "              dtype='datetime64[ns]', name='data2', length=348, freq=None)"
      ]
     },
     "execution_count": 24,
     "metadata": {},
     "output_type": "execute_result"
    }
   ],
   "source": [
    "dados.index"
   ]
  },
  {
   "cell_type": "code",
   "execution_count": 25,
   "metadata": {},
   "outputs": [
    {
     "data": {
      "text/html": [
       "<div>\n",
       "<style scoped>\n",
       "    .dataframe tbody tr th:only-of-type {\n",
       "        vertical-align: middle;\n",
       "    }\n",
       "\n",
       "    .dataframe tbody tr th {\n",
       "        vertical-align: top;\n",
       "    }\n",
       "\n",
       "    .dataframe thead th {\n",
       "        text-align: right;\n",
       "    }\n",
       "</style>\n",
       "<table border=\"1\" class=\"dataframe\">\n",
       "  <thead>\n",
       "    <tr style=\"text-align: right;\">\n",
       "      <th></th>\n",
       "      <th>data</th>\n",
       "      <th>Chegadas</th>\n",
       "      <th>data1</th>\n",
       "      <th>data2</th>\n",
       "    </tr>\n",
       "    <tr>\n",
       "      <th>data2</th>\n",
       "      <th></th>\n",
       "      <th></th>\n",
       "      <th></th>\n",
       "      <th></th>\n",
       "    </tr>\n",
       "  </thead>\n",
       "  <tbody>\n",
       "    <tr>\n",
       "      <th>1989-01-01</th>\n",
       "      <td>1989-01-01</td>\n",
       "      <td>291566.0</td>\n",
       "      <td>1989-01-01</td>\n",
       "      <td>1989-01-01</td>\n",
       "    </tr>\n",
       "    <tr>\n",
       "      <th>1989-02-01</th>\n",
       "      <td>1989-02-01</td>\n",
       "      <td>197348.0</td>\n",
       "      <td>1989-02-01</td>\n",
       "      <td>1989-02-01</td>\n",
       "    </tr>\n",
       "    <tr>\n",
       "      <th>1989-03-01</th>\n",
       "      <td>1989-03-01</td>\n",
       "      <td>149001.0</td>\n",
       "      <td>1989-03-01</td>\n",
       "      <td>1989-03-01</td>\n",
       "    </tr>\n",
       "    <tr>\n",
       "      <th>1989-04-01</th>\n",
       "      <td>1989-04-01</td>\n",
       "      <td>84867.0</td>\n",
       "      <td>1989-04-01</td>\n",
       "      <td>1989-04-01</td>\n",
       "    </tr>\n",
       "    <tr>\n",
       "      <th>1989-05-01</th>\n",
       "      <td>1989-05-01</td>\n",
       "      <td>69293.0</td>\n",
       "      <td>1989-05-01</td>\n",
       "      <td>1989-05-01</td>\n",
       "    </tr>\n",
       "  </tbody>\n",
       "</table>\n",
       "</div>"
      ],
      "text/plain": [
       "                  data  Chegadas      data1      data2\n",
       "data2                                                 \n",
       "1989-01-01  1989-01-01  291566.0 1989-01-01 1989-01-01\n",
       "1989-02-01  1989-02-01  197348.0 1989-02-01 1989-02-01\n",
       "1989-03-01  1989-03-01  149001.0 1989-03-01 1989-03-01\n",
       "1989-04-01  1989-04-01   84867.0 1989-04-01 1989-04-01\n",
       "1989-05-01  1989-05-01   69293.0 1989-05-01 1989-05-01"
      ]
     },
     "execution_count": 25,
     "metadata": {},
     "output_type": "execute_result"
    }
   ],
   "source": [
    "dados.head()"
   ]
  },
  {
   "cell_type": "code",
   "execution_count": 26,
   "metadata": {},
   "outputs": [
    {
     "data": {
      "text/plain": [
       "<matplotlib.axes._subplots.AxesSubplot at 0x7feed632b940>"
      ]
     },
     "execution_count": 26,
     "metadata": {},
     "output_type": "execute_result"
    },
    {
     "data": {
      "image/png": "[encoded data removed]",
      "text/plain": [
       "<Figure size 1080x360 with 1 Axes>"
      ]
     },
     "metadata": {
      "needs_background": "light"
     },
     "output_type": "display_data"
    }
   ],
   "source": [
    "dados['Chegadas'].plot(figsize=[15,5])"
   ]
  },
  {
   "cell_type": "markdown",
   "metadata": {},
   "source": [
    "**API**"
   ]
  },
  {
   "cell_type": "code",
   "execution_count": 27,
   "metadata": {},
   "outputs": [],
   "source": [
    "import requests\n",
    "import json"
   ]
  },
  {
   "cell_type": "code",
   "execution_count": 28,
   "metadata": {},
   "outputs": [],
   "source": [
    "symbol = 'MSFT'\n",
    "apikey = 'demo'\n",
    "link = 'https://www.alphavantage.co/query?function=TIME_SERIES_MONTHLY&symbol='+symbol+'&apikey='+apikey"
   ]
  },
  {
   "cell_type": "code",
   "execution_count": 29,
   "metadata": {},
   "outputs": [],
   "source": [
    "text = requests.get(link).text\n",
    "dicionario = json.loads(text)['Monthly Time Series']"
   ]
  },
  {
   "cell_type": "code",
   "execution_count": 30,
   "metadata": {},
   "outputs": [
    {
     "data": {
      "text/html": [
       "<div>\n",
       "<style scoped>\n",
       "    .dataframe tbody tr th:only-of-type {\n",
       "        vertical-align: middle;\n",
       "    }\n",
       "\n",
       "    .dataframe tbody tr th {\n",
       "        vertical-align: top;\n",
       "    }\n",
       "\n",
       "    .dataframe thead th {\n",
       "        text-align: right;\n",
       "    }\n",
       "</style>\n",
       "<table border=\"1\" class=\"dataframe\">\n",
       "  <thead>\n",
       "    <tr style=\"text-align: right;\">\n",
       "      <th></th>\n",
       "      <th>1. open</th>\n",
       "      <th>2. high</th>\n",
       "      <th>3. low</th>\n",
       "      <th>4. close</th>\n",
       "      <th>5. volume</th>\n",
       "    </tr>\n",
       "  </thead>\n",
       "  <tbody>\n",
       "    <tr>\n",
       "      <th>2019-08-21</th>\n",
       "      <td>137.0000</td>\n",
       "      <td>140.9400</td>\n",
       "      <td>130.7800</td>\n",
       "      <td>138.7900</td>\n",
       "      <td>421544395</td>\n",
       "    </tr>\n",
       "    <tr>\n",
       "      <th>2019-07-31</th>\n",
       "      <td>136.6300</td>\n",
       "      <td>141.6800</td>\n",
       "      <td>134.6700</td>\n",
       "      <td>136.2700</td>\n",
       "      <td>484547500</td>\n",
       "    </tr>\n",
       "    <tr>\n",
       "      <th>2019-06-28</th>\n",
       "      <td>123.8500</td>\n",
       "      <td>138.4000</td>\n",
       "      <td>119.0100</td>\n",
       "      <td>133.9600</td>\n",
       "      <td>508324300</td>\n",
       "    </tr>\n",
       "    <tr>\n",
       "      <th>2019-05-31</th>\n",
       "      <td>130.5300</td>\n",
       "      <td>130.6500</td>\n",
       "      <td>123.0400</td>\n",
       "      <td>123.6800</td>\n",
       "      <td>547218800</td>\n",
       "    </tr>\n",
       "    <tr>\n",
       "      <th>2019-04-30</th>\n",
       "      <td>118.9500</td>\n",
       "      <td>131.3700</td>\n",
       "      <td>118.1000</td>\n",
       "      <td>130.6000</td>\n",
       "      <td>433157700</td>\n",
       "    </tr>\n",
       "  </tbody>\n",
       "</table>\n",
       "</div>"
      ],
      "text/plain": [
       "             1. open   2. high    3. low  4. close  5. volume\n",
       "2019-08-21  137.0000  140.9400  130.7800  138.7900  421544395\n",
       "2019-07-31  136.6300  141.6800  134.6700  136.2700  484547500\n",
       "2019-06-28  123.8500  138.4000  119.0100  133.9600  508324300\n",
       "2019-05-31  130.5300  130.6500  123.0400  123.6800  547218800\n",
       "2019-04-30  118.9500  131.3700  118.1000  130.6000  433157700"
      ]
     },
     "execution_count": 30,
     "metadata": {},
     "output_type": "execute_result"
    }
   ],
   "source": [
    "tabela = pd.DataFrame(dicionario).transpose()\n",
    "tabela.head()"
   ]
  },
  {
   "cell_type": "code",
   "execution_count": 31,
   "metadata": {},
   "outputs": [
    {
     "name": "stdout",
     "output_type": "stream",
     "text": [
      "<class 'pandas.core.frame.DataFrame'>\n",
      "Index: 240 entries, 2019-08-21 to 1999-09-30\n",
      "Data columns (total 5 columns):\n",
      "1. open      240 non-null object\n",
      "2. high      240 non-null object\n",
      "3. low       240 non-null object\n",
      "4. close     240 non-null object\n",
      "5. volume    240 non-null object\n",
      "dtypes: object(5)\n",
      "memory usage: 11.2+ KB\n"
     ]
    }
   ],
   "source": [
    "tabela.info()"
   ]
  },
  {
   "cell_type": "code",
   "execution_count": 32,
   "metadata": {},
   "outputs": [],
   "source": [
    "for coluna in tabela:\n",
    "    tabela[coluna] = tabela[coluna].astype(float)\n",
    "    "
   ]
  },
  {
   "cell_type": "code",
   "execution_count": 33,
   "metadata": {},
   "outputs": [
    {
     "data": {
      "text/html": [
       "<div>\n",
       "<style scoped>\n",
       "    .dataframe tbody tr th:only-of-type {\n",
       "        vertical-align: middle;\n",
       "    }\n",
       "\n",
       "    .dataframe tbody tr th {\n",
       "        vertical-align: top;\n",
       "    }\n",
       "\n",
       "    .dataframe thead th {\n",
       "        text-align: right;\n",
       "    }\n",
       "</style>\n",
       "<table border=\"1\" class=\"dataframe\">\n",
       "  <thead>\n",
       "    <tr style=\"text-align: right;\">\n",
       "      <th></th>\n",
       "      <th>1. open</th>\n",
       "      <th>2. high</th>\n",
       "      <th>3. low</th>\n",
       "      <th>4. close</th>\n",
       "      <th>5. volume</th>\n",
       "    </tr>\n",
       "  </thead>\n",
       "  <tbody>\n",
       "    <tr>\n",
       "      <th>2019-08-21</th>\n",
       "      <td>137.00</td>\n",
       "      <td>140.94</td>\n",
       "      <td>130.78</td>\n",
       "      <td>138.79</td>\n",
       "      <td>421544395.0</td>\n",
       "    </tr>\n",
       "    <tr>\n",
       "      <th>2019-07-31</th>\n",
       "      <td>136.63</td>\n",
       "      <td>141.68</td>\n",
       "      <td>134.67</td>\n",
       "      <td>136.27</td>\n",
       "      <td>484547500.0</td>\n",
       "    </tr>\n",
       "    <tr>\n",
       "      <th>2019-06-28</th>\n",
       "      <td>123.85</td>\n",
       "      <td>138.40</td>\n",
       "      <td>119.01</td>\n",
       "      <td>133.96</td>\n",
       "      <td>508324300.0</td>\n",
       "    </tr>\n",
       "    <tr>\n",
       "      <th>2019-05-31</th>\n",
       "      <td>130.53</td>\n",
       "      <td>130.65</td>\n",
       "      <td>123.04</td>\n",
       "      <td>123.68</td>\n",
       "      <td>547218800.0</td>\n",
       "    </tr>\n",
       "    <tr>\n",
       "      <th>2019-04-30</th>\n",
       "      <td>118.95</td>\n",
       "      <td>131.37</td>\n",
       "      <td>118.10</td>\n",
       "      <td>130.60</td>\n",
       "      <td>433157700.0</td>\n",
       "    </tr>\n",
       "  </tbody>\n",
       "</table>\n",
       "</div>"
      ],
      "text/plain": [
       "            1. open  2. high  3. low  4. close    5. volume\n",
       "2019-08-21   137.00   140.94  130.78    138.79  421544395.0\n",
       "2019-07-31   136.63   141.68  134.67    136.27  484547500.0\n",
       "2019-06-28   123.85   138.40  119.01    133.96  508324300.0\n",
       "2019-05-31   130.53   130.65  123.04    123.68  547218800.0\n",
       "2019-04-30   118.95   131.37  118.10    130.60  433157700.0"
      ]
     },
     "execution_count": 33,
     "metadata": {},
     "output_type": "execute_result"
    }
   ],
   "source": [
    "tabela.head()"
   ]
  },
  {
   "cell_type": "code",
   "execution_count": 34,
   "metadata": {},
   "outputs": [
    {
     "data": {
      "text/plain": [
       "DatetimeIndex(['2019-08-21', '2019-07-31', '2019-06-28', '2019-05-31',\n",
       "               '2019-04-30', '2019-03-29', '2019-02-28', '2019-01-31',\n",
       "               '2018-12-31', '2018-11-30',\n",
       "               ...\n",
       "               '2000-06-30', '2000-05-31', '2000-04-28', '2000-03-31',\n",
       "               '2000-02-29', '2000-01-31', '1999-12-31', '1999-11-30',\n",
       "               '1999-10-29', '1999-09-30'],\n",
       "              dtype='datetime64[ns]', length=240, freq=None)"
      ]
     },
     "execution_count": 34,
     "metadata": {},
     "output_type": "execute_result"
    }
   ],
   "source": [
    "tabela.index = pd.to_datetime(tabela.index) #passando o index para datetime\n",
    "tabela.index"
   ]
  },
  {
   "cell_type": "code",
   "execution_count": 35,
   "metadata": {},
   "outputs": [
    {
     "data": {
      "text/plain": [
       "<matplotlib.axes._subplots.AxesSubplot at 0x7feed4144ef0>"
      ]
     },
     "execution_count": 35,
     "metadata": {},
     "output_type": "execute_result"
    },
    {
     "data": {
      "image/png": "[encoded data removed]",
      "text/plain": [
       "<Figure size 432x288 with 1 Axes>"
      ]
     },
     "metadata": {
      "needs_background": "light"
     },
     "output_type": "display_data"
    }
   ],
   "source": [
    "tabela['1. open'].plot()"
   ]
  },
  {
   "cell_type": "code",
   "execution_count": 57,
   "metadata": {
    "collapsed": true
   },
   "outputs": [
    {
     "name": "stdout",
     "output_type": "stream",
     "text": [
      "Collecting pandas-datareader\n",
      "\u001b[?25l  Downloading https://files.pythonhosted.org/packages/d1/db/c6c72242179251ed9ead7af852296ae9558b1d0cfd972eef6c3398b131d1/pandas_datareader-0.7.4-py2.py3-none-any.whl (113kB)\n",
      "\u001b[K     |████████████████████████████████| 122kB 1.4MB/s eta 0:00:01\n",
      "\u001b[?25hRequirement already satisfied: pandas>=0.19.2 in /home/felipe/anaconda3/lib/python3.7/site-packages (from pandas-datareader) (0.24.2)\n",
      "Requirement already satisfied: wrapt in /home/felipe/anaconda3/lib/python3.7/site-packages (from pandas-datareader) (1.11.2)\n",
      "Requirement already satisfied: requests>=2.3.0 in /home/felipe/anaconda3/lib/python3.7/site-packages (from pandas-datareader) (2.22.0)\n",
      "Requirement already satisfied: lxml in /home/felipe/anaconda3/lib/python3.7/site-packages (from pandas-datareader) (4.3.4)\n",
      "Requirement already satisfied: pytz>=2011k in /home/felipe/anaconda3/lib/python3.7/site-packages (from pandas>=0.19.2->pandas-datareader) (2019.1)\n",
      "Requirement already satisfied: python-dateutil>=2.5.0 in /home/felipe/anaconda3/lib/python3.7/site-packages (from pandas>=0.19.2->pandas-datareader) (2.8.0)\n",
      "Requirement already satisfied: numpy>=1.12.0 in /home/felipe/anaconda3/lib/python3.7/site-packages (from pandas>=0.19.2->pandas-datareader) (1.16.4)\n",
      "Requirement already satisfied: urllib3!=1.25.0,!=1.25.1,<1.26,>=1.21.1 in /home/felipe/anaconda3/lib/python3.7/site-packages (from requests>=2.3.0->pandas-datareader) (1.24.2)\n",
      "Requirement already satisfied: certifi>=2017.4.17 in /home/felipe/anaconda3/lib/python3.7/site-packages (from requests>=2.3.0->pandas-datareader) (2019.6.16)\n",
      "Requirement already satisfied: idna<2.9,>=2.5 in /home/felipe/anaconda3/lib/python3.7/site-packages (from requests>=2.3.0->pandas-datareader) (2.8)\n",
      "Requirement already satisfied: chardet<3.1.0,>=3.0.2 in /home/felipe/anaconda3/lib/python3.7/site-packages (from requests>=2.3.0->pandas-datareader) (3.0.4)\n",
      "Requirement already satisfied: six>=1.5 in /home/felipe/anaconda3/lib/python3.7/site-packages (from python-dateutil>=2.5.0->pandas>=0.19.2->pandas-datareader) (1.12.0)\n",
      "Installing collected packages: pandas-datareader\n",
      "Successfully installed pandas-datareader-0.7.4\n"
     ]
    }
   ],
   "source": [
    "!pip install pandas-datareader"
   ]
  },
  {
   "cell_type": "code",
   "execution_count": 45,
   "metadata": {},
   "outputs": [],
   "source": [
    "import pandas_datareader as pdr\n",
    "import datetime"
   ]
  },
  {
   "cell_type": "code",
   "execution_count": 38,
   "metadata": {},
   "outputs": [
    {
     "data": {
      "text/html": [
       "<div>\n",
       "<style scoped>\n",
       "    .dataframe tbody tr th:only-of-type {\n",
       "        vertical-align: middle;\n",
       "    }\n",
       "\n",
       "    .dataframe tbody tr th {\n",
       "        vertical-align: top;\n",
       "    }\n",
       "\n",
       "    .dataframe thead th {\n",
       "        text-align: right;\n",
       "    }\n",
       "</style>\n",
       "<table border=\"1\" class=\"dataframe\">\n",
       "  <thead>\n",
       "    <tr style=\"text-align: right;\">\n",
       "      <th></th>\n",
       "      <th>High</th>\n",
       "      <th>Low</th>\n",
       "      <th>Open</th>\n",
       "      <th>Close</th>\n",
       "      <th>Volume</th>\n",
       "      <th>Adj Close</th>\n",
       "    </tr>\n",
       "    <tr>\n",
       "      <th>Date</th>\n",
       "      <th></th>\n",
       "      <th></th>\n",
       "      <th></th>\n",
       "      <th></th>\n",
       "      <th></th>\n",
       "      <th></th>\n",
       "    </tr>\n",
       "  </thead>\n",
       "  <tbody>\n",
       "    <tr>\n",
       "      <th>2000-08-10</th>\n",
       "      <td>7.156250</td>\n",
       "      <td>6.125000</td>\n",
       "      <td>6.312500</td>\n",
       "      <td>7.156250</td>\n",
       "      <td>143929200.0</td>\n",
       "      <td>0.022225</td>\n",
       "    </tr>\n",
       "    <tr>\n",
       "      <th>2000-08-11</th>\n",
       "      <td>7.281250</td>\n",
       "      <td>6.750000</td>\n",
       "      <td>6.843750</td>\n",
       "      <td>7.140625</td>\n",
       "      <td>25139200.0</td>\n",
       "      <td>0.022176</td>\n",
       "    </tr>\n",
       "    <tr>\n",
       "      <th>2000-08-14</th>\n",
       "      <td>7.218750</td>\n",
       "      <td>7.000000</td>\n",
       "      <td>7.031250</td>\n",
       "      <td>7.109375</td>\n",
       "      <td>6935200.0</td>\n",
       "      <td>0.022079</td>\n",
       "    </tr>\n",
       "    <tr>\n",
       "      <th>2000-08-15</th>\n",
       "      <td>7.359375</td>\n",
       "      <td>7.015625</td>\n",
       "      <td>7.109375</td>\n",
       "      <td>7.140625</td>\n",
       "      <td>9078800.0</td>\n",
       "      <td>0.022176</td>\n",
       "    </tr>\n",
       "    <tr>\n",
       "      <th>2000-08-16</th>\n",
       "      <td>7.500000</td>\n",
       "      <td>7.125000</td>\n",
       "      <td>7.203125</td>\n",
       "      <td>7.328125</td>\n",
       "      <td>11728000.0</td>\n",
       "      <td>0.022758</td>\n",
       "    </tr>\n",
       "  </tbody>\n",
       "</table>\n",
       "</div>"
      ],
      "text/plain": [
       "                High       Low      Open     Close       Volume  Adj Close\n",
       "Date                                                                      \n",
       "2000-08-10  7.156250  6.125000  6.312500  7.156250  143929200.0   0.022225\n",
       "2000-08-11  7.281250  6.750000  6.843750  7.140625   25139200.0   0.022176\n",
       "2000-08-14  7.218750  7.000000  7.031250  7.109375    6935200.0   0.022079\n",
       "2000-08-15  7.359375  7.015625  7.109375  7.140625    9078800.0   0.022176\n",
       "2000-08-16  7.500000  7.125000  7.203125  7.328125   11728000.0   0.022758"
      ]
     },
     "execution_count": 38,
     "metadata": {},
     "output_type": "execute_result"
    }
   ],
   "source": [
    "petro = pdr.get_data_yahoo('PBR',\n",
    "                          start=datetime.datetime(2000,3,29),\n",
    "                          end=datetime.datetime(2018,3,29))\n",
    "petro.head()"
   ]
  },
  {
   "cell_type": "code",
   "execution_count": 39,
   "metadata": {},
   "outputs": [],
   "source": [
    "petro.to_csv('PBR.csv')"
   ]
  },
  {
   "cell_type": "code",
   "execution_count": 40,
   "metadata": {},
   "outputs": [
    {
     "name": "stdout",
     "output_type": "stream",
     "text": [
      "<class 'pandas.core.frame.DataFrame'>\n",
      "DatetimeIndex: 4436 entries, 2000-08-10 to 2018-03-29\n",
      "Data columns (total 6 columns):\n",
      "High         4436 non-null float64\n",
      "Low          4436 non-null float64\n",
      "Open         4436 non-null float64\n",
      "Close        4436 non-null float64\n",
      "Volume       4436 non-null float64\n",
      "Adj Close    4436 non-null float64\n",
      "dtypes: float64(6)\n",
      "memory usage: 242.6 KB\n"
     ]
    }
   ],
   "source": [
    "petro.info()"
   ]
  },
  {
   "cell_type": "code",
   "execution_count": 43,
   "metadata": {},
   "outputs": [
    {
     "data": {
      "text/plain": [
       "<matplotlib.axes._subplots.AxesSubplot at 0x7feece921710>"
      ]
     },
     "execution_count": 43,
     "metadata": {},
     "output_type": "execute_result"
    },
    {
     "data": {
      "image/png": "[encoded data removed]",
      "text/plain": [
       "<Figure size 432x288 with 1 Axes>"
      ]
     },
     "metadata": {
      "needs_background": "light"
     },
     "output_type": "display_data"
    }
   ],
   "source": [
    "petro['Open'].plot()"
   ]
  },
  {
   "cell_type": "markdown",
   "metadata": {},
   "source": [
    "**Manipulando séries temporais**"
   ]
  },
  {
   "cell_type": "code",
   "execution_count": 50,
   "metadata": {},
   "outputs": [
    {
     "data": {
      "text/plain": [
       "<matplotlib.axes._subplots.AxesSubplot at 0x7feece7cef60>"
      ]
     },
     "execution_count": 50,
     "metadata": {},
     "output_type": "execute_result"
    },
    {
     "data": {
      "image/png": "[encoded data removed]",
      "text/plain": [
       "<Figure size 432x288 with 1 Axes>"
      ]
     },
     "metadata": {
      "needs_background": "light"
     },
     "output_type": "display_data"
    }
   ],
   "source": [
    "# retirando dados apenas de um ano especifico\n",
    "petro['2016']['Open'].plot()"
   ]
  },
  {
   "cell_type": "code",
   "execution_count": 51,
   "metadata": {},
   "outputs": [
    {
     "data": {
      "text/plain": [
       "<matplotlib.axes._subplots.AxesSubplot at 0x7feecdec96a0>"
      ]
     },
     "execution_count": 51,
     "metadata": {},
     "output_type": "execute_result"
    },
    {
     "data": {
      "image/png": "[encoded data removed]",
      "text/plain": [
       "<Figure size 432x288 with 1 Axes>"
      ]
     },
     "metadata": {
      "needs_background": "light"
     },
     "output_type": "display_data"
    }
   ],
   "source": [
    "petro['2016':]['Open'].plot()"
   ]
  },
  {
   "cell_type": "code",
   "execution_count": 52,
   "metadata": {
    "scrolled": true
   },
   "outputs": [
    {
     "data": {
      "text/plain": [
       "<matplotlib.axes._subplots.AxesSubplot at 0x7feecd544cc0>"
      ]
     },
     "execution_count": 52,
     "metadata": {},
     "output_type": "execute_result"
    },
    {
     "data": {
      "image/png": "[encoded data removed]",
      "text/plain": [
       "<Figure size 432x288 with 1 Axes>"
      ]
     },
     "metadata": {
      "needs_background": "light"
     },
     "output_type": "display_data"
    }
   ],
   "source": [
    "petro['2016-4':]['Open'].plot()"
   ]
  },
  {
   "cell_type": "markdown",
   "metadata": {},
   "source": [
    "### Suavização ###"
   ]
  },
  {
   "cell_type": "code",
   "execution_count": 57,
   "metadata": {},
   "outputs": [
    {
     "data": {
      "text/plain": [
       "<matplotlib.axes._subplots.AxesSubplot at 0x7feecd7c1128>"
      ]
     },
     "execution_count": 57,
     "metadata": {},
     "output_type": "execute_result"
    },
    {
     "data": {
      "image/png": "[encoded data removed]",
      "text/plain": [
       "<Figure size 432x288 with 1 Axes>"
      ]
     },
     "metadata": {
      "needs_background": "light"
     },
     "output_type": "display_data"
    }
   ],
   "source": [
    "grupoMensal = petro.groupby(pd.Grouper(freq='M'))\n",
    "mediaMensal = grupoMensal.mean()\n",
    "mediaMensal['Close'].plot()"
   ]
  },
  {
   "cell_type": "code",
   "execution_count": 61,
   "metadata": {},
   "outputs": [
    {
     "data": {
      "text/plain": [
       "<matplotlib.axes._subplots.AxesSubplot at 0x7feecd9f2160>"
      ]
     },
     "execution_count": 61,
     "metadata": {},
     "output_type": "execute_result"
    },
    {
     "data": {
      "image/png": "[encoded data removed]",
      "text/plain": [
       "<Figure size 432x288 with 1 Axes>"
      ]
     },
     "metadata": {
      "needs_background": "light"
     },
     "output_type": "display_data"
    }
   ],
   "source": [
    "petro.resample('M').mean()['Close'].plot()"
   ]
  },
  {
   "cell_type": "code",
   "execution_count": 65,
   "metadata": {},
   "outputs": [
    {
     "data": {
      "text/html": [
       "<div>\n",
       "<style scoped>\n",
       "    .dataframe tbody tr th:only-of-type {\n",
       "        vertical-align: middle;\n",
       "    }\n",
       "\n",
       "    .dataframe tbody tr th {\n",
       "        vertical-align: top;\n",
       "    }\n",
       "\n",
       "    .dataframe thead th {\n",
       "        text-align: right;\n",
       "    }\n",
       "</style>\n",
       "<table border=\"1\" class=\"dataframe\">\n",
       "  <thead>\n",
       "    <tr style=\"text-align: right;\">\n",
       "      <th></th>\n",
       "      <th>High</th>\n",
       "      <th>Low</th>\n",
       "      <th>Open</th>\n",
       "      <th>Close</th>\n",
       "      <th>Volume</th>\n",
       "      <th>Adj Close</th>\n",
       "    </tr>\n",
       "    <tr>\n",
       "      <th>Date</th>\n",
       "      <th></th>\n",
       "      <th></th>\n",
       "      <th></th>\n",
       "      <th></th>\n",
       "      <th></th>\n",
       "      <th></th>\n",
       "    </tr>\n",
       "  </thead>\n",
       "  <tbody>\n",
       "    <tr>\n",
       "      <th>2000-08-31</th>\n",
       "      <td>7.561523</td>\n",
       "      <td>7.203125</td>\n",
       "      <td>7.333008</td>\n",
       "      <td>7.453125</td>\n",
       "      <td>1.630490e+07</td>\n",
       "      <td>0.023147</td>\n",
       "    </tr>\n",
       "    <tr>\n",
       "      <th>2000-09-30</th>\n",
       "      <td>7.851562</td>\n",
       "      <td>7.582031</td>\n",
       "      <td>7.721875</td>\n",
       "      <td>7.700781</td>\n",
       "      <td>4.608400e+06</td>\n",
       "      <td>0.023916</td>\n",
       "    </tr>\n",
       "    <tr>\n",
       "      <th>2000-10-31</th>\n",
       "      <td>7.470170</td>\n",
       "      <td>7.225142</td>\n",
       "      <td>7.334517</td>\n",
       "      <td>7.357955</td>\n",
       "      <td>3.789673e+06</td>\n",
       "      <td>0.022851</td>\n",
       "    </tr>\n",
       "    <tr>\n",
       "      <th>2000-11-30</th>\n",
       "      <td>7.149554</td>\n",
       "      <td>6.945685</td>\n",
       "      <td>7.029018</td>\n",
       "      <td>7.038690</td>\n",
       "      <td>2.609429e+06</td>\n",
       "      <td>0.021860</td>\n",
       "    </tr>\n",
       "    <tr>\n",
       "      <th>2000-12-31</th>\n",
       "      <td>6.370312</td>\n",
       "      <td>6.178906</td>\n",
       "      <td>6.297656</td>\n",
       "      <td>6.285156</td>\n",
       "      <td>3.914700e+06</td>\n",
       "      <td>0.019519</td>\n",
       "    </tr>\n",
       "  </tbody>\n",
       "</table>\n",
       "</div>"
      ],
      "text/plain": [
       "                High       Low      Open     Close        Volume  Adj Close\n",
       "Date                                                                       \n",
       "2000-08-31  7.561523  7.203125  7.333008  7.453125  1.630490e+07   0.023147\n",
       "2000-09-30  7.851562  7.582031  7.721875  7.700781  4.608400e+06   0.023916\n",
       "2000-10-31  7.470170  7.225142  7.334517  7.357955  3.789673e+06   0.022851\n",
       "2000-11-30  7.149554  6.945685  7.029018  7.038690  2.609429e+06   0.021860\n",
       "2000-12-31  6.370312  6.178906  6.297656  6.285156  3.914700e+06   0.019519"
      ]
     },
     "execution_count": 65,
     "metadata": {},
     "output_type": "execute_result"
    }
   ],
   "source": [
    "mediaMensal.head()"
   ]
  },
  {
   "cell_type": "code",
   "execution_count": 66,
   "metadata": {
    "scrolled": true
   },
   "outputs": [
    {
     "data": {
      "text/plain": [
       "<matplotlib.axes._subplots.AxesSubplot at 0x7feecdb24048>"
      ]
     },
     "execution_count": 66,
     "metadata": {},
     "output_type": "execute_result"
    },
    {
     "data": {
      "image/png": "[encoded data removed]",
      "text/plain": [
       "<Figure size 432x288 with 1 Axes>"
      ]
     },
     "metadata": {
      "needs_background": "light"
     },
     "output_type": "display_data"
    }
   ],
   "source": [
    "grupoAnual = petro.groupby(pd.Grouper(freq='Y', ))\n",
    "mediaAnual = grupoAnual.mean()\n",
    "mediaAnual['Close'].plot()"
   ]
  },
  {
   "cell_type": "code",
   "execution_count": 68,
   "metadata": {},
   "outputs": [
    {
     "data": {
      "text/html": [
       "<div>\n",
       "<style scoped>\n",
       "    .dataframe tbody tr th:only-of-type {\n",
       "        vertical-align: middle;\n",
       "    }\n",
       "\n",
       "    .dataframe tbody tr th {\n",
       "        vertical-align: top;\n",
       "    }\n",
       "\n",
       "    .dataframe thead th {\n",
       "        text-align: right;\n",
       "    }\n",
       "</style>\n",
       "<table border=\"1\" class=\"dataframe\">\n",
       "  <thead>\n",
       "    <tr style=\"text-align: right;\">\n",
       "      <th></th>\n",
       "      <th>High</th>\n",
       "      <th>Low</th>\n",
       "      <th>Open</th>\n",
       "      <th>Close</th>\n",
       "      <th>Volume</th>\n",
       "      <th>Adj Close</th>\n",
       "    </tr>\n",
       "    <tr>\n",
       "      <th>Date</th>\n",
       "      <th></th>\n",
       "      <th></th>\n",
       "      <th></th>\n",
       "      <th></th>\n",
       "      <th></th>\n",
       "      <th></th>\n",
       "    </tr>\n",
       "  </thead>\n",
       "  <tbody>\n",
       "    <tr>\n",
       "      <th>2000-12-31</th>\n",
       "      <td>7.271780</td>\n",
       "      <td>7.023043</td>\n",
       "      <td>7.138258</td>\n",
       "      <td>7.158144</td>\n",
       "      <td>5.752638e+06</td>\n",
       "      <td>0.022231</td>\n",
       "    </tr>\n",
       "    <tr>\n",
       "      <th>2001-12-31</th>\n",
       "      <td>6.160010</td>\n",
       "      <td>5.972306</td>\n",
       "      <td>6.069541</td>\n",
       "      <td>6.073145</td>\n",
       "      <td>3.355448e+06</td>\n",
       "      <td>0.049790</td>\n",
       "    </tr>\n",
       "    <tr>\n",
       "      <th>2002-12-31</th>\n",
       "      <td>4.698115</td>\n",
       "      <td>4.544792</td>\n",
       "      <td>4.631230</td>\n",
       "      <td>4.618175</td>\n",
       "      <td>4.893363e+06</td>\n",
       "      <td>0.091605</td>\n",
       "    </tr>\n",
       "    <tr>\n",
       "      <th>2003-12-31</th>\n",
       "      <td>5.083899</td>\n",
       "      <td>4.960179</td>\n",
       "      <td>5.019038</td>\n",
       "      <td>5.027579</td>\n",
       "      <td>4.182414e+06</td>\n",
       "      <td>0.355356</td>\n",
       "    </tr>\n",
       "    <tr>\n",
       "      <th>2004-12-31</th>\n",
       "      <td>8.104355</td>\n",
       "      <td>7.905427</td>\n",
       "      <td>8.006022</td>\n",
       "      <td>8.002689</td>\n",
       "      <td>5.484676e+06</td>\n",
       "      <td>2.075176</td>\n",
       "    </tr>\n",
       "  </tbody>\n",
       "</table>\n",
       "</div>"
      ],
      "text/plain": [
       "                High       Low      Open     Close        Volume  Adj Close\n",
       "Date                                                                       \n",
       "2000-12-31  7.271780  7.023043  7.138258  7.158144  5.752638e+06   0.022231\n",
       "2001-12-31  6.160010  5.972306  6.069541  6.073145  3.355448e+06   0.049790\n",
       "2002-12-31  4.698115  4.544792  4.631230  4.618175  4.893363e+06   0.091605\n",
       "2003-12-31  5.083899  4.960179  5.019038  5.027579  4.182414e+06   0.355356\n",
       "2004-12-31  8.104355  7.905427  8.006022  8.002689  5.484676e+06   2.075176"
      ]
     },
     "execution_count": 68,
     "metadata": {},
     "output_type": "execute_result"
    }
   ],
   "source": [
    "mediaAnual.head()"
   ]
  },
  {
   "cell_type": "code",
   "execution_count": 75,
   "metadata": {},
   "outputs": [
    {
     "data": {
      "text/plain": [
       "<matplotlib.legend.Legend at 0x7feeccfadfd0>"
      ]
     },
     "execution_count": 75,
     "metadata": {},
     "output_type": "execute_result"
    },
    {
     "data": {
      "image/png": "[encoded data removed]",
      "text/plain": [
       "<Figure size 1224x360 with 1 Axes>"
      ]
     },
     "metadata": {
      "needs_background": "light"
     },
     "output_type": "display_data"
    }
   ],
   "source": [
    "#comparando\n",
    "plt.figure(figsize=[17,5])\n",
    "petro['Close'].plot()\n",
    "mediaMensal['Close'].plot()\n",
    "mediaAnual['Close'].plot()\n",
    "plt.legend(['Bruto', 'Mensal', 'Anual'])"
   ]
  },
  {
   "cell_type": "markdown",
   "metadata": {},
   "source": [
    "**Operações em série**"
   ]
  },
  {
   "cell_type": "code",
   "execution_count": 76,
   "metadata": {},
   "outputs": [],
   "source": [
    "petro['diff'] = petro['Open'] - petro['Close']"
   ]
  },
  {
   "cell_type": "code",
   "execution_count": 79,
   "metadata": {},
   "outputs": [
    {
     "data": {
      "text/plain": [
       "<matplotlib.axes._subplots.AxesSubplot at 0x7feeccf3d908>"
      ]
     },
     "execution_count": 79,
     "metadata": {},
     "output_type": "execute_result"
    },
    {
     "data": {
      "image/png": "[encoded data removed]",
      "text/plain": [
       "<Figure size 432x288 with 1 Axes>"
      ]
     },
     "metadata": {
      "needs_background": "light"
     },
     "output_type": "display_data"
    }
   ],
   "source": [
    "petro['diff'].plot()"
   ]
  },
  {
   "cell_type": "code",
   "execution_count": 86,
   "metadata": {},
   "outputs": [
    {
     "data": {
      "text/plain": [
       "Text(0, 0.5, 'Volume')"
      ]
     },
     "execution_count": 86,
     "metadata": {},
     "output_type": "execute_result"
    },
    {
     "data": {
      "image/png": "[encoded data removed]",
      "text/plain": [
       "<Figure size 432x288 with 3 Axes>"
      ]
     },
     "metadata": {
      "needs_background": "light"
     },
     "output_type": "display_data"
    }
   ],
   "source": [
    "fig, ax1 = plt.subplots()\n",
    "\n",
    "ax1.plot(petro['diff'], color='b')\n",
    "ax1.set_ylabel('Diff', color='b')\n",
    "\n",
    "ax2 = ax1.twinx()\n",
    "ax2.plot(petro['Open'], color='r')\n",
    "ax2.set_ylabel('Open', color='r')\n",
    "\n",
    "ax3 = ax1.twinx()\n",
    "ax3.spines['right'].set_position(('axes', 1.2))\n",
    "ax3.plot(petro['Volume'], color='black')\n",
    "ax3.set_ylabel('Volume', color='black')"
   ]
  },
  {
   "cell_type": "markdown",
   "metadata": {},
   "source": [
    "**Variação temporal**"
   ]
  },
  {
   "cell_type": "code",
   "execution_count": 87,
   "metadata": {},
   "outputs": [
    {
     "data": {
      "text/plain": [
       "Date\n",
       "2000-08-10    7.156250\n",
       "2000-08-11    7.140625\n",
       "2000-08-14    7.109375\n",
       "2000-08-15    7.140625\n",
       "2000-08-16    7.328125\n",
       "Name: Close, dtype: float64"
      ]
     },
     "execution_count": 87,
     "metadata": {},
     "output_type": "execute_result"
    }
   ],
   "source": [
    "petro['Close'][:5]"
   ]
  },
  {
   "cell_type": "code",
   "execution_count": 89,
   "metadata": {},
   "outputs": [],
   "source": [
    "shiftTabela = petro['Close'].shift(1)"
   ]
  },
  {
   "cell_type": "code",
   "execution_count": 90,
   "metadata": {},
   "outputs": [
    {
     "data": {
      "text/plain": [
       "Date\n",
       "2000-08-10         NaN\n",
       "2000-08-11    7.156250\n",
       "2000-08-14    7.140625\n",
       "2000-08-15    7.109375\n",
       "2000-08-16    7.140625\n",
       "Name: Close, dtype: float64"
      ]
     },
     "execution_count": 90,
     "metadata": {},
     "output_type": "execute_result"
    }
   ],
   "source": [
    "shiftTabela.head()"
   ]
  },
  {
   "cell_type": "code",
   "execution_count": 91,
   "metadata": {},
   "outputs": [
    {
     "data": {
      "text/plain": [
       "Date\n",
       "2000-08-10         NaN\n",
       "2000-08-11   -0.015625\n",
       "2000-08-14   -0.031250\n",
       "2000-08-15    0.031250\n",
       "2000-08-16    0.187500\n",
       "Name: Close, dtype: float64"
      ]
     },
     "execution_count": 91,
     "metadata": {},
     "output_type": "execute_result"
    }
   ],
   "source": [
    "shiftClose = petro['Close'] - shiftTabela\n",
    "shiftClose.head()"
   ]
  },
  {
   "cell_type": "markdown",
   "metadata": {},
   "source": [
    "**Variação percentual**"
   ]
  },
  {
   "cell_type": "code",
   "execution_count": 93,
   "metadata": {},
   "outputs": [],
   "source": [
    "pctChange = petro['Close'].pct_change(1)"
   ]
  },
  {
   "cell_type": "code",
   "execution_count": 94,
   "metadata": {},
   "outputs": [],
   "source": [
    "petro['pct_change'] = pctChange"
   ]
  },
  {
   "cell_type": "code",
   "execution_count": 95,
   "metadata": {},
   "outputs": [
    {
     "data": {
      "text/html": [
       "<div>\n",
       "<style scoped>\n",
       "    .dataframe tbody tr th:only-of-type {\n",
       "        vertical-align: middle;\n",
       "    }\n",
       "\n",
       "    .dataframe tbody tr th {\n",
       "        vertical-align: top;\n",
       "    }\n",
       "\n",
       "    .dataframe thead th {\n",
       "        text-align: right;\n",
       "    }\n",
       "</style>\n",
       "<table border=\"1\" class=\"dataframe\">\n",
       "  <thead>\n",
       "    <tr style=\"text-align: right;\">\n",
       "      <th></th>\n",
       "      <th>High</th>\n",
       "      <th>Low</th>\n",
       "      <th>Open</th>\n",
       "      <th>Close</th>\n",
       "      <th>Volume</th>\n",
       "      <th>Adj Close</th>\n",
       "      <th>diff</th>\n",
       "      <th>pct_change</th>\n",
       "    </tr>\n",
       "    <tr>\n",
       "      <th>Date</th>\n",
       "      <th></th>\n",
       "      <th></th>\n",
       "      <th></th>\n",
       "      <th></th>\n",
       "      <th></th>\n",
       "      <th></th>\n",
       "      <th></th>\n",
       "      <th></th>\n",
       "    </tr>\n",
       "  </thead>\n",
       "  <tbody>\n",
       "    <tr>\n",
       "      <th>2000-08-10</th>\n",
       "      <td>7.156250</td>\n",
       "      <td>6.125000</td>\n",
       "      <td>6.312500</td>\n",
       "      <td>7.156250</td>\n",
       "      <td>143929200.0</td>\n",
       "      <td>0.022225</td>\n",
       "      <td>-0.843750</td>\n",
       "      <td>NaN</td>\n",
       "    </tr>\n",
       "    <tr>\n",
       "      <th>2000-08-11</th>\n",
       "      <td>7.281250</td>\n",
       "      <td>6.750000</td>\n",
       "      <td>6.843750</td>\n",
       "      <td>7.140625</td>\n",
       "      <td>25139200.0</td>\n",
       "      <td>0.022176</td>\n",
       "      <td>-0.296875</td>\n",
       "      <td>-0.002183</td>\n",
       "    </tr>\n",
       "    <tr>\n",
       "      <th>2000-08-14</th>\n",
       "      <td>7.218750</td>\n",
       "      <td>7.000000</td>\n",
       "      <td>7.031250</td>\n",
       "      <td>7.109375</td>\n",
       "      <td>6935200.0</td>\n",
       "      <td>0.022079</td>\n",
       "      <td>-0.078125</td>\n",
       "      <td>-0.004376</td>\n",
       "    </tr>\n",
       "    <tr>\n",
       "      <th>2000-08-15</th>\n",
       "      <td>7.359375</td>\n",
       "      <td>7.015625</td>\n",
       "      <td>7.109375</td>\n",
       "      <td>7.140625</td>\n",
       "      <td>9078800.0</td>\n",
       "      <td>0.022176</td>\n",
       "      <td>-0.031250</td>\n",
       "      <td>0.004396</td>\n",
       "    </tr>\n",
       "    <tr>\n",
       "      <th>2000-08-16</th>\n",
       "      <td>7.500000</td>\n",
       "      <td>7.125000</td>\n",
       "      <td>7.203125</td>\n",
       "      <td>7.328125</td>\n",
       "      <td>11728000.0</td>\n",
       "      <td>0.022758</td>\n",
       "      <td>-0.125000</td>\n",
       "      <td>0.026258</td>\n",
       "    </tr>\n",
       "  </tbody>\n",
       "</table>\n",
       "</div>"
      ],
      "text/plain": [
       "                High       Low      Open     Close       Volume  Adj Close  \\\n",
       "Date                                                                         \n",
       "2000-08-10  7.156250  6.125000  6.312500  7.156250  143929200.0   0.022225   \n",
       "2000-08-11  7.281250  6.750000  6.843750  7.140625   25139200.0   0.022176   \n",
       "2000-08-14  7.218750  7.000000  7.031250  7.109375    6935200.0   0.022079   \n",
       "2000-08-15  7.359375  7.015625  7.109375  7.140625    9078800.0   0.022176   \n",
       "2000-08-16  7.500000  7.125000  7.203125  7.328125   11728000.0   0.022758   \n",
       "\n",
       "                diff  pct_change  \n",
       "Date                              \n",
       "2000-08-10 -0.843750         NaN  \n",
       "2000-08-11 -0.296875   -0.002183  \n",
       "2000-08-14 -0.078125   -0.004376  \n",
       "2000-08-15 -0.031250    0.004396  \n",
       "2000-08-16 -0.125000    0.026258  "
      ]
     },
     "execution_count": 95,
     "metadata": {},
     "output_type": "execute_result"
    }
   ],
   "source": [
    "petro.head()"
   ]
  },
  {
   "cell_type": "code",
   "execution_count": 100,
   "metadata": {},
   "outputs": [
    {
     "data": {
      "text/plain": [
       "<matplotlib.axes._subplots.AxesSubplot at 0x7feec5c60b70>"
      ]
     },
     "execution_count": 100,
     "metadata": {},
     "output_type": "execute_result"
    },
    {
     "data": {
      "image/png": "[encoded data removed]",
      "text/plain": [
       "<Figure size 432x288 with 1 Axes>"
      ]
     },
     "metadata": {
      "needs_background": "light"
     },
     "output_type": "display_data"
    }
   ],
   "source": [
    "petro['pct_change'].hist()"
   ]
  },
  {
   "cell_type": "markdown",
   "metadata": {},
   "source": [
    "**Janelas deslizantes**"
   ]
  },
  {
   "cell_type": "code",
   "execution_count": 104,
   "metadata": {},
   "outputs": [
    {
     "data": {
      "text/plain": [
       "Rolling [window=5,center=False,axis=0]"
      ]
     },
     "execution_count": 104,
     "metadata": {},
     "output_type": "execute_result"
    }
   ],
   "source": [
    "petro['Close'].rolling(window=5)"
   ]
  },
  {
   "cell_type": "code",
   "execution_count": 106,
   "metadata": {
    "collapsed": true
   },
   "outputs": [
    {
     "data": {
      "text/plain": [
       "Date\n",
       "2000-08-10          NaN\n",
       "2000-08-11          NaN\n",
       "2000-08-14     7.175000\n",
       "2000-08-15     7.281250\n",
       "2000-08-16     7.303125\n",
       "2000-08-17     7.337500\n",
       "2000-08-18     7.381250\n",
       "2000-08-21     7.421875\n",
       "2000-08-22     7.359375\n",
       "2000-08-23     7.421875\n",
       "2000-08-24     7.471875\n",
       "2000-08-25     7.556250\n",
       "2000-08-28     7.662500\n",
       "2000-08-29     7.778125\n",
       "2000-08-30     7.825000\n",
       "2000-08-31     7.887500\n",
       "2000-09-01     7.981250\n",
       "2000-09-05     8.037500\n",
       "2000-09-06     8.084375\n",
       "2000-09-07     8.190625\n",
       "2000-09-08     8.231250\n",
       "2000-09-11     8.125000\n",
       "2000-09-12     7.975000\n",
       "2000-09-13     7.850000\n",
       "2000-09-14     7.653125\n",
       "2000-09-15     7.521875\n",
       "2000-09-18     7.484375\n",
       "2000-09-19     7.431250\n",
       "2000-09-20     7.368750\n",
       "2000-09-21     7.371875\n",
       "                ...    \n",
       "2018-02-15    12.802000\n",
       "2018-02-16    12.940000\n",
       "2018-02-20    13.110000\n",
       "2018-02-21    13.334000\n",
       "2018-02-22    13.662000\n",
       "2018-02-23    13.846000\n",
       "2018-02-26    14.022000\n",
       "2018-02-27    14.112000\n",
       "2018-02-28    14.164000\n",
       "2018-03-01    14.210000\n",
       "2018-03-02    14.300000\n",
       "2018-03-05    14.358000\n",
       "2018-03-06    14.416000\n",
       "2018-03-07    14.518000\n",
       "2018-03-08    14.528000\n",
       "2018-03-09    14.484000\n",
       "2018-03-12    14.514000\n",
       "2018-03-13    14.474000\n",
       "2018-03-14    14.352000\n",
       "2018-03-15    14.164000\n",
       "2018-03-16    14.026000\n",
       "2018-03-19    14.026000\n",
       "2018-03-20    14.050000\n",
       "2018-03-21    14.092000\n",
       "2018-03-22    14.240000\n",
       "2018-03-23    14.282000\n",
       "2018-03-26    14.138000\n",
       "2018-03-27    14.128000\n",
       "2018-03-28          NaN\n",
       "2018-03-29          NaN\n",
       "Name: Close, Length: 4436, dtype: float64"
      ]
     },
     "execution_count": 106,
     "metadata": {},
     "output_type": "execute_result"
    }
   ],
   "source": [
    "petro['Close'].rolling(window=5, center=True).mean()\n",
    "#calcula a media das n posicoes anteriores (n = window)\n",
    "#center=True seta o valor do resultado da janela no centro do range da janela"
   ]
  },
  {
   "cell_type": "code",
   "execution_count": 109,
   "metadata": {},
   "outputs": [
    {
     "data": {
      "text/plain": [
       "<matplotlib.axes._subplots.AxesSubplot at 0x7feec5ac3550>"
      ]
     },
     "execution_count": 109,
     "metadata": {},
     "output_type": "execute_result"
    },
    {
     "data": {
      "image/png": "[encoded data removed]",
      "text/plain": [
       "<Figure size 432x288 with 1 Axes>"
      ]
     },
     "metadata": {
      "needs_background": "light"
     },
     "output_type": "display_data"
    }
   ],
   "source": [
    "petro['Close'].plot()\n",
    "petro['Close'].rolling(window=100).mean().plot(color='r', lw=2)\n",
    "petro['Close'].rolling(window=400).mean().plot(color='b', lw=2)"
   ]
  },
  {
   "cell_type": "code",
   "execution_count": null,
   "metadata": {},
   "outputs": [],
   "source": []
  }
 ],
 "metadata": {
  "kernelspec": {
   "display_name": "Python 3",
   "language": "python",
   "name": "python3"
  },
  "language_info": {
   "codemirror_mode": {
    "name": "ipython",
    "version": 3
   },
   "file_extension": ".py",
   "mimetype": "text/x-python",
   "name": "python",
   "nbconvert_exporter": "python",
   "pygments_lexer": "ipython3",
   "version": "3.7.3"
  }
 },
 "nbformat": 4,
 "nbformat_minor": 2
}
