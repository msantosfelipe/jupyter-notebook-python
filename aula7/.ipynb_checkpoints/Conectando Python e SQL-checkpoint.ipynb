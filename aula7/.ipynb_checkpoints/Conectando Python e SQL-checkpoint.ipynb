{
 "cells": [
  {
   "cell_type": "markdown",
   "metadata": {},
   "source": [
    "# Conectando Python e SQL"
   ]
  },
  {
   "cell_type": "code",
   "execution_count": 1,
   "metadata": {},
   "outputs": [
    {
     "name": "stdout",
     "output_type": "stream",
     "text": [
      "Collecting mysql-connector-python\n",
      "\u001b[?25l  Downloading https://files.pythonhosted.org/packages/e7/bd/055a6b0e45bf068317819e8f39699421c6f8621efce62bd609cc6c63d6e6/mysql_connector_python-8.0.17-cp37-cp37m-manylinux1_x86_64.whl (13.1MB)\n",
      "\u001b[K     |████████████████████████████████| 13.1MB 2.4MB/s eta 0:00:01\n",
      "\u001b[?25hCollecting protobuf>=3.0.0 (from mysql-connector-python)\n",
      "\u001b[?25l  Downloading https://files.pythonhosted.org/packages/30/fd/60ce148d8e4205bdf6da4ffec31348fd33f710c20a882b44319d54fd51ae/protobuf-3.9.1-cp37-cp37m-manylinux1_x86_64.whl (1.2MB)\n",
      "\u001b[K     |████████████████████████████████| 1.2MB 4.4MB/s eta 0:00:01\n",
      "\u001b[?25hRequirement already satisfied: six>=1.9 in /home/felipe/anaconda3/lib/python3.7/site-packages (from protobuf>=3.0.0->mysql-connector-python) (1.12.0)\n",
      "Requirement already satisfied: setuptools in /home/felipe/anaconda3/lib/python3.7/site-packages (from protobuf>=3.0.0->mysql-connector-python) (41.0.1)\n",
      "Installing collected packages: protobuf, mysql-connector-python\n",
      "Successfully installed mysql-connector-python-8.0.17 protobuf-3.9.1\n"
     ]
    }
   ],
   "source": [
    "!pip install mysql-connector-python"
   ]
  },
  {
   "cell_type": "markdown",
   "metadata": {},
   "source": [
    "**Importando módulo**"
   ]
  },
  {
   "cell_type": "code",
   "execution_count": 2,
   "metadata": {},
   "outputs": [],
   "source": [
    "import mysql.connector"
   ]
  },
  {
   "cell_type": "markdown",
   "metadata": {},
   "source": [
    "**Conectando com o banco**"
   ]
  },
  {
   "cell_type": "code",
   "execution_count": 3,
   "metadata": {},
   "outputs": [],
   "source": [
    "#Parametros para o banco de dados\n",
    "host = 'db4free.net'\n",
    "database = 'ds1908a'\n",
    "user = 'datascience'\n",
    "password = 'programar123'\n",
    "port = 3306"
   ]
  },
  {
   "cell_type": "code",
   "execution_count": 9,
   "metadata": {},
   "outputs": [],
   "source": [
    "# conectando\n",
    "con = mysql.connector.connect(user=user,\n",
    "                             database=database,\n",
    "                             host=host,\n",
    "                             password=password,\n",
    "                             port=port)\n",
    "\n",
    "con.close()"
   ]
  },
  {
   "cell_type": "markdown",
   "metadata": {},
   "source": [
    "*Adicionando dados*"
   ]
  },
  {
   "cell_type": "code",
   "execution_count": 11,
   "metadata": {},
   "outputs": [],
   "source": [
    "con = mysql.connector.connect(user=user,\n",
    "                             database=database,\n",
    "                             host=host,\n",
    "                             password=password,\n",
    "                             port=port)\n",
    "cursor = con.cursor()\n",
    "sql = 'INSERT INTO Usuarios(nome, idade, sexo, salario) VALUES (%s,%s,%s,%s)'\n",
    "val = ('Joao', '33', 'F', '550')\n",
    "cursor.execute(sql, val)\n",
    "\n",
    "con.commit()\n",
    "con.close()"
   ]
  },
  {
   "cell_type": "markdown",
   "metadata": {},
   "source": [
    "*Lendo dados*"
   ]
  },
  {
   "cell_type": "code",
   "execution_count": 14,
   "metadata": {},
   "outputs": [
    {
     "name": "stdout",
     "output_type": "stream",
     "text": [
      "___________\n",
      "('Renato Amorim', '41', 'M', '210')\n",
      "Nome:  Renato Amorim\n",
      "Idade:  41\n",
      "Sexo:  M\n",
      "Salário:  210\n",
      "___________\n",
      "('Henrique Bezerra', '16', 'M', '100')\n",
      "Nome:  Henrique Bezerra\n",
      "Idade:  16\n",
      "Sexo:  M\n",
      "Salário:  100\n",
      "___________\n",
      "('Joana Roa', '37', 'F', '310')\n",
      "Nome:  Joana Roa\n",
      "Idade:  37\n",
      "Sexo:  F\n",
      "Salário:  310\n",
      "___________\n",
      "('Mariana Valquiria', '33', 'F', '550')\n",
      "Nome:  Mariana Valquiria\n",
      "Idade:  33\n",
      "Sexo:  F\n",
      "Salário:  550\n",
      "___________\n",
      "('Mariana Almeida', '33', 'F', '550')\n",
      "Nome:  Mariana Almeida\n",
      "Idade:  33\n",
      "Sexo:  F\n",
      "Salário:  550\n",
      "___________\n",
      "('Mariana', '33', 'F', '550')\n",
      "Nome:  Mariana\n",
      "Idade:  33\n",
      "Sexo:  F\n",
      "Salário:  550\n",
      "___________\n",
      "('Florentina de Jesus', '33', 'F', '550')\n",
      "Nome:  Florentina de Jesus\n",
      "Idade:  33\n",
      "Sexo:  F\n",
      "Salário:  550\n",
      "___________\n",
      "('Joao', '33', 'F', '550')\n",
      "Nome:  Joao\n",
      "Idade:  33\n",
      "Sexo:  F\n",
      "Salário:  550\n",
      "___________\n",
      "('Jorge', '63', 'M', '167')\n",
      "Nome:  Jorge\n",
      "Idade:  63\n",
      "Sexo:  M\n",
      "Salário:  167\n"
     ]
    }
   ],
   "source": [
    "con = mysql.connector.connect(user=user,\n",
    "                             database=database,\n",
    "                             host=host,\n",
    "                             password=password,\n",
    "                             port=port)\n",
    "\n",
    "cursor = con.cursor()\n",
    "\n",
    "sql = 'SELECT * FROM Usuarios'\n",
    "\n",
    "cursor.execute(sql)\n",
    "\n",
    "resultado = cursor.fetchall()\n",
    "\n",
    "for linha in resultado:\n",
    "    print('___________')\n",
    "    print(linha)\n",
    "    print('Nome: ', linha[0])\n",
    "    print('Idade: ', linha[1])\n",
    "    print('Sexo: ', linha[2])\n",
    "    print('Salário: ', linha[3])\n",
    "    \n",
    "con.close()"
   ]
  },
  {
   "cell_type": "markdown",
   "metadata": {},
   "source": [
    "*Deletando dados*"
   ]
  },
  {
   "cell_type": "code",
   "execution_count": 15,
   "metadata": {},
   "outputs": [],
   "source": [
    "con = mysql.connector.connect(user=user,\n",
    "                             database=database,\n",
    "                             host=host,\n",
    "                             password=password,\n",
    "                             port=port)\n",
    "\n",
    "cursor = con.cursor()\n",
    "\n",
    "sql = 'DELETE FROM Usuarios Where nome=\"Joao\"'\n",
    "cursor.execute(sql)\n",
    "\n",
    "con.commit()\n",
    "    \n",
    "con.close()"
   ]
  },
  {
   "cell_type": "code",
   "execution_count": null,
   "metadata": {},
   "outputs": [],
   "source": []
  }
 ],
 "metadata": {
  "kernelspec": {
   "display_name": "Python 3",
   "language": "python",
   "name": "python3"
  },
  "language_info": {
   "codemirror_mode": {
    "name": "ipython",
    "version": 3
   },
   "file_extension": ".py",
   "mimetype": "text/x-python",
   "name": "python",
   "nbconvert_exporter": "python",
   "pygments_lexer": "ipython3",
   "version": "3.7.3"
  }
 },
 "nbformat": 4,
 "nbformat_minor": 2
}
