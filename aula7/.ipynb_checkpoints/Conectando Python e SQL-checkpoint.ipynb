{
 "cells": [
  {
   "cell_type": "markdown",
   "metadata": {},
   "source": [
    "# Conectando Python e SQL"
   ]
  },
  {
   "cell_type": "code",
   "execution_count": 1,
   "metadata": {},
   "outputs": [
    {
     "name": "stdout",
     "output_type": "stream",
     "text": [
      "Collecting mysql-connector-python\n",
      "\u001b[?25l  Downloading https://files.pythonhosted.org/packages/e7/bd/055a6b0e45bf068317819e8f39699421c6f8621efce62bd609cc6c63d6e6/mysql_connector_python-8.0.17-cp37-cp37m-manylinux1_x86_64.whl (13.1MB)\n",
      "\u001b[K     |████████████████████████████████| 13.1MB 2.4MB/s eta 0:00:01\n",
      "\u001b[?25hCollecting protobuf>=3.0.0 (from mysql-connector-python)\n",
      "\u001b[?25l  Downloading https://files.pythonhosted.org/packages/30/fd/60ce148d8e4205bdf6da4ffec31348fd33f710c20a882b44319d54fd51ae/protobuf-3.9.1-cp37-cp37m-manylinux1_x86_64.whl (1.2MB)\n",
      "\u001b[K     |████████████████████████████████| 1.2MB 4.4MB/s eta 0:00:01\n",
      "\u001b[?25hRequirement already satisfied: six>=1.9 in /home/felipe/anaconda3/lib/python3.7/site-packages (from protobuf>=3.0.0->mysql-connector-python) (1.12.0)\n",
      "Requirement already satisfied: setuptools in /home/felipe/anaconda3/lib/python3.7/site-packages (from protobuf>=3.0.0->mysql-connector-python) (41.0.1)\n",
      "Installing collected packages: protobuf, mysql-connector-python\n",
      "Successfully installed mysql-connector-python-8.0.17 protobuf-3.9.1\n"
     ]
    }
   ],
   "source": [
    "!pip install mysql-connector-python"
   ]
  },
  {
   "cell_type": "markdown",
   "metadata": {},
   "source": [
    "**Importando módulo**"
   ]
  },
  {
   "cell_type": "code",
   "execution_count": 1,
   "metadata": {},
   "outputs": [],
   "source": [
    "import mysql.connector"
   ]
  },
  {
   "cell_type": "markdown",
   "metadata": {},
   "source": [
    "**Conectando com o banco**"
   ]
  },
  {
   "cell_type": "code",
   "execution_count": 2,
   "metadata": {},
   "outputs": [],
   "source": [
    "#Parametros para o banco de dados\n",
    "host = 'db4free.net'\n",
    "database = 'ds1908a'\n",
    "user = 'datascience'\n",
    "password = 'programar123'\n",
    "port = 3306"
   ]
  },
  {
   "cell_type": "code",
   "execution_count": 9,
   "metadata": {},
   "outputs": [],
   "source": [
    "# conectando\n",
    "con = mysql.connector.connect(user=user,\n",
    "                             database=database,\n",
    "                             host=host,\n",
    "                             password=password,\n",
    "                             port=port)\n",
    "\n",
    "con.close()"
   ]
  },
  {
   "cell_type": "markdown",
   "metadata": {},
   "source": [
    "*Adicionando dados*"
   ]
  },
  {
   "cell_type": "code",
   "execution_count": 11,
   "metadata": {},
   "outputs": [],
   "source": [
    "con = mysql.connector.connect(user=user,\n",
    "                             database=database,\n",
    "                             host=host,\n",
    "                             password=password,\n",
    "                             port=port)\n",
    "cursor = con.cursor()\n",
    "sql = 'INSERT INTO Usuarios(nome, idade, sexo, salario) VALUES (%s,%s,%s,%s)'\n",
    "val = ('Joao', '33', 'F', '550')\n",
    "cursor.execute(sql, val)\n",
    "\n",
    "con.commit()\n",
    "con.close()"
   ]
  },
  {
   "cell_type": "markdown",
   "metadata": {},
   "source": [
    "*Lendo dados*"
   ]
  },
  {
   "cell_type": "code",
   "execution_count": 14,
   "metadata": {},
   "outputs": [
    {
     "name": "stdout",
     "output_type": "stream",
     "text": [
      "___________\n",
      "('Renato Amorim', '41', 'M', '210')\n",
      "Nome:  Renato Amorim\n",
      "Idade:  41\n",
      "Sexo:  M\n",
      "Salário:  210\n",
      "___________\n",
      "('Henrique Bezerra', '16', 'M', '100')\n",
      "Nome:  Henrique Bezerra\n",
      "Idade:  16\n",
      "Sexo:  M\n",
      "Salário:  100\n",
      "___________\n",
      "('Joana Roa', '37', 'F', '310')\n",
      "Nome:  Joana Roa\n",
      "Idade:  37\n",
      "Sexo:  F\n",
      "Salário:  310\n",
      "___________\n",
      "('Mariana Valquiria', '33', 'F', '550')\n",
      "Nome:  Mariana Valquiria\n",
      "Idade:  33\n",
      "Sexo:  F\n",
      "Salário:  550\n",
      "___________\n",
      "('Mariana Almeida', '33', 'F', '550')\n",
      "Nome:  Mariana Almeida\n",
      "Idade:  33\n",
      "Sexo:  F\n",
      "Salário:  550\n",
      "___________\n",
      "('Mariana', '33', 'F', '550')\n",
      "Nome:  Mariana\n",
      "Idade:  33\n",
      "Sexo:  F\n",
      "Salário:  550\n",
      "___________\n",
      "('Florentina de Jesus', '33', 'F', '550')\n",
      "Nome:  Florentina de Jesus\n",
      "Idade:  33\n",
      "Sexo:  F\n",
      "Salário:  550\n",
      "___________\n",
      "('Joao', '33', 'F', '550')\n",
      "Nome:  Joao\n",
      "Idade:  33\n",
      "Sexo:  F\n",
      "Salário:  550\n",
      "___________\n",
      "('Jorge', '63', 'M', '167')\n",
      "Nome:  Jorge\n",
      "Idade:  63\n",
      "Sexo:  M\n",
      "Salário:  167\n"
     ]
    }
   ],
   "source": [
    "con = mysql.connector.connect(user=user,\n",
    "                             database=database,\n",
    "                             host=host,\n",
    "                             password=password,\n",
    "                             port=port)\n",
    "\n",
    "cursor = con.cursor()\n",
    "\n",
    "sql = 'SELECT * FROM Usuarios'\n",
    "\n",
    "cursor.execute(sql)\n",
    "\n",
    "resultado = cursor.fetchall()\n",
    "\n",
    "for linha in resultado:\n",
    "    print('___________')\n",
    "    print(linha)\n",
    "    print('Nome: ', linha[0])\n",
    "    print('Idade: ', linha[1])\n",
    "    print('Sexo: ', linha[2])\n",
    "    print('Salário: ', linha[3])\n",
    "    \n",
    "con.close()"
   ]
  },
  {
   "cell_type": "markdown",
   "metadata": {},
   "source": [
    "*Deletando dados*"
   ]
  },
  {
   "cell_type": "code",
   "execution_count": 15,
   "metadata": {},
   "outputs": [],
   "source": [
    "con = mysql.connector.connect(user=user,\n",
    "                             database=database,\n",
    "                             host=host,\n",
    "                             password=password,\n",
    "                             port=port)\n",
    "\n",
    "cursor = con.cursor()\n",
    "\n",
    "sql = 'DELETE FROM Usuarios Where nome=\"Joao\"'\n",
    "cursor.execute(sql)\n",
    "\n",
    "con.commit()\n",
    "    \n",
    "con.close()"
   ]
  },
  {
   "cell_type": "code",
   "execution_count": 3,
   "metadata": {},
   "outputs": [
    {
     "data": {
      "text/html": [
       "<div>\n",
       "<style scoped>\n",
       "    .dataframe tbody tr th:only-of-type {\n",
       "        vertical-align: middle;\n",
       "    }\n",
       "\n",
       "    .dataframe tbody tr th {\n",
       "        vertical-align: top;\n",
       "    }\n",
       "\n",
       "    .dataframe thead th {\n",
       "        text-align: right;\n",
       "    }\n",
       "</style>\n",
       "<table border=\"1\" class=\"dataframe\">\n",
       "  <thead>\n",
       "    <tr style=\"text-align: right;\">\n",
       "      <th></th>\n",
       "      <th>nome</th>\n",
       "      <th>idade</th>\n",
       "      <th>sexo</th>\n",
       "      <th>salario</th>\n",
       "    </tr>\n",
       "  </thead>\n",
       "  <tbody>\n",
       "    <tr>\n",
       "      <th>0</th>\n",
       "      <td>Henrique Bezerra</td>\n",
       "      <td>16</td>\n",
       "      <td>M</td>\n",
       "      <td>100</td>\n",
       "    </tr>\n",
       "    <tr>\n",
       "      <th>1</th>\n",
       "      <td>Joana Roa</td>\n",
       "      <td>37</td>\n",
       "      <td>F</td>\n",
       "      <td>310</td>\n",
       "    </tr>\n",
       "    <tr>\n",
       "      <th>2</th>\n",
       "      <td>Mariana Valquiria</td>\n",
       "      <td>33</td>\n",
       "      <td>F</td>\n",
       "      <td>550</td>\n",
       "    </tr>\n",
       "    <tr>\n",
       "      <th>3</th>\n",
       "      <td>Mariana Almeida</td>\n",
       "      <td>33</td>\n",
       "      <td>F</td>\n",
       "      <td>550</td>\n",
       "    </tr>\n",
       "    <tr>\n",
       "      <th>4</th>\n",
       "      <td>Mariana</td>\n",
       "      <td>33</td>\n",
       "      <td>F</td>\n",
       "      <td>550</td>\n",
       "    </tr>\n",
       "  </tbody>\n",
       "</table>\n",
       "</div>"
      ],
      "text/plain": [
       "                nome idade sexo salario\n",
       "0   Henrique Bezerra    16    M     100\n",
       "1          Joana Roa    37    F     310\n",
       "2  Mariana Valquiria    33    F     550\n",
       "3    Mariana Almeida    33    F     550\n",
       "4            Mariana    33    F     550"
      ]
     },
     "execution_count": 3,
     "metadata": {},
     "output_type": "execute_result"
    }
   ],
   "source": [
    "import pandas as pd\n",
    "\n",
    "con = mysql.connector.connect(user=user,\n",
    "                             database=database,\n",
    "                             host=host,\n",
    "                             password=password,\n",
    "                             port=port)\n",
    "\n",
    "df = pd.read_sql_query('SELECT * FROM Usuarios', con)\n",
    "\n",
    "con.close()\n",
    "\n",
    "df.head()"
   ]
  },
  {
   "cell_type": "code",
   "execution_count": 5,
   "metadata": {},
   "outputs": [
    {
     "name": "stdout",
     "output_type": "stream",
     "text": [
      "Requirement already satisfied: sqlalchemy in /home/felipe/anaconda3/lib/python3.7/site-packages (1.3.5)\r\n"
     ]
    }
   ],
   "source": [
    "!pip install sqlalchemy"
   ]
  },
  {
   "cell_type": "code",
   "execution_count": 7,
   "metadata": {},
   "outputs": [],
   "source": [
    "from sqlalchemy import create_engine\n",
    "import seaborn as sns"
   ]
  },
  {
   "cell_type": "code",
   "execution_count": 8,
   "metadata": {},
   "outputs": [],
   "source": [
    "df = sns.load_dataset('tips')"
   ]
  },
  {
   "cell_type": "code",
   "execution_count": 9,
   "metadata": {},
   "outputs": [
    {
     "data": {
      "text/html": [
       "<div>\n",
       "<style scoped>\n",
       "    .dataframe tbody tr th:only-of-type {\n",
       "        vertical-align: middle;\n",
       "    }\n",
       "\n",
       "    .dataframe tbody tr th {\n",
       "        vertical-align: top;\n",
       "    }\n",
       "\n",
       "    .dataframe thead th {\n",
       "        text-align: right;\n",
       "    }\n",
       "</style>\n",
       "<table border=\"1\" class=\"dataframe\">\n",
       "  <thead>\n",
       "    <tr style=\"text-align: right;\">\n",
       "      <th></th>\n",
       "      <th>total_bill</th>\n",
       "      <th>tip</th>\n",
       "      <th>sex</th>\n",
       "      <th>smoker</th>\n",
       "      <th>day</th>\n",
       "      <th>time</th>\n",
       "      <th>size</th>\n",
       "    </tr>\n",
       "  </thead>\n",
       "  <tbody>\n",
       "    <tr>\n",
       "      <th>0</th>\n",
       "      <td>16.99</td>\n",
       "      <td>1.01</td>\n",
       "      <td>Female</td>\n",
       "      <td>No</td>\n",
       "      <td>Sun</td>\n",
       "      <td>Dinner</td>\n",
       "      <td>2</td>\n",
       "    </tr>\n",
       "    <tr>\n",
       "      <th>1</th>\n",
       "      <td>10.34</td>\n",
       "      <td>1.66</td>\n",
       "      <td>Male</td>\n",
       "      <td>No</td>\n",
       "      <td>Sun</td>\n",
       "      <td>Dinner</td>\n",
       "      <td>3</td>\n",
       "    </tr>\n",
       "    <tr>\n",
       "      <th>2</th>\n",
       "      <td>21.01</td>\n",
       "      <td>3.50</td>\n",
       "      <td>Male</td>\n",
       "      <td>No</td>\n",
       "      <td>Sun</td>\n",
       "      <td>Dinner</td>\n",
       "      <td>3</td>\n",
       "    </tr>\n",
       "    <tr>\n",
       "      <th>3</th>\n",
       "      <td>23.68</td>\n",
       "      <td>3.31</td>\n",
       "      <td>Male</td>\n",
       "      <td>No</td>\n",
       "      <td>Sun</td>\n",
       "      <td>Dinner</td>\n",
       "      <td>2</td>\n",
       "    </tr>\n",
       "    <tr>\n",
       "      <th>4</th>\n",
       "      <td>24.59</td>\n",
       "      <td>3.61</td>\n",
       "      <td>Female</td>\n",
       "      <td>No</td>\n",
       "      <td>Sun</td>\n",
       "      <td>Dinner</td>\n",
       "      <td>4</td>\n",
       "    </tr>\n",
       "  </tbody>\n",
       "</table>\n",
       "</div>"
      ],
      "text/plain": [
       "   total_bill   tip     sex smoker  day    time  size\n",
       "0       16.99  1.01  Female     No  Sun  Dinner     2\n",
       "1       10.34  1.66    Male     No  Sun  Dinner     3\n",
       "2       21.01  3.50    Male     No  Sun  Dinner     3\n",
       "3       23.68  3.31    Male     No  Sun  Dinner     2\n",
       "4       24.59  3.61  Female     No  Sun  Dinner     4"
      ]
     },
     "execution_count": 9,
     "metadata": {},
     "output_type": "execute_result"
    }
   ],
   "source": [
    "df.head()"
   ]
  },
  {
   "cell_type": "code",
   "execution_count": 10,
   "metadata": {},
   "outputs": [],
   "source": [
    "#criando engine\n",
    "text_engine = 'mysql+mysqlconnector://{}:{}@{}:{}/{}'.format(user,password,host,port,database)\n",
    "engine = create_engine(text_engine)\n",
    "\n",
    "#salvando para BD\n",
    "df.to_sql('Tips-Felipe', con=engine, if_exists='replace')"
   ]
  },
  {
   "cell_type": "code",
   "execution_count": null,
   "metadata": {},
   "outputs": [],
   "source": []
  }
 ],
 "metadata": {
  "kernelspec": {
   "display_name": "Python 3",
   "language": "python",
   "name": "python3"
  },
  "language_info": {
   "codemirror_mode": {
    "name": "ipython",
    "version": 3
   },
   "file_extension": ".py",
   "mimetype": "text/x-python",
   "name": "python",
   "nbconvert_exporter": "python",
   "pygments_lexer": "ipython3",
   "version": "3.7.3"
  }
 },
 "nbformat": 4,
 "nbformat_minor": 2
}
